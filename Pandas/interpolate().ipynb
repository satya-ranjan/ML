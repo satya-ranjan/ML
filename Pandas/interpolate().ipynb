{
 "metadata": {
  "language_info": {
   "codemirror_mode": {
    "name": "ipython",
    "version": 3
   },
   "file_extension": ".py",
   "mimetype": "text/x-python",
   "name": "python",
   "nbconvert_exporter": "python",
   "pygments_lexer": "ipython3",
   "version": "3.9.5"
  },
  "orig_nbformat": 4,
  "kernelspec": {
   "name": "python3",
   "display_name": "Python 3.9.5 64-bit"
  },
  "interpreter": {
   "hash": "a12d694c3ccac42055183a0ad11e659c6a2db5c6555ad2c8919d5814fd4e404f"
  }
 },
 "nbformat": 4,
 "nbformat_minor": 2,
 "cells": [
  {
   "source": [
    "# What is pandas interpolate function"
   ],
   "cell_type": "markdown",
   "metadata": {}
  },
  {
   "source": [
    "Pandas interpolate() function is basically used to fill NaN values in dataframe or series\n",
    "\n",
    "- Vary powerful function\n",
    "- Uses various interpolate function\n",
    "\n",
    "syntax: Dataframe.interpolate()\n",
    "            - series.interpolate()\n",
    "\n",
    "Parameter : -method     -inplace\n",
    "            -axis       -limit-direction\n",
    "            -limit      -limit-area"
   ],
   "cell_type": "markdown",
   "metadata": {}
  },
  {
   "source": [
    "# Pandas interpolate()"
   ],
   "cell_type": "markdown",
   "metadata": {}
  },
  {
   "cell_type": "code",
   "execution_count": 1,
   "metadata": {},
   "outputs": [],
   "source": [
    "import pandas as pd"
   ]
  },
  {
   "cell_type": "code",
   "execution_count": 2,
   "metadata": {},
   "outputs": [
    {
     "output_type": "execute_result",
     "data": {
      "text/plain": [
       "      Country  Real coffee  Instant coffee  Sweetener  Biscuits  Tin soup  \\\n",
       "0     Germany           90            49.0         19      57.0        19   \n",
       "1       Italy           82            10.0          2      55.0         3   \n",
       "2      France           88            42.0          4      76.0        11   \n",
       "3     Holland           96             NaN         32       NaN        43   \n",
       "4     Belgium           94             NaN         11       NaN        23   \n",
       "5  Luxembourg           97             NaN         28       NaN        12   \n",
       "6     England           27            86.0         22      91.0        76   \n",
       "7    Portugal           72            26.0          2      22.0         1   \n",
       "\n",
       "   Potatoes  Apples  \n",
       "0        21    81.0  \n",
       "1         2    67.0  \n",
       "2        23    87.0  \n",
       "3         7    83.0  \n",
       "4         9    76.0  \n",
       "5         7    85.0  \n",
       "6        17    76.0  \n",
       "7        17     NaN  "
      ],
      "text/html": "<div>\n<style scoped>\n    .dataframe tbody tr th:only-of-type {\n        vertical-align: middle;\n    }\n\n    .dataframe tbody tr th {\n        vertical-align: top;\n    }\n\n    .dataframe thead th {\n        text-align: right;\n    }\n</style>\n<table border=\"1\" class=\"dataframe\">\n  <thead>\n    <tr style=\"text-align: right;\">\n      <th></th>\n      <th>Country</th>\n      <th>Real coffee</th>\n      <th>Instant coffee</th>\n      <th>Sweetener</th>\n      <th>Biscuits</th>\n      <th>Tin soup</th>\n      <th>Potatoes</th>\n      <th>Apples</th>\n    </tr>\n  </thead>\n  <tbody>\n    <tr>\n      <th>0</th>\n      <td>Germany</td>\n      <td>90</td>\n      <td>49.0</td>\n      <td>19</td>\n      <td>57.0</td>\n      <td>19</td>\n      <td>21</td>\n      <td>81.0</td>\n    </tr>\n    <tr>\n      <th>1</th>\n      <td>Italy</td>\n      <td>82</td>\n      <td>10.0</td>\n      <td>2</td>\n      <td>55.0</td>\n      <td>3</td>\n      <td>2</td>\n      <td>67.0</td>\n    </tr>\n    <tr>\n      <th>2</th>\n      <td>France</td>\n      <td>88</td>\n      <td>42.0</td>\n      <td>4</td>\n      <td>76.0</td>\n      <td>11</td>\n      <td>23</td>\n      <td>87.0</td>\n    </tr>\n    <tr>\n      <th>3</th>\n      <td>Holland</td>\n      <td>96</td>\n      <td>NaN</td>\n      <td>32</td>\n      <td>NaN</td>\n      <td>43</td>\n      <td>7</td>\n      <td>83.0</td>\n    </tr>\n    <tr>\n      <th>4</th>\n      <td>Belgium</td>\n      <td>94</td>\n      <td>NaN</td>\n      <td>11</td>\n      <td>NaN</td>\n      <td>23</td>\n      <td>9</td>\n      <td>76.0</td>\n    </tr>\n    <tr>\n      <th>5</th>\n      <td>Luxembourg</td>\n      <td>97</td>\n      <td>NaN</td>\n      <td>28</td>\n      <td>NaN</td>\n      <td>12</td>\n      <td>7</td>\n      <td>85.0</td>\n    </tr>\n    <tr>\n      <th>6</th>\n      <td>England</td>\n      <td>27</td>\n      <td>86.0</td>\n      <td>22</td>\n      <td>91.0</td>\n      <td>76</td>\n      <td>17</td>\n      <td>76.0</td>\n    </tr>\n    <tr>\n      <th>7</th>\n      <td>Portugal</td>\n      <td>72</td>\n      <td>26.0</td>\n      <td>2</td>\n      <td>22.0</td>\n      <td>1</td>\n      <td>17</td>\n      <td>NaN</td>\n    </tr>\n  </tbody>\n</table>\n</div>"
     },
     "metadata": {},
     "execution_count": 2
    }
   ],
   "source": [
    "df = pd.read_csv(\"E:\\\\ML\\\\ML\\\\Pandas\\\\food consumption.csv\")\n",
    "df"
   ]
  },
  {
   "cell_type": "code",
   "execution_count": 3,
   "metadata": {},
   "outputs": [
    {
     "output_type": "execute_result",
     "data": {
      "text/plain": [
       "      Country  Real coffee  Instant coffee  Sweetener  Biscuits  Tin soup  \\\n",
       "0     Germany           90            49.0         19     57.00        19   \n",
       "1       Italy           82            10.0          2     55.00         3   \n",
       "2      France           88            42.0          4     76.00        11   \n",
       "3     Holland           96            53.0         32     79.75        43   \n",
       "4     Belgium           94            64.0         11     83.50        23   \n",
       "5  Luxembourg           97            75.0         28     87.25        12   \n",
       "6     England           27            86.0         22     91.00        76   \n",
       "7    Portugal           72            26.0          2     22.00         1   \n",
       "\n",
       "   Potatoes  Apples  \n",
       "0        21    81.0  \n",
       "1         2    67.0  \n",
       "2        23    87.0  \n",
       "3         7    83.0  \n",
       "4         9    76.0  \n",
       "5         7    85.0  \n",
       "6        17    76.0  \n",
       "7        17    76.0  "
      ],
      "text/html": "<div>\n<style scoped>\n    .dataframe tbody tr th:only-of-type {\n        vertical-align: middle;\n    }\n\n    .dataframe tbody tr th {\n        vertical-align: top;\n    }\n\n    .dataframe thead th {\n        text-align: right;\n    }\n</style>\n<table border=\"1\" class=\"dataframe\">\n  <thead>\n    <tr style=\"text-align: right;\">\n      <th></th>\n      <th>Country</th>\n      <th>Real coffee</th>\n      <th>Instant coffee</th>\n      <th>Sweetener</th>\n      <th>Biscuits</th>\n      <th>Tin soup</th>\n      <th>Potatoes</th>\n      <th>Apples</th>\n    </tr>\n  </thead>\n  <tbody>\n    <tr>\n      <th>0</th>\n      <td>Germany</td>\n      <td>90</td>\n      <td>49.0</td>\n      <td>19</td>\n      <td>57.00</td>\n      <td>19</td>\n      <td>21</td>\n      <td>81.0</td>\n    </tr>\n    <tr>\n      <th>1</th>\n      <td>Italy</td>\n      <td>82</td>\n      <td>10.0</td>\n      <td>2</td>\n      <td>55.00</td>\n      <td>3</td>\n      <td>2</td>\n      <td>67.0</td>\n    </tr>\n    <tr>\n      <th>2</th>\n      <td>France</td>\n      <td>88</td>\n      <td>42.0</td>\n      <td>4</td>\n      <td>76.00</td>\n      <td>11</td>\n      <td>23</td>\n      <td>87.0</td>\n    </tr>\n    <tr>\n      <th>3</th>\n      <td>Holland</td>\n      <td>96</td>\n      <td>53.0</td>\n      <td>32</td>\n      <td>79.75</td>\n      <td>43</td>\n      <td>7</td>\n      <td>83.0</td>\n    </tr>\n    <tr>\n      <th>4</th>\n      <td>Belgium</td>\n      <td>94</td>\n      <td>64.0</td>\n      <td>11</td>\n      <td>83.50</td>\n      <td>23</td>\n      <td>9</td>\n      <td>76.0</td>\n    </tr>\n    <tr>\n      <th>5</th>\n      <td>Luxembourg</td>\n      <td>97</td>\n      <td>75.0</td>\n      <td>28</td>\n      <td>87.25</td>\n      <td>12</td>\n      <td>7</td>\n      <td>85.0</td>\n    </tr>\n    <tr>\n      <th>6</th>\n      <td>England</td>\n      <td>27</td>\n      <td>86.0</td>\n      <td>22</td>\n      <td>91.00</td>\n      <td>76</td>\n      <td>17</td>\n      <td>76.0</td>\n    </tr>\n    <tr>\n      <th>7</th>\n      <td>Portugal</td>\n      <td>72</td>\n      <td>26.0</td>\n      <td>2</td>\n      <td>22.00</td>\n      <td>1</td>\n      <td>17</td>\n      <td>76.0</td>\n    </tr>\n  </tbody>\n</table>\n</div>"
     },
     "metadata": {},
     "execution_count": 3
    }
   ],
   "source": [
    "df.interpolate()# It guess the missng value and fill it (It fill the numeric value not string values)"
   ]
  },
  {
   "cell_type": "code",
   "execution_count": 4,
   "metadata": {},
   "outputs": [
    {
     "output_type": "execute_result",
     "data": {
      "text/plain": [
       "      Country  Real coffee  Instant coffee  Sweetener  Biscuits  Tin soup  \\\n",
       "0     Germany           90            49.0         19     57.00        19   \n",
       "1       Italy           82            10.0          2     55.00         3   \n",
       "2      France           88            42.0          4     76.00        11   \n",
       "3     Holland           96            53.0         32     79.75        43   \n",
       "4     Belgium           94            64.0         11     83.50        23   \n",
       "5  Luxembourg           97            75.0         28     87.25        12   \n",
       "6     England           27            86.0         22     91.00        76   \n",
       "7    Portugal           72            26.0          2     22.00         1   \n",
       "\n",
       "   Potatoes  Apples  \n",
       "0        21    81.0  \n",
       "1         2    67.0  \n",
       "2        23    87.0  \n",
       "3         7    83.0  \n",
       "4         9    76.0  \n",
       "5         7    85.0  \n",
       "6        17    76.0  \n",
       "7        17    76.0  "
      ],
      "text/html": "<div>\n<style scoped>\n    .dataframe tbody tr th:only-of-type {\n        vertical-align: middle;\n    }\n\n    .dataframe tbody tr th {\n        vertical-align: top;\n    }\n\n    .dataframe thead th {\n        text-align: right;\n    }\n</style>\n<table border=\"1\" class=\"dataframe\">\n  <thead>\n    <tr style=\"text-align: right;\">\n      <th></th>\n      <th>Country</th>\n      <th>Real coffee</th>\n      <th>Instant coffee</th>\n      <th>Sweetener</th>\n      <th>Biscuits</th>\n      <th>Tin soup</th>\n      <th>Potatoes</th>\n      <th>Apples</th>\n    </tr>\n  </thead>\n  <tbody>\n    <tr>\n      <th>0</th>\n      <td>Germany</td>\n      <td>90</td>\n      <td>49.0</td>\n      <td>19</td>\n      <td>57.00</td>\n      <td>19</td>\n      <td>21</td>\n      <td>81.0</td>\n    </tr>\n    <tr>\n      <th>1</th>\n      <td>Italy</td>\n      <td>82</td>\n      <td>10.0</td>\n      <td>2</td>\n      <td>55.00</td>\n      <td>3</td>\n      <td>2</td>\n      <td>67.0</td>\n    </tr>\n    <tr>\n      <th>2</th>\n      <td>France</td>\n      <td>88</td>\n      <td>42.0</td>\n      <td>4</td>\n      <td>76.00</td>\n      <td>11</td>\n      <td>23</td>\n      <td>87.0</td>\n    </tr>\n    <tr>\n      <th>3</th>\n      <td>Holland</td>\n      <td>96</td>\n      <td>53.0</td>\n      <td>32</td>\n      <td>79.75</td>\n      <td>43</td>\n      <td>7</td>\n      <td>83.0</td>\n    </tr>\n    <tr>\n      <th>4</th>\n      <td>Belgium</td>\n      <td>94</td>\n      <td>64.0</td>\n      <td>11</td>\n      <td>83.50</td>\n      <td>23</td>\n      <td>9</td>\n      <td>76.0</td>\n    </tr>\n    <tr>\n      <th>5</th>\n      <td>Luxembourg</td>\n      <td>97</td>\n      <td>75.0</td>\n      <td>28</td>\n      <td>87.25</td>\n      <td>12</td>\n      <td>7</td>\n      <td>85.0</td>\n    </tr>\n    <tr>\n      <th>6</th>\n      <td>England</td>\n      <td>27</td>\n      <td>86.0</td>\n      <td>22</td>\n      <td>91.00</td>\n      <td>76</td>\n      <td>17</td>\n      <td>76.0</td>\n    </tr>\n    <tr>\n      <th>7</th>\n      <td>Portugal</td>\n      <td>72</td>\n      <td>26.0</td>\n      <td>2</td>\n      <td>22.00</td>\n      <td>1</td>\n      <td>17</td>\n      <td>76.0</td>\n    </tr>\n  </tbody>\n</table>\n</div>"
     },
     "metadata": {},
     "execution_count": 4
    }
   ],
   "source": [
    "df.interpolate(method=\"linear\") # same as above syntax"
   ]
  },
  {
   "cell_type": "code",
   "execution_count": 5,
   "metadata": {},
   "outputs": [
    {
     "output_type": "error",
     "ename": "ValueError",
     "evalue": "time-weighted interpolation only works on Series or DataFrames with a DatetimeIndex",
     "traceback": [
      "\u001b[1;31m---------------------------------------------------------------------------\u001b[0m",
      "\u001b[1;31mValueError\u001b[0m                                Traceback (most recent call last)",
      "\u001b[1;32m~\\AppData\\Local\\Temp/ipykernel_19540/2520052727.py\u001b[0m in \u001b[0;36m<module>\u001b[1;34m\u001b[0m\n\u001b[1;32m----> 1\u001b[1;33m \u001b[0mdf\u001b[0m\u001b[1;33m.\u001b[0m\u001b[0minterpolate\u001b[0m\u001b[1;33m(\u001b[0m\u001b[0mmethod\u001b[0m\u001b[1;33m=\u001b[0m\u001b[1;34m\"time\"\u001b[0m\u001b[1;33m)\u001b[0m\u001b[1;33m\u001b[0m\u001b[1;33m\u001b[0m\u001b[0m\n\u001b[0m",
      "\u001b[1;32m~\\AppData\\Local\\Programs\\Python\\Python39\\lib\\site-packages\\pandas\\util\\_decorators.py\u001b[0m in \u001b[0;36mwrapper\u001b[1;34m(*args, **kwargs)\u001b[0m\n\u001b[0;32m    309\u001b[0m                     \u001b[0mstacklevel\u001b[0m\u001b[1;33m=\u001b[0m\u001b[0mstacklevel\u001b[0m\u001b[1;33m,\u001b[0m\u001b[1;33m\u001b[0m\u001b[1;33m\u001b[0m\u001b[0m\n\u001b[0;32m    310\u001b[0m                 )\n\u001b[1;32m--> 311\u001b[1;33m             \u001b[1;32mreturn\u001b[0m \u001b[0mfunc\u001b[0m\u001b[1;33m(\u001b[0m\u001b[1;33m*\u001b[0m\u001b[0margs\u001b[0m\u001b[1;33m,\u001b[0m \u001b[1;33m**\u001b[0m\u001b[0mkwargs\u001b[0m\u001b[1;33m)\u001b[0m\u001b[1;33m\u001b[0m\u001b[1;33m\u001b[0m\u001b[0m\n\u001b[0m\u001b[0;32m    312\u001b[0m \u001b[1;33m\u001b[0m\u001b[0m\n\u001b[0;32m    313\u001b[0m         \u001b[1;32mreturn\u001b[0m \u001b[0mwrapper\u001b[0m\u001b[1;33m\u001b[0m\u001b[1;33m\u001b[0m\u001b[0m\n",
      "\u001b[1;32m~\\AppData\\Local\\Programs\\Python\\Python39\\lib\\site-packages\\pandas\\core\\frame.py\u001b[0m in \u001b[0;36minterpolate\u001b[1;34m(self, method, axis, limit, inplace, limit_direction, limit_area, downcast, **kwargs)\u001b[0m\n\u001b[0;32m  10707\u001b[0m         \u001b[1;33m**\u001b[0m\u001b[0mkwargs\u001b[0m\u001b[1;33m,\u001b[0m\u001b[1;33m\u001b[0m\u001b[1;33m\u001b[0m\u001b[0m\n\u001b[0;32m  10708\u001b[0m     ) -> DataFrame | None:\n\u001b[1;32m> 10709\u001b[1;33m         return super().interpolate(\n\u001b[0m\u001b[0;32m  10710\u001b[0m             \u001b[0mmethod\u001b[0m\u001b[1;33m,\u001b[0m\u001b[1;33m\u001b[0m\u001b[1;33m\u001b[0m\u001b[0m\n\u001b[0;32m  10711\u001b[0m             \u001b[0maxis\u001b[0m\u001b[1;33m,\u001b[0m\u001b[1;33m\u001b[0m\u001b[1;33m\u001b[0m\u001b[0m\n",
      "\u001b[1;32m~\\AppData\\Local\\Programs\\Python\\Python39\\lib\\site-packages\\pandas\\core\\generic.py\u001b[0m in \u001b[0;36minterpolate\u001b[1;34m(self, method, axis, limit, inplace, limit_direction, limit_area, downcast, **kwargs)\u001b[0m\n\u001b[0;32m   6888\u001b[0m                 \u001b[1;34m\"those NaNs before interpolating.\"\u001b[0m\u001b[1;33m\u001b[0m\u001b[1;33m\u001b[0m\u001b[0m\n\u001b[0;32m   6889\u001b[0m             )\n\u001b[1;32m-> 6890\u001b[1;33m         new_data = obj._mgr.interpolate(\n\u001b[0m\u001b[0;32m   6891\u001b[0m             \u001b[0mmethod\u001b[0m\u001b[1;33m=\u001b[0m\u001b[0mmethod\u001b[0m\u001b[1;33m,\u001b[0m\u001b[1;33m\u001b[0m\u001b[1;33m\u001b[0m\u001b[0m\n\u001b[0;32m   6892\u001b[0m             \u001b[0maxis\u001b[0m\u001b[1;33m=\u001b[0m\u001b[0maxis\u001b[0m\u001b[1;33m,\u001b[0m\u001b[1;33m\u001b[0m\u001b[1;33m\u001b[0m\u001b[0m\n",
      "\u001b[1;32m~\\AppData\\Local\\Programs\\Python\\Python39\\lib\\site-packages\\pandas\\core\\internals\\managers.py\u001b[0m in \u001b[0;36minterpolate\u001b[1;34m(self, **kwargs)\u001b[0m\n\u001b[0;32m    375\u001b[0m \u001b[1;33m\u001b[0m\u001b[0m\n\u001b[0;32m    376\u001b[0m     \u001b[1;32mdef\u001b[0m \u001b[0minterpolate\u001b[0m\u001b[1;33m(\u001b[0m\u001b[0mself\u001b[0m\u001b[1;33m:\u001b[0m \u001b[0mT\u001b[0m\u001b[1;33m,\u001b[0m \u001b[1;33m**\u001b[0m\u001b[0mkwargs\u001b[0m\u001b[1;33m)\u001b[0m \u001b[1;33m->\u001b[0m \u001b[0mT\u001b[0m\u001b[1;33m:\u001b[0m\u001b[1;33m\u001b[0m\u001b[1;33m\u001b[0m\u001b[0m\n\u001b[1;32m--> 377\u001b[1;33m         \u001b[1;32mreturn\u001b[0m \u001b[0mself\u001b[0m\u001b[1;33m.\u001b[0m\u001b[0mapply\u001b[0m\u001b[1;33m(\u001b[0m\u001b[1;34m\"interpolate\"\u001b[0m\u001b[1;33m,\u001b[0m \u001b[1;33m**\u001b[0m\u001b[0mkwargs\u001b[0m\u001b[1;33m)\u001b[0m\u001b[1;33m\u001b[0m\u001b[1;33m\u001b[0m\u001b[0m\n\u001b[0m\u001b[0;32m    378\u001b[0m \u001b[1;33m\u001b[0m\u001b[0m\n\u001b[0;32m    379\u001b[0m     \u001b[1;32mdef\u001b[0m \u001b[0mshift\u001b[0m\u001b[1;33m(\u001b[0m\u001b[0mself\u001b[0m\u001b[1;33m:\u001b[0m \u001b[0mT\u001b[0m\u001b[1;33m,\u001b[0m \u001b[0mperiods\u001b[0m\u001b[1;33m:\u001b[0m \u001b[0mint\u001b[0m\u001b[1;33m,\u001b[0m \u001b[0maxis\u001b[0m\u001b[1;33m:\u001b[0m \u001b[0mint\u001b[0m\u001b[1;33m,\u001b[0m \u001b[0mfill_value\u001b[0m\u001b[1;33m)\u001b[0m \u001b[1;33m->\u001b[0m \u001b[0mT\u001b[0m\u001b[1;33m:\u001b[0m\u001b[1;33m\u001b[0m\u001b[1;33m\u001b[0m\u001b[0m\n",
      "\u001b[1;32m~\\AppData\\Local\\Programs\\Python\\Python39\\lib\\site-packages\\pandas\\core\\internals\\managers.py\u001b[0m in \u001b[0;36mapply\u001b[1;34m(self, f, align_keys, ignore_failures, **kwargs)\u001b[0m\n\u001b[0;32m    325\u001b[0m                     \u001b[0mapplied\u001b[0m \u001b[1;33m=\u001b[0m \u001b[0mb\u001b[0m\u001b[1;33m.\u001b[0m\u001b[0mapply\u001b[0m\u001b[1;33m(\u001b[0m\u001b[0mf\u001b[0m\u001b[1;33m,\u001b[0m \u001b[1;33m**\u001b[0m\u001b[0mkwargs\u001b[0m\u001b[1;33m)\u001b[0m\u001b[1;33m\u001b[0m\u001b[1;33m\u001b[0m\u001b[0m\n\u001b[0;32m    326\u001b[0m                 \u001b[1;32melse\u001b[0m\u001b[1;33m:\u001b[0m\u001b[1;33m\u001b[0m\u001b[1;33m\u001b[0m\u001b[0m\n\u001b[1;32m--> 327\u001b[1;33m                     \u001b[0mapplied\u001b[0m \u001b[1;33m=\u001b[0m \u001b[0mgetattr\u001b[0m\u001b[1;33m(\u001b[0m\u001b[0mb\u001b[0m\u001b[1;33m,\u001b[0m \u001b[0mf\u001b[0m\u001b[1;33m)\u001b[0m\u001b[1;33m(\u001b[0m\u001b[1;33m**\u001b[0m\u001b[0mkwargs\u001b[0m\u001b[1;33m)\u001b[0m\u001b[1;33m\u001b[0m\u001b[1;33m\u001b[0m\u001b[0m\n\u001b[0m\u001b[0;32m    328\u001b[0m             \u001b[1;32mexcept\u001b[0m \u001b[1;33m(\u001b[0m\u001b[0mTypeError\u001b[0m\u001b[1;33m,\u001b[0m \u001b[0mNotImplementedError\u001b[0m\u001b[1;33m)\u001b[0m\u001b[1;33m:\u001b[0m\u001b[1;33m\u001b[0m\u001b[1;33m\u001b[0m\u001b[0m\n\u001b[0;32m    329\u001b[0m                 \u001b[1;32mif\u001b[0m \u001b[1;32mnot\u001b[0m \u001b[0mignore_failures\u001b[0m\u001b[1;33m:\u001b[0m\u001b[1;33m\u001b[0m\u001b[1;33m\u001b[0m\u001b[0m\n",
      "\u001b[1;32m~\\AppData\\Local\\Programs\\Python\\Python39\\lib\\site-packages\\pandas\\core\\internals\\blocks.py\u001b[0m in \u001b[0;36minterpolate\u001b[1;34m(self, method, axis, index, inplace, limit, limit_direction, limit_area, fill_value, coerce, downcast, **kwargs)\u001b[0m\n\u001b[0;32m   1104\u001b[0m         \u001b[0mdata\u001b[0m \u001b[1;33m=\u001b[0m \u001b[0mcast\u001b[0m\u001b[1;33m(\u001b[0m\u001b[0mnp\u001b[0m\u001b[1;33m.\u001b[0m\u001b[0mndarray\u001b[0m\u001b[1;33m,\u001b[0m \u001b[0mdata\u001b[0m\u001b[1;33m)\u001b[0m  \u001b[1;31m# bc overridden by ExtensionBlock\u001b[0m\u001b[1;33m\u001b[0m\u001b[1;33m\u001b[0m\u001b[0m\n\u001b[0;32m   1105\u001b[0m \u001b[1;33m\u001b[0m\u001b[0m\n\u001b[1;32m-> 1106\u001b[1;33m         interp_values = missing.interpolate_array_2d(\n\u001b[0m\u001b[0;32m   1107\u001b[0m             \u001b[0mdata\u001b[0m\u001b[1;33m,\u001b[0m\u001b[1;33m\u001b[0m\u001b[1;33m\u001b[0m\u001b[0m\n\u001b[0;32m   1108\u001b[0m             \u001b[0mmethod\u001b[0m\u001b[1;33m=\u001b[0m\u001b[0mmethod\u001b[0m\u001b[1;33m,\u001b[0m\u001b[1;33m\u001b[0m\u001b[1;33m\u001b[0m\u001b[0m\n",
      "\u001b[1;32m~\\AppData\\Local\\Programs\\Python\\Python39\\lib\\site-packages\\pandas\\core\\missing.py\u001b[0m in \u001b[0;36minterpolate_array_2d\u001b[1;34m(data, method, axis, index, limit, limit_direction, limit_area, fill_value, coerce, downcast, **kwargs)\u001b[0m\n\u001b[0;32m    238\u001b[0m         \u001b[1;32massert\u001b[0m \u001b[0mindex\u001b[0m \u001b[1;32mis\u001b[0m \u001b[1;32mnot\u001b[0m \u001b[1;32mNone\u001b[0m  \u001b[1;31m# for mypy\u001b[0m\u001b[1;33m\u001b[0m\u001b[1;33m\u001b[0m\u001b[0m\n\u001b[0;32m    239\u001b[0m \u001b[1;33m\u001b[0m\u001b[0m\n\u001b[1;32m--> 240\u001b[1;33m         interp_values = interpolate_2d_with_fill(\n\u001b[0m\u001b[0;32m    241\u001b[0m             \u001b[0mdata\u001b[0m\u001b[1;33m=\u001b[0m\u001b[0mdata\u001b[0m\u001b[1;33m,\u001b[0m\u001b[1;33m\u001b[0m\u001b[1;33m\u001b[0m\u001b[0m\n\u001b[0;32m    242\u001b[0m             \u001b[0mindex\u001b[0m\u001b[1;33m=\u001b[0m\u001b[0mindex\u001b[0m\u001b[1;33m,\u001b[0m\u001b[1;33m\u001b[0m\u001b[1;33m\u001b[0m\u001b[0m\n",
      "\u001b[1;32m~\\AppData\\Local\\Programs\\Python\\Python39\\lib\\site-packages\\pandas\\core\\missing.py\u001b[0m in \u001b[0;36minterpolate_2d_with_fill\u001b[1;34m(data, index, axis, method, limit, limit_direction, limit_area, fill_value, **kwargs)\u001b[0m\n\u001b[0;32m    295\u001b[0m \u001b[1;33m\u001b[0m\u001b[0m\n\u001b[0;32m    296\u001b[0m     \u001b[1;31m# interp each column independently\u001b[0m\u001b[1;33m\u001b[0m\u001b[1;33m\u001b[0m\u001b[1;33m\u001b[0m\u001b[0m\n\u001b[1;32m--> 297\u001b[1;33m     \u001b[1;32mreturn\u001b[0m \u001b[0mnp\u001b[0m\u001b[1;33m.\u001b[0m\u001b[0mapply_along_axis\u001b[0m\u001b[1;33m(\u001b[0m\u001b[0mfunc\u001b[0m\u001b[1;33m,\u001b[0m \u001b[0maxis\u001b[0m\u001b[1;33m,\u001b[0m \u001b[0mdata\u001b[0m\u001b[1;33m)\u001b[0m\u001b[1;33m\u001b[0m\u001b[1;33m\u001b[0m\u001b[0m\n\u001b[0m\u001b[0;32m    298\u001b[0m \u001b[1;33m\u001b[0m\u001b[0m\n\u001b[0;32m    299\u001b[0m \u001b[1;33m\u001b[0m\u001b[0m\n",
      "\u001b[1;32m<__array_function__ internals>\u001b[0m in \u001b[0;36mapply_along_axis\u001b[1;34m(*args, **kwargs)\u001b[0m\n",
      "\u001b[1;32m~\\AppData\\Local\\Programs\\Python\\Python39\\lib\\site-packages\\numpy\\lib\\shape_base.py\u001b[0m in \u001b[0;36mapply_along_axis\u001b[1;34m(func1d, axis, arr, *args, **kwargs)\u001b[0m\n\u001b[0;32m    377\u001b[0m             \u001b[1;34m'Cannot apply_along_axis when any iteration dimensions are 0'\u001b[0m\u001b[1;33m\u001b[0m\u001b[1;33m\u001b[0m\u001b[0m\n\u001b[0;32m    378\u001b[0m         ) from None\n\u001b[1;32m--> 379\u001b[1;33m     \u001b[0mres\u001b[0m \u001b[1;33m=\u001b[0m \u001b[0masanyarray\u001b[0m\u001b[1;33m(\u001b[0m\u001b[0mfunc1d\u001b[0m\u001b[1;33m(\u001b[0m\u001b[0minarr_view\u001b[0m\u001b[1;33m[\u001b[0m\u001b[0mind0\u001b[0m\u001b[1;33m]\u001b[0m\u001b[1;33m,\u001b[0m \u001b[1;33m*\u001b[0m\u001b[0margs\u001b[0m\u001b[1;33m,\u001b[0m \u001b[1;33m**\u001b[0m\u001b[0mkwargs\u001b[0m\u001b[1;33m)\u001b[0m\u001b[1;33m)\u001b[0m\u001b[1;33m\u001b[0m\u001b[1;33m\u001b[0m\u001b[0m\n\u001b[0m\u001b[0;32m    380\u001b[0m \u001b[1;33m\u001b[0m\u001b[0m\n\u001b[0;32m    381\u001b[0m     \u001b[1;31m# build a buffer for storing evaluations of func1d.\u001b[0m\u001b[1;33m\u001b[0m\u001b[1;33m\u001b[0m\u001b[1;33m\u001b[0m\u001b[0m\n",
      "\u001b[1;32m~\\AppData\\Local\\Programs\\Python\\Python39\\lib\\site-packages\\pandas\\core\\missing.py\u001b[0m in \u001b[0;36mfunc\u001b[1;34m(yvalues)\u001b[0m\n\u001b[0;32m    282\u001b[0m         \u001b[1;31m# should the axis argument be handled below in apply_along_axis?\u001b[0m\u001b[1;33m\u001b[0m\u001b[1;33m\u001b[0m\u001b[1;33m\u001b[0m\u001b[0m\n\u001b[0;32m    283\u001b[0m         \u001b[1;31m# i.e. not an arg to interpolate_1d\u001b[0m\u001b[1;33m\u001b[0m\u001b[1;33m\u001b[0m\u001b[1;33m\u001b[0m\u001b[0m\n\u001b[1;32m--> 284\u001b[1;33m         return interpolate_1d(\n\u001b[0m\u001b[0;32m    285\u001b[0m             \u001b[0mxvalues\u001b[0m\u001b[1;33m=\u001b[0m\u001b[0mindex\u001b[0m\u001b[1;33m,\u001b[0m\u001b[1;33m\u001b[0m\u001b[1;33m\u001b[0m\u001b[0m\n\u001b[0;32m    286\u001b[0m             \u001b[0myvalues\u001b[0m\u001b[1;33m=\u001b[0m\u001b[0myvalues\u001b[0m\u001b[1;33m,\u001b[0m\u001b[1;33m\u001b[0m\u001b[1;33m\u001b[0m\u001b[0m\n",
      "\u001b[1;32m~\\AppData\\Local\\Programs\\Python\\Python39\\lib\\site-packages\\pandas\\core\\missing.py\u001b[0m in \u001b[0;36minterpolate_1d\u001b[1;34m(xvalues, yvalues, method, limit, limit_direction, limit_area, fill_value, bounds_error, order, **kwargs)\u001b[0m\n\u001b[0;32m    330\u001b[0m     \u001b[1;32mif\u001b[0m \u001b[0mmethod\u001b[0m \u001b[1;33m==\u001b[0m \u001b[1;34m\"time\"\u001b[0m\u001b[1;33m:\u001b[0m\u001b[1;33m\u001b[0m\u001b[1;33m\u001b[0m\u001b[0m\n\u001b[0;32m    331\u001b[0m         \u001b[1;32mif\u001b[0m \u001b[1;32mnot\u001b[0m \u001b[0mneeds_i8_conversion\u001b[0m\u001b[1;33m(\u001b[0m\u001b[0mxvalues\u001b[0m\u001b[1;33m.\u001b[0m\u001b[0mdtype\u001b[0m\u001b[1;33m)\u001b[0m\u001b[1;33m:\u001b[0m\u001b[1;33m\u001b[0m\u001b[1;33m\u001b[0m\u001b[0m\n\u001b[1;32m--> 332\u001b[1;33m             raise ValueError(\n\u001b[0m\u001b[0;32m    333\u001b[0m                 \u001b[1;34m\"time-weighted interpolation only works \"\u001b[0m\u001b[1;33m\u001b[0m\u001b[1;33m\u001b[0m\u001b[0m\n\u001b[0;32m    334\u001b[0m                 \u001b[1;34m\"on Series or DataFrames with a \"\u001b[0m\u001b[1;33m\u001b[0m\u001b[1;33m\u001b[0m\u001b[0m\n",
      "\u001b[1;31mValueError\u001b[0m: time-weighted interpolation only works on Series or DataFrames with a DatetimeIndex"
     ]
    }
   ],
   "source": [
    "df.interpolate(method=\"time\") "
   ]
  },
  {
   "cell_type": "code",
   "execution_count": 16,
   "metadata": {},
   "outputs": [
    {
     "output_type": "execute_result",
     "data": {
      "text/plain": [
       "      Country  Real coffee  Instant coffee  Sweetener  Biscuits  Tin soup  \\\n",
       "0     Germany         90.0            49.0       19.0     57.00      19.0   \n",
       "1       Italy         82.0            10.0        2.0     55.00       3.0   \n",
       "2      France         88.0            42.0        4.0     76.00      11.0   \n",
       "3     Holland         96.0            53.0       32.0     79.75      43.0   \n",
       "4     Belgium         94.0            64.0       11.0     83.50      23.0   \n",
       "5  Luxembourg         97.0            75.0       28.0     87.25      12.0   \n",
       "6     England         27.0            86.0       22.0     91.00      76.0   \n",
       "7    Portugal         72.0            26.0        2.0     22.00       1.0   \n",
       "8         NaN         72.0            26.0        2.0     22.00       1.0   \n",
       "\n",
       "   Potatoes  Apples  \n",
       "0      21.0    81.0  \n",
       "1       2.0    67.0  \n",
       "2      23.0    87.0  \n",
       "3       7.0    83.0  \n",
       "4       9.0    76.0  \n",
       "5       7.0    85.0  \n",
       "6      17.0    76.0  \n",
       "7      17.0    76.0  \n",
       "8      17.0    76.0  "
      ],
      "text/html": "<div>\n<style scoped>\n    .dataframe tbody tr th:only-of-type {\n        vertical-align: middle;\n    }\n\n    .dataframe tbody tr th {\n        vertical-align: top;\n    }\n\n    .dataframe thead th {\n        text-align: right;\n    }\n</style>\n<table border=\"1\" class=\"dataframe\">\n  <thead>\n    <tr style=\"text-align: right;\">\n      <th></th>\n      <th>Country</th>\n      <th>Real coffee</th>\n      <th>Instant coffee</th>\n      <th>Sweetener</th>\n      <th>Biscuits</th>\n      <th>Tin soup</th>\n      <th>Potatoes</th>\n      <th>Apples</th>\n    </tr>\n  </thead>\n  <tbody>\n    <tr>\n      <th>0</th>\n      <td>Germany</td>\n      <td>90.0</td>\n      <td>49.0</td>\n      <td>19.0</td>\n      <td>57.00</td>\n      <td>19.0</td>\n      <td>21.0</td>\n      <td>81.0</td>\n    </tr>\n    <tr>\n      <th>1</th>\n      <td>Italy</td>\n      <td>82.0</td>\n      <td>10.0</td>\n      <td>2.0</td>\n      <td>55.00</td>\n      <td>3.0</td>\n      <td>2.0</td>\n      <td>67.0</td>\n    </tr>\n    <tr>\n      <th>2</th>\n      <td>France</td>\n      <td>88.0</td>\n      <td>42.0</td>\n      <td>4.0</td>\n      <td>76.00</td>\n      <td>11.0</td>\n      <td>23.0</td>\n      <td>87.0</td>\n    </tr>\n    <tr>\n      <th>3</th>\n      <td>Holland</td>\n      <td>96.0</td>\n      <td>53.0</td>\n      <td>32.0</td>\n      <td>79.75</td>\n      <td>43.0</td>\n      <td>7.0</td>\n      <td>83.0</td>\n    </tr>\n    <tr>\n      <th>4</th>\n      <td>Belgium</td>\n      <td>94.0</td>\n      <td>64.0</td>\n      <td>11.0</td>\n      <td>83.50</td>\n      <td>23.0</td>\n      <td>9.0</td>\n      <td>76.0</td>\n    </tr>\n    <tr>\n      <th>5</th>\n      <td>Luxembourg</td>\n      <td>97.0</td>\n      <td>75.0</td>\n      <td>28.0</td>\n      <td>87.25</td>\n      <td>12.0</td>\n      <td>7.0</td>\n      <td>85.0</td>\n    </tr>\n    <tr>\n      <th>6</th>\n      <td>England</td>\n      <td>27.0</td>\n      <td>86.0</td>\n      <td>22.0</td>\n      <td>91.00</td>\n      <td>76.0</td>\n      <td>17.0</td>\n      <td>76.0</td>\n    </tr>\n    <tr>\n      <th>7</th>\n      <td>Portugal</td>\n      <td>72.0</td>\n      <td>26.0</td>\n      <td>2.0</td>\n      <td>22.00</td>\n      <td>1.0</td>\n      <td>17.0</td>\n      <td>76.0</td>\n    </tr>\n    <tr>\n      <th>8</th>\n      <td>NaN</td>\n      <td>72.0</td>\n      <td>26.0</td>\n      <td>2.0</td>\n      <td>22.00</td>\n      <td>1.0</td>\n      <td>17.0</td>\n      <td>76.0</td>\n    </tr>\n  </tbody>\n</table>\n</div>"
     },
     "metadata": {},
     "execution_count": 16
    }
   ],
   "source": [
    "df.interpolate(method = \"index\") # It will change the value according to the index"
   ]
  },
  {
   "cell_type": "code",
   "execution_count": 21,
   "metadata": {},
   "outputs": [
    {
     "output_type": "execute_result",
     "data": {
      "text/plain": [
       "                Country  Instant coffee  Sweetener  Biscuits  Tin soup  \\\n",
       "Real coffee                                                              \n",
       "90              Germany            49.0         19      57.0        19   \n",
       "82                Italy            10.0          2      55.0         3   \n",
       "88               France            42.0          4      76.0        11   \n",
       "96              Holland             NaN         32       NaN        43   \n",
       "94              Belgium             NaN         11       NaN        23   \n",
       "97           Luxembourg             NaN         28       NaN        12   \n",
       "27              England            86.0         22      91.0        76   \n",
       "72             Portugal            26.0          2      22.0         1   \n",
       "\n",
       "             Potatoes  Apples  \n",
       "Real coffee                    \n",
       "90                 21    81.0  \n",
       "82                  2    67.0  \n",
       "88                 23    87.0  \n",
       "96                  7    83.0  \n",
       "94                  9    76.0  \n",
       "97                  7    85.0  \n",
       "27                 17    76.0  \n",
       "72                 17     NaN  "
      ],
      "text/html": "<div>\n<style scoped>\n    .dataframe tbody tr th:only-of-type {\n        vertical-align: middle;\n    }\n\n    .dataframe tbody tr th {\n        vertical-align: top;\n    }\n\n    .dataframe thead th {\n        text-align: right;\n    }\n</style>\n<table border=\"1\" class=\"dataframe\">\n  <thead>\n    <tr style=\"text-align: right;\">\n      <th></th>\n      <th>Country</th>\n      <th>Instant coffee</th>\n      <th>Sweetener</th>\n      <th>Biscuits</th>\n      <th>Tin soup</th>\n      <th>Potatoes</th>\n      <th>Apples</th>\n    </tr>\n    <tr>\n      <th>Real coffee</th>\n      <th></th>\n      <th></th>\n      <th></th>\n      <th></th>\n      <th></th>\n      <th></th>\n      <th></th>\n    </tr>\n  </thead>\n  <tbody>\n    <tr>\n      <th>90</th>\n      <td>Germany</td>\n      <td>49.0</td>\n      <td>19</td>\n      <td>57.0</td>\n      <td>19</td>\n      <td>21</td>\n      <td>81.0</td>\n    </tr>\n    <tr>\n      <th>82</th>\n      <td>Italy</td>\n      <td>10.0</td>\n      <td>2</td>\n      <td>55.0</td>\n      <td>3</td>\n      <td>2</td>\n      <td>67.0</td>\n    </tr>\n    <tr>\n      <th>88</th>\n      <td>France</td>\n      <td>42.0</td>\n      <td>4</td>\n      <td>76.0</td>\n      <td>11</td>\n      <td>23</td>\n      <td>87.0</td>\n    </tr>\n    <tr>\n      <th>96</th>\n      <td>Holland</td>\n      <td>NaN</td>\n      <td>32</td>\n      <td>NaN</td>\n      <td>43</td>\n      <td>7</td>\n      <td>83.0</td>\n    </tr>\n    <tr>\n      <th>94</th>\n      <td>Belgium</td>\n      <td>NaN</td>\n      <td>11</td>\n      <td>NaN</td>\n      <td>23</td>\n      <td>9</td>\n      <td>76.0</td>\n    </tr>\n    <tr>\n      <th>97</th>\n      <td>Luxembourg</td>\n      <td>NaN</td>\n      <td>28</td>\n      <td>NaN</td>\n      <td>12</td>\n      <td>7</td>\n      <td>85.0</td>\n    </tr>\n    <tr>\n      <th>27</th>\n      <td>England</td>\n      <td>86.0</td>\n      <td>22</td>\n      <td>91.0</td>\n      <td>76</td>\n      <td>17</td>\n      <td>76.0</td>\n    </tr>\n    <tr>\n      <th>72</th>\n      <td>Portugal</td>\n      <td>26.0</td>\n      <td>2</td>\n      <td>22.0</td>\n      <td>1</td>\n      <td>17</td>\n      <td>NaN</td>\n    </tr>\n  </tbody>\n</table>\n</div>"
     },
     "metadata": {},
     "execution_count": 21
    }
   ],
   "source": [
    "# to change the Index value    to real coffee\n",
    "df = pd.read_csv(\"E:\\\\ML\\\\ML\\\\Pandas\\\\food consumption.csv\",index_col= \"Real coffee\")\n",
    "df"
   ]
  },
  {
   "cell_type": "code",
   "execution_count": 26,
   "metadata": {},
   "outputs": [
    {
     "output_type": "execute_result",
     "data": {
      "text/plain": [
       "                Country  Instant coffee  Sweetener  Biscuits  Tin soup  \\\n",
       "Real coffee                                                              \n",
       "90              Germany            49.0         19      57.0        19   \n",
       "82                Italy            10.0          2      55.0         3   \n",
       "88               France            42.0          4      76.0        11   \n",
       "96              Holland            49.0         32      57.0        43   \n",
       "94              Belgium            49.0         11      57.0        23   \n",
       "97           Luxembourg            49.0         28      57.0        12   \n",
       "27              England            86.0         22      91.0        76   \n",
       "72             Portugal            26.0          2      22.0         1   \n",
       "\n",
       "             Potatoes     Apples  \n",
       "Real coffee                       \n",
       "90                 21  81.000000  \n",
       "82                  2  67.000000  \n",
       "88                 23  87.000000  \n",
       "96                  7  83.000000  \n",
       "94                  9  76.000000  \n",
       "97                  7  85.000000  \n",
       "27                 17  76.000000  \n",
       "72                 17  68.636364  "
      ],
      "text/html": "<div>\n<style scoped>\n    .dataframe tbody tr th:only-of-type {\n        vertical-align: middle;\n    }\n\n    .dataframe tbody tr th {\n        vertical-align: top;\n    }\n\n    .dataframe thead th {\n        text-align: right;\n    }\n</style>\n<table border=\"1\" class=\"dataframe\">\n  <thead>\n    <tr style=\"text-align: right;\">\n      <th></th>\n      <th>Country</th>\n      <th>Instant coffee</th>\n      <th>Sweetener</th>\n      <th>Biscuits</th>\n      <th>Tin soup</th>\n      <th>Potatoes</th>\n      <th>Apples</th>\n    </tr>\n    <tr>\n      <th>Real coffee</th>\n      <th></th>\n      <th></th>\n      <th></th>\n      <th></th>\n      <th></th>\n      <th></th>\n      <th></th>\n    </tr>\n  </thead>\n  <tbody>\n    <tr>\n      <th>90</th>\n      <td>Germany</td>\n      <td>49.0</td>\n      <td>19</td>\n      <td>57.0</td>\n      <td>19</td>\n      <td>21</td>\n      <td>81.000000</td>\n    </tr>\n    <tr>\n      <th>82</th>\n      <td>Italy</td>\n      <td>10.0</td>\n      <td>2</td>\n      <td>55.0</td>\n      <td>3</td>\n      <td>2</td>\n      <td>67.000000</td>\n    </tr>\n    <tr>\n      <th>88</th>\n      <td>France</td>\n      <td>42.0</td>\n      <td>4</td>\n      <td>76.0</td>\n      <td>11</td>\n      <td>23</td>\n      <td>87.000000</td>\n    </tr>\n    <tr>\n      <th>96</th>\n      <td>Holland</td>\n      <td>49.0</td>\n      <td>32</td>\n      <td>57.0</td>\n      <td>43</td>\n      <td>7</td>\n      <td>83.000000</td>\n    </tr>\n    <tr>\n      <th>94</th>\n      <td>Belgium</td>\n      <td>49.0</td>\n      <td>11</td>\n      <td>57.0</td>\n      <td>23</td>\n      <td>9</td>\n      <td>76.000000</td>\n    </tr>\n    <tr>\n      <th>97</th>\n      <td>Luxembourg</td>\n      <td>49.0</td>\n      <td>28</td>\n      <td>57.0</td>\n      <td>12</td>\n      <td>7</td>\n      <td>85.000000</td>\n    </tr>\n    <tr>\n      <th>27</th>\n      <td>England</td>\n      <td>86.0</td>\n      <td>22</td>\n      <td>91.0</td>\n      <td>76</td>\n      <td>17</td>\n      <td>76.000000</td>\n    </tr>\n    <tr>\n      <th>72</th>\n      <td>Portugal</td>\n      <td>26.0</td>\n      <td>2</td>\n      <td>22.0</td>\n      <td>1</td>\n      <td>17</td>\n      <td>68.636364</td>\n    </tr>\n  </tbody>\n</table>\n</div>"
     },
     "metadata": {},
     "execution_count": 26
    }
   ],
   "source": [
    "df.interpolate(method = \"index\") # it will change the value according to index value"
   ]
  },
  {
   "cell_type": "code",
   "execution_count": 25,
   "metadata": {},
   "outputs": [
    {
     "output_type": "error",
     "ename": "ImportError",
     "evalue": "Missing optional dependency 'scipy'. nearest interpolation requires SciPy. Use pip or conda to install scipy.",
     "traceback": [
      "\u001b[1;31m---------------------------------------------------------------------------\u001b[0m",
      "\u001b[1;31mImportError\u001b[0m                               Traceback (most recent call last)",
      "\u001b[1;32m~\\AppData\\Local\\Temp/ipykernel_10824/798150047.py\u001b[0m in \u001b[0;36m<module>\u001b[1;34m\u001b[0m\n\u001b[1;32m----> 1\u001b[1;33m \u001b[0mdf\u001b[0m\u001b[1;33m.\u001b[0m\u001b[0minterpolate\u001b[0m\u001b[1;33m(\u001b[0m\u001b[0mmethod\u001b[0m\u001b[1;33m=\u001b[0m \u001b[1;34m\"nearest\"\u001b[0m\u001b[1;33m)\u001b[0m \u001b[1;31m# It will change the neareat value\u001b[0m\u001b[1;33m\u001b[0m\u001b[1;33m\u001b[0m\u001b[0m\n\u001b[0m",
      "\u001b[1;32m~\\AppData\\Local\\Programs\\Python\\Python39\\lib\\site-packages\\pandas\\util\\_decorators.py\u001b[0m in \u001b[0;36mwrapper\u001b[1;34m(*args, **kwargs)\u001b[0m\n\u001b[0;32m    309\u001b[0m                     \u001b[0mstacklevel\u001b[0m\u001b[1;33m=\u001b[0m\u001b[0mstacklevel\u001b[0m\u001b[1;33m,\u001b[0m\u001b[1;33m\u001b[0m\u001b[1;33m\u001b[0m\u001b[0m\n\u001b[0;32m    310\u001b[0m                 )\n\u001b[1;32m--> 311\u001b[1;33m             \u001b[1;32mreturn\u001b[0m \u001b[0mfunc\u001b[0m\u001b[1;33m(\u001b[0m\u001b[1;33m*\u001b[0m\u001b[0margs\u001b[0m\u001b[1;33m,\u001b[0m \u001b[1;33m**\u001b[0m\u001b[0mkwargs\u001b[0m\u001b[1;33m)\u001b[0m\u001b[1;33m\u001b[0m\u001b[1;33m\u001b[0m\u001b[0m\n\u001b[0m\u001b[0;32m    312\u001b[0m \u001b[1;33m\u001b[0m\u001b[0m\n\u001b[0;32m    313\u001b[0m         \u001b[1;32mreturn\u001b[0m \u001b[0mwrapper\u001b[0m\u001b[1;33m\u001b[0m\u001b[1;33m\u001b[0m\u001b[0m\n",
      "\u001b[1;32m~\\AppData\\Local\\Programs\\Python\\Python39\\lib\\site-packages\\pandas\\core\\frame.py\u001b[0m in \u001b[0;36minterpolate\u001b[1;34m(self, method, axis, limit, inplace, limit_direction, limit_area, downcast, **kwargs)\u001b[0m\n\u001b[0;32m  10707\u001b[0m         \u001b[1;33m**\u001b[0m\u001b[0mkwargs\u001b[0m\u001b[1;33m,\u001b[0m\u001b[1;33m\u001b[0m\u001b[1;33m\u001b[0m\u001b[0m\n\u001b[0;32m  10708\u001b[0m     ) -> DataFrame | None:\n\u001b[1;32m> 10709\u001b[1;33m         return super().interpolate(\n\u001b[0m\u001b[0;32m  10710\u001b[0m             \u001b[0mmethod\u001b[0m\u001b[1;33m,\u001b[0m\u001b[1;33m\u001b[0m\u001b[1;33m\u001b[0m\u001b[0m\n\u001b[0;32m  10711\u001b[0m             \u001b[0maxis\u001b[0m\u001b[1;33m,\u001b[0m\u001b[1;33m\u001b[0m\u001b[1;33m\u001b[0m\u001b[0m\n",
      "\u001b[1;32m~\\AppData\\Local\\Programs\\Python\\Python39\\lib\\site-packages\\pandas\\core\\generic.py\u001b[0m in \u001b[0;36minterpolate\u001b[1;34m(self, method, axis, limit, inplace, limit_direction, limit_area, downcast, **kwargs)\u001b[0m\n\u001b[0;32m   6888\u001b[0m                 \u001b[1;34m\"those NaNs before interpolating.\"\u001b[0m\u001b[1;33m\u001b[0m\u001b[1;33m\u001b[0m\u001b[0m\n\u001b[0;32m   6889\u001b[0m             )\n\u001b[1;32m-> 6890\u001b[1;33m         new_data = obj._mgr.interpolate(\n\u001b[0m\u001b[0;32m   6891\u001b[0m             \u001b[0mmethod\u001b[0m\u001b[1;33m=\u001b[0m\u001b[0mmethod\u001b[0m\u001b[1;33m,\u001b[0m\u001b[1;33m\u001b[0m\u001b[1;33m\u001b[0m\u001b[0m\n\u001b[0;32m   6892\u001b[0m             \u001b[0maxis\u001b[0m\u001b[1;33m=\u001b[0m\u001b[0maxis\u001b[0m\u001b[1;33m,\u001b[0m\u001b[1;33m\u001b[0m\u001b[1;33m\u001b[0m\u001b[0m\n",
      "\u001b[1;32m~\\AppData\\Local\\Programs\\Python\\Python39\\lib\\site-packages\\pandas\\core\\internals\\managers.py\u001b[0m in \u001b[0;36minterpolate\u001b[1;34m(self, **kwargs)\u001b[0m\n\u001b[0;32m    375\u001b[0m \u001b[1;33m\u001b[0m\u001b[0m\n\u001b[0;32m    376\u001b[0m     \u001b[1;32mdef\u001b[0m \u001b[0minterpolate\u001b[0m\u001b[1;33m(\u001b[0m\u001b[0mself\u001b[0m\u001b[1;33m:\u001b[0m \u001b[0mT\u001b[0m\u001b[1;33m,\u001b[0m \u001b[1;33m**\u001b[0m\u001b[0mkwargs\u001b[0m\u001b[1;33m)\u001b[0m \u001b[1;33m->\u001b[0m \u001b[0mT\u001b[0m\u001b[1;33m:\u001b[0m\u001b[1;33m\u001b[0m\u001b[1;33m\u001b[0m\u001b[0m\n\u001b[1;32m--> 377\u001b[1;33m         \u001b[1;32mreturn\u001b[0m \u001b[0mself\u001b[0m\u001b[1;33m.\u001b[0m\u001b[0mapply\u001b[0m\u001b[1;33m(\u001b[0m\u001b[1;34m\"interpolate\"\u001b[0m\u001b[1;33m,\u001b[0m \u001b[1;33m**\u001b[0m\u001b[0mkwargs\u001b[0m\u001b[1;33m)\u001b[0m\u001b[1;33m\u001b[0m\u001b[1;33m\u001b[0m\u001b[0m\n\u001b[0m\u001b[0;32m    378\u001b[0m \u001b[1;33m\u001b[0m\u001b[0m\n\u001b[0;32m    379\u001b[0m     \u001b[1;32mdef\u001b[0m \u001b[0mshift\u001b[0m\u001b[1;33m(\u001b[0m\u001b[0mself\u001b[0m\u001b[1;33m:\u001b[0m \u001b[0mT\u001b[0m\u001b[1;33m,\u001b[0m \u001b[0mperiods\u001b[0m\u001b[1;33m:\u001b[0m \u001b[0mint\u001b[0m\u001b[1;33m,\u001b[0m \u001b[0maxis\u001b[0m\u001b[1;33m:\u001b[0m \u001b[0mint\u001b[0m\u001b[1;33m,\u001b[0m \u001b[0mfill_value\u001b[0m\u001b[1;33m)\u001b[0m \u001b[1;33m->\u001b[0m \u001b[0mT\u001b[0m\u001b[1;33m:\u001b[0m\u001b[1;33m\u001b[0m\u001b[1;33m\u001b[0m\u001b[0m\n",
      "\u001b[1;32m~\\AppData\\Local\\Programs\\Python\\Python39\\lib\\site-packages\\pandas\\core\\internals\\managers.py\u001b[0m in \u001b[0;36mapply\u001b[1;34m(self, f, align_keys, ignore_failures, **kwargs)\u001b[0m\n\u001b[0;32m    325\u001b[0m                     \u001b[0mapplied\u001b[0m \u001b[1;33m=\u001b[0m \u001b[0mb\u001b[0m\u001b[1;33m.\u001b[0m\u001b[0mapply\u001b[0m\u001b[1;33m(\u001b[0m\u001b[0mf\u001b[0m\u001b[1;33m,\u001b[0m \u001b[1;33m**\u001b[0m\u001b[0mkwargs\u001b[0m\u001b[1;33m)\u001b[0m\u001b[1;33m\u001b[0m\u001b[1;33m\u001b[0m\u001b[0m\n\u001b[0;32m    326\u001b[0m                 \u001b[1;32melse\u001b[0m\u001b[1;33m:\u001b[0m\u001b[1;33m\u001b[0m\u001b[1;33m\u001b[0m\u001b[0m\n\u001b[1;32m--> 327\u001b[1;33m                     \u001b[0mapplied\u001b[0m \u001b[1;33m=\u001b[0m \u001b[0mgetattr\u001b[0m\u001b[1;33m(\u001b[0m\u001b[0mb\u001b[0m\u001b[1;33m,\u001b[0m \u001b[0mf\u001b[0m\u001b[1;33m)\u001b[0m\u001b[1;33m(\u001b[0m\u001b[1;33m**\u001b[0m\u001b[0mkwargs\u001b[0m\u001b[1;33m)\u001b[0m\u001b[1;33m\u001b[0m\u001b[1;33m\u001b[0m\u001b[0m\n\u001b[0m\u001b[0;32m    328\u001b[0m             \u001b[1;32mexcept\u001b[0m \u001b[1;33m(\u001b[0m\u001b[0mTypeError\u001b[0m\u001b[1;33m,\u001b[0m \u001b[0mNotImplementedError\u001b[0m\u001b[1;33m)\u001b[0m\u001b[1;33m:\u001b[0m\u001b[1;33m\u001b[0m\u001b[1;33m\u001b[0m\u001b[0m\n\u001b[0;32m    329\u001b[0m                 \u001b[1;32mif\u001b[0m \u001b[1;32mnot\u001b[0m \u001b[0mignore_failures\u001b[0m\u001b[1;33m:\u001b[0m\u001b[1;33m\u001b[0m\u001b[1;33m\u001b[0m\u001b[0m\n",
      "\u001b[1;32m~\\AppData\\Local\\Programs\\Python\\Python39\\lib\\site-packages\\pandas\\core\\internals\\blocks.py\u001b[0m in \u001b[0;36minterpolate\u001b[1;34m(self, method, axis, index, inplace, limit, limit_direction, limit_area, fill_value, coerce, downcast, **kwargs)\u001b[0m\n\u001b[0;32m   1104\u001b[0m         \u001b[0mdata\u001b[0m \u001b[1;33m=\u001b[0m \u001b[0mcast\u001b[0m\u001b[1;33m(\u001b[0m\u001b[0mnp\u001b[0m\u001b[1;33m.\u001b[0m\u001b[0mndarray\u001b[0m\u001b[1;33m,\u001b[0m \u001b[0mdata\u001b[0m\u001b[1;33m)\u001b[0m  \u001b[1;31m# bc overridden by ExtensionBlock\u001b[0m\u001b[1;33m\u001b[0m\u001b[1;33m\u001b[0m\u001b[0m\n\u001b[0;32m   1105\u001b[0m \u001b[1;33m\u001b[0m\u001b[0m\n\u001b[1;32m-> 1106\u001b[1;33m         interp_values = missing.interpolate_array_2d(\n\u001b[0m\u001b[0;32m   1107\u001b[0m             \u001b[0mdata\u001b[0m\u001b[1;33m,\u001b[0m\u001b[1;33m\u001b[0m\u001b[1;33m\u001b[0m\u001b[0m\n\u001b[0;32m   1108\u001b[0m             \u001b[0mmethod\u001b[0m\u001b[1;33m=\u001b[0m\u001b[0mmethod\u001b[0m\u001b[1;33m,\u001b[0m\u001b[1;33m\u001b[0m\u001b[1;33m\u001b[0m\u001b[0m\n",
      "\u001b[1;32m~\\AppData\\Local\\Programs\\Python\\Python39\\lib\\site-packages\\pandas\\core\\missing.py\u001b[0m in \u001b[0;36minterpolate_array_2d\u001b[1;34m(data, method, axis, index, limit, limit_direction, limit_area, fill_value, coerce, downcast, **kwargs)\u001b[0m\n\u001b[0;32m    238\u001b[0m         \u001b[1;32massert\u001b[0m \u001b[0mindex\u001b[0m \u001b[1;32mis\u001b[0m \u001b[1;32mnot\u001b[0m \u001b[1;32mNone\u001b[0m  \u001b[1;31m# for mypy\u001b[0m\u001b[1;33m\u001b[0m\u001b[1;33m\u001b[0m\u001b[0m\n\u001b[0;32m    239\u001b[0m \u001b[1;33m\u001b[0m\u001b[0m\n\u001b[1;32m--> 240\u001b[1;33m         interp_values = interpolate_2d_with_fill(\n\u001b[0m\u001b[0;32m    241\u001b[0m             \u001b[0mdata\u001b[0m\u001b[1;33m=\u001b[0m\u001b[0mdata\u001b[0m\u001b[1;33m,\u001b[0m\u001b[1;33m\u001b[0m\u001b[1;33m\u001b[0m\u001b[0m\n\u001b[0;32m    242\u001b[0m             \u001b[0mindex\u001b[0m\u001b[1;33m=\u001b[0m\u001b[0mindex\u001b[0m\u001b[1;33m,\u001b[0m\u001b[1;33m\u001b[0m\u001b[1;33m\u001b[0m\u001b[0m\n",
      "\u001b[1;32m~\\AppData\\Local\\Programs\\Python\\Python39\\lib\\site-packages\\pandas\\core\\missing.py\u001b[0m in \u001b[0;36minterpolate_2d_with_fill\u001b[1;34m(data, index, axis, method, limit, limit_direction, limit_area, fill_value, **kwargs)\u001b[0m\n\u001b[0;32m    295\u001b[0m \u001b[1;33m\u001b[0m\u001b[0m\n\u001b[0;32m    296\u001b[0m     \u001b[1;31m# interp each column independently\u001b[0m\u001b[1;33m\u001b[0m\u001b[1;33m\u001b[0m\u001b[1;33m\u001b[0m\u001b[0m\n\u001b[1;32m--> 297\u001b[1;33m     \u001b[1;32mreturn\u001b[0m \u001b[0mnp\u001b[0m\u001b[1;33m.\u001b[0m\u001b[0mapply_along_axis\u001b[0m\u001b[1;33m(\u001b[0m\u001b[0mfunc\u001b[0m\u001b[1;33m,\u001b[0m \u001b[0maxis\u001b[0m\u001b[1;33m,\u001b[0m \u001b[0mdata\u001b[0m\u001b[1;33m)\u001b[0m\u001b[1;33m\u001b[0m\u001b[1;33m\u001b[0m\u001b[0m\n\u001b[0m\u001b[0;32m    298\u001b[0m \u001b[1;33m\u001b[0m\u001b[0m\n\u001b[0;32m    299\u001b[0m \u001b[1;33m\u001b[0m\u001b[0m\n",
      "\u001b[1;32m<__array_function__ internals>\u001b[0m in \u001b[0;36mapply_along_axis\u001b[1;34m(*args, **kwargs)\u001b[0m\n",
      "\u001b[1;32m~\\AppData\\Local\\Programs\\Python\\Python39\\lib\\site-packages\\numpy\\lib\\shape_base.py\u001b[0m in \u001b[0;36mapply_along_axis\u001b[1;34m(func1d, axis, arr, *args, **kwargs)\u001b[0m\n\u001b[0;32m    377\u001b[0m             \u001b[1;34m'Cannot apply_along_axis when any iteration dimensions are 0'\u001b[0m\u001b[1;33m\u001b[0m\u001b[1;33m\u001b[0m\u001b[0m\n\u001b[0;32m    378\u001b[0m         ) from None\n\u001b[1;32m--> 379\u001b[1;33m     \u001b[0mres\u001b[0m \u001b[1;33m=\u001b[0m \u001b[0masanyarray\u001b[0m\u001b[1;33m(\u001b[0m\u001b[0mfunc1d\u001b[0m\u001b[1;33m(\u001b[0m\u001b[0minarr_view\u001b[0m\u001b[1;33m[\u001b[0m\u001b[0mind0\u001b[0m\u001b[1;33m]\u001b[0m\u001b[1;33m,\u001b[0m \u001b[1;33m*\u001b[0m\u001b[0margs\u001b[0m\u001b[1;33m,\u001b[0m \u001b[1;33m**\u001b[0m\u001b[0mkwargs\u001b[0m\u001b[1;33m)\u001b[0m\u001b[1;33m)\u001b[0m\u001b[1;33m\u001b[0m\u001b[1;33m\u001b[0m\u001b[0m\n\u001b[0m\u001b[0;32m    380\u001b[0m \u001b[1;33m\u001b[0m\u001b[0m\n\u001b[0;32m    381\u001b[0m     \u001b[1;31m# build a buffer for storing evaluations of func1d.\u001b[0m\u001b[1;33m\u001b[0m\u001b[1;33m\u001b[0m\u001b[1;33m\u001b[0m\u001b[0m\n",
      "\u001b[1;32m~\\AppData\\Local\\Programs\\Python\\Python39\\lib\\site-packages\\pandas\\core\\missing.py\u001b[0m in \u001b[0;36mfunc\u001b[1;34m(yvalues)\u001b[0m\n\u001b[0;32m    282\u001b[0m         \u001b[1;31m# should the axis argument be handled below in apply_along_axis?\u001b[0m\u001b[1;33m\u001b[0m\u001b[1;33m\u001b[0m\u001b[1;33m\u001b[0m\u001b[0m\n\u001b[0;32m    283\u001b[0m         \u001b[1;31m# i.e. not an arg to interpolate_1d\u001b[0m\u001b[1;33m\u001b[0m\u001b[1;33m\u001b[0m\u001b[1;33m\u001b[0m\u001b[0m\n\u001b[1;32m--> 284\u001b[1;33m         return interpolate_1d(\n\u001b[0m\u001b[0;32m    285\u001b[0m             \u001b[0mxvalues\u001b[0m\u001b[1;33m=\u001b[0m\u001b[0mindex\u001b[0m\u001b[1;33m,\u001b[0m\u001b[1;33m\u001b[0m\u001b[1;33m\u001b[0m\u001b[0m\n\u001b[0;32m    286\u001b[0m             \u001b[0myvalues\u001b[0m\u001b[1;33m=\u001b[0m\u001b[0myvalues\u001b[0m\u001b[1;33m,\u001b[0m\u001b[1;33m\u001b[0m\u001b[1;33m\u001b[0m\u001b[0m\n",
      "\u001b[1;32m~\\AppData\\Local\\Programs\\Python\\Python39\\lib\\site-packages\\pandas\\core\\missing.py\u001b[0m in \u001b[0;36minterpolate_1d\u001b[1;34m(xvalues, yvalues, method, limit, limit_direction, limit_area, fill_value, bounds_error, order, **kwargs)\u001b[0m\n\u001b[0;32m    431\u001b[0m         )\n\u001b[0;32m    432\u001b[0m     \u001b[1;32melse\u001b[0m\u001b[1;33m:\u001b[0m\u001b[1;33m\u001b[0m\u001b[1;33m\u001b[0m\u001b[0m\n\u001b[1;32m--> 433\u001b[1;33m         result[invalid] = _interpolate_scipy_wrapper(\n\u001b[0m\u001b[0;32m    434\u001b[0m             \u001b[0minds\u001b[0m\u001b[1;33m[\u001b[0m\u001b[0mvalid\u001b[0m\u001b[1;33m]\u001b[0m\u001b[1;33m,\u001b[0m\u001b[1;33m\u001b[0m\u001b[1;33m\u001b[0m\u001b[0m\n\u001b[0;32m    435\u001b[0m             \u001b[0myvalues\u001b[0m\u001b[1;33m[\u001b[0m\u001b[0mvalid\u001b[0m\u001b[1;33m]\u001b[0m\u001b[1;33m,\u001b[0m\u001b[1;33m\u001b[0m\u001b[1;33m\u001b[0m\u001b[0m\n",
      "\u001b[1;32m~\\AppData\\Local\\Programs\\Python\\Python39\\lib\\site-packages\\pandas\\core\\missing.py\u001b[0m in \u001b[0;36m_interpolate_scipy_wrapper\u001b[1;34m(x, y, new_x, method, fill_value, bounds_error, order, **kwargs)\u001b[0m\n\u001b[0;32m    455\u001b[0m     \"\"\"\n\u001b[0;32m    456\u001b[0m     \u001b[0mextra\u001b[0m \u001b[1;33m=\u001b[0m \u001b[1;34mf\"{method} interpolation requires SciPy.\"\u001b[0m\u001b[1;33m\u001b[0m\u001b[1;33m\u001b[0m\u001b[0m\n\u001b[1;32m--> 457\u001b[1;33m     \u001b[0mimport_optional_dependency\u001b[0m\u001b[1;33m(\u001b[0m\u001b[1;34m\"scipy\"\u001b[0m\u001b[1;33m,\u001b[0m \u001b[0mextra\u001b[0m\u001b[1;33m=\u001b[0m\u001b[0mextra\u001b[0m\u001b[1;33m)\u001b[0m\u001b[1;33m\u001b[0m\u001b[1;33m\u001b[0m\u001b[0m\n\u001b[0m\u001b[0;32m    458\u001b[0m     \u001b[1;32mfrom\u001b[0m \u001b[0mscipy\u001b[0m \u001b[1;32mimport\u001b[0m \u001b[0minterpolate\u001b[0m\u001b[1;33m\u001b[0m\u001b[1;33m\u001b[0m\u001b[0m\n\u001b[0;32m    459\u001b[0m \u001b[1;33m\u001b[0m\u001b[0m\n",
      "\u001b[1;32m~\\AppData\\Local\\Programs\\Python\\Python39\\lib\\site-packages\\pandas\\compat\\_optional.py\u001b[0m in \u001b[0;36mimport_optional_dependency\u001b[1;34m(name, extra, errors, min_version)\u001b[0m\n\u001b[0;32m    116\u001b[0m     \u001b[1;32mexcept\u001b[0m \u001b[0mImportError\u001b[0m\u001b[1;33m:\u001b[0m\u001b[1;33m\u001b[0m\u001b[1;33m\u001b[0m\u001b[0m\n\u001b[0;32m    117\u001b[0m         \u001b[1;32mif\u001b[0m \u001b[0merrors\u001b[0m \u001b[1;33m==\u001b[0m \u001b[1;34m\"raise\"\u001b[0m\u001b[1;33m:\u001b[0m\u001b[1;33m\u001b[0m\u001b[1;33m\u001b[0m\u001b[0m\n\u001b[1;32m--> 118\u001b[1;33m             \u001b[1;32mraise\u001b[0m \u001b[0mImportError\u001b[0m\u001b[1;33m(\u001b[0m\u001b[0mmsg\u001b[0m\u001b[1;33m)\u001b[0m \u001b[1;32mfrom\u001b[0m \u001b[1;32mNone\u001b[0m\u001b[1;33m\u001b[0m\u001b[1;33m\u001b[0m\u001b[0m\n\u001b[0m\u001b[0;32m    119\u001b[0m         \u001b[1;32melse\u001b[0m\u001b[1;33m:\u001b[0m\u001b[1;33m\u001b[0m\u001b[1;33m\u001b[0m\u001b[0m\n\u001b[0;32m    120\u001b[0m             \u001b[1;32mreturn\u001b[0m \u001b[1;32mNone\u001b[0m\u001b[1;33m\u001b[0m\u001b[1;33m\u001b[0m\u001b[0m\n",
      "\u001b[1;31mImportError\u001b[0m: Missing optional dependency 'scipy'. nearest interpolation requires SciPy. Use pip or conda to install scipy."
     ]
    }
   ],
   "source": [
    "df.interpolate(method= \"nearest\") # It will change the neareat value"
   ]
  },
  {
   "cell_type": "code",
   "execution_count": 28,
   "metadata": {},
   "outputs": [
    {
     "output_type": "execute_result",
     "data": {
      "text/plain": [
       "                Country  Instant coffee  Sweetener  Biscuits  Tin soup  \\\n",
       "Real coffee                                                              \n",
       "90              Germany            49.0         19      57.0        19   \n",
       "82                Italy            10.0          2      55.0         3   \n",
       "88               France            42.0          4      76.0        11   \n",
       "96              Holland             NaN         32       NaN        43   \n",
       "94              Belgium             NaN         11       NaN        23   \n",
       "97           Luxembourg             NaN         28       NaN        12   \n",
       "27              England            86.0         22      91.0        76   \n",
       "72             Portugal            26.0          2      22.0         1   \n",
       "\n",
       "             Potatoes     Apples  \n",
       "Real coffee                       \n",
       "90                 21  81.000000  \n",
       "82                  2  67.000000  \n",
       "88                 23  87.000000  \n",
       "96                  7  83.000000  \n",
       "94                  9  76.000000  \n",
       "97                  7  85.000000  \n",
       "27                 17  76.000000  \n",
       "72                 17  68.636364  "
      ],
      "text/html": "<div>\n<style scoped>\n    .dataframe tbody tr th:only-of-type {\n        vertical-align: middle;\n    }\n\n    .dataframe tbody tr th {\n        vertical-align: top;\n    }\n\n    .dataframe thead th {\n        text-align: right;\n    }\n</style>\n<table border=\"1\" class=\"dataframe\">\n  <thead>\n    <tr style=\"text-align: right;\">\n      <th></th>\n      <th>Country</th>\n      <th>Instant coffee</th>\n      <th>Sweetener</th>\n      <th>Biscuits</th>\n      <th>Tin soup</th>\n      <th>Potatoes</th>\n      <th>Apples</th>\n    </tr>\n    <tr>\n      <th>Real coffee</th>\n      <th></th>\n      <th></th>\n      <th></th>\n      <th></th>\n      <th></th>\n      <th></th>\n      <th></th>\n    </tr>\n  </thead>\n  <tbody>\n    <tr>\n      <th>90</th>\n      <td>Germany</td>\n      <td>49.0</td>\n      <td>19</td>\n      <td>57.0</td>\n      <td>19</td>\n      <td>21</td>\n      <td>81.000000</td>\n    </tr>\n    <tr>\n      <th>82</th>\n      <td>Italy</td>\n      <td>10.0</td>\n      <td>2</td>\n      <td>55.0</td>\n      <td>3</td>\n      <td>2</td>\n      <td>67.000000</td>\n    </tr>\n    <tr>\n      <th>88</th>\n      <td>France</td>\n      <td>42.0</td>\n      <td>4</td>\n      <td>76.0</td>\n      <td>11</td>\n      <td>23</td>\n      <td>87.000000</td>\n    </tr>\n    <tr>\n      <th>96</th>\n      <td>Holland</td>\n      <td>NaN</td>\n      <td>32</td>\n      <td>NaN</td>\n      <td>43</td>\n      <td>7</td>\n      <td>83.000000</td>\n    </tr>\n    <tr>\n      <th>94</th>\n      <td>Belgium</td>\n      <td>NaN</td>\n      <td>11</td>\n      <td>NaN</td>\n      <td>23</td>\n      <td>9</td>\n      <td>76.000000</td>\n    </tr>\n    <tr>\n      <th>97</th>\n      <td>Luxembourg</td>\n      <td>NaN</td>\n      <td>28</td>\n      <td>NaN</td>\n      <td>12</td>\n      <td>7</td>\n      <td>85.000000</td>\n    </tr>\n    <tr>\n      <th>27</th>\n      <td>England</td>\n      <td>86.0</td>\n      <td>22</td>\n      <td>91.0</td>\n      <td>76</td>\n      <td>17</td>\n      <td>76.000000</td>\n    </tr>\n    <tr>\n      <th>72</th>\n      <td>Portugal</td>\n      <td>26.0</td>\n      <td>2</td>\n      <td>22.0</td>\n      <td>1</td>\n      <td>17</td>\n      <td>68.636364</td>\n    </tr>\n  </tbody>\n</table>\n</div>"
     },
     "metadata": {},
     "execution_count": 28
    }
   ],
   "source": [
    "df.interpolate(method=\"polynomial\" , order = 1)"
   ]
  },
  {
   "cell_type": "code",
   "execution_count": 6,
   "metadata": {},
   "outputs": [
    {
     "output_type": "execute_result",
     "data": {
      "text/plain": [
       "      Country  Real coffee  Instant coffee  Sweetener  Biscuits  Tin soup  \\\n",
       "0     Germany           90            49.0         19      57.0        19   \n",
       "1       Italy           82            10.0          2      55.0         3   \n",
       "2      France           88            42.0          4      76.0        11   \n",
       "3     Holland           96             NaN         32       NaN        43   \n",
       "4     Belgium           94             NaN         11       NaN        23   \n",
       "5  Luxembourg           97             NaN         28       NaN        12   \n",
       "6     England           27            86.0         22      91.0        76   \n",
       "7    Portugal           72            26.0          2      22.0         1   \n",
       "\n",
       "   Potatoes  Apples  \n",
       "0        21    81.0  \n",
       "1         2    67.0  \n",
       "2        23    87.0  \n",
       "3         7    83.0  \n",
       "4         9    76.0  \n",
       "5         7    85.0  \n",
       "6        17    76.0  \n",
       "7        17     NaN  "
      ],
      "text/html": "<div>\n<style scoped>\n    .dataframe tbody tr th:only-of-type {\n        vertical-align: middle;\n    }\n\n    .dataframe tbody tr th {\n        vertical-align: top;\n    }\n\n    .dataframe thead th {\n        text-align: right;\n    }\n</style>\n<table border=\"1\" class=\"dataframe\">\n  <thead>\n    <tr style=\"text-align: right;\">\n      <th></th>\n      <th>Country</th>\n      <th>Real coffee</th>\n      <th>Instant coffee</th>\n      <th>Sweetener</th>\n      <th>Biscuits</th>\n      <th>Tin soup</th>\n      <th>Potatoes</th>\n      <th>Apples</th>\n    </tr>\n  </thead>\n  <tbody>\n    <tr>\n      <th>0</th>\n      <td>Germany</td>\n      <td>90</td>\n      <td>49.0</td>\n      <td>19</td>\n      <td>57.0</td>\n      <td>19</td>\n      <td>21</td>\n      <td>81.0</td>\n    </tr>\n    <tr>\n      <th>1</th>\n      <td>Italy</td>\n      <td>82</td>\n      <td>10.0</td>\n      <td>2</td>\n      <td>55.0</td>\n      <td>3</td>\n      <td>2</td>\n      <td>67.0</td>\n    </tr>\n    <tr>\n      <th>2</th>\n      <td>France</td>\n      <td>88</td>\n      <td>42.0</td>\n      <td>4</td>\n      <td>76.0</td>\n      <td>11</td>\n      <td>23</td>\n      <td>87.0</td>\n    </tr>\n    <tr>\n      <th>3</th>\n      <td>Holland</td>\n      <td>96</td>\n      <td>NaN</td>\n      <td>32</td>\n      <td>NaN</td>\n      <td>43</td>\n      <td>7</td>\n      <td>83.0</td>\n    </tr>\n    <tr>\n      <th>4</th>\n      <td>Belgium</td>\n      <td>94</td>\n      <td>NaN</td>\n      <td>11</td>\n      <td>NaN</td>\n      <td>23</td>\n      <td>9</td>\n      <td>76.0</td>\n    </tr>\n    <tr>\n      <th>5</th>\n      <td>Luxembourg</td>\n      <td>97</td>\n      <td>NaN</td>\n      <td>28</td>\n      <td>NaN</td>\n      <td>12</td>\n      <td>7</td>\n      <td>85.0</td>\n    </tr>\n    <tr>\n      <th>6</th>\n      <td>England</td>\n      <td>27</td>\n      <td>86.0</td>\n      <td>22</td>\n      <td>91.0</td>\n      <td>76</td>\n      <td>17</td>\n      <td>76.0</td>\n    </tr>\n    <tr>\n      <th>7</th>\n      <td>Portugal</td>\n      <td>72</td>\n      <td>26.0</td>\n      <td>2</td>\n      <td>22.0</td>\n      <td>1</td>\n      <td>17</td>\n      <td>NaN</td>\n    </tr>\n  </tbody>\n</table>\n</div>"
     },
     "metadata": {},
     "execution_count": 6
    }
   ],
   "source": [
    "df = pd.read_csv(\"E:\\\\ML\\\\ML\\\\Pandas\\\\food consumption.csv\")\n",
    "df"
   ]
  },
  {
   "cell_type": "code",
   "execution_count": 8,
   "metadata": {},
   "outputs": [
    {
     "output_type": "execute_result",
     "data": {
      "text/plain": [
       "      Country  Real coffee  Instant coffee  Sweetener  Biscuits  Tin soup  \\\n",
       "0     Germany           90            49.0         19     57.00        19   \n",
       "1       Italy           82            10.0          2     55.00         3   \n",
       "2      France           88            42.0          4     76.00        11   \n",
       "3     Holland           96            53.0         32     79.75        43   \n",
       "4     Belgium           94            64.0         11     83.50        23   \n",
       "5  Luxembourg           97            75.0         28     87.25        12   \n",
       "6     England           27            86.0         22     91.00        76   \n",
       "7    Portugal           72            26.0          2     22.00         1   \n",
       "\n",
       "   Potatoes  Apples  \n",
       "0        21    81.0  \n",
       "1         2    67.0  \n",
       "2        23    87.0  \n",
       "3         7    83.0  \n",
       "4         9    76.0  \n",
       "5         7    85.0  \n",
       "6        17    76.0  \n",
       "7        17    76.0  "
      ],
      "text/html": "<div>\n<style scoped>\n    .dataframe tbody tr th:only-of-type {\n        vertical-align: middle;\n    }\n\n    .dataframe tbody tr th {\n        vertical-align: top;\n    }\n\n    .dataframe thead th {\n        text-align: right;\n    }\n</style>\n<table border=\"1\" class=\"dataframe\">\n  <thead>\n    <tr style=\"text-align: right;\">\n      <th></th>\n      <th>Country</th>\n      <th>Real coffee</th>\n      <th>Instant coffee</th>\n      <th>Sweetener</th>\n      <th>Biscuits</th>\n      <th>Tin soup</th>\n      <th>Potatoes</th>\n      <th>Apples</th>\n    </tr>\n  </thead>\n  <tbody>\n    <tr>\n      <th>0</th>\n      <td>Germany</td>\n      <td>90</td>\n      <td>49.0</td>\n      <td>19</td>\n      <td>57.00</td>\n      <td>19</td>\n      <td>21</td>\n      <td>81.0</td>\n    </tr>\n    <tr>\n      <th>1</th>\n      <td>Italy</td>\n      <td>82</td>\n      <td>10.0</td>\n      <td>2</td>\n      <td>55.00</td>\n      <td>3</td>\n      <td>2</td>\n      <td>67.0</td>\n    </tr>\n    <tr>\n      <th>2</th>\n      <td>France</td>\n      <td>88</td>\n      <td>42.0</td>\n      <td>4</td>\n      <td>76.00</td>\n      <td>11</td>\n      <td>23</td>\n      <td>87.0</td>\n    </tr>\n    <tr>\n      <th>3</th>\n      <td>Holland</td>\n      <td>96</td>\n      <td>53.0</td>\n      <td>32</td>\n      <td>79.75</td>\n      <td>43</td>\n      <td>7</td>\n      <td>83.0</td>\n    </tr>\n    <tr>\n      <th>4</th>\n      <td>Belgium</td>\n      <td>94</td>\n      <td>64.0</td>\n      <td>11</td>\n      <td>83.50</td>\n      <td>23</td>\n      <td>9</td>\n      <td>76.0</td>\n    </tr>\n    <tr>\n      <th>5</th>\n      <td>Luxembourg</td>\n      <td>97</td>\n      <td>75.0</td>\n      <td>28</td>\n      <td>87.25</td>\n      <td>12</td>\n      <td>7</td>\n      <td>85.0</td>\n    </tr>\n    <tr>\n      <th>6</th>\n      <td>England</td>\n      <td>27</td>\n      <td>86.0</td>\n      <td>22</td>\n      <td>91.00</td>\n      <td>76</td>\n      <td>17</td>\n      <td>76.0</td>\n    </tr>\n    <tr>\n      <th>7</th>\n      <td>Portugal</td>\n      <td>72</td>\n      <td>26.0</td>\n      <td>2</td>\n      <td>22.00</td>\n      <td>1</td>\n      <td>17</td>\n      <td>76.0</td>\n    </tr>\n  </tbody>\n</table>\n</div>"
     },
     "metadata": {},
     "execution_count": 8
    }
   ],
   "source": [
    "df.interpolate() # Use defult parameter LINEAR"
   ]
  },
  {
   "cell_type": "code",
   "execution_count": 10,
   "metadata": {},
   "outputs": [
    {
     "output_type": "execute_result",
     "data": {
      "text/plain": [
       "Country            object\n",
       "Real coffee         int64\n",
       "Instant coffee    float64\n",
       "Sweetener           int64\n",
       "Biscuits          float64\n",
       "Tin soup            int64\n",
       "Potatoes            int64\n",
       "Apples            float64\n",
       "dtype: object"
      ]
     },
     "metadata": {},
     "execution_count": 10
    }
   ],
   "source": [
    "df.dtypes\n",
    "            # TO use Axis parameter there should not be any object type"
   ]
  },
  {
   "cell_type": "code",
   "execution_count": 12,
   "metadata": {},
   "outputs": [
    {
     "output_type": "execute_result",
     "data": {
      "text/plain": [
       "      Country  Real coffee  Instant coffee  Sweetener  Biscuits  Tin soup  \\\n",
       "0     Germany           90            49.0         19     57.00        19   \n",
       "1       Italy           82            10.0          2     55.00         3   \n",
       "2      France           88            42.0          4     76.00        11   \n",
       "3     Holland           96            53.0         32     79.75        43   \n",
       "4     Belgium           94             NaN         11       NaN        23   \n",
       "5  Luxembourg           97             NaN         28       NaN        12   \n",
       "6     England           27            86.0         22     91.00        76   \n",
       "7    Portugal           72            26.0          2     22.00         1   \n",
       "\n",
       "   Potatoes  Apples  \n",
       "0        21    81.0  \n",
       "1         2    67.0  \n",
       "2        23    87.0  \n",
       "3         7    83.0  \n",
       "4         9    76.0  \n",
       "5         7    85.0  \n",
       "6        17    76.0  \n",
       "7        17    76.0  "
      ],
      "text/html": "<div>\n<style scoped>\n    .dataframe tbody tr th:only-of-type {\n        vertical-align: middle;\n    }\n\n    .dataframe tbody tr th {\n        vertical-align: top;\n    }\n\n    .dataframe thead th {\n        text-align: right;\n    }\n</style>\n<table border=\"1\" class=\"dataframe\">\n  <thead>\n    <tr style=\"text-align: right;\">\n      <th></th>\n      <th>Country</th>\n      <th>Real coffee</th>\n      <th>Instant coffee</th>\n      <th>Sweetener</th>\n      <th>Biscuits</th>\n      <th>Tin soup</th>\n      <th>Potatoes</th>\n      <th>Apples</th>\n    </tr>\n  </thead>\n  <tbody>\n    <tr>\n      <th>0</th>\n      <td>Germany</td>\n      <td>90</td>\n      <td>49.0</td>\n      <td>19</td>\n      <td>57.00</td>\n      <td>19</td>\n      <td>21</td>\n      <td>81.0</td>\n    </tr>\n    <tr>\n      <th>1</th>\n      <td>Italy</td>\n      <td>82</td>\n      <td>10.0</td>\n      <td>2</td>\n      <td>55.00</td>\n      <td>3</td>\n      <td>2</td>\n      <td>67.0</td>\n    </tr>\n    <tr>\n      <th>2</th>\n      <td>France</td>\n      <td>88</td>\n      <td>42.0</td>\n      <td>4</td>\n      <td>76.00</td>\n      <td>11</td>\n      <td>23</td>\n      <td>87.0</td>\n    </tr>\n    <tr>\n      <th>3</th>\n      <td>Holland</td>\n      <td>96</td>\n      <td>53.0</td>\n      <td>32</td>\n      <td>79.75</td>\n      <td>43</td>\n      <td>7</td>\n      <td>83.0</td>\n    </tr>\n    <tr>\n      <th>4</th>\n      <td>Belgium</td>\n      <td>94</td>\n      <td>NaN</td>\n      <td>11</td>\n      <td>NaN</td>\n      <td>23</td>\n      <td>9</td>\n      <td>76.0</td>\n    </tr>\n    <tr>\n      <th>5</th>\n      <td>Luxembourg</td>\n      <td>97</td>\n      <td>NaN</td>\n      <td>28</td>\n      <td>NaN</td>\n      <td>12</td>\n      <td>7</td>\n      <td>85.0</td>\n    </tr>\n    <tr>\n      <th>6</th>\n      <td>England</td>\n      <td>27</td>\n      <td>86.0</td>\n      <td>22</td>\n      <td>91.00</td>\n      <td>76</td>\n      <td>17</td>\n      <td>76.0</td>\n    </tr>\n    <tr>\n      <th>7</th>\n      <td>Portugal</td>\n      <td>72</td>\n      <td>26.0</td>\n      <td>2</td>\n      <td>22.00</td>\n      <td>1</td>\n      <td>17</td>\n      <td>76.0</td>\n    </tr>\n  </tbody>\n</table>\n</div>"
     },
     "metadata": {},
     "execution_count": 12
    }
   ],
   "source": [
    "df.interpolate(limit=1)"
   ]
  },
  {
   "cell_type": "code",
   "execution_count": 16,
   "metadata": {},
   "outputs": [
    {
     "output_type": "execute_result",
     "data": {
      "text/plain": [
       "      Country  Real coffee  Instant coffee  Sweetener  Biscuits  Tin soup  \\\n",
       "0     Germany           90            49.0         19     57.00        19   \n",
       "1       Italy           82            10.0          2     55.00         3   \n",
       "2      France           88            42.0          4     76.00        11   \n",
       "3     Holland           96             NaN         32       NaN        43   \n",
       "4     Belgium           94             NaN         11       NaN        23   \n",
       "5  Luxembourg           97            75.0         28     87.25        12   \n",
       "6     England           27            86.0         22     91.00        76   \n",
       "7    Portugal           72            26.0          2     22.00         1   \n",
       "\n",
       "   Potatoes  Apples  \n",
       "0        21    81.0  \n",
       "1         2    67.0  \n",
       "2        23    87.0  \n",
       "3         7    83.0  \n",
       "4         9    76.0  \n",
       "5         7    85.0  \n",
       "6        17    76.0  \n",
       "7        17     NaN  "
      ],
      "text/html": "<div>\n<style scoped>\n    .dataframe tbody tr th:only-of-type {\n        vertical-align: middle;\n    }\n\n    .dataframe tbody tr th {\n        vertical-align: top;\n    }\n\n    .dataframe thead th {\n        text-align: right;\n    }\n</style>\n<table border=\"1\" class=\"dataframe\">\n  <thead>\n    <tr style=\"text-align: right;\">\n      <th></th>\n      <th>Country</th>\n      <th>Real coffee</th>\n      <th>Instant coffee</th>\n      <th>Sweetener</th>\n      <th>Biscuits</th>\n      <th>Tin soup</th>\n      <th>Potatoes</th>\n      <th>Apples</th>\n    </tr>\n  </thead>\n  <tbody>\n    <tr>\n      <th>0</th>\n      <td>Germany</td>\n      <td>90</td>\n      <td>49.0</td>\n      <td>19</td>\n      <td>57.00</td>\n      <td>19</td>\n      <td>21</td>\n      <td>81.0</td>\n    </tr>\n    <tr>\n      <th>1</th>\n      <td>Italy</td>\n      <td>82</td>\n      <td>10.0</td>\n      <td>2</td>\n      <td>55.00</td>\n      <td>3</td>\n      <td>2</td>\n      <td>67.0</td>\n    </tr>\n    <tr>\n      <th>2</th>\n      <td>France</td>\n      <td>88</td>\n      <td>42.0</td>\n      <td>4</td>\n      <td>76.00</td>\n      <td>11</td>\n      <td>23</td>\n      <td>87.0</td>\n    </tr>\n    <tr>\n      <th>3</th>\n      <td>Holland</td>\n      <td>96</td>\n      <td>NaN</td>\n      <td>32</td>\n      <td>NaN</td>\n      <td>43</td>\n      <td>7</td>\n      <td>83.0</td>\n    </tr>\n    <tr>\n      <th>4</th>\n      <td>Belgium</td>\n      <td>94</td>\n      <td>NaN</td>\n      <td>11</td>\n      <td>NaN</td>\n      <td>23</td>\n      <td>9</td>\n      <td>76.0</td>\n    </tr>\n    <tr>\n      <th>5</th>\n      <td>Luxembourg</td>\n      <td>97</td>\n      <td>75.0</td>\n      <td>28</td>\n      <td>87.25</td>\n      <td>12</td>\n      <td>7</td>\n      <td>85.0</td>\n    </tr>\n    <tr>\n      <th>6</th>\n      <td>England</td>\n      <td>27</td>\n      <td>86.0</td>\n      <td>22</td>\n      <td>91.00</td>\n      <td>76</td>\n      <td>17</td>\n      <td>76.0</td>\n    </tr>\n    <tr>\n      <th>7</th>\n      <td>Portugal</td>\n      <td>72</td>\n      <td>26.0</td>\n      <td>2</td>\n      <td>22.00</td>\n      <td>1</td>\n      <td>17</td>\n      <td>NaN</td>\n    </tr>\n  </tbody>\n</table>\n</div>"
     },
     "metadata": {},
     "execution_count": 16
    }
   ],
   "source": [
    "df.interpolate(limit = 1 ,  limit_direction= \"backward\") #It will fill the value from backward"
   ]
  },
  {
   "cell_type": "code",
   "execution_count": 18,
   "metadata": {},
   "outputs": [
    {
     "output_type": "execute_result",
     "data": {
      "text/plain": [
       "      Country  Real coffee  Instant coffee  Sweetener  Biscuits  Tin soup  \\\n",
       "0     Germany           90            49.0         19     57.00        19   \n",
       "1       Italy           82            10.0          2     55.00         3   \n",
       "2      France           88            42.0          4     76.00        11   \n",
       "3     Holland           96            53.0         32     79.75        43   \n",
       "4     Belgium           94             NaN         11       NaN        23   \n",
       "5  Luxembourg           97            75.0         28     87.25        12   \n",
       "6     England           27            86.0         22     91.00        76   \n",
       "7    Portugal           72            26.0          2     22.00         1   \n",
       "\n",
       "   Potatoes  Apples  \n",
       "0        21    81.0  \n",
       "1         2    67.0  \n",
       "2        23    87.0  \n",
       "3         7    83.0  \n",
       "4         9    76.0  \n",
       "5         7    85.0  \n",
       "6        17    76.0  \n",
       "7        17    76.0  "
      ],
      "text/html": "<div>\n<style scoped>\n    .dataframe tbody tr th:only-of-type {\n        vertical-align: middle;\n    }\n\n    .dataframe tbody tr th {\n        vertical-align: top;\n    }\n\n    .dataframe thead th {\n        text-align: right;\n    }\n</style>\n<table border=\"1\" class=\"dataframe\">\n  <thead>\n    <tr style=\"text-align: right;\">\n      <th></th>\n      <th>Country</th>\n      <th>Real coffee</th>\n      <th>Instant coffee</th>\n      <th>Sweetener</th>\n      <th>Biscuits</th>\n      <th>Tin soup</th>\n      <th>Potatoes</th>\n      <th>Apples</th>\n    </tr>\n  </thead>\n  <tbody>\n    <tr>\n      <th>0</th>\n      <td>Germany</td>\n      <td>90</td>\n      <td>49.0</td>\n      <td>19</td>\n      <td>57.00</td>\n      <td>19</td>\n      <td>21</td>\n      <td>81.0</td>\n    </tr>\n    <tr>\n      <th>1</th>\n      <td>Italy</td>\n      <td>82</td>\n      <td>10.0</td>\n      <td>2</td>\n      <td>55.00</td>\n      <td>3</td>\n      <td>2</td>\n      <td>67.0</td>\n    </tr>\n    <tr>\n      <th>2</th>\n      <td>France</td>\n      <td>88</td>\n      <td>42.0</td>\n      <td>4</td>\n      <td>76.00</td>\n      <td>11</td>\n      <td>23</td>\n      <td>87.0</td>\n    </tr>\n    <tr>\n      <th>3</th>\n      <td>Holland</td>\n      <td>96</td>\n      <td>53.0</td>\n      <td>32</td>\n      <td>79.75</td>\n      <td>43</td>\n      <td>7</td>\n      <td>83.0</td>\n    </tr>\n    <tr>\n      <th>4</th>\n      <td>Belgium</td>\n      <td>94</td>\n      <td>NaN</td>\n      <td>11</td>\n      <td>NaN</td>\n      <td>23</td>\n      <td>9</td>\n      <td>76.0</td>\n    </tr>\n    <tr>\n      <th>5</th>\n      <td>Luxembourg</td>\n      <td>97</td>\n      <td>75.0</td>\n      <td>28</td>\n      <td>87.25</td>\n      <td>12</td>\n      <td>7</td>\n      <td>85.0</td>\n    </tr>\n    <tr>\n      <th>6</th>\n      <td>England</td>\n      <td>27</td>\n      <td>86.0</td>\n      <td>22</td>\n      <td>91.00</td>\n      <td>76</td>\n      <td>17</td>\n      <td>76.0</td>\n    </tr>\n    <tr>\n      <th>7</th>\n      <td>Portugal</td>\n      <td>72</td>\n      <td>26.0</td>\n      <td>2</td>\n      <td>22.00</td>\n      <td>1</td>\n      <td>17</td>\n      <td>76.0</td>\n    </tr>\n  </tbody>\n</table>\n</div>"
     },
     "metadata": {},
     "execution_count": 18
    }
   ],
   "source": [
    "df.interpolate(limit = 1 ,  limit_direction= \"both\")# It will fill the 1 value from backward and 1  value from forward"
   ]
  },
  {
   "cell_type": "code",
   "execution_count": 19,
   "metadata": {},
   "outputs": [
    {
     "output_type": "execute_result",
     "data": {
      "text/plain": [
       "      Country  Real coffee  Instant coffee  Sweetener  Biscuits  Tin soup  \\\n",
       "0     Germany           90            49.0         19     57.00        19   \n",
       "1       Italy           82            10.0          2     55.00         3   \n",
       "2      France           88            42.0          4     76.00        11   \n",
       "3     Holland           96            53.0         32     79.75        43   \n",
       "4     Belgium           94            64.0         11     83.50        23   \n",
       "5  Luxembourg           97            75.0         28     87.25        12   \n",
       "6     England           27            86.0         22     91.00        76   \n",
       "7    Portugal           72            26.0          2     22.00         1   \n",
       "\n",
       "   Potatoes  Apples  \n",
       "0        21    81.0  \n",
       "1         2    67.0  \n",
       "2        23    87.0  \n",
       "3         7    83.0  \n",
       "4         9    76.0  \n",
       "5         7    85.0  \n",
       "6        17    76.0  \n",
       "7        17     NaN  "
      ],
      "text/html": "<div>\n<style scoped>\n    .dataframe tbody tr th:only-of-type {\n        vertical-align: middle;\n    }\n\n    .dataframe tbody tr th {\n        vertical-align: top;\n    }\n\n    .dataframe thead th {\n        text-align: right;\n    }\n</style>\n<table border=\"1\" class=\"dataframe\">\n  <thead>\n    <tr style=\"text-align: right;\">\n      <th></th>\n      <th>Country</th>\n      <th>Real coffee</th>\n      <th>Instant coffee</th>\n      <th>Sweetener</th>\n      <th>Biscuits</th>\n      <th>Tin soup</th>\n      <th>Potatoes</th>\n      <th>Apples</th>\n    </tr>\n  </thead>\n  <tbody>\n    <tr>\n      <th>0</th>\n      <td>Germany</td>\n      <td>90</td>\n      <td>49.0</td>\n      <td>19</td>\n      <td>57.00</td>\n      <td>19</td>\n      <td>21</td>\n      <td>81.0</td>\n    </tr>\n    <tr>\n      <th>1</th>\n      <td>Italy</td>\n      <td>82</td>\n      <td>10.0</td>\n      <td>2</td>\n      <td>55.00</td>\n      <td>3</td>\n      <td>2</td>\n      <td>67.0</td>\n    </tr>\n    <tr>\n      <th>2</th>\n      <td>France</td>\n      <td>88</td>\n      <td>42.0</td>\n      <td>4</td>\n      <td>76.00</td>\n      <td>11</td>\n      <td>23</td>\n      <td>87.0</td>\n    </tr>\n    <tr>\n      <th>3</th>\n      <td>Holland</td>\n      <td>96</td>\n      <td>53.0</td>\n      <td>32</td>\n      <td>79.75</td>\n      <td>43</td>\n      <td>7</td>\n      <td>83.0</td>\n    </tr>\n    <tr>\n      <th>4</th>\n      <td>Belgium</td>\n      <td>94</td>\n      <td>64.0</td>\n      <td>11</td>\n      <td>83.50</td>\n      <td>23</td>\n      <td>9</td>\n      <td>76.0</td>\n    </tr>\n    <tr>\n      <th>5</th>\n      <td>Luxembourg</td>\n      <td>97</td>\n      <td>75.0</td>\n      <td>28</td>\n      <td>87.25</td>\n      <td>12</td>\n      <td>7</td>\n      <td>85.0</td>\n    </tr>\n    <tr>\n      <th>6</th>\n      <td>England</td>\n      <td>27</td>\n      <td>86.0</td>\n      <td>22</td>\n      <td>91.00</td>\n      <td>76</td>\n      <td>17</td>\n      <td>76.0</td>\n    </tr>\n    <tr>\n      <th>7</th>\n      <td>Portugal</td>\n      <td>72</td>\n      <td>26.0</td>\n      <td>2</td>\n      <td>22.00</td>\n      <td>1</td>\n      <td>17</td>\n      <td>NaN</td>\n    </tr>\n  </tbody>\n</table>\n</div>"
     },
     "metadata": {},
     "execution_count": 19
    }
   ],
   "source": [
    "df.interpolate(limit_area=\"inside\")"
   ]
  },
  {
   "cell_type": "code",
   "execution_count": 22,
   "metadata": {},
   "outputs": [
    {
     "output_type": "execute_result",
     "data": {
      "text/plain": [
       "      Country  Real coffee  Instant coffee  Sweetener  Biscuits  Tin soup  \\\n",
       "0     Germany           90            49.0         19     57.00        19   \n",
       "1       Italy           82            10.0          2     55.00         3   \n",
       "2      France           88            42.0          4     76.00        11   \n",
       "3     Holland           96            53.0         32     79.75        43   \n",
       "4     Belgium           94            64.0         11     83.50        23   \n",
       "5  Luxembourg           97            75.0         28     87.25        12   \n",
       "6     England           27            86.0         22     91.00        76   \n",
       "7    Portugal           72            26.0          2     22.00         1   \n",
       "\n",
       "   Potatoes  Apples  \n",
       "0        21    81.0  \n",
       "1         2    67.0  \n",
       "2        23    87.0  \n",
       "3         7    83.0  \n",
       "4         9    76.0  \n",
       "5         7    85.0  \n",
       "6        17    76.0  \n",
       "7        17    76.0  "
      ],
      "text/html": "<div>\n<style scoped>\n    .dataframe tbody tr th:only-of-type {\n        vertical-align: middle;\n    }\n\n    .dataframe tbody tr th {\n        vertical-align: top;\n    }\n\n    .dataframe thead th {\n        text-align: right;\n    }\n</style>\n<table border=\"1\" class=\"dataframe\">\n  <thead>\n    <tr style=\"text-align: right;\">\n      <th></th>\n      <th>Country</th>\n      <th>Real coffee</th>\n      <th>Instant coffee</th>\n      <th>Sweetener</th>\n      <th>Biscuits</th>\n      <th>Tin soup</th>\n      <th>Potatoes</th>\n      <th>Apples</th>\n    </tr>\n  </thead>\n  <tbody>\n    <tr>\n      <th>0</th>\n      <td>Germany</td>\n      <td>90</td>\n      <td>49.0</td>\n      <td>19</td>\n      <td>57.00</td>\n      <td>19</td>\n      <td>21</td>\n      <td>81.0</td>\n    </tr>\n    <tr>\n      <th>1</th>\n      <td>Italy</td>\n      <td>82</td>\n      <td>10.0</td>\n      <td>2</td>\n      <td>55.00</td>\n      <td>3</td>\n      <td>2</td>\n      <td>67.0</td>\n    </tr>\n    <tr>\n      <th>2</th>\n      <td>France</td>\n      <td>88</td>\n      <td>42.0</td>\n      <td>4</td>\n      <td>76.00</td>\n      <td>11</td>\n      <td>23</td>\n      <td>87.0</td>\n    </tr>\n    <tr>\n      <th>3</th>\n      <td>Holland</td>\n      <td>96</td>\n      <td>53.0</td>\n      <td>32</td>\n      <td>79.75</td>\n      <td>43</td>\n      <td>7</td>\n      <td>83.0</td>\n    </tr>\n    <tr>\n      <th>4</th>\n      <td>Belgium</td>\n      <td>94</td>\n      <td>64.0</td>\n      <td>11</td>\n      <td>83.50</td>\n      <td>23</td>\n      <td>9</td>\n      <td>76.0</td>\n    </tr>\n    <tr>\n      <th>5</th>\n      <td>Luxembourg</td>\n      <td>97</td>\n      <td>75.0</td>\n      <td>28</td>\n      <td>87.25</td>\n      <td>12</td>\n      <td>7</td>\n      <td>85.0</td>\n    </tr>\n    <tr>\n      <th>6</th>\n      <td>England</td>\n      <td>27</td>\n      <td>86.0</td>\n      <td>22</td>\n      <td>91.00</td>\n      <td>76</td>\n      <td>17</td>\n      <td>76.0</td>\n    </tr>\n    <tr>\n      <th>7</th>\n      <td>Portugal</td>\n      <td>72</td>\n      <td>26.0</td>\n      <td>2</td>\n      <td>22.00</td>\n      <td>1</td>\n      <td>17</td>\n      <td>76.0</td>\n    </tr>\n  </tbody>\n</table>\n</div>"
     },
     "metadata": {},
     "execution_count": 22
    }
   ],
   "source": [
    "df.interpolate(inplace=True)\n",
    "df"
   ]
  },
  {
   "cell_type": "code",
   "execution_count": null,
   "metadata": {},
   "outputs": [],
   "source": []
  }
 ]
}