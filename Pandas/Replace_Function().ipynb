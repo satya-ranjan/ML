{
 "metadata": {
  "language_info": {
   "codemirror_mode": {
    "name": "ipython",
    "version": 3
   },
   "file_extension": ".py",
   "mimetype": "text/x-python",
   "name": "python",
   "nbconvert_exporter": "python",
   "pygments_lexer": "ipython3",
   "version": "3.9.5"
  },
  "orig_nbformat": 4,
  "kernelspec": {
   "name": "python3",
   "display_name": "Python 3.9.5 64-bit"
  },
  "interpreter": {
   "hash": "a12d694c3ccac42055183a0ad11e659c6a2db5c6555ad2c8919d5814fd4e404f"
  }
 },
 "nbformat": 4,
 "nbformat_minor": 2,
 "cells": [
  {
   "source": [
    "# What is pandas replace"
   ],
   "cell_type": "markdown",
   "metadata": {}
  },
  {
   "source": [
    "Values to the dataframe are replaced with other values dynamically. \n",
    "\n",
    "Syntax:DataFrame.replace()\n",
    "\n",
    "Parameters : toreplace,     limit,\n",
    "             Value,         regex,\n",
    "             inplace,       method,"
   ],
   "cell_type": "markdown",
   "metadata": {}
  },
  {
   "cell_type": "code",
   "execution_count": 1,
   "metadata": {},
   "outputs": [],
   "source": [
    "import pandas as pd "
   ]
  },
  {
   "cell_type": "code",
   "execution_count": 3,
   "metadata": {},
   "outputs": [
    {
     "output_type": "execute_result",
     "data": {
      "text/plain": [
       "        Country  Real coffee  Instant coffee  Sweetener  Biscuits  Tin soup  \\\n",
       "0       Germany         90.0            49.0       19.0      57.0      19.0   \n",
       "1         Italy         82.0            10.0        2.0      55.0       3.0   \n",
       "2        France         88.0            42.0        4.0      76.0      11.0   \n",
       "3       Holland         96.0            62.0       32.0       NaN      43.0   \n",
       "4       Belgium         94.0            38.0       11.0       NaN      23.0   \n",
       "5    Luxembourg         97.0            61.0       28.0       NaN      12.0   \n",
       "6       England         27.0            86.0       22.0      91.0      76.0   \n",
       "7      Portugal         72.0            26.0        2.0      22.0       1.0   \n",
       "8       Austria         55.0            31.0        8.0      29.0      12.0   \n",
       "9   Switzerland         73.0            72.0       25.0      31.0      12.0   \n",
       "10       Sweden         97.0            13.0       31.0       9.0      43.0   \n",
       "11      Denmark         96.0            17.0       35.0      66.0      17.0   \n",
       "12       Norway         92.0            17.0       13.0      62.0       4.0   \n",
       "13      Finland         98.0            12.0       20.0      64.0      10.0   \n",
       "14        Spain         70.0            40.0        3.0      62.0       2.0   \n",
       "15          NaN          NaN             NaN        NaN       NaN       NaN   \n",
       "\n",
       "    Potatoes  Apples  Oranges  Tinned fruit  Garlic  Olive oil  \n",
       "0       21.0    81.0     75.0          44.0    22.0       74.0  \n",
       "1        2.0    67.0     71.0           9.0    80.0       94.0  \n",
       "2       23.0    87.0     84.0          40.0    88.0       36.0  \n",
       "3        7.0    83.0     89.0          61.0     NaN       13.0  \n",
       "4        9.0    76.0     76.0          42.0     NaN       83.0  \n",
       "5        7.0    85.0     94.0          83.0    91.0       84.0  \n",
       "6       17.0    76.0     68.0          89.0    11.0       57.0  \n",
       "7       17.0     NaN     51.0           8.0    54.0       57.0  \n",
       "8       17.0     NaN     42.0          14.0    51.0       57.0  \n",
       "9       11.0     NaN     70.0          46.0    64.0       57.0  \n",
       "10      11.0     NaN     78.0          53.0     9.0       48.0  \n",
       "11      11.0    81.0     72.0          50.0    11.0       30.0  \n",
       "12      17.0    61.0     72.0          34.0    11.0       28.0  \n",
       "13       8.0    50.0     57.0          22.0    15.0       17.0  \n",
       "14      14.0    59.0     77.0          30.0    80.0       91.0  \n",
       "15       NaN     NaN      NaN           NaN     NaN        NaN  "
      ],
      "text/html": "<div>\n<style scoped>\n    .dataframe tbody tr th:only-of-type {\n        vertical-align: middle;\n    }\n\n    .dataframe tbody tr th {\n        vertical-align: top;\n    }\n\n    .dataframe thead th {\n        text-align: right;\n    }\n</style>\n<table border=\"1\" class=\"dataframe\">\n  <thead>\n    <tr style=\"text-align: right;\">\n      <th></th>\n      <th>Country</th>\n      <th>Real coffee</th>\n      <th>Instant coffee</th>\n      <th>Sweetener</th>\n      <th>Biscuits</th>\n      <th>Tin soup</th>\n      <th>Potatoes</th>\n      <th>Apples</th>\n      <th>Oranges</th>\n      <th>Tinned fruit</th>\n      <th>Garlic</th>\n      <th>Olive oil</th>\n    </tr>\n  </thead>\n  <tbody>\n    <tr>\n      <th>0</th>\n      <td>Germany</td>\n      <td>90.0</td>\n      <td>49.0</td>\n      <td>19.0</td>\n      <td>57.0</td>\n      <td>19.0</td>\n      <td>21.0</td>\n      <td>81.0</td>\n      <td>75.0</td>\n      <td>44.0</td>\n      <td>22.0</td>\n      <td>74.0</td>\n    </tr>\n    <tr>\n      <th>1</th>\n      <td>Italy</td>\n      <td>82.0</td>\n      <td>10.0</td>\n      <td>2.0</td>\n      <td>55.0</td>\n      <td>3.0</td>\n      <td>2.0</td>\n      <td>67.0</td>\n      <td>71.0</td>\n      <td>9.0</td>\n      <td>80.0</td>\n      <td>94.0</td>\n    </tr>\n    <tr>\n      <th>2</th>\n      <td>France</td>\n      <td>88.0</td>\n      <td>42.0</td>\n      <td>4.0</td>\n      <td>76.0</td>\n      <td>11.0</td>\n      <td>23.0</td>\n      <td>87.0</td>\n      <td>84.0</td>\n      <td>40.0</td>\n      <td>88.0</td>\n      <td>36.0</td>\n    </tr>\n    <tr>\n      <th>3</th>\n      <td>Holland</td>\n      <td>96.0</td>\n      <td>62.0</td>\n      <td>32.0</td>\n      <td>NaN</td>\n      <td>43.0</td>\n      <td>7.0</td>\n      <td>83.0</td>\n      <td>89.0</td>\n      <td>61.0</td>\n      <td>NaN</td>\n      <td>13.0</td>\n    </tr>\n    <tr>\n      <th>4</th>\n      <td>Belgium</td>\n      <td>94.0</td>\n      <td>38.0</td>\n      <td>11.0</td>\n      <td>NaN</td>\n      <td>23.0</td>\n      <td>9.0</td>\n      <td>76.0</td>\n      <td>76.0</td>\n      <td>42.0</td>\n      <td>NaN</td>\n      <td>83.0</td>\n    </tr>\n    <tr>\n      <th>5</th>\n      <td>Luxembourg</td>\n      <td>97.0</td>\n      <td>61.0</td>\n      <td>28.0</td>\n      <td>NaN</td>\n      <td>12.0</td>\n      <td>7.0</td>\n      <td>85.0</td>\n      <td>94.0</td>\n      <td>83.0</td>\n      <td>91.0</td>\n      <td>84.0</td>\n    </tr>\n    <tr>\n      <th>6</th>\n      <td>England</td>\n      <td>27.0</td>\n      <td>86.0</td>\n      <td>22.0</td>\n      <td>91.0</td>\n      <td>76.0</td>\n      <td>17.0</td>\n      <td>76.0</td>\n      <td>68.0</td>\n      <td>89.0</td>\n      <td>11.0</td>\n      <td>57.0</td>\n    </tr>\n    <tr>\n      <th>7</th>\n      <td>Portugal</td>\n      <td>72.0</td>\n      <td>26.0</td>\n      <td>2.0</td>\n      <td>22.0</td>\n      <td>1.0</td>\n      <td>17.0</td>\n      <td>NaN</td>\n      <td>51.0</td>\n      <td>8.0</td>\n      <td>54.0</td>\n      <td>57.0</td>\n    </tr>\n    <tr>\n      <th>8</th>\n      <td>Austria</td>\n      <td>55.0</td>\n      <td>31.0</td>\n      <td>8.0</td>\n      <td>29.0</td>\n      <td>12.0</td>\n      <td>17.0</td>\n      <td>NaN</td>\n      <td>42.0</td>\n      <td>14.0</td>\n      <td>51.0</td>\n      <td>57.0</td>\n    </tr>\n    <tr>\n      <th>9</th>\n      <td>Switzerland</td>\n      <td>73.0</td>\n      <td>72.0</td>\n      <td>25.0</td>\n      <td>31.0</td>\n      <td>12.0</td>\n      <td>11.0</td>\n      <td>NaN</td>\n      <td>70.0</td>\n      <td>46.0</td>\n      <td>64.0</td>\n      <td>57.0</td>\n    </tr>\n    <tr>\n      <th>10</th>\n      <td>Sweden</td>\n      <td>97.0</td>\n      <td>13.0</td>\n      <td>31.0</td>\n      <td>9.0</td>\n      <td>43.0</td>\n      <td>11.0</td>\n      <td>NaN</td>\n      <td>78.0</td>\n      <td>53.0</td>\n      <td>9.0</td>\n      <td>48.0</td>\n    </tr>\n    <tr>\n      <th>11</th>\n      <td>Denmark</td>\n      <td>96.0</td>\n      <td>17.0</td>\n      <td>35.0</td>\n      <td>66.0</td>\n      <td>17.0</td>\n      <td>11.0</td>\n      <td>81.0</td>\n      <td>72.0</td>\n      <td>50.0</td>\n      <td>11.0</td>\n      <td>30.0</td>\n    </tr>\n    <tr>\n      <th>12</th>\n      <td>Norway</td>\n      <td>92.0</td>\n      <td>17.0</td>\n      <td>13.0</td>\n      <td>62.0</td>\n      <td>4.0</td>\n      <td>17.0</td>\n      <td>61.0</td>\n      <td>72.0</td>\n      <td>34.0</td>\n      <td>11.0</td>\n      <td>28.0</td>\n    </tr>\n    <tr>\n      <th>13</th>\n      <td>Finland</td>\n      <td>98.0</td>\n      <td>12.0</td>\n      <td>20.0</td>\n      <td>64.0</td>\n      <td>10.0</td>\n      <td>8.0</td>\n      <td>50.0</td>\n      <td>57.0</td>\n      <td>22.0</td>\n      <td>15.0</td>\n      <td>17.0</td>\n    </tr>\n    <tr>\n      <th>14</th>\n      <td>Spain</td>\n      <td>70.0</td>\n      <td>40.0</td>\n      <td>3.0</td>\n      <td>62.0</td>\n      <td>2.0</td>\n      <td>14.0</td>\n      <td>59.0</td>\n      <td>77.0</td>\n      <td>30.0</td>\n      <td>80.0</td>\n      <td>91.0</td>\n    </tr>\n    <tr>\n      <th>15</th>\n      <td>NaN</td>\n      <td>NaN</td>\n      <td>NaN</td>\n      <td>NaN</td>\n      <td>NaN</td>\n      <td>NaN</td>\n      <td>NaN</td>\n      <td>NaN</td>\n      <td>NaN</td>\n      <td>NaN</td>\n      <td>NaN</td>\n      <td>NaN</td>\n    </tr>\n  </tbody>\n</table>\n</div>"
     },
     "metadata": {},
     "execution_count": 3
    }
   ],
   "source": [
    "df = pd.read_csv(\"E:\\\\ML\\\\ML\\\\Pandas\\\\food consumption.csv\")\n",
    "df"
   ]
  },
  {
   "cell_type": "code",
   "execution_count": 9,
   "metadata": {},
   "outputs": [
    {
     "output_type": "execute_result",
     "data": {
      "text/plain": [
       "        Country  Real coffee  Instant coffee  Sweetener  Biscuits  Tin soup  \\\n",
       "0       Germany         90.0            49.0       19.0      57.0      19.0   \n",
       "1         INDIA         82.0            10.0        2.0      55.0       3.0   \n",
       "2        France         88.0            42.0        4.0      76.0      11.0   \n",
       "3       Holland         96.0            62.0       32.0       NaN      43.0   \n",
       "4       Belgium         94.0            38.0       11.0       NaN      23.0   \n",
       "5    Luxembourg         97.0            61.0       28.0       NaN      12.0   \n",
       "6       England         27.0            86.0       22.0      91.0      76.0   \n",
       "7      Portugal         72.0            26.0        2.0      22.0       1.0   \n",
       "8       Austria         55.0            31.0        8.0      29.0      12.0   \n",
       "9   Switzerland         73.0            72.0       25.0      31.0      12.0   \n",
       "10       Sweden         97.0            13.0       31.0       9.0      43.0   \n",
       "11      Denmark         96.0            17.0       35.0      66.0      17.0   \n",
       "12       Norway         92.0            17.0       13.0      62.0       4.0   \n",
       "13      Finland         98.0            12.0       20.0      64.0      10.0   \n",
       "14        Spain         70.0            40.0        3.0      62.0       2.0   \n",
       "15          NaN          NaN             NaN        NaN       NaN       NaN   \n",
       "\n",
       "    Potatoes  Apples  Oranges  Tinned fruit  Garlic  Olive oil  \n",
       "0       21.0    81.0     75.0          44.0    22.0       74.0  \n",
       "1        2.0    67.0     71.0           9.0    80.0       94.0  \n",
       "2       23.0    87.0     84.0          40.0    88.0       36.0  \n",
       "3        7.0    83.0     89.0          61.0     NaN       13.0  \n",
       "4        9.0    76.0     76.0          42.0     NaN       83.0  \n",
       "5        7.0    85.0     94.0          83.0    91.0       84.0  \n",
       "6       17.0    76.0     68.0          89.0    11.0       57.0  \n",
       "7       17.0     NaN     51.0           8.0    54.0       57.0  \n",
       "8       17.0     NaN     42.0          14.0    51.0       57.0  \n",
       "9       11.0     NaN     70.0          46.0    64.0       57.0  \n",
       "10      11.0     NaN     78.0          53.0     9.0       48.0  \n",
       "11      11.0    81.0     72.0          50.0    11.0       30.0  \n",
       "12      17.0    61.0     72.0          34.0    11.0       28.0  \n",
       "13       8.0    50.0     57.0          22.0    15.0       17.0  \n",
       "14      14.0    59.0     77.0          30.0    80.0       91.0  \n",
       "15       NaN     NaN      NaN           NaN     NaN        NaN  "
      ],
      "text/html": "<div>\n<style scoped>\n    .dataframe tbody tr th:only-of-type {\n        vertical-align: middle;\n    }\n\n    .dataframe tbody tr th {\n        vertical-align: top;\n    }\n\n    .dataframe thead th {\n        text-align: right;\n    }\n</style>\n<table border=\"1\" class=\"dataframe\">\n  <thead>\n    <tr style=\"text-align: right;\">\n      <th></th>\n      <th>Country</th>\n      <th>Real coffee</th>\n      <th>Instant coffee</th>\n      <th>Sweetener</th>\n      <th>Biscuits</th>\n      <th>Tin soup</th>\n      <th>Potatoes</th>\n      <th>Apples</th>\n      <th>Oranges</th>\n      <th>Tinned fruit</th>\n      <th>Garlic</th>\n      <th>Olive oil</th>\n    </tr>\n  </thead>\n  <tbody>\n    <tr>\n      <th>0</th>\n      <td>Germany</td>\n      <td>90.0</td>\n      <td>49.0</td>\n      <td>19.0</td>\n      <td>57.0</td>\n      <td>19.0</td>\n      <td>21.0</td>\n      <td>81.0</td>\n      <td>75.0</td>\n      <td>44.0</td>\n      <td>22.0</td>\n      <td>74.0</td>\n    </tr>\n    <tr>\n      <th>1</th>\n      <td>INDIA</td>\n      <td>82.0</td>\n      <td>10.0</td>\n      <td>2.0</td>\n      <td>55.0</td>\n      <td>3.0</td>\n      <td>2.0</td>\n      <td>67.0</td>\n      <td>71.0</td>\n      <td>9.0</td>\n      <td>80.0</td>\n      <td>94.0</td>\n    </tr>\n    <tr>\n      <th>2</th>\n      <td>France</td>\n      <td>88.0</td>\n      <td>42.0</td>\n      <td>4.0</td>\n      <td>76.0</td>\n      <td>11.0</td>\n      <td>23.0</td>\n      <td>87.0</td>\n      <td>84.0</td>\n      <td>40.0</td>\n      <td>88.0</td>\n      <td>36.0</td>\n    </tr>\n    <tr>\n      <th>3</th>\n      <td>Holland</td>\n      <td>96.0</td>\n      <td>62.0</td>\n      <td>32.0</td>\n      <td>NaN</td>\n      <td>43.0</td>\n      <td>7.0</td>\n      <td>83.0</td>\n      <td>89.0</td>\n      <td>61.0</td>\n      <td>NaN</td>\n      <td>13.0</td>\n    </tr>\n    <tr>\n      <th>4</th>\n      <td>Belgium</td>\n      <td>94.0</td>\n      <td>38.0</td>\n      <td>11.0</td>\n      <td>NaN</td>\n      <td>23.0</td>\n      <td>9.0</td>\n      <td>76.0</td>\n      <td>76.0</td>\n      <td>42.0</td>\n      <td>NaN</td>\n      <td>83.0</td>\n    </tr>\n    <tr>\n      <th>5</th>\n      <td>Luxembourg</td>\n      <td>97.0</td>\n      <td>61.0</td>\n      <td>28.0</td>\n      <td>NaN</td>\n      <td>12.0</td>\n      <td>7.0</td>\n      <td>85.0</td>\n      <td>94.0</td>\n      <td>83.0</td>\n      <td>91.0</td>\n      <td>84.0</td>\n    </tr>\n    <tr>\n      <th>6</th>\n      <td>England</td>\n      <td>27.0</td>\n      <td>86.0</td>\n      <td>22.0</td>\n      <td>91.0</td>\n      <td>76.0</td>\n      <td>17.0</td>\n      <td>76.0</td>\n      <td>68.0</td>\n      <td>89.0</td>\n      <td>11.0</td>\n      <td>57.0</td>\n    </tr>\n    <tr>\n      <th>7</th>\n      <td>Portugal</td>\n      <td>72.0</td>\n      <td>26.0</td>\n      <td>2.0</td>\n      <td>22.0</td>\n      <td>1.0</td>\n      <td>17.0</td>\n      <td>NaN</td>\n      <td>51.0</td>\n      <td>8.0</td>\n      <td>54.0</td>\n      <td>57.0</td>\n    </tr>\n    <tr>\n      <th>8</th>\n      <td>Austria</td>\n      <td>55.0</td>\n      <td>31.0</td>\n      <td>8.0</td>\n      <td>29.0</td>\n      <td>12.0</td>\n      <td>17.0</td>\n      <td>NaN</td>\n      <td>42.0</td>\n      <td>14.0</td>\n      <td>51.0</td>\n      <td>57.0</td>\n    </tr>\n    <tr>\n      <th>9</th>\n      <td>Switzerland</td>\n      <td>73.0</td>\n      <td>72.0</td>\n      <td>25.0</td>\n      <td>31.0</td>\n      <td>12.0</td>\n      <td>11.0</td>\n      <td>NaN</td>\n      <td>70.0</td>\n      <td>46.0</td>\n      <td>64.0</td>\n      <td>57.0</td>\n    </tr>\n    <tr>\n      <th>10</th>\n      <td>Sweden</td>\n      <td>97.0</td>\n      <td>13.0</td>\n      <td>31.0</td>\n      <td>9.0</td>\n      <td>43.0</td>\n      <td>11.0</td>\n      <td>NaN</td>\n      <td>78.0</td>\n      <td>53.0</td>\n      <td>9.0</td>\n      <td>48.0</td>\n    </tr>\n    <tr>\n      <th>11</th>\n      <td>Denmark</td>\n      <td>96.0</td>\n      <td>17.0</td>\n      <td>35.0</td>\n      <td>66.0</td>\n      <td>17.0</td>\n      <td>11.0</td>\n      <td>81.0</td>\n      <td>72.0</td>\n      <td>50.0</td>\n      <td>11.0</td>\n      <td>30.0</td>\n    </tr>\n    <tr>\n      <th>12</th>\n      <td>Norway</td>\n      <td>92.0</td>\n      <td>17.0</td>\n      <td>13.0</td>\n      <td>62.0</td>\n      <td>4.0</td>\n      <td>17.0</td>\n      <td>61.0</td>\n      <td>72.0</td>\n      <td>34.0</td>\n      <td>11.0</td>\n      <td>28.0</td>\n    </tr>\n    <tr>\n      <th>13</th>\n      <td>Finland</td>\n      <td>98.0</td>\n      <td>12.0</td>\n      <td>20.0</td>\n      <td>64.0</td>\n      <td>10.0</td>\n      <td>8.0</td>\n      <td>50.0</td>\n      <td>57.0</td>\n      <td>22.0</td>\n      <td>15.0</td>\n      <td>17.0</td>\n    </tr>\n    <tr>\n      <th>14</th>\n      <td>Spain</td>\n      <td>70.0</td>\n      <td>40.0</td>\n      <td>3.0</td>\n      <td>62.0</td>\n      <td>2.0</td>\n      <td>14.0</td>\n      <td>59.0</td>\n      <td>77.0</td>\n      <td>30.0</td>\n      <td>80.0</td>\n      <td>91.0</td>\n    </tr>\n    <tr>\n      <th>15</th>\n      <td>NaN</td>\n      <td>NaN</td>\n      <td>NaN</td>\n      <td>NaN</td>\n      <td>NaN</td>\n      <td>NaN</td>\n      <td>NaN</td>\n      <td>NaN</td>\n      <td>NaN</td>\n      <td>NaN</td>\n      <td>NaN</td>\n      <td>NaN</td>\n    </tr>\n  </tbody>\n</table>\n</div>"
     },
     "metadata": {},
     "execution_count": 9
    }
   ],
   "source": [
    "df.replace(to_replace = \"Italy\", value=\"INDIA\") # It will replace the Italy value to india"
   ]
  },
  {
   "cell_type": "code",
   "execution_count": 11,
   "metadata": {},
   "outputs": [
    {
     "output_type": "execute_result",
     "data": {
      "text/plain": [
       "        Country  Real coffee  Instant coffee  Sweetener  Biscuits  Tin soup  \\\n",
       "0       Germany         90.0            49.0       19.0      57.0      19.0   \n",
       "1         Italy         82.0            10.0        2.0      55.0       3.0   \n",
       "2        France         88.0            42.0        4.0      76.0      11.0   \n",
       "3       Holland         96.0            62.0       32.0       NaN      43.0   \n",
       "4       Belgium         94.0            38.0       11.0       NaN      23.0   \n",
       "5    Luxembourg         97.0            61.0       28.0       NaN      12.0   \n",
       "6       England         27.0            86.0       22.0      91.0      76.0   \n",
       "7      Portugal         72.0            26.0        2.0      22.0       1.0   \n",
       "8       Austria         55.0            31.0        8.0      29.0      12.0   \n",
       "9   Switzerland         73.0            72.0       25.0      31.0      12.0   \n",
       "10        INDIA         97.0            13.0       31.0       9.0      43.0   \n",
       "11      Denmark         96.0            17.0       35.0      66.0      17.0   \n",
       "12       Norway         92.0            17.0       13.0      62.0       4.0   \n",
       "13      Finland         98.0            12.0       20.0      64.0      10.0   \n",
       "14        Spain         70.0            40.0        3.0      62.0       2.0   \n",
       "15          NaN          NaN             NaN        NaN       NaN       NaN   \n",
       "\n",
       "    Potatoes  Apples  Oranges  Tinned fruit  Garlic  Olive oil  \n",
       "0       21.0    81.0     75.0          44.0    22.0       74.0  \n",
       "1        2.0    67.0     71.0           9.0    80.0       94.0  \n",
       "2       23.0    87.0     84.0          40.0    88.0       36.0  \n",
       "3        7.0    83.0     89.0          61.0     NaN       13.0  \n",
       "4        9.0    76.0     76.0          42.0     NaN       83.0  \n",
       "5        7.0    85.0     94.0          83.0    91.0       84.0  \n",
       "6       17.0    76.0     68.0          89.0    11.0       57.0  \n",
       "7       17.0     NaN     51.0           8.0    54.0       57.0  \n",
       "8       17.0     NaN     42.0          14.0    51.0       57.0  \n",
       "9       11.0     NaN     70.0          46.0    64.0       57.0  \n",
       "10      11.0     NaN     78.0          53.0     9.0       48.0  \n",
       "11      11.0    81.0     72.0          50.0    11.0       30.0  \n",
       "12      17.0    61.0     72.0          34.0    11.0       28.0  \n",
       "13       8.0    50.0     57.0          22.0    15.0       17.0  \n",
       "14      14.0    59.0     77.0          30.0    80.0       91.0  \n",
       "15       NaN     NaN      NaN           NaN     NaN        NaN  "
      ],
      "text/html": "<div>\n<style scoped>\n    .dataframe tbody tr th:only-of-type {\n        vertical-align: middle;\n    }\n\n    .dataframe tbody tr th {\n        vertical-align: top;\n    }\n\n    .dataframe thead th {\n        text-align: right;\n    }\n</style>\n<table border=\"1\" class=\"dataframe\">\n  <thead>\n    <tr style=\"text-align: right;\">\n      <th></th>\n      <th>Country</th>\n      <th>Real coffee</th>\n      <th>Instant coffee</th>\n      <th>Sweetener</th>\n      <th>Biscuits</th>\n      <th>Tin soup</th>\n      <th>Potatoes</th>\n      <th>Apples</th>\n      <th>Oranges</th>\n      <th>Tinned fruit</th>\n      <th>Garlic</th>\n      <th>Olive oil</th>\n    </tr>\n  </thead>\n  <tbody>\n    <tr>\n      <th>0</th>\n      <td>Germany</td>\n      <td>90.0</td>\n      <td>49.0</td>\n      <td>19.0</td>\n      <td>57.0</td>\n      <td>19.0</td>\n      <td>21.0</td>\n      <td>81.0</td>\n      <td>75.0</td>\n      <td>44.0</td>\n      <td>22.0</td>\n      <td>74.0</td>\n    </tr>\n    <tr>\n      <th>1</th>\n      <td>Italy</td>\n      <td>82.0</td>\n      <td>10.0</td>\n      <td>2.0</td>\n      <td>55.0</td>\n      <td>3.0</td>\n      <td>2.0</td>\n      <td>67.0</td>\n      <td>71.0</td>\n      <td>9.0</td>\n      <td>80.0</td>\n      <td>94.0</td>\n    </tr>\n    <tr>\n      <th>2</th>\n      <td>France</td>\n      <td>88.0</td>\n      <td>42.0</td>\n      <td>4.0</td>\n      <td>76.0</td>\n      <td>11.0</td>\n      <td>23.0</td>\n      <td>87.0</td>\n      <td>84.0</td>\n      <td>40.0</td>\n      <td>88.0</td>\n      <td>36.0</td>\n    </tr>\n    <tr>\n      <th>3</th>\n      <td>Holland</td>\n      <td>96.0</td>\n      <td>62.0</td>\n      <td>32.0</td>\n      <td>NaN</td>\n      <td>43.0</td>\n      <td>7.0</td>\n      <td>83.0</td>\n      <td>89.0</td>\n      <td>61.0</td>\n      <td>NaN</td>\n      <td>13.0</td>\n    </tr>\n    <tr>\n      <th>4</th>\n      <td>Belgium</td>\n      <td>94.0</td>\n      <td>38.0</td>\n      <td>11.0</td>\n      <td>NaN</td>\n      <td>23.0</td>\n      <td>9.0</td>\n      <td>76.0</td>\n      <td>76.0</td>\n      <td>42.0</td>\n      <td>NaN</td>\n      <td>83.0</td>\n    </tr>\n    <tr>\n      <th>5</th>\n      <td>Luxembourg</td>\n      <td>97.0</td>\n      <td>61.0</td>\n      <td>28.0</td>\n      <td>NaN</td>\n      <td>12.0</td>\n      <td>7.0</td>\n      <td>85.0</td>\n      <td>94.0</td>\n      <td>83.0</td>\n      <td>91.0</td>\n      <td>84.0</td>\n    </tr>\n    <tr>\n      <th>6</th>\n      <td>England</td>\n      <td>27.0</td>\n      <td>86.0</td>\n      <td>22.0</td>\n      <td>91.0</td>\n      <td>76.0</td>\n      <td>17.0</td>\n      <td>76.0</td>\n      <td>68.0</td>\n      <td>89.0</td>\n      <td>11.0</td>\n      <td>57.0</td>\n    </tr>\n    <tr>\n      <th>7</th>\n      <td>Portugal</td>\n      <td>72.0</td>\n      <td>26.0</td>\n      <td>2.0</td>\n      <td>22.0</td>\n      <td>1.0</td>\n      <td>17.0</td>\n      <td>NaN</td>\n      <td>51.0</td>\n      <td>8.0</td>\n      <td>54.0</td>\n      <td>57.0</td>\n    </tr>\n    <tr>\n      <th>8</th>\n      <td>Austria</td>\n      <td>55.0</td>\n      <td>31.0</td>\n      <td>8.0</td>\n      <td>29.0</td>\n      <td>12.0</td>\n      <td>17.0</td>\n      <td>NaN</td>\n      <td>42.0</td>\n      <td>14.0</td>\n      <td>51.0</td>\n      <td>57.0</td>\n    </tr>\n    <tr>\n      <th>9</th>\n      <td>Switzerland</td>\n      <td>73.0</td>\n      <td>72.0</td>\n      <td>25.0</td>\n      <td>31.0</td>\n      <td>12.0</td>\n      <td>11.0</td>\n      <td>NaN</td>\n      <td>70.0</td>\n      <td>46.0</td>\n      <td>64.0</td>\n      <td>57.0</td>\n    </tr>\n    <tr>\n      <th>10</th>\n      <td>INDIA</td>\n      <td>97.0</td>\n      <td>13.0</td>\n      <td>31.0</td>\n      <td>9.0</td>\n      <td>43.0</td>\n      <td>11.0</td>\n      <td>NaN</td>\n      <td>78.0</td>\n      <td>53.0</td>\n      <td>9.0</td>\n      <td>48.0</td>\n    </tr>\n    <tr>\n      <th>11</th>\n      <td>Denmark</td>\n      <td>96.0</td>\n      <td>17.0</td>\n      <td>35.0</td>\n      <td>66.0</td>\n      <td>17.0</td>\n      <td>11.0</td>\n      <td>81.0</td>\n      <td>72.0</td>\n      <td>50.0</td>\n      <td>11.0</td>\n      <td>30.0</td>\n    </tr>\n    <tr>\n      <th>12</th>\n      <td>Norway</td>\n      <td>92.0</td>\n      <td>17.0</td>\n      <td>13.0</td>\n      <td>62.0</td>\n      <td>4.0</td>\n      <td>17.0</td>\n      <td>61.0</td>\n      <td>72.0</td>\n      <td>34.0</td>\n      <td>11.0</td>\n      <td>28.0</td>\n    </tr>\n    <tr>\n      <th>13</th>\n      <td>Finland</td>\n      <td>98.0</td>\n      <td>12.0</td>\n      <td>20.0</td>\n      <td>64.0</td>\n      <td>10.0</td>\n      <td>8.0</td>\n      <td>50.0</td>\n      <td>57.0</td>\n      <td>22.0</td>\n      <td>15.0</td>\n      <td>17.0</td>\n    </tr>\n    <tr>\n      <th>14</th>\n      <td>Spain</td>\n      <td>70.0</td>\n      <td>40.0</td>\n      <td>3.0</td>\n      <td>62.0</td>\n      <td>2.0</td>\n      <td>14.0</td>\n      <td>59.0</td>\n      <td>77.0</td>\n      <td>30.0</td>\n      <td>80.0</td>\n      <td>91.0</td>\n    </tr>\n    <tr>\n      <th>15</th>\n      <td>NaN</td>\n      <td>NaN</td>\n      <td>NaN</td>\n      <td>NaN</td>\n      <td>NaN</td>\n      <td>NaN</td>\n      <td>NaN</td>\n      <td>NaN</td>\n      <td>NaN</td>\n      <td>NaN</td>\n      <td>NaN</td>\n      <td>NaN</td>\n    </tr>\n  </tbody>\n</table>\n</div>"
     },
     "metadata": {},
     "execution_count": 11
    }
   ],
   "source": [
    "df.replace(\"Sweden\", \"INDIA\") #It will work same as previous syntax"
   ]
  },
  {
   "cell_type": "code",
   "execution_count": 12,
   "metadata": {},
   "outputs": [
    {
     "output_type": "execute_result",
     "data": {
      "text/plain": [
       "        Country  Real coffee  Instant coffee  Sweetener  Biscuits  Tin soup  \\\n",
       "0       Germany         90.0            49.0       19.0      57.0      19.0   \n",
       "1         Italy         82.0            15.0        2.0      55.0       3.0   \n",
       "2        France         88.0            42.0        4.0      76.0      11.0   \n",
       "3       Holland         96.0            62.0       32.0       NaN      43.0   \n",
       "4       Belgium         94.0            38.0       11.0       NaN      23.0   \n",
       "5    Luxembourg         97.0            61.0       28.0       NaN      12.0   \n",
       "6       England         27.0            86.0       22.0      91.0      76.0   \n",
       "7      Portugal         72.0            26.0        2.0      22.0       1.0   \n",
       "8       Austria         55.0            31.0        8.0      29.0      12.0   \n",
       "9   Switzerland         73.0            72.0       25.0      31.0      12.0   \n",
       "10       Sweden         97.0            13.0       31.0       9.0      43.0   \n",
       "11      Denmark         96.0            17.0       35.0      66.0      17.0   \n",
       "12       Norway         92.0            17.0       13.0      62.0       4.0   \n",
       "13      Finland         98.0            12.0       20.0      64.0      15.0   \n",
       "14        Spain         70.0            40.0        3.0      62.0       2.0   \n",
       "15          NaN          NaN             NaN        NaN       NaN       NaN   \n",
       "\n",
       "    Potatoes  Apples  Oranges  Tinned fruit  Garlic  Olive oil  \n",
       "0       21.0    81.0     75.0          44.0    22.0       74.0  \n",
       "1        2.0    67.0     71.0           9.0    80.0       94.0  \n",
       "2       23.0    87.0     84.0          40.0    88.0       36.0  \n",
       "3        7.0    83.0     89.0          61.0     NaN       13.0  \n",
       "4        9.0    76.0     76.0          42.0     NaN       83.0  \n",
       "5        7.0    85.0     94.0          83.0    91.0       84.0  \n",
       "6       17.0    76.0     68.0          89.0    11.0       57.0  \n",
       "7       17.0     NaN     51.0           8.0    54.0       57.0  \n",
       "8       17.0     NaN     42.0          14.0    51.0       57.0  \n",
       "9       11.0     NaN     70.0          46.0    64.0       57.0  \n",
       "10      11.0     NaN     78.0          53.0     9.0       48.0  \n",
       "11      11.0    81.0     72.0          50.0    11.0       30.0  \n",
       "12      17.0    61.0     72.0          34.0    11.0       28.0  \n",
       "13       8.0    50.0     57.0          22.0    15.0       17.0  \n",
       "14      14.0    59.0     77.0          30.0    80.0       91.0  \n",
       "15       NaN     NaN      NaN           NaN     NaN        NaN  "
      ],
      "text/html": "<div>\n<style scoped>\n    .dataframe tbody tr th:only-of-type {\n        vertical-align: middle;\n    }\n\n    .dataframe tbody tr th {\n        vertical-align: top;\n    }\n\n    .dataframe thead th {\n        text-align: right;\n    }\n</style>\n<table border=\"1\" class=\"dataframe\">\n  <thead>\n    <tr style=\"text-align: right;\">\n      <th></th>\n      <th>Country</th>\n      <th>Real coffee</th>\n      <th>Instant coffee</th>\n      <th>Sweetener</th>\n      <th>Biscuits</th>\n      <th>Tin soup</th>\n      <th>Potatoes</th>\n      <th>Apples</th>\n      <th>Oranges</th>\n      <th>Tinned fruit</th>\n      <th>Garlic</th>\n      <th>Olive oil</th>\n    </tr>\n  </thead>\n  <tbody>\n    <tr>\n      <th>0</th>\n      <td>Germany</td>\n      <td>90.0</td>\n      <td>49.0</td>\n      <td>19.0</td>\n      <td>57.0</td>\n      <td>19.0</td>\n      <td>21.0</td>\n      <td>81.0</td>\n      <td>75.0</td>\n      <td>44.0</td>\n      <td>22.0</td>\n      <td>74.0</td>\n    </tr>\n    <tr>\n      <th>1</th>\n      <td>Italy</td>\n      <td>82.0</td>\n      <td>15.0</td>\n      <td>2.0</td>\n      <td>55.0</td>\n      <td>3.0</td>\n      <td>2.0</td>\n      <td>67.0</td>\n      <td>71.0</td>\n      <td>9.0</td>\n      <td>80.0</td>\n      <td>94.0</td>\n    </tr>\n    <tr>\n      <th>2</th>\n      <td>France</td>\n      <td>88.0</td>\n      <td>42.0</td>\n      <td>4.0</td>\n      <td>76.0</td>\n      <td>11.0</td>\n      <td>23.0</td>\n      <td>87.0</td>\n      <td>84.0</td>\n      <td>40.0</td>\n      <td>88.0</td>\n      <td>36.0</td>\n    </tr>\n    <tr>\n      <th>3</th>\n      <td>Holland</td>\n      <td>96.0</td>\n      <td>62.0</td>\n      <td>32.0</td>\n      <td>NaN</td>\n      <td>43.0</td>\n      <td>7.0</td>\n      <td>83.0</td>\n      <td>89.0</td>\n      <td>61.0</td>\n      <td>NaN</td>\n      <td>13.0</td>\n    </tr>\n    <tr>\n      <th>4</th>\n      <td>Belgium</td>\n      <td>94.0</td>\n      <td>38.0</td>\n      <td>11.0</td>\n      <td>NaN</td>\n      <td>23.0</td>\n      <td>9.0</td>\n      <td>76.0</td>\n      <td>76.0</td>\n      <td>42.0</td>\n      <td>NaN</td>\n      <td>83.0</td>\n    </tr>\n    <tr>\n      <th>5</th>\n      <td>Luxembourg</td>\n      <td>97.0</td>\n      <td>61.0</td>\n      <td>28.0</td>\n      <td>NaN</td>\n      <td>12.0</td>\n      <td>7.0</td>\n      <td>85.0</td>\n      <td>94.0</td>\n      <td>83.0</td>\n      <td>91.0</td>\n      <td>84.0</td>\n    </tr>\n    <tr>\n      <th>6</th>\n      <td>England</td>\n      <td>27.0</td>\n      <td>86.0</td>\n      <td>22.0</td>\n      <td>91.0</td>\n      <td>76.0</td>\n      <td>17.0</td>\n      <td>76.0</td>\n      <td>68.0</td>\n      <td>89.0</td>\n      <td>11.0</td>\n      <td>57.0</td>\n    </tr>\n    <tr>\n      <th>7</th>\n      <td>Portugal</td>\n      <td>72.0</td>\n      <td>26.0</td>\n      <td>2.0</td>\n      <td>22.0</td>\n      <td>1.0</td>\n      <td>17.0</td>\n      <td>NaN</td>\n      <td>51.0</td>\n      <td>8.0</td>\n      <td>54.0</td>\n      <td>57.0</td>\n    </tr>\n    <tr>\n      <th>8</th>\n      <td>Austria</td>\n      <td>55.0</td>\n      <td>31.0</td>\n      <td>8.0</td>\n      <td>29.0</td>\n      <td>12.0</td>\n      <td>17.0</td>\n      <td>NaN</td>\n      <td>42.0</td>\n      <td>14.0</td>\n      <td>51.0</td>\n      <td>57.0</td>\n    </tr>\n    <tr>\n      <th>9</th>\n      <td>Switzerland</td>\n      <td>73.0</td>\n      <td>72.0</td>\n      <td>25.0</td>\n      <td>31.0</td>\n      <td>12.0</td>\n      <td>11.0</td>\n      <td>NaN</td>\n      <td>70.0</td>\n      <td>46.0</td>\n      <td>64.0</td>\n      <td>57.0</td>\n    </tr>\n    <tr>\n      <th>10</th>\n      <td>Sweden</td>\n      <td>97.0</td>\n      <td>13.0</td>\n      <td>31.0</td>\n      <td>9.0</td>\n      <td>43.0</td>\n      <td>11.0</td>\n      <td>NaN</td>\n      <td>78.0</td>\n      <td>53.0</td>\n      <td>9.0</td>\n      <td>48.0</td>\n    </tr>\n    <tr>\n      <th>11</th>\n      <td>Denmark</td>\n      <td>96.0</td>\n      <td>17.0</td>\n      <td>35.0</td>\n      <td>66.0</td>\n      <td>17.0</td>\n      <td>11.0</td>\n      <td>81.0</td>\n      <td>72.0</td>\n      <td>50.0</td>\n      <td>11.0</td>\n      <td>30.0</td>\n    </tr>\n    <tr>\n      <th>12</th>\n      <td>Norway</td>\n      <td>92.0</td>\n      <td>17.0</td>\n      <td>13.0</td>\n      <td>62.0</td>\n      <td>4.0</td>\n      <td>17.0</td>\n      <td>61.0</td>\n      <td>72.0</td>\n      <td>34.0</td>\n      <td>11.0</td>\n      <td>28.0</td>\n    </tr>\n    <tr>\n      <th>13</th>\n      <td>Finland</td>\n      <td>98.0</td>\n      <td>12.0</td>\n      <td>20.0</td>\n      <td>64.0</td>\n      <td>15.0</td>\n      <td>8.0</td>\n      <td>50.0</td>\n      <td>57.0</td>\n      <td>22.0</td>\n      <td>15.0</td>\n      <td>17.0</td>\n    </tr>\n    <tr>\n      <th>14</th>\n      <td>Spain</td>\n      <td>70.0</td>\n      <td>40.0</td>\n      <td>3.0</td>\n      <td>62.0</td>\n      <td>2.0</td>\n      <td>14.0</td>\n      <td>59.0</td>\n      <td>77.0</td>\n      <td>30.0</td>\n      <td>80.0</td>\n      <td>91.0</td>\n    </tr>\n    <tr>\n      <th>15</th>\n      <td>NaN</td>\n      <td>NaN</td>\n      <td>NaN</td>\n      <td>NaN</td>\n      <td>NaN</td>\n      <td>NaN</td>\n      <td>NaN</td>\n      <td>NaN</td>\n      <td>NaN</td>\n      <td>NaN</td>\n      <td>NaN</td>\n      <td>NaN</td>\n    </tr>\n  </tbody>\n</table>\n</div>"
     },
     "metadata": {},
     "execution_count": 12
    }
   ],
   "source": [
    "df.replace(10 , 15)"
   ]
  },
  {
   "cell_type": "code",
   "execution_count": 14,
   "metadata": {},
   "outputs": [
    {
     "output_type": "execute_result",
     "data": {
      "text/plain": [
       "        Country  Real coffee  Instant coffee  Sweetener  Biscuits  Tin soup  \\\n",
       "0       Germany         90.0            49.0       19.0      57.0      19.0   \n",
       "1         Italy         82.0             0.0        0.0      55.0       0.0   \n",
       "2        France         88.0            42.0        0.0      76.0      11.0   \n",
       "3       Holland         96.0            62.0       32.0       NaN      43.0   \n",
       "4       Belgium         94.0            38.0       11.0       NaN      23.0   \n",
       "5    Luxembourg         97.0            61.0       28.0       NaN      12.0   \n",
       "6       England         27.0            86.0       22.0      91.0      76.0   \n",
       "7      Portugal         72.0            26.0        0.0      22.0       0.0   \n",
       "8       Austria         55.0            31.0        0.0      29.0      12.0   \n",
       "9   Switzerland         73.0            72.0       25.0      31.0      12.0   \n",
       "10       Sweden         97.0            13.0       31.0       0.0      43.0   \n",
       "11      Denmark         96.0            17.0       35.0      66.0      17.0   \n",
       "12       Norway         92.0            17.0       13.0      62.0       0.0   \n",
       "13      Finland         98.0            12.0       20.0      64.0       0.0   \n",
       "14        Spain         70.0            40.0        0.0      62.0       0.0   \n",
       "15          NaN          NaN             NaN        NaN       NaN       NaN   \n",
       "\n",
       "    Potatoes  Apples  Oranges  Tinned fruit  Garlic  Olive oil  \n",
       "0       21.0    81.0     75.0          44.0    22.0       74.0  \n",
       "1        0.0    67.0     71.0           0.0    80.0       94.0  \n",
       "2       23.0    87.0     84.0          40.0    88.0       36.0  \n",
       "3        0.0    83.0     89.0          61.0     NaN       13.0  \n",
       "4        0.0    76.0     76.0          42.0     NaN       83.0  \n",
       "5        0.0    85.0     94.0          83.0    91.0       84.0  \n",
       "6       17.0    76.0     68.0          89.0    11.0       57.0  \n",
       "7       17.0     NaN     51.0           0.0    54.0       57.0  \n",
       "8       17.0     NaN     42.0          14.0    51.0       57.0  \n",
       "9       11.0     NaN     70.0          46.0    64.0       57.0  \n",
       "10      11.0     NaN     78.0          53.0     0.0       48.0  \n",
       "11      11.0    81.0     72.0          50.0    11.0       30.0  \n",
       "12      17.0    61.0     72.0          34.0    11.0       28.0  \n",
       "13       0.0    50.0     57.0          22.0    15.0       17.0  \n",
       "14      14.0    59.0     77.0          30.0    80.0       91.0  \n",
       "15       NaN     NaN      NaN           NaN     NaN        NaN  "
      ],
      "text/html": "<div>\n<style scoped>\n    .dataframe tbody tr th:only-of-type {\n        vertical-align: middle;\n    }\n\n    .dataframe tbody tr th {\n        vertical-align: top;\n    }\n\n    .dataframe thead th {\n        text-align: right;\n    }\n</style>\n<table border=\"1\" class=\"dataframe\">\n  <thead>\n    <tr style=\"text-align: right;\">\n      <th></th>\n      <th>Country</th>\n      <th>Real coffee</th>\n      <th>Instant coffee</th>\n      <th>Sweetener</th>\n      <th>Biscuits</th>\n      <th>Tin soup</th>\n      <th>Potatoes</th>\n      <th>Apples</th>\n      <th>Oranges</th>\n      <th>Tinned fruit</th>\n      <th>Garlic</th>\n      <th>Olive oil</th>\n    </tr>\n  </thead>\n  <tbody>\n    <tr>\n      <th>0</th>\n      <td>Germany</td>\n      <td>90.0</td>\n      <td>49.0</td>\n      <td>19.0</td>\n      <td>57.0</td>\n      <td>19.0</td>\n      <td>21.0</td>\n      <td>81.0</td>\n      <td>75.0</td>\n      <td>44.0</td>\n      <td>22.0</td>\n      <td>74.0</td>\n    </tr>\n    <tr>\n      <th>1</th>\n      <td>Italy</td>\n      <td>82.0</td>\n      <td>0.0</td>\n      <td>0.0</td>\n      <td>55.0</td>\n      <td>0.0</td>\n      <td>0.0</td>\n      <td>67.0</td>\n      <td>71.0</td>\n      <td>0.0</td>\n      <td>80.0</td>\n      <td>94.0</td>\n    </tr>\n    <tr>\n      <th>2</th>\n      <td>France</td>\n      <td>88.0</td>\n      <td>42.0</td>\n      <td>0.0</td>\n      <td>76.0</td>\n      <td>11.0</td>\n      <td>23.0</td>\n      <td>87.0</td>\n      <td>84.0</td>\n      <td>40.0</td>\n      <td>88.0</td>\n      <td>36.0</td>\n    </tr>\n    <tr>\n      <th>3</th>\n      <td>Holland</td>\n      <td>96.0</td>\n      <td>62.0</td>\n      <td>32.0</td>\n      <td>NaN</td>\n      <td>43.0</td>\n      <td>0.0</td>\n      <td>83.0</td>\n      <td>89.0</td>\n      <td>61.0</td>\n      <td>NaN</td>\n      <td>13.0</td>\n    </tr>\n    <tr>\n      <th>4</th>\n      <td>Belgium</td>\n      <td>94.0</td>\n      <td>38.0</td>\n      <td>11.0</td>\n      <td>NaN</td>\n      <td>23.0</td>\n      <td>0.0</td>\n      <td>76.0</td>\n      <td>76.0</td>\n      <td>42.0</td>\n      <td>NaN</td>\n      <td>83.0</td>\n    </tr>\n    <tr>\n      <th>5</th>\n      <td>Luxembourg</td>\n      <td>97.0</td>\n      <td>61.0</td>\n      <td>28.0</td>\n      <td>NaN</td>\n      <td>12.0</td>\n      <td>0.0</td>\n      <td>85.0</td>\n      <td>94.0</td>\n      <td>83.0</td>\n      <td>91.0</td>\n      <td>84.0</td>\n    </tr>\n    <tr>\n      <th>6</th>\n      <td>England</td>\n      <td>27.0</td>\n      <td>86.0</td>\n      <td>22.0</td>\n      <td>91.0</td>\n      <td>76.0</td>\n      <td>17.0</td>\n      <td>76.0</td>\n      <td>68.0</td>\n      <td>89.0</td>\n      <td>11.0</td>\n      <td>57.0</td>\n    </tr>\n    <tr>\n      <th>7</th>\n      <td>Portugal</td>\n      <td>72.0</td>\n      <td>26.0</td>\n      <td>0.0</td>\n      <td>22.0</td>\n      <td>0.0</td>\n      <td>17.0</td>\n      <td>NaN</td>\n      <td>51.0</td>\n      <td>0.0</td>\n      <td>54.0</td>\n      <td>57.0</td>\n    </tr>\n    <tr>\n      <th>8</th>\n      <td>Austria</td>\n      <td>55.0</td>\n      <td>31.0</td>\n      <td>0.0</td>\n      <td>29.0</td>\n      <td>12.0</td>\n      <td>17.0</td>\n      <td>NaN</td>\n      <td>42.0</td>\n      <td>14.0</td>\n      <td>51.0</td>\n      <td>57.0</td>\n    </tr>\n    <tr>\n      <th>9</th>\n      <td>Switzerland</td>\n      <td>73.0</td>\n      <td>72.0</td>\n      <td>25.0</td>\n      <td>31.0</td>\n      <td>12.0</td>\n      <td>11.0</td>\n      <td>NaN</td>\n      <td>70.0</td>\n      <td>46.0</td>\n      <td>64.0</td>\n      <td>57.0</td>\n    </tr>\n    <tr>\n      <th>10</th>\n      <td>Sweden</td>\n      <td>97.0</td>\n      <td>13.0</td>\n      <td>31.0</td>\n      <td>0.0</td>\n      <td>43.0</td>\n      <td>11.0</td>\n      <td>NaN</td>\n      <td>78.0</td>\n      <td>53.0</td>\n      <td>0.0</td>\n      <td>48.0</td>\n    </tr>\n    <tr>\n      <th>11</th>\n      <td>Denmark</td>\n      <td>96.0</td>\n      <td>17.0</td>\n      <td>35.0</td>\n      <td>66.0</td>\n      <td>17.0</td>\n      <td>11.0</td>\n      <td>81.0</td>\n      <td>72.0</td>\n      <td>50.0</td>\n      <td>11.0</td>\n      <td>30.0</td>\n    </tr>\n    <tr>\n      <th>12</th>\n      <td>Norway</td>\n      <td>92.0</td>\n      <td>17.0</td>\n      <td>13.0</td>\n      <td>62.0</td>\n      <td>0.0</td>\n      <td>17.0</td>\n      <td>61.0</td>\n      <td>72.0</td>\n      <td>34.0</td>\n      <td>11.0</td>\n      <td>28.0</td>\n    </tr>\n    <tr>\n      <th>13</th>\n      <td>Finland</td>\n      <td>98.0</td>\n      <td>12.0</td>\n      <td>20.0</td>\n      <td>64.0</td>\n      <td>0.0</td>\n      <td>0.0</td>\n      <td>50.0</td>\n      <td>57.0</td>\n      <td>22.0</td>\n      <td>15.0</td>\n      <td>17.0</td>\n    </tr>\n    <tr>\n      <th>14</th>\n      <td>Spain</td>\n      <td>70.0</td>\n      <td>40.0</td>\n      <td>0.0</td>\n      <td>62.0</td>\n      <td>0.0</td>\n      <td>14.0</td>\n      <td>59.0</td>\n      <td>77.0</td>\n      <td>30.0</td>\n      <td>80.0</td>\n      <td>91.0</td>\n    </tr>\n    <tr>\n      <th>15</th>\n      <td>NaN</td>\n      <td>NaN</td>\n      <td>NaN</td>\n      <td>NaN</td>\n      <td>NaN</td>\n      <td>NaN</td>\n      <td>NaN</td>\n      <td>NaN</td>\n      <td>NaN</td>\n      <td>NaN</td>\n      <td>NaN</td>\n      <td>NaN</td>\n    </tr>\n  </tbody>\n</table>\n</div>"
     },
     "metadata": {},
     "execution_count": 14
    }
   ],
   "source": [
    "df.replace([1,2,3,4,5,6,7,8,9,10], 0)# To change more than 1 value with 1 value "
   ]
  },
  {
   "cell_type": "code",
   "execution_count": 18,
   "metadata": {},
   "outputs": [
    {
     "output_type": "execute_result",
     "data": {
      "text/plain": [
       "        Country  Real coffee  Instant coffee  Sweetener  Biscuits  Tin soup  \\\n",
       "0       Germany         90.0            49.0       19.0      57.0      19.0   \n",
       "1         Italy         82.0            20.0       12.0      55.0      13.0   \n",
       "2        France         88.0            42.0       14.0      76.0      11.0   \n",
       "3       Holland         96.0            62.0       32.0       NaN      43.0   \n",
       "4       Belgium         94.0            38.0       11.0       NaN      23.0   \n",
       "5    Luxembourg         97.0            61.0       28.0       NaN      12.0   \n",
       "6       England         27.0            86.0       22.0      91.0      76.0   \n",
       "7      Portugal         72.0            26.0       12.0      22.0      11.0   \n",
       "8       Austria         55.0            31.0       18.0      29.0      12.0   \n",
       "9   Switzerland         73.0            72.0       25.0      31.0      12.0   \n",
       "10       Sweden         97.0            13.0       31.0      19.0      43.0   \n",
       "11      Denmark         96.0            17.0       35.0      66.0      17.0   \n",
       "12       Norway         92.0            17.0       13.0      62.0      14.0   \n",
       "13      Finland         98.0            12.0       20.0      64.0      20.0   \n",
       "14        Spain         70.0            40.0       13.0      62.0      12.0   \n",
       "15          NaN          NaN             NaN        NaN       NaN       NaN   \n",
       "\n",
       "    Potatoes  Apples  Oranges  Tinned fruit  Garlic  Olive oil  \n",
       "0       21.0    81.0     75.0          44.0    22.0       74.0  \n",
       "1       12.0    67.0     71.0          19.0    80.0       94.0  \n",
       "2       23.0    87.0     84.0          40.0    88.0       36.0  \n",
       "3       17.0    83.0     89.0          61.0     NaN       13.0  \n",
       "4       19.0    76.0     76.0          42.0     NaN       83.0  \n",
       "5       17.0    85.0     94.0          83.0    91.0       84.0  \n",
       "6       17.0    76.0     68.0          89.0    11.0       57.0  \n",
       "7       17.0     NaN     51.0          18.0    54.0       57.0  \n",
       "8       17.0     NaN     42.0          14.0    51.0       57.0  \n",
       "9       11.0     NaN     70.0          46.0    64.0       57.0  \n",
       "10      11.0     NaN     78.0          53.0    19.0       48.0  \n",
       "11      11.0    81.0     72.0          50.0    11.0       30.0  \n",
       "12      17.0    61.0     72.0          34.0    11.0       28.0  \n",
       "13      18.0    50.0     57.0          22.0    15.0       17.0  \n",
       "14      14.0    59.0     77.0          30.0    80.0       91.0  \n",
       "15       NaN     NaN      NaN           NaN     NaN        NaN  "
      ],
      "text/html": "<div>\n<style scoped>\n    .dataframe tbody tr th:only-of-type {\n        vertical-align: middle;\n    }\n\n    .dataframe tbody tr th {\n        vertical-align: top;\n    }\n\n    .dataframe thead th {\n        text-align: right;\n    }\n</style>\n<table border=\"1\" class=\"dataframe\">\n  <thead>\n    <tr style=\"text-align: right;\">\n      <th></th>\n      <th>Country</th>\n      <th>Real coffee</th>\n      <th>Instant coffee</th>\n      <th>Sweetener</th>\n      <th>Biscuits</th>\n      <th>Tin soup</th>\n      <th>Potatoes</th>\n      <th>Apples</th>\n      <th>Oranges</th>\n      <th>Tinned fruit</th>\n      <th>Garlic</th>\n      <th>Olive oil</th>\n    </tr>\n  </thead>\n  <tbody>\n    <tr>\n      <th>0</th>\n      <td>Germany</td>\n      <td>90.0</td>\n      <td>49.0</td>\n      <td>19.0</td>\n      <td>57.0</td>\n      <td>19.0</td>\n      <td>21.0</td>\n      <td>81.0</td>\n      <td>75.0</td>\n      <td>44.0</td>\n      <td>22.0</td>\n      <td>74.0</td>\n    </tr>\n    <tr>\n      <th>1</th>\n      <td>Italy</td>\n      <td>82.0</td>\n      <td>20.0</td>\n      <td>12.0</td>\n      <td>55.0</td>\n      <td>13.0</td>\n      <td>12.0</td>\n      <td>67.0</td>\n      <td>71.0</td>\n      <td>19.0</td>\n      <td>80.0</td>\n      <td>94.0</td>\n    </tr>\n    <tr>\n      <th>2</th>\n      <td>France</td>\n      <td>88.0</td>\n      <td>42.0</td>\n      <td>14.0</td>\n      <td>76.0</td>\n      <td>11.0</td>\n      <td>23.0</td>\n      <td>87.0</td>\n      <td>84.0</td>\n      <td>40.0</td>\n      <td>88.0</td>\n      <td>36.0</td>\n    </tr>\n    <tr>\n      <th>3</th>\n      <td>Holland</td>\n      <td>96.0</td>\n      <td>62.0</td>\n      <td>32.0</td>\n      <td>NaN</td>\n      <td>43.0</td>\n      <td>17.0</td>\n      <td>83.0</td>\n      <td>89.0</td>\n      <td>61.0</td>\n      <td>NaN</td>\n      <td>13.0</td>\n    </tr>\n    <tr>\n      <th>4</th>\n      <td>Belgium</td>\n      <td>94.0</td>\n      <td>38.0</td>\n      <td>11.0</td>\n      <td>NaN</td>\n      <td>23.0</td>\n      <td>19.0</td>\n      <td>76.0</td>\n      <td>76.0</td>\n      <td>42.0</td>\n      <td>NaN</td>\n      <td>83.0</td>\n    </tr>\n    <tr>\n      <th>5</th>\n      <td>Luxembourg</td>\n      <td>97.0</td>\n      <td>61.0</td>\n      <td>28.0</td>\n      <td>NaN</td>\n      <td>12.0</td>\n      <td>17.0</td>\n      <td>85.0</td>\n      <td>94.0</td>\n      <td>83.0</td>\n      <td>91.0</td>\n      <td>84.0</td>\n    </tr>\n    <tr>\n      <th>6</th>\n      <td>England</td>\n      <td>27.0</td>\n      <td>86.0</td>\n      <td>22.0</td>\n      <td>91.0</td>\n      <td>76.0</td>\n      <td>17.0</td>\n      <td>76.0</td>\n      <td>68.0</td>\n      <td>89.0</td>\n      <td>11.0</td>\n      <td>57.0</td>\n    </tr>\n    <tr>\n      <th>7</th>\n      <td>Portugal</td>\n      <td>72.0</td>\n      <td>26.0</td>\n      <td>12.0</td>\n      <td>22.0</td>\n      <td>11.0</td>\n      <td>17.0</td>\n      <td>NaN</td>\n      <td>51.0</td>\n      <td>18.0</td>\n      <td>54.0</td>\n      <td>57.0</td>\n    </tr>\n    <tr>\n      <th>8</th>\n      <td>Austria</td>\n      <td>55.0</td>\n      <td>31.0</td>\n      <td>18.0</td>\n      <td>29.0</td>\n      <td>12.0</td>\n      <td>17.0</td>\n      <td>NaN</td>\n      <td>42.0</td>\n      <td>14.0</td>\n      <td>51.0</td>\n      <td>57.0</td>\n    </tr>\n    <tr>\n      <th>9</th>\n      <td>Switzerland</td>\n      <td>73.0</td>\n      <td>72.0</td>\n      <td>25.0</td>\n      <td>31.0</td>\n      <td>12.0</td>\n      <td>11.0</td>\n      <td>NaN</td>\n      <td>70.0</td>\n      <td>46.0</td>\n      <td>64.0</td>\n      <td>57.0</td>\n    </tr>\n    <tr>\n      <th>10</th>\n      <td>Sweden</td>\n      <td>97.0</td>\n      <td>13.0</td>\n      <td>31.0</td>\n      <td>19.0</td>\n      <td>43.0</td>\n      <td>11.0</td>\n      <td>NaN</td>\n      <td>78.0</td>\n      <td>53.0</td>\n      <td>19.0</td>\n      <td>48.0</td>\n    </tr>\n    <tr>\n      <th>11</th>\n      <td>Denmark</td>\n      <td>96.0</td>\n      <td>17.0</td>\n      <td>35.0</td>\n      <td>66.0</td>\n      <td>17.0</td>\n      <td>11.0</td>\n      <td>81.0</td>\n      <td>72.0</td>\n      <td>50.0</td>\n      <td>11.0</td>\n      <td>30.0</td>\n    </tr>\n    <tr>\n      <th>12</th>\n      <td>Norway</td>\n      <td>92.0</td>\n      <td>17.0</td>\n      <td>13.0</td>\n      <td>62.0</td>\n      <td>14.0</td>\n      <td>17.0</td>\n      <td>61.0</td>\n      <td>72.0</td>\n      <td>34.0</td>\n      <td>11.0</td>\n      <td>28.0</td>\n    </tr>\n    <tr>\n      <th>13</th>\n      <td>Finland</td>\n      <td>98.0</td>\n      <td>12.0</td>\n      <td>20.0</td>\n      <td>64.0</td>\n      <td>20.0</td>\n      <td>18.0</td>\n      <td>50.0</td>\n      <td>57.0</td>\n      <td>22.0</td>\n      <td>15.0</td>\n      <td>17.0</td>\n    </tr>\n    <tr>\n      <th>14</th>\n      <td>Spain</td>\n      <td>70.0</td>\n      <td>40.0</td>\n      <td>13.0</td>\n      <td>62.0</td>\n      <td>12.0</td>\n      <td>14.0</td>\n      <td>59.0</td>\n      <td>77.0</td>\n      <td>30.0</td>\n      <td>80.0</td>\n      <td>91.0</td>\n    </tr>\n    <tr>\n      <th>15</th>\n      <td>NaN</td>\n      <td>NaN</td>\n      <td>NaN</td>\n      <td>NaN</td>\n      <td>NaN</td>\n      <td>NaN</td>\n      <td>NaN</td>\n      <td>NaN</td>\n      <td>NaN</td>\n      <td>NaN</td>\n      <td>NaN</td>\n      <td>NaN</td>\n    </tr>\n  </tbody>\n</table>\n</div>"
     },
     "metadata": {},
     "execution_count": 18
    }
   ],
   "source": [
    "df.replace([1,2,3,4,5,6,7,8,9,10], [11,12,13,14,15,16,17,18,19,20])# To change more than 1 value with more value"
   ]
  },
  {
   "cell_type": "code",
   "execution_count": 20,
   "metadata": {},
   "outputs": [
    {
     "output_type": "execute_result",
     "data": {
      "text/plain": [
       "        Country  Real coffee Instant coffee  Sweetener  Biscuits  Tin soup  \\\n",
       "0       Germany         90.0           49.0       19.0      57.0      19.0   \n",
       "1         Italy         82.0           10.0        2.0      55.0       3.0   \n",
       "2        France         88.0           42.0        4.0      76.0      11.0   \n",
       "3       Holland         96.0           62.0       32.0       NaN      43.0   \n",
       "4       Belgium         94.0           38.0       11.0       NaN      23.0   \n",
       "5    Luxembourg         97.0           61.0       28.0       NaN      12.0   \n",
       "6       England         27.0           86.0       22.0      91.0      76.0   \n",
       "7      Portugal         72.0           26.0        2.0      22.0       1.0   \n",
       "8       Austria         55.0           31.0        8.0      29.0      12.0   \n",
       "9   Switzerland         73.0           72.0       25.0      31.0      12.0   \n",
       "10       Sweden         97.0           13.0       31.0       9.0      43.0   \n",
       "11      Denmark         96.0           none       35.0      66.0      17.0   \n",
       "12       Norway         92.0           none       13.0      62.0       4.0   \n",
       "13      Finland         98.0           12.0       20.0      64.0      10.0   \n",
       "14        Spain         70.0           40.0        3.0      62.0       2.0   \n",
       "15          NaN          NaN            NaN        NaN       NaN       NaN   \n",
       "\n",
       "    Potatoes  Apples  Oranges  Tinned fruit  Garlic  Olive oil  \n",
       "0       21.0    81.0     75.0          44.0    22.0       74.0  \n",
       "1        2.0    67.0     71.0           9.0    80.0       94.0  \n",
       "2       23.0    87.0     84.0          40.0    88.0       36.0  \n",
       "3        7.0    83.0     89.0          61.0     NaN       13.0  \n",
       "4        9.0    76.0     76.0          42.0     NaN       83.0  \n",
       "5        7.0    85.0     94.0          83.0    91.0       84.0  \n",
       "6       17.0    76.0     68.0          89.0    11.0       57.0  \n",
       "7       17.0     NaN     51.0           8.0    54.0       57.0  \n",
       "8       17.0     NaN     42.0          14.0    51.0       57.0  \n",
       "9       11.0     NaN     70.0          46.0    64.0       57.0  \n",
       "10      11.0     NaN     78.0          53.0     9.0       48.0  \n",
       "11      11.0    81.0     72.0          50.0    11.0       30.0  \n",
       "12      17.0    61.0     72.0          34.0    11.0       28.0  \n",
       "13       8.0    50.0     57.0          22.0    15.0       17.0  \n",
       "14      14.0    59.0     77.0          30.0    80.0       91.0  \n",
       "15       NaN     NaN      NaN           NaN     NaN        NaN  "
      ],
      "text/html": "<div>\n<style scoped>\n    .dataframe tbody tr th:only-of-type {\n        vertical-align: middle;\n    }\n\n    .dataframe tbody tr th {\n        vertical-align: top;\n    }\n\n    .dataframe thead th {\n        text-align: right;\n    }\n</style>\n<table border=\"1\" class=\"dataframe\">\n  <thead>\n    <tr style=\"text-align: right;\">\n      <th></th>\n      <th>Country</th>\n      <th>Real coffee</th>\n      <th>Instant coffee</th>\n      <th>Sweetener</th>\n      <th>Biscuits</th>\n      <th>Tin soup</th>\n      <th>Potatoes</th>\n      <th>Apples</th>\n      <th>Oranges</th>\n      <th>Tinned fruit</th>\n      <th>Garlic</th>\n      <th>Olive oil</th>\n    </tr>\n  </thead>\n  <tbody>\n    <tr>\n      <th>0</th>\n      <td>Germany</td>\n      <td>90.0</td>\n      <td>49.0</td>\n      <td>19.0</td>\n      <td>57.0</td>\n      <td>19.0</td>\n      <td>21.0</td>\n      <td>81.0</td>\n      <td>75.0</td>\n      <td>44.0</td>\n      <td>22.0</td>\n      <td>74.0</td>\n    </tr>\n    <tr>\n      <th>1</th>\n      <td>Italy</td>\n      <td>82.0</td>\n      <td>10.0</td>\n      <td>2.0</td>\n      <td>55.0</td>\n      <td>3.0</td>\n      <td>2.0</td>\n      <td>67.0</td>\n      <td>71.0</td>\n      <td>9.0</td>\n      <td>80.0</td>\n      <td>94.0</td>\n    </tr>\n    <tr>\n      <th>2</th>\n      <td>France</td>\n      <td>88.0</td>\n      <td>42.0</td>\n      <td>4.0</td>\n      <td>76.0</td>\n      <td>11.0</td>\n      <td>23.0</td>\n      <td>87.0</td>\n      <td>84.0</td>\n      <td>40.0</td>\n      <td>88.0</td>\n      <td>36.0</td>\n    </tr>\n    <tr>\n      <th>3</th>\n      <td>Holland</td>\n      <td>96.0</td>\n      <td>62.0</td>\n      <td>32.0</td>\n      <td>NaN</td>\n      <td>43.0</td>\n      <td>7.0</td>\n      <td>83.0</td>\n      <td>89.0</td>\n      <td>61.0</td>\n      <td>NaN</td>\n      <td>13.0</td>\n    </tr>\n    <tr>\n      <th>4</th>\n      <td>Belgium</td>\n      <td>94.0</td>\n      <td>38.0</td>\n      <td>11.0</td>\n      <td>NaN</td>\n      <td>23.0</td>\n      <td>9.0</td>\n      <td>76.0</td>\n      <td>76.0</td>\n      <td>42.0</td>\n      <td>NaN</td>\n      <td>83.0</td>\n    </tr>\n    <tr>\n      <th>5</th>\n      <td>Luxembourg</td>\n      <td>97.0</td>\n      <td>61.0</td>\n      <td>28.0</td>\n      <td>NaN</td>\n      <td>12.0</td>\n      <td>7.0</td>\n      <td>85.0</td>\n      <td>94.0</td>\n      <td>83.0</td>\n      <td>91.0</td>\n      <td>84.0</td>\n    </tr>\n    <tr>\n      <th>6</th>\n      <td>England</td>\n      <td>27.0</td>\n      <td>86.0</td>\n      <td>22.0</td>\n      <td>91.0</td>\n      <td>76.0</td>\n      <td>17.0</td>\n      <td>76.0</td>\n      <td>68.0</td>\n      <td>89.0</td>\n      <td>11.0</td>\n      <td>57.0</td>\n    </tr>\n    <tr>\n      <th>7</th>\n      <td>Portugal</td>\n      <td>72.0</td>\n      <td>26.0</td>\n      <td>2.0</td>\n      <td>22.0</td>\n      <td>1.0</td>\n      <td>17.0</td>\n      <td>NaN</td>\n      <td>51.0</td>\n      <td>8.0</td>\n      <td>54.0</td>\n      <td>57.0</td>\n    </tr>\n    <tr>\n      <th>8</th>\n      <td>Austria</td>\n      <td>55.0</td>\n      <td>31.0</td>\n      <td>8.0</td>\n      <td>29.0</td>\n      <td>12.0</td>\n      <td>17.0</td>\n      <td>NaN</td>\n      <td>42.0</td>\n      <td>14.0</td>\n      <td>51.0</td>\n      <td>57.0</td>\n    </tr>\n    <tr>\n      <th>9</th>\n      <td>Switzerland</td>\n      <td>73.0</td>\n      <td>72.0</td>\n      <td>25.0</td>\n      <td>31.0</td>\n      <td>12.0</td>\n      <td>11.0</td>\n      <td>NaN</td>\n      <td>70.0</td>\n      <td>46.0</td>\n      <td>64.0</td>\n      <td>57.0</td>\n    </tr>\n    <tr>\n      <th>10</th>\n      <td>Sweden</td>\n      <td>97.0</td>\n      <td>13.0</td>\n      <td>31.0</td>\n      <td>9.0</td>\n      <td>43.0</td>\n      <td>11.0</td>\n      <td>NaN</td>\n      <td>78.0</td>\n      <td>53.0</td>\n      <td>9.0</td>\n      <td>48.0</td>\n    </tr>\n    <tr>\n      <th>11</th>\n      <td>Denmark</td>\n      <td>96.0</td>\n      <td>none</td>\n      <td>35.0</td>\n      <td>66.0</td>\n      <td>17.0</td>\n      <td>11.0</td>\n      <td>81.0</td>\n      <td>72.0</td>\n      <td>50.0</td>\n      <td>11.0</td>\n      <td>30.0</td>\n    </tr>\n    <tr>\n      <th>12</th>\n      <td>Norway</td>\n      <td>92.0</td>\n      <td>none</td>\n      <td>13.0</td>\n      <td>62.0</td>\n      <td>4.0</td>\n      <td>17.0</td>\n      <td>61.0</td>\n      <td>72.0</td>\n      <td>34.0</td>\n      <td>11.0</td>\n      <td>28.0</td>\n    </tr>\n    <tr>\n      <th>13</th>\n      <td>Finland</td>\n      <td>98.0</td>\n      <td>12.0</td>\n      <td>20.0</td>\n      <td>64.0</td>\n      <td>10.0</td>\n      <td>8.0</td>\n      <td>50.0</td>\n      <td>57.0</td>\n      <td>22.0</td>\n      <td>15.0</td>\n      <td>17.0</td>\n    </tr>\n    <tr>\n      <th>14</th>\n      <td>Spain</td>\n      <td>70.0</td>\n      <td>40.0</td>\n      <td>3.0</td>\n      <td>62.0</td>\n      <td>2.0</td>\n      <td>14.0</td>\n      <td>59.0</td>\n      <td>77.0</td>\n      <td>30.0</td>\n      <td>80.0</td>\n      <td>91.0</td>\n    </tr>\n    <tr>\n      <th>15</th>\n      <td>NaN</td>\n      <td>NaN</td>\n      <td>NaN</td>\n      <td>NaN</td>\n      <td>NaN</td>\n      <td>NaN</td>\n      <td>NaN</td>\n      <td>NaN</td>\n      <td>NaN</td>\n      <td>NaN</td>\n      <td>NaN</td>\n      <td>NaN</td>\n    </tr>\n  </tbody>\n</table>\n</div>"
     },
     "metadata": {},
     "execution_count": 20
    }
   ],
   "source": [
    "df.replace({\"Instant coffee\":17.0},\"none\")# It willchange it in a row"
   ]
  },
  {
   "cell_type": "code",
   "execution_count": 21,
   "metadata": {},
   "outputs": [
    {
     "output_type": "execute_result",
     "data": {
      "text/plain": [
       "        Country  Real coffee  Instant coffee  Sweetener  Biscuits  Tin soup  \\\n",
       "0       Germany         90.0            49.0       19.0      57.0      19.0   \n",
       "1         Italy         82.0            10.0        2.0      55.0       3.0   \n",
       "2        France         88.0            42.0        4.0      76.0      11.0   \n",
       "3       Holland         96.0            62.0       32.0       NaN      43.0   \n",
       "4       Belgium         94.0            38.0       11.0       NaN      23.0   \n",
       "5    Luxembourg         97.0            61.0       28.0       NaN      12.0   \n",
       "6       England         27.0            86.0       22.0      91.0      76.0   \n",
       "7      Portugal         72.0            26.0        2.0      22.0       1.0   \n",
       "8       Austria         55.0            31.0        8.0      29.0      12.0   \n",
       "9   Switzerland         73.0            72.0       25.0      31.0      12.0   \n",
       "10       Sweden         97.0            13.0       31.0       9.0      43.0   \n",
       "11      Denmark         96.0            17.0       35.0      66.0      17.0   \n",
       "12       Norway         92.0            17.0       13.0      62.0       4.0   \n",
       "13      Finland         98.0            12.0       20.0      64.0      10.0   \n",
       "14        Spain         70.0            40.0        3.0      62.0       2.0   \n",
       "15          NaN          NaN             NaN        NaN       NaN       NaN   \n",
       "\n",
       "    Potatoes  Apples  Oranges  Tinned fruit  Garlic  Olive oil  \n",
       "0       21.0    81.0     75.0          44.0    22.0       74.0  \n",
       "1        2.0    67.0     71.0           9.0    80.0       94.0  \n",
       "2       23.0    87.0     84.0          40.0    88.0       36.0  \n",
       "3        7.0    83.0     89.0          61.0     NaN       13.0  \n",
       "4        9.0    76.0     76.0          42.0     NaN       83.0  \n",
       "5        7.0    85.0     94.0          83.0    91.0       84.0  \n",
       "6       17.0    76.0     68.0          89.0    11.0       57.0  \n",
       "7       17.0     NaN     51.0           8.0    54.0       57.0  \n",
       "8       17.0     NaN     42.0          14.0    51.0       57.0  \n",
       "9       11.0     NaN     70.0          46.0    64.0       57.0  \n",
       "10      11.0     NaN     78.0          53.0     9.0       48.0  \n",
       "11      11.0    81.0     72.0          50.0    11.0       30.0  \n",
       "12      17.0    61.0     72.0          34.0    11.0       28.0  \n",
       "13       8.0    50.0     57.0          22.0    15.0       17.0  \n",
       "14      14.0    59.0     77.0          30.0    80.0       91.0  \n",
       "15       NaN     NaN      NaN           NaN     NaN        NaN  "
      ],
      "text/html": "<div>\n<style scoped>\n    .dataframe tbody tr th:only-of-type {\n        vertical-align: middle;\n    }\n\n    .dataframe tbody tr th {\n        vertical-align: top;\n    }\n\n    .dataframe thead th {\n        text-align: right;\n    }\n</style>\n<table border=\"1\" class=\"dataframe\">\n  <thead>\n    <tr style=\"text-align: right;\">\n      <th></th>\n      <th>Country</th>\n      <th>Real coffee</th>\n      <th>Instant coffee</th>\n      <th>Sweetener</th>\n      <th>Biscuits</th>\n      <th>Tin soup</th>\n      <th>Potatoes</th>\n      <th>Apples</th>\n      <th>Oranges</th>\n      <th>Tinned fruit</th>\n      <th>Garlic</th>\n      <th>Olive oil</th>\n    </tr>\n  </thead>\n  <tbody>\n    <tr>\n      <th>0</th>\n      <td>Germany</td>\n      <td>90.0</td>\n      <td>49.0</td>\n      <td>19.0</td>\n      <td>57.0</td>\n      <td>19.0</td>\n      <td>21.0</td>\n      <td>81.0</td>\n      <td>75.0</td>\n      <td>44.0</td>\n      <td>22.0</td>\n      <td>74.0</td>\n    </tr>\n    <tr>\n      <th>1</th>\n      <td>Italy</td>\n      <td>82.0</td>\n      <td>10.0</td>\n      <td>2.0</td>\n      <td>55.0</td>\n      <td>3.0</td>\n      <td>2.0</td>\n      <td>67.0</td>\n      <td>71.0</td>\n      <td>9.0</td>\n      <td>80.0</td>\n      <td>94.0</td>\n    </tr>\n    <tr>\n      <th>2</th>\n      <td>France</td>\n      <td>88.0</td>\n      <td>42.0</td>\n      <td>4.0</td>\n      <td>76.0</td>\n      <td>11.0</td>\n      <td>23.0</td>\n      <td>87.0</td>\n      <td>84.0</td>\n      <td>40.0</td>\n      <td>88.0</td>\n      <td>36.0</td>\n    </tr>\n    <tr>\n      <th>3</th>\n      <td>Holland</td>\n      <td>96.0</td>\n      <td>62.0</td>\n      <td>32.0</td>\n      <td>NaN</td>\n      <td>43.0</td>\n      <td>7.0</td>\n      <td>83.0</td>\n      <td>89.0</td>\n      <td>61.0</td>\n      <td>NaN</td>\n      <td>13.0</td>\n    </tr>\n    <tr>\n      <th>4</th>\n      <td>Belgium</td>\n      <td>94.0</td>\n      <td>38.0</td>\n      <td>11.0</td>\n      <td>NaN</td>\n      <td>23.0</td>\n      <td>9.0</td>\n      <td>76.0</td>\n      <td>76.0</td>\n      <td>42.0</td>\n      <td>NaN</td>\n      <td>83.0</td>\n    </tr>\n    <tr>\n      <th>5</th>\n      <td>Luxembourg</td>\n      <td>97.0</td>\n      <td>61.0</td>\n      <td>28.0</td>\n      <td>NaN</td>\n      <td>12.0</td>\n      <td>7.0</td>\n      <td>85.0</td>\n      <td>94.0</td>\n      <td>83.0</td>\n      <td>91.0</td>\n      <td>84.0</td>\n    </tr>\n    <tr>\n      <th>6</th>\n      <td>England</td>\n      <td>27.0</td>\n      <td>86.0</td>\n      <td>22.0</td>\n      <td>91.0</td>\n      <td>76.0</td>\n      <td>17.0</td>\n      <td>76.0</td>\n      <td>68.0</td>\n      <td>89.0</td>\n      <td>11.0</td>\n      <td>57.0</td>\n    </tr>\n    <tr>\n      <th>7</th>\n      <td>Portugal</td>\n      <td>72.0</td>\n      <td>26.0</td>\n      <td>2.0</td>\n      <td>22.0</td>\n      <td>1.0</td>\n      <td>17.0</td>\n      <td>NaN</td>\n      <td>51.0</td>\n      <td>8.0</td>\n      <td>54.0</td>\n      <td>57.0</td>\n    </tr>\n    <tr>\n      <th>8</th>\n      <td>Austria</td>\n      <td>55.0</td>\n      <td>31.0</td>\n      <td>8.0</td>\n      <td>29.0</td>\n      <td>12.0</td>\n      <td>17.0</td>\n      <td>NaN</td>\n      <td>42.0</td>\n      <td>14.0</td>\n      <td>51.0</td>\n      <td>57.0</td>\n    </tr>\n    <tr>\n      <th>9</th>\n      <td>Switzerland</td>\n      <td>73.0</td>\n      <td>72.0</td>\n      <td>25.0</td>\n      <td>31.0</td>\n      <td>12.0</td>\n      <td>11.0</td>\n      <td>NaN</td>\n      <td>70.0</td>\n      <td>46.0</td>\n      <td>64.0</td>\n      <td>57.0</td>\n    </tr>\n    <tr>\n      <th>10</th>\n      <td>Sweden</td>\n      <td>97.0</td>\n      <td>13.0</td>\n      <td>31.0</td>\n      <td>9.0</td>\n      <td>43.0</td>\n      <td>11.0</td>\n      <td>NaN</td>\n      <td>78.0</td>\n      <td>53.0</td>\n      <td>9.0</td>\n      <td>48.0</td>\n    </tr>\n    <tr>\n      <th>11</th>\n      <td>Denmark</td>\n      <td>96.0</td>\n      <td>17.0</td>\n      <td>35.0</td>\n      <td>66.0</td>\n      <td>17.0</td>\n      <td>11.0</td>\n      <td>81.0</td>\n      <td>72.0</td>\n      <td>50.0</td>\n      <td>11.0</td>\n      <td>30.0</td>\n    </tr>\n    <tr>\n      <th>12</th>\n      <td>Norway</td>\n      <td>92.0</td>\n      <td>17.0</td>\n      <td>13.0</td>\n      <td>62.0</td>\n      <td>4.0</td>\n      <td>17.0</td>\n      <td>61.0</td>\n      <td>72.0</td>\n      <td>34.0</td>\n      <td>11.0</td>\n      <td>28.0</td>\n    </tr>\n    <tr>\n      <th>13</th>\n      <td>Finland</td>\n      <td>98.0</td>\n      <td>12.0</td>\n      <td>20.0</td>\n      <td>64.0</td>\n      <td>10.0</td>\n      <td>8.0</td>\n      <td>50.0</td>\n      <td>57.0</td>\n      <td>22.0</td>\n      <td>15.0</td>\n      <td>17.0</td>\n    </tr>\n    <tr>\n      <th>14</th>\n      <td>Spain</td>\n      <td>70.0</td>\n      <td>40.0</td>\n      <td>3.0</td>\n      <td>62.0</td>\n      <td>2.0</td>\n      <td>14.0</td>\n      <td>59.0</td>\n      <td>77.0</td>\n      <td>30.0</td>\n      <td>80.0</td>\n      <td>91.0</td>\n    </tr>\n    <tr>\n      <th>15</th>\n      <td>NaN</td>\n      <td>NaN</td>\n      <td>NaN</td>\n      <td>NaN</td>\n      <td>NaN</td>\n      <td>NaN</td>\n      <td>NaN</td>\n      <td>NaN</td>\n      <td>NaN</td>\n      <td>NaN</td>\n      <td>NaN</td>\n      <td>NaN</td>\n    </tr>\n  </tbody>\n</table>\n</div>"
     },
     "metadata": {},
     "execution_count": 21
    }
   ],
   "source": [
    "df"
   ]
  },
  {
   "cell_type": "code",
   "execution_count": 22,
   "metadata": {},
   "outputs": [
    {
     "output_type": "execute_result",
     "data": {
      "text/plain": [
       "   Country  Real coffee  Instant coffee  Sweetener  Biscuits  Tin soup  \\\n",
       "0        0         90.0            49.0       19.0      57.0      19.0   \n",
       "1        0         82.0            10.0        2.0      55.0       3.0   \n",
       "2        0         88.0            42.0        4.0      76.0      11.0   \n",
       "3        0         96.0            62.0       32.0       NaN      43.0   \n",
       "4        0         94.0            38.0       11.0       NaN      23.0   \n",
       "5        0         97.0            61.0       28.0       NaN      12.0   \n",
       "6        0         27.0            86.0       22.0      91.0      76.0   \n",
       "7        0         72.0            26.0        2.0      22.0       1.0   \n",
       "8        0         55.0            31.0        8.0      29.0      12.0   \n",
       "9        0         73.0            72.0       25.0      31.0      12.0   \n",
       "10       0         97.0            13.0       31.0       9.0      43.0   \n",
       "11       0         96.0            17.0       35.0      66.0      17.0   \n",
       "12       0         92.0            17.0       13.0      62.0       4.0   \n",
       "13       0         98.0            12.0       20.0      64.0      10.0   \n",
       "14       0         70.0            40.0        3.0      62.0       2.0   \n",
       "15     NaN          NaN             NaN        NaN       NaN       NaN   \n",
       "\n",
       "    Potatoes  Apples  Oranges  Tinned fruit  Garlic  Olive oil  \n",
       "0       21.0    81.0     75.0          44.0    22.0       74.0  \n",
       "1        2.0    67.0     71.0           9.0    80.0       94.0  \n",
       "2       23.0    87.0     84.0          40.0    88.0       36.0  \n",
       "3        7.0    83.0     89.0          61.0     NaN       13.0  \n",
       "4        9.0    76.0     76.0          42.0     NaN       83.0  \n",
       "5        7.0    85.0     94.0          83.0    91.0       84.0  \n",
       "6       17.0    76.0     68.0          89.0    11.0       57.0  \n",
       "7       17.0     NaN     51.0           8.0    54.0       57.0  \n",
       "8       17.0     NaN     42.0          14.0    51.0       57.0  \n",
       "9       11.0     NaN     70.0          46.0    64.0       57.0  \n",
       "10      11.0     NaN     78.0          53.0     9.0       48.0  \n",
       "11      11.0    81.0     72.0          50.0    11.0       30.0  \n",
       "12      17.0    61.0     72.0          34.0    11.0       28.0  \n",
       "13       8.0    50.0     57.0          22.0    15.0       17.0  \n",
       "14      14.0    59.0     77.0          30.0    80.0       91.0  \n",
       "15       NaN     NaN      NaN           NaN     NaN        NaN  "
      ],
      "text/html": "<div>\n<style scoped>\n    .dataframe tbody tr th:only-of-type {\n        vertical-align: middle;\n    }\n\n    .dataframe tbody tr th {\n        vertical-align: top;\n    }\n\n    .dataframe thead th {\n        text-align: right;\n    }\n</style>\n<table border=\"1\" class=\"dataframe\">\n  <thead>\n    <tr style=\"text-align: right;\">\n      <th></th>\n      <th>Country</th>\n      <th>Real coffee</th>\n      <th>Instant coffee</th>\n      <th>Sweetener</th>\n      <th>Biscuits</th>\n      <th>Tin soup</th>\n      <th>Potatoes</th>\n      <th>Apples</th>\n      <th>Oranges</th>\n      <th>Tinned fruit</th>\n      <th>Garlic</th>\n      <th>Olive oil</th>\n    </tr>\n  </thead>\n  <tbody>\n    <tr>\n      <th>0</th>\n      <td>0</td>\n      <td>90.0</td>\n      <td>49.0</td>\n      <td>19.0</td>\n      <td>57.0</td>\n      <td>19.0</td>\n      <td>21.0</td>\n      <td>81.0</td>\n      <td>75.0</td>\n      <td>44.0</td>\n      <td>22.0</td>\n      <td>74.0</td>\n    </tr>\n    <tr>\n      <th>1</th>\n      <td>0</td>\n      <td>82.0</td>\n      <td>10.0</td>\n      <td>2.0</td>\n      <td>55.0</td>\n      <td>3.0</td>\n      <td>2.0</td>\n      <td>67.0</td>\n      <td>71.0</td>\n      <td>9.0</td>\n      <td>80.0</td>\n      <td>94.0</td>\n    </tr>\n    <tr>\n      <th>2</th>\n      <td>0</td>\n      <td>88.0</td>\n      <td>42.0</td>\n      <td>4.0</td>\n      <td>76.0</td>\n      <td>11.0</td>\n      <td>23.0</td>\n      <td>87.0</td>\n      <td>84.0</td>\n      <td>40.0</td>\n      <td>88.0</td>\n      <td>36.0</td>\n    </tr>\n    <tr>\n      <th>3</th>\n      <td>0</td>\n      <td>96.0</td>\n      <td>62.0</td>\n      <td>32.0</td>\n      <td>NaN</td>\n      <td>43.0</td>\n      <td>7.0</td>\n      <td>83.0</td>\n      <td>89.0</td>\n      <td>61.0</td>\n      <td>NaN</td>\n      <td>13.0</td>\n    </tr>\n    <tr>\n      <th>4</th>\n      <td>0</td>\n      <td>94.0</td>\n      <td>38.0</td>\n      <td>11.0</td>\n      <td>NaN</td>\n      <td>23.0</td>\n      <td>9.0</td>\n      <td>76.0</td>\n      <td>76.0</td>\n      <td>42.0</td>\n      <td>NaN</td>\n      <td>83.0</td>\n    </tr>\n    <tr>\n      <th>5</th>\n      <td>0</td>\n      <td>97.0</td>\n      <td>61.0</td>\n      <td>28.0</td>\n      <td>NaN</td>\n      <td>12.0</td>\n      <td>7.0</td>\n      <td>85.0</td>\n      <td>94.0</td>\n      <td>83.0</td>\n      <td>91.0</td>\n      <td>84.0</td>\n    </tr>\n    <tr>\n      <th>6</th>\n      <td>0</td>\n      <td>27.0</td>\n      <td>86.0</td>\n      <td>22.0</td>\n      <td>91.0</td>\n      <td>76.0</td>\n      <td>17.0</td>\n      <td>76.0</td>\n      <td>68.0</td>\n      <td>89.0</td>\n      <td>11.0</td>\n      <td>57.0</td>\n    </tr>\n    <tr>\n      <th>7</th>\n      <td>0</td>\n      <td>72.0</td>\n      <td>26.0</td>\n      <td>2.0</td>\n      <td>22.0</td>\n      <td>1.0</td>\n      <td>17.0</td>\n      <td>NaN</td>\n      <td>51.0</td>\n      <td>8.0</td>\n      <td>54.0</td>\n      <td>57.0</td>\n    </tr>\n    <tr>\n      <th>8</th>\n      <td>0</td>\n      <td>55.0</td>\n      <td>31.0</td>\n      <td>8.0</td>\n      <td>29.0</td>\n      <td>12.0</td>\n      <td>17.0</td>\n      <td>NaN</td>\n      <td>42.0</td>\n      <td>14.0</td>\n      <td>51.0</td>\n      <td>57.0</td>\n    </tr>\n    <tr>\n      <th>9</th>\n      <td>0</td>\n      <td>73.0</td>\n      <td>72.0</td>\n      <td>25.0</td>\n      <td>31.0</td>\n      <td>12.0</td>\n      <td>11.0</td>\n      <td>NaN</td>\n      <td>70.0</td>\n      <td>46.0</td>\n      <td>64.0</td>\n      <td>57.0</td>\n    </tr>\n    <tr>\n      <th>10</th>\n      <td>0</td>\n      <td>97.0</td>\n      <td>13.0</td>\n      <td>31.0</td>\n      <td>9.0</td>\n      <td>43.0</td>\n      <td>11.0</td>\n      <td>NaN</td>\n      <td>78.0</td>\n      <td>53.0</td>\n      <td>9.0</td>\n      <td>48.0</td>\n    </tr>\n    <tr>\n      <th>11</th>\n      <td>0</td>\n      <td>96.0</td>\n      <td>17.0</td>\n      <td>35.0</td>\n      <td>66.0</td>\n      <td>17.0</td>\n      <td>11.0</td>\n      <td>81.0</td>\n      <td>72.0</td>\n      <td>50.0</td>\n      <td>11.0</td>\n      <td>30.0</td>\n    </tr>\n    <tr>\n      <th>12</th>\n      <td>0</td>\n      <td>92.0</td>\n      <td>17.0</td>\n      <td>13.0</td>\n      <td>62.0</td>\n      <td>4.0</td>\n      <td>17.0</td>\n      <td>61.0</td>\n      <td>72.0</td>\n      <td>34.0</td>\n      <td>11.0</td>\n      <td>28.0</td>\n    </tr>\n    <tr>\n      <th>13</th>\n      <td>0</td>\n      <td>98.0</td>\n      <td>12.0</td>\n      <td>20.0</td>\n      <td>64.0</td>\n      <td>10.0</td>\n      <td>8.0</td>\n      <td>50.0</td>\n      <td>57.0</td>\n      <td>22.0</td>\n      <td>15.0</td>\n      <td>17.0</td>\n    </tr>\n    <tr>\n      <th>14</th>\n      <td>0</td>\n      <td>70.0</td>\n      <td>40.0</td>\n      <td>3.0</td>\n      <td>62.0</td>\n      <td>2.0</td>\n      <td>14.0</td>\n      <td>59.0</td>\n      <td>77.0</td>\n      <td>30.0</td>\n      <td>80.0</td>\n      <td>91.0</td>\n    </tr>\n    <tr>\n      <th>15</th>\n      <td>NaN</td>\n      <td>NaN</td>\n      <td>NaN</td>\n      <td>NaN</td>\n      <td>NaN</td>\n      <td>NaN</td>\n      <td>NaN</td>\n      <td>NaN</td>\n      <td>NaN</td>\n      <td>NaN</td>\n      <td>NaN</td>\n      <td>NaN</td>\n    </tr>\n  </tbody>\n</table>\n</div>"
     },
     "metadata": {},
     "execution_count": 22
    }
   ],
   "source": [
    "df.replace('[A-Za-z]' , 0 , regex = True)#It will help to change all the string value to 0"
   ]
  },
  {
   "cell_type": "code",
   "execution_count": 24,
   "metadata": {},
   "outputs": [
    {
     "output_type": "execute_result",
     "data": {
      "text/plain": [
       "   Country  Real coffee  Instant coffee  Sweetener  Biscuits  Tin soup  \\\n",
       "0        0         90.0            49.0       19.0      57.0      19.0   \n",
       "1        0         82.0            10.0        2.0      55.0       3.0   \n",
       "2        0         88.0            42.0        4.0      76.0      11.0   \n",
       "3        0         96.0            62.0       32.0       NaN      43.0   \n",
       "4        0         94.0            38.0       11.0       NaN      23.0   \n",
       "5        0         97.0            61.0       28.0       NaN      12.0   \n",
       "6        0         27.0            86.0       22.0      91.0      76.0   \n",
       "7        0         72.0            26.0        2.0      22.0       1.0   \n",
       "8        0         55.0            31.0        8.0      29.0      12.0   \n",
       "9        0         73.0            72.0       25.0      31.0      12.0   \n",
       "10       0         97.0            13.0       31.0       9.0      43.0   \n",
       "11       0         96.0            17.0       35.0      66.0      17.0   \n",
       "12       0         92.0            17.0       13.0      62.0       4.0   \n",
       "13       0         98.0            12.0       20.0      64.0      10.0   \n",
       "14       0         70.0            40.0        3.0      62.0       2.0   \n",
       "15     NaN          NaN             NaN        NaN       NaN       NaN   \n",
       "\n",
       "    Potatoes  Apples  Oranges  Tinned fruit  Garlic  Olive oil  \n",
       "0       21.0    81.0     75.0          44.0    22.0       74.0  \n",
       "1        2.0    67.0     71.0           9.0    80.0       94.0  \n",
       "2       23.0    87.0     84.0          40.0    88.0       36.0  \n",
       "3        7.0    83.0     89.0          61.0     NaN       13.0  \n",
       "4        9.0    76.0     76.0          42.0     NaN       83.0  \n",
       "5        7.0    85.0     94.0          83.0    91.0       84.0  \n",
       "6       17.0    76.0     68.0          89.0    11.0       57.0  \n",
       "7       17.0     NaN     51.0           8.0    54.0       57.0  \n",
       "8       17.0     NaN     42.0          14.0    51.0       57.0  \n",
       "9       11.0     NaN     70.0          46.0    64.0       57.0  \n",
       "10      11.0     NaN     78.0          53.0     9.0       48.0  \n",
       "11      11.0    81.0     72.0          50.0    11.0       30.0  \n",
       "12      17.0    61.0     72.0          34.0    11.0       28.0  \n",
       "13       8.0    50.0     57.0          22.0    15.0       17.0  \n",
       "14      14.0    59.0     77.0          30.0    80.0       91.0  \n",
       "15       NaN     NaN      NaN           NaN     NaN        NaN  "
      ],
      "text/html": "<div>\n<style scoped>\n    .dataframe tbody tr th:only-of-type {\n        vertical-align: middle;\n    }\n\n    .dataframe tbody tr th {\n        vertical-align: top;\n    }\n\n    .dataframe thead th {\n        text-align: right;\n    }\n</style>\n<table border=\"1\" class=\"dataframe\">\n  <thead>\n    <tr style=\"text-align: right;\">\n      <th></th>\n      <th>Country</th>\n      <th>Real coffee</th>\n      <th>Instant coffee</th>\n      <th>Sweetener</th>\n      <th>Biscuits</th>\n      <th>Tin soup</th>\n      <th>Potatoes</th>\n      <th>Apples</th>\n      <th>Oranges</th>\n      <th>Tinned fruit</th>\n      <th>Garlic</th>\n      <th>Olive oil</th>\n    </tr>\n  </thead>\n  <tbody>\n    <tr>\n      <th>0</th>\n      <td>0</td>\n      <td>90.0</td>\n      <td>49.0</td>\n      <td>19.0</td>\n      <td>57.0</td>\n      <td>19.0</td>\n      <td>21.0</td>\n      <td>81.0</td>\n      <td>75.0</td>\n      <td>44.0</td>\n      <td>22.0</td>\n      <td>74.0</td>\n    </tr>\n    <tr>\n      <th>1</th>\n      <td>0</td>\n      <td>82.0</td>\n      <td>10.0</td>\n      <td>2.0</td>\n      <td>55.0</td>\n      <td>3.0</td>\n      <td>2.0</td>\n      <td>67.0</td>\n      <td>71.0</td>\n      <td>9.0</td>\n      <td>80.0</td>\n      <td>94.0</td>\n    </tr>\n    <tr>\n      <th>2</th>\n      <td>0</td>\n      <td>88.0</td>\n      <td>42.0</td>\n      <td>4.0</td>\n      <td>76.0</td>\n      <td>11.0</td>\n      <td>23.0</td>\n      <td>87.0</td>\n      <td>84.0</td>\n      <td>40.0</td>\n      <td>88.0</td>\n      <td>36.0</td>\n    </tr>\n    <tr>\n      <th>3</th>\n      <td>0</td>\n      <td>96.0</td>\n      <td>62.0</td>\n      <td>32.0</td>\n      <td>NaN</td>\n      <td>43.0</td>\n      <td>7.0</td>\n      <td>83.0</td>\n      <td>89.0</td>\n      <td>61.0</td>\n      <td>NaN</td>\n      <td>13.0</td>\n    </tr>\n    <tr>\n      <th>4</th>\n      <td>0</td>\n      <td>94.0</td>\n      <td>38.0</td>\n      <td>11.0</td>\n      <td>NaN</td>\n      <td>23.0</td>\n      <td>9.0</td>\n      <td>76.0</td>\n      <td>76.0</td>\n      <td>42.0</td>\n      <td>NaN</td>\n      <td>83.0</td>\n    </tr>\n    <tr>\n      <th>5</th>\n      <td>0</td>\n      <td>97.0</td>\n      <td>61.0</td>\n      <td>28.0</td>\n      <td>NaN</td>\n      <td>12.0</td>\n      <td>7.0</td>\n      <td>85.0</td>\n      <td>94.0</td>\n      <td>83.0</td>\n      <td>91.0</td>\n      <td>84.0</td>\n    </tr>\n    <tr>\n      <th>6</th>\n      <td>0</td>\n      <td>27.0</td>\n      <td>86.0</td>\n      <td>22.0</td>\n      <td>91.0</td>\n      <td>76.0</td>\n      <td>17.0</td>\n      <td>76.0</td>\n      <td>68.0</td>\n      <td>89.0</td>\n      <td>11.0</td>\n      <td>57.0</td>\n    </tr>\n    <tr>\n      <th>7</th>\n      <td>0</td>\n      <td>72.0</td>\n      <td>26.0</td>\n      <td>2.0</td>\n      <td>22.0</td>\n      <td>1.0</td>\n      <td>17.0</td>\n      <td>NaN</td>\n      <td>51.0</td>\n      <td>8.0</td>\n      <td>54.0</td>\n      <td>57.0</td>\n    </tr>\n    <tr>\n      <th>8</th>\n      <td>0</td>\n      <td>55.0</td>\n      <td>31.0</td>\n      <td>8.0</td>\n      <td>29.0</td>\n      <td>12.0</td>\n      <td>17.0</td>\n      <td>NaN</td>\n      <td>42.0</td>\n      <td>14.0</td>\n      <td>51.0</td>\n      <td>57.0</td>\n    </tr>\n    <tr>\n      <th>9</th>\n      <td>0</td>\n      <td>73.0</td>\n      <td>72.0</td>\n      <td>25.0</td>\n      <td>31.0</td>\n      <td>12.0</td>\n      <td>11.0</td>\n      <td>NaN</td>\n      <td>70.0</td>\n      <td>46.0</td>\n      <td>64.0</td>\n      <td>57.0</td>\n    </tr>\n    <tr>\n      <th>10</th>\n      <td>0</td>\n      <td>97.0</td>\n      <td>13.0</td>\n      <td>31.0</td>\n      <td>9.0</td>\n      <td>43.0</td>\n      <td>11.0</td>\n      <td>NaN</td>\n      <td>78.0</td>\n      <td>53.0</td>\n      <td>9.0</td>\n      <td>48.0</td>\n    </tr>\n    <tr>\n      <th>11</th>\n      <td>0</td>\n      <td>96.0</td>\n      <td>17.0</td>\n      <td>35.0</td>\n      <td>66.0</td>\n      <td>17.0</td>\n      <td>11.0</td>\n      <td>81.0</td>\n      <td>72.0</td>\n      <td>50.0</td>\n      <td>11.0</td>\n      <td>30.0</td>\n    </tr>\n    <tr>\n      <th>12</th>\n      <td>0</td>\n      <td>92.0</td>\n      <td>17.0</td>\n      <td>13.0</td>\n      <td>62.0</td>\n      <td>4.0</td>\n      <td>17.0</td>\n      <td>61.0</td>\n      <td>72.0</td>\n      <td>34.0</td>\n      <td>11.0</td>\n      <td>28.0</td>\n    </tr>\n    <tr>\n      <th>13</th>\n      <td>0</td>\n      <td>98.0</td>\n      <td>12.0</td>\n      <td>20.0</td>\n      <td>64.0</td>\n      <td>10.0</td>\n      <td>8.0</td>\n      <td>50.0</td>\n      <td>57.0</td>\n      <td>22.0</td>\n      <td>15.0</td>\n      <td>17.0</td>\n    </tr>\n    <tr>\n      <th>14</th>\n      <td>0</td>\n      <td>70.0</td>\n      <td>40.0</td>\n      <td>3.0</td>\n      <td>62.0</td>\n      <td>2.0</td>\n      <td>14.0</td>\n      <td>59.0</td>\n      <td>77.0</td>\n      <td>30.0</td>\n      <td>80.0</td>\n      <td>91.0</td>\n    </tr>\n    <tr>\n      <th>15</th>\n      <td>NaN</td>\n      <td>NaN</td>\n      <td>NaN</td>\n      <td>NaN</td>\n      <td>NaN</td>\n      <td>NaN</td>\n      <td>NaN</td>\n      <td>NaN</td>\n      <td>NaN</td>\n      <td>NaN</td>\n      <td>NaN</td>\n      <td>NaN</td>\n    </tr>\n  </tbody>\n</table>\n</div>"
     },
     "metadata": {},
     "execution_count": 24
    }
   ],
   "source": [
    "df.replace({\"Country\" : \"[A-Za-z]\"}, 0 , regex= True) # it will change the particular coloum"
   ]
  },
  {
   "cell_type": "code",
   "execution_count": 25,
   "metadata": {},
   "outputs": [
    {
     "output_type": "execute_result",
     "data": {
      "text/plain": [
       "        Country  Real coffee  Instant coffee  Sweetener  Biscuits  Tin soup  \\\n",
       "0       Germany         90.0            49.0       19.0      57.0      19.0   \n",
       "1         Italy         82.0            10.0        2.0      55.0       3.0   \n",
       "2        France         88.0            42.0        4.0      76.0      11.0   \n",
       "3       Holland         96.0            62.0       32.0       NaN      43.0   \n",
       "4       Belgium         94.0            38.0       11.0       NaN      23.0   \n",
       "5    Luxembourg         97.0            61.0       28.0       NaN      12.0   \n",
       "6       England         27.0            86.0       22.0      91.0      76.0   \n",
       "7      Portugal         72.0            26.0        2.0      22.0       1.0   \n",
       "8       Austria         55.0            31.0        8.0      29.0      12.0   \n",
       "9   Switzerland         73.0            72.0       25.0      31.0      12.0   \n",
       "10       Sweden         97.0            13.0       31.0       9.0      43.0   \n",
       "11      Denmark         96.0            17.0       35.0      66.0      17.0   \n",
       "12       Norway         92.0            17.0       13.0      62.0       4.0   \n",
       "13      Finland         98.0            12.0       20.0      64.0      10.0   \n",
       "14        Spain         70.0            40.0        3.0      62.0       2.0   \n",
       "15          NaN          NaN             NaN        NaN       NaN       NaN   \n",
       "\n",
       "    Potatoes  Apples  Oranges  Tinned fruit  Garlic  Olive oil  \n",
       "0       21.0    81.0     75.0          44.0    22.0       74.0  \n",
       "1        2.0    67.0     71.0           9.0    80.0       94.0  \n",
       "2       23.0    87.0     84.0          40.0    88.0       36.0  \n",
       "3        7.0    83.0     89.0          61.0     NaN       13.0  \n",
       "4        9.0    76.0     76.0          42.0     NaN       83.0  \n",
       "5        7.0    85.0     94.0          83.0    91.0       84.0  \n",
       "6       17.0    76.0     68.0          89.0    11.0       57.0  \n",
       "7       17.0     NaN     51.0           8.0    54.0       57.0  \n",
       "8       17.0     NaN     42.0          14.0    51.0       57.0  \n",
       "9       11.0     NaN     70.0          46.0    64.0       57.0  \n",
       "10      11.0     NaN     78.0          53.0     9.0       48.0  \n",
       "11      11.0    81.0     72.0          50.0    11.0       30.0  \n",
       "12      17.0    61.0     72.0          34.0    11.0       28.0  \n",
       "13       8.0    50.0     57.0          22.0    15.0       17.0  \n",
       "14      14.0    59.0     77.0          30.0    80.0       91.0  \n",
       "15       NaN     NaN      NaN           NaN     NaN        NaN  "
      ],
      "text/html": "<div>\n<style scoped>\n    .dataframe tbody tr th:only-of-type {\n        vertical-align: middle;\n    }\n\n    .dataframe tbody tr th {\n        vertical-align: top;\n    }\n\n    .dataframe thead th {\n        text-align: right;\n    }\n</style>\n<table border=\"1\" class=\"dataframe\">\n  <thead>\n    <tr style=\"text-align: right;\">\n      <th></th>\n      <th>Country</th>\n      <th>Real coffee</th>\n      <th>Instant coffee</th>\n      <th>Sweetener</th>\n      <th>Biscuits</th>\n      <th>Tin soup</th>\n      <th>Potatoes</th>\n      <th>Apples</th>\n      <th>Oranges</th>\n      <th>Tinned fruit</th>\n      <th>Garlic</th>\n      <th>Olive oil</th>\n    </tr>\n  </thead>\n  <tbody>\n    <tr>\n      <th>0</th>\n      <td>Germany</td>\n      <td>90.0</td>\n      <td>49.0</td>\n      <td>19.0</td>\n      <td>57.0</td>\n      <td>19.0</td>\n      <td>21.0</td>\n      <td>81.0</td>\n      <td>75.0</td>\n      <td>44.0</td>\n      <td>22.0</td>\n      <td>74.0</td>\n    </tr>\n    <tr>\n      <th>1</th>\n      <td>Italy</td>\n      <td>82.0</td>\n      <td>10.0</td>\n      <td>2.0</td>\n      <td>55.0</td>\n      <td>3.0</td>\n      <td>2.0</td>\n      <td>67.0</td>\n      <td>71.0</td>\n      <td>9.0</td>\n      <td>80.0</td>\n      <td>94.0</td>\n    </tr>\n    <tr>\n      <th>2</th>\n      <td>France</td>\n      <td>88.0</td>\n      <td>42.0</td>\n      <td>4.0</td>\n      <td>76.0</td>\n      <td>11.0</td>\n      <td>23.0</td>\n      <td>87.0</td>\n      <td>84.0</td>\n      <td>40.0</td>\n      <td>88.0</td>\n      <td>36.0</td>\n    </tr>\n    <tr>\n      <th>3</th>\n      <td>Holland</td>\n      <td>96.0</td>\n      <td>62.0</td>\n      <td>32.0</td>\n      <td>NaN</td>\n      <td>43.0</td>\n      <td>7.0</td>\n      <td>83.0</td>\n      <td>89.0</td>\n      <td>61.0</td>\n      <td>NaN</td>\n      <td>13.0</td>\n    </tr>\n    <tr>\n      <th>4</th>\n      <td>Belgium</td>\n      <td>94.0</td>\n      <td>38.0</td>\n      <td>11.0</td>\n      <td>NaN</td>\n      <td>23.0</td>\n      <td>9.0</td>\n      <td>76.0</td>\n      <td>76.0</td>\n      <td>42.0</td>\n      <td>NaN</td>\n      <td>83.0</td>\n    </tr>\n    <tr>\n      <th>5</th>\n      <td>Luxembourg</td>\n      <td>97.0</td>\n      <td>61.0</td>\n      <td>28.0</td>\n      <td>NaN</td>\n      <td>12.0</td>\n      <td>7.0</td>\n      <td>85.0</td>\n      <td>94.0</td>\n      <td>83.0</td>\n      <td>91.0</td>\n      <td>84.0</td>\n    </tr>\n    <tr>\n      <th>6</th>\n      <td>England</td>\n      <td>27.0</td>\n      <td>86.0</td>\n      <td>22.0</td>\n      <td>91.0</td>\n      <td>76.0</td>\n      <td>17.0</td>\n      <td>76.0</td>\n      <td>68.0</td>\n      <td>89.0</td>\n      <td>11.0</td>\n      <td>57.0</td>\n    </tr>\n    <tr>\n      <th>7</th>\n      <td>Portugal</td>\n      <td>72.0</td>\n      <td>26.0</td>\n      <td>2.0</td>\n      <td>22.0</td>\n      <td>1.0</td>\n      <td>17.0</td>\n      <td>NaN</td>\n      <td>51.0</td>\n      <td>8.0</td>\n      <td>54.0</td>\n      <td>57.0</td>\n    </tr>\n    <tr>\n      <th>8</th>\n      <td>Austria</td>\n      <td>55.0</td>\n      <td>31.0</td>\n      <td>8.0</td>\n      <td>29.0</td>\n      <td>12.0</td>\n      <td>17.0</td>\n      <td>NaN</td>\n      <td>42.0</td>\n      <td>14.0</td>\n      <td>51.0</td>\n      <td>57.0</td>\n    </tr>\n    <tr>\n      <th>9</th>\n      <td>Switzerland</td>\n      <td>73.0</td>\n      <td>72.0</td>\n      <td>25.0</td>\n      <td>31.0</td>\n      <td>12.0</td>\n      <td>11.0</td>\n      <td>NaN</td>\n      <td>70.0</td>\n      <td>46.0</td>\n      <td>64.0</td>\n      <td>57.0</td>\n    </tr>\n    <tr>\n      <th>10</th>\n      <td>Sweden</td>\n      <td>97.0</td>\n      <td>13.0</td>\n      <td>31.0</td>\n      <td>9.0</td>\n      <td>43.0</td>\n      <td>11.0</td>\n      <td>NaN</td>\n      <td>78.0</td>\n      <td>53.0</td>\n      <td>9.0</td>\n      <td>48.0</td>\n    </tr>\n    <tr>\n      <th>11</th>\n      <td>Denmark</td>\n      <td>96.0</td>\n      <td>17.0</td>\n      <td>35.0</td>\n      <td>66.0</td>\n      <td>17.0</td>\n      <td>11.0</td>\n      <td>81.0</td>\n      <td>72.0</td>\n      <td>50.0</td>\n      <td>11.0</td>\n      <td>30.0</td>\n    </tr>\n    <tr>\n      <th>12</th>\n      <td>Norway</td>\n      <td>92.0</td>\n      <td>17.0</td>\n      <td>13.0</td>\n      <td>62.0</td>\n      <td>4.0</td>\n      <td>17.0</td>\n      <td>61.0</td>\n      <td>72.0</td>\n      <td>34.0</td>\n      <td>11.0</td>\n      <td>28.0</td>\n    </tr>\n    <tr>\n      <th>13</th>\n      <td>Finland</td>\n      <td>98.0</td>\n      <td>12.0</td>\n      <td>20.0</td>\n      <td>64.0</td>\n      <td>10.0</td>\n      <td>8.0</td>\n      <td>50.0</td>\n      <td>57.0</td>\n      <td>22.0</td>\n      <td>15.0</td>\n      <td>17.0</td>\n    </tr>\n    <tr>\n      <th>14</th>\n      <td>Spain</td>\n      <td>70.0</td>\n      <td>40.0</td>\n      <td>3.0</td>\n      <td>62.0</td>\n      <td>2.0</td>\n      <td>14.0</td>\n      <td>59.0</td>\n      <td>77.0</td>\n      <td>30.0</td>\n      <td>80.0</td>\n      <td>91.0</td>\n    </tr>\n    <tr>\n      <th>15</th>\n      <td>NaN</td>\n      <td>NaN</td>\n      <td>NaN</td>\n      <td>NaN</td>\n      <td>NaN</td>\n      <td>NaN</td>\n      <td>NaN</td>\n      <td>NaN</td>\n      <td>NaN</td>\n      <td>NaN</td>\n      <td>NaN</td>\n      <td>NaN</td>\n    </tr>\n  </tbody>\n</table>\n</div>"
     },
     "metadata": {},
     "execution_count": 25
    }
   ],
   "source": [
    "df"
   ]
  },
  {
   "cell_type": "code",
   "execution_count": 27,
   "metadata": {},
   "outputs": [
    {
     "output_type": "execute_result",
     "data": {
      "text/plain": [
       "        Country  Real coffee  Instant coffee  Sweetener  Biscuits  Tin soup  \\\n",
       "0       Germany         90.0            49.0       19.0      57.0      19.0   \n",
       "1       Germany         82.0            10.0        2.0      55.0       3.0   \n",
       "2        France         88.0            42.0        4.0      76.0      11.0   \n",
       "3       Holland         96.0            62.0       32.0       NaN      43.0   \n",
       "4       Belgium         94.0            38.0       11.0       NaN      23.0   \n",
       "5    Luxembourg         97.0            61.0       28.0       NaN      12.0   \n",
       "6       England         27.0            86.0       22.0      91.0      76.0   \n",
       "7      Portugal         72.0            26.0        2.0      22.0       1.0   \n",
       "8       Austria         55.0            31.0        8.0      29.0      12.0   \n",
       "9   Switzerland         73.0            72.0       25.0      31.0      12.0   \n",
       "10       Sweden         97.0            13.0       31.0       9.0      43.0   \n",
       "11      Denmark         96.0            17.0       35.0      66.0      17.0   \n",
       "12       Norway         92.0            17.0       13.0      62.0       4.0   \n",
       "13      Finland         98.0            12.0       20.0      64.0      10.0   \n",
       "14        Spain         70.0            40.0        3.0      62.0       2.0   \n",
       "15          NaN          NaN             NaN        NaN       NaN       NaN   \n",
       "\n",
       "    Potatoes  Apples  Oranges  Tinned fruit  Garlic  Olive oil  \n",
       "0       21.0    81.0     75.0          44.0    22.0       74.0  \n",
       "1        2.0    67.0     71.0           9.0    80.0       94.0  \n",
       "2       23.0    87.0     84.0          40.0    88.0       36.0  \n",
       "3        7.0    83.0     89.0          61.0     NaN       13.0  \n",
       "4        9.0    76.0     76.0          42.0     NaN       83.0  \n",
       "5        7.0    85.0     94.0          83.0    91.0       84.0  \n",
       "6       17.0    76.0     68.0          89.0    11.0       57.0  \n",
       "7       17.0     NaN     51.0           8.0    54.0       57.0  \n",
       "8       17.0     NaN     42.0          14.0    51.0       57.0  \n",
       "9       11.0     NaN     70.0          46.0    64.0       57.0  \n",
       "10      11.0     NaN     78.0          53.0     9.0       48.0  \n",
       "11      11.0    81.0     72.0          50.0    11.0       30.0  \n",
       "12      17.0    61.0     72.0          34.0    11.0       28.0  \n",
       "13       8.0    50.0     57.0          22.0    15.0       17.0  \n",
       "14      14.0    59.0     77.0          30.0    80.0       91.0  \n",
       "15       NaN     NaN      NaN           NaN     NaN        NaN  "
      ],
      "text/html": "<div>\n<style scoped>\n    .dataframe tbody tr th:only-of-type {\n        vertical-align: middle;\n    }\n\n    .dataframe tbody tr th {\n        vertical-align: top;\n    }\n\n    .dataframe thead th {\n        text-align: right;\n    }\n</style>\n<table border=\"1\" class=\"dataframe\">\n  <thead>\n    <tr style=\"text-align: right;\">\n      <th></th>\n      <th>Country</th>\n      <th>Real coffee</th>\n      <th>Instant coffee</th>\n      <th>Sweetener</th>\n      <th>Biscuits</th>\n      <th>Tin soup</th>\n      <th>Potatoes</th>\n      <th>Apples</th>\n      <th>Oranges</th>\n      <th>Tinned fruit</th>\n      <th>Garlic</th>\n      <th>Olive oil</th>\n    </tr>\n  </thead>\n  <tbody>\n    <tr>\n      <th>0</th>\n      <td>Germany</td>\n      <td>90.0</td>\n      <td>49.0</td>\n      <td>19.0</td>\n      <td>57.0</td>\n      <td>19.0</td>\n      <td>21.0</td>\n      <td>81.0</td>\n      <td>75.0</td>\n      <td>44.0</td>\n      <td>22.0</td>\n      <td>74.0</td>\n    </tr>\n    <tr>\n      <th>1</th>\n      <td>Germany</td>\n      <td>82.0</td>\n      <td>10.0</td>\n      <td>2.0</td>\n      <td>55.0</td>\n      <td>3.0</td>\n      <td>2.0</td>\n      <td>67.0</td>\n      <td>71.0</td>\n      <td>9.0</td>\n      <td>80.0</td>\n      <td>94.0</td>\n    </tr>\n    <tr>\n      <th>2</th>\n      <td>France</td>\n      <td>88.0</td>\n      <td>42.0</td>\n      <td>4.0</td>\n      <td>76.0</td>\n      <td>11.0</td>\n      <td>23.0</td>\n      <td>87.0</td>\n      <td>84.0</td>\n      <td>40.0</td>\n      <td>88.0</td>\n      <td>36.0</td>\n    </tr>\n    <tr>\n      <th>3</th>\n      <td>Holland</td>\n      <td>96.0</td>\n      <td>62.0</td>\n      <td>32.0</td>\n      <td>NaN</td>\n      <td>43.0</td>\n      <td>7.0</td>\n      <td>83.0</td>\n      <td>89.0</td>\n      <td>61.0</td>\n      <td>NaN</td>\n      <td>13.0</td>\n    </tr>\n    <tr>\n      <th>4</th>\n      <td>Belgium</td>\n      <td>94.0</td>\n      <td>38.0</td>\n      <td>11.0</td>\n      <td>NaN</td>\n      <td>23.0</td>\n      <td>9.0</td>\n      <td>76.0</td>\n      <td>76.0</td>\n      <td>42.0</td>\n      <td>NaN</td>\n      <td>83.0</td>\n    </tr>\n    <tr>\n      <th>5</th>\n      <td>Luxembourg</td>\n      <td>97.0</td>\n      <td>61.0</td>\n      <td>28.0</td>\n      <td>NaN</td>\n      <td>12.0</td>\n      <td>7.0</td>\n      <td>85.0</td>\n      <td>94.0</td>\n      <td>83.0</td>\n      <td>91.0</td>\n      <td>84.0</td>\n    </tr>\n    <tr>\n      <th>6</th>\n      <td>England</td>\n      <td>27.0</td>\n      <td>86.0</td>\n      <td>22.0</td>\n      <td>91.0</td>\n      <td>76.0</td>\n      <td>17.0</td>\n      <td>76.0</td>\n      <td>68.0</td>\n      <td>89.0</td>\n      <td>11.0</td>\n      <td>57.0</td>\n    </tr>\n    <tr>\n      <th>7</th>\n      <td>Portugal</td>\n      <td>72.0</td>\n      <td>26.0</td>\n      <td>2.0</td>\n      <td>22.0</td>\n      <td>1.0</td>\n      <td>17.0</td>\n      <td>NaN</td>\n      <td>51.0</td>\n      <td>8.0</td>\n      <td>54.0</td>\n      <td>57.0</td>\n    </tr>\n    <tr>\n      <th>8</th>\n      <td>Austria</td>\n      <td>55.0</td>\n      <td>31.0</td>\n      <td>8.0</td>\n      <td>29.0</td>\n      <td>12.0</td>\n      <td>17.0</td>\n      <td>NaN</td>\n      <td>42.0</td>\n      <td>14.0</td>\n      <td>51.0</td>\n      <td>57.0</td>\n    </tr>\n    <tr>\n      <th>9</th>\n      <td>Switzerland</td>\n      <td>73.0</td>\n      <td>72.0</td>\n      <td>25.0</td>\n      <td>31.0</td>\n      <td>12.0</td>\n      <td>11.0</td>\n      <td>NaN</td>\n      <td>70.0</td>\n      <td>46.0</td>\n      <td>64.0</td>\n      <td>57.0</td>\n    </tr>\n    <tr>\n      <th>10</th>\n      <td>Sweden</td>\n      <td>97.0</td>\n      <td>13.0</td>\n      <td>31.0</td>\n      <td>9.0</td>\n      <td>43.0</td>\n      <td>11.0</td>\n      <td>NaN</td>\n      <td>78.0</td>\n      <td>53.0</td>\n      <td>9.0</td>\n      <td>48.0</td>\n    </tr>\n    <tr>\n      <th>11</th>\n      <td>Denmark</td>\n      <td>96.0</td>\n      <td>17.0</td>\n      <td>35.0</td>\n      <td>66.0</td>\n      <td>17.0</td>\n      <td>11.0</td>\n      <td>81.0</td>\n      <td>72.0</td>\n      <td>50.0</td>\n      <td>11.0</td>\n      <td>30.0</td>\n    </tr>\n    <tr>\n      <th>12</th>\n      <td>Norway</td>\n      <td>92.0</td>\n      <td>17.0</td>\n      <td>13.0</td>\n      <td>62.0</td>\n      <td>4.0</td>\n      <td>17.0</td>\n      <td>61.0</td>\n      <td>72.0</td>\n      <td>34.0</td>\n      <td>11.0</td>\n      <td>28.0</td>\n    </tr>\n    <tr>\n      <th>13</th>\n      <td>Finland</td>\n      <td>98.0</td>\n      <td>12.0</td>\n      <td>20.0</td>\n      <td>64.0</td>\n      <td>10.0</td>\n      <td>8.0</td>\n      <td>50.0</td>\n      <td>57.0</td>\n      <td>22.0</td>\n      <td>15.0</td>\n      <td>17.0</td>\n    </tr>\n    <tr>\n      <th>14</th>\n      <td>Spain</td>\n      <td>70.0</td>\n      <td>40.0</td>\n      <td>3.0</td>\n      <td>62.0</td>\n      <td>2.0</td>\n      <td>14.0</td>\n      <td>59.0</td>\n      <td>77.0</td>\n      <td>30.0</td>\n      <td>80.0</td>\n      <td>91.0</td>\n    </tr>\n    <tr>\n      <th>15</th>\n      <td>NaN</td>\n      <td>NaN</td>\n      <td>NaN</td>\n      <td>NaN</td>\n      <td>NaN</td>\n      <td>NaN</td>\n      <td>NaN</td>\n      <td>NaN</td>\n      <td>NaN</td>\n      <td>NaN</td>\n      <td>NaN</td>\n      <td>NaN</td>\n    </tr>\n  </tbody>\n</table>\n</div>"
     },
     "metadata": {},
     "execution_count": 27
    }
   ],
   "source": [
    "df.replace(\"Italy\" , method=\"ffill\") # It will replace the down value as upper value"
   ]
  },
  {
   "cell_type": "code",
   "execution_count": 29,
   "metadata": {},
   "outputs": [
    {
     "output_type": "execute_result",
     "data": {
      "text/plain": [
       "        Country  Real coffee  Instant coffee  Sweetener  Biscuits  Tin soup  \\\n",
       "0       Germany         90.0            49.0       19.0      57.0      19.0   \n",
       "1         Italy         82.0            10.0        2.0      55.0       3.0   \n",
       "2        France         88.0            42.0        4.0      76.0      11.0   \n",
       "3       Holland         96.0            62.0       32.0       NaN      43.0   \n",
       "4       Belgium         94.0            38.0       11.0       NaN      23.0   \n",
       "5    Luxembourg         97.0            61.0       28.0       NaN      12.0   \n",
       "6       England         27.0            86.0       22.0      91.0      76.0   \n",
       "7      Portugal         72.0            26.0        2.0      22.0       1.0   \n",
       "8       Austria         55.0            31.0        8.0      29.0      12.0   \n",
       "9   Switzerland         73.0            72.0       25.0      31.0      12.0   \n",
       "10       Sweden         97.0            13.0       31.0       9.0      43.0   \n",
       "11      Denmark         96.0            17.0       35.0      66.0      17.0   \n",
       "12       Norway         92.0            17.0       13.0      62.0       4.0   \n",
       "13      Finland         98.0            12.0       20.0      64.0      10.0   \n",
       "14        Spain         70.0            40.0        3.0      62.0       2.0   \n",
       "15          NaN          NaN             NaN        NaN       NaN       NaN   \n",
       "\n",
       "    Potatoes  Apples  Oranges  Tinned fruit  Garlic  Olive oil  \n",
       "0       21.0    81.0     75.0          44.0    22.0       74.0  \n",
       "1        2.0    67.0     84.0           9.0    80.0       94.0  \n",
       "2       23.0    87.0     84.0          40.0    88.0       36.0  \n",
       "3        7.0    83.0     89.0          61.0     NaN       13.0  \n",
       "4        9.0    76.0     76.0          42.0     NaN       83.0  \n",
       "5        7.0    85.0     94.0          83.0    91.0       84.0  \n",
       "6       17.0    76.0     68.0          89.0    11.0       57.0  \n",
       "7       17.0     NaN     51.0           8.0    54.0       57.0  \n",
       "8       17.0     NaN     42.0          14.0    51.0       57.0  \n",
       "9       11.0     NaN     70.0          46.0    64.0       57.0  \n",
       "10      11.0     NaN     78.0          53.0     9.0       48.0  \n",
       "11      11.0    81.0     72.0          50.0    11.0       30.0  \n",
       "12      17.0    61.0     72.0          34.0    11.0       28.0  \n",
       "13       8.0    50.0     57.0          22.0    15.0       17.0  \n",
       "14      14.0    59.0     77.0          30.0    80.0       91.0  \n",
       "15       NaN     NaN      NaN           NaN     NaN        NaN  "
      ],
      "text/html": "<div>\n<style scoped>\n    .dataframe tbody tr th:only-of-type {\n        vertical-align: middle;\n    }\n\n    .dataframe tbody tr th {\n        vertical-align: top;\n    }\n\n    .dataframe thead th {\n        text-align: right;\n    }\n</style>\n<table border=\"1\" class=\"dataframe\">\n  <thead>\n    <tr style=\"text-align: right;\">\n      <th></th>\n      <th>Country</th>\n      <th>Real coffee</th>\n      <th>Instant coffee</th>\n      <th>Sweetener</th>\n      <th>Biscuits</th>\n      <th>Tin soup</th>\n      <th>Potatoes</th>\n      <th>Apples</th>\n      <th>Oranges</th>\n      <th>Tinned fruit</th>\n      <th>Garlic</th>\n      <th>Olive oil</th>\n    </tr>\n  </thead>\n  <tbody>\n    <tr>\n      <th>0</th>\n      <td>Germany</td>\n      <td>90.0</td>\n      <td>49.0</td>\n      <td>19.0</td>\n      <td>57.0</td>\n      <td>19.0</td>\n      <td>21.0</td>\n      <td>81.0</td>\n      <td>75.0</td>\n      <td>44.0</td>\n      <td>22.0</td>\n      <td>74.0</td>\n    </tr>\n    <tr>\n      <th>1</th>\n      <td>Italy</td>\n      <td>82.0</td>\n      <td>10.0</td>\n      <td>2.0</td>\n      <td>55.0</td>\n      <td>3.0</td>\n      <td>2.0</td>\n      <td>67.0</td>\n      <td>84.0</td>\n      <td>9.0</td>\n      <td>80.0</td>\n      <td>94.0</td>\n    </tr>\n    <tr>\n      <th>2</th>\n      <td>France</td>\n      <td>88.0</td>\n      <td>42.0</td>\n      <td>4.0</td>\n      <td>76.0</td>\n      <td>11.0</td>\n      <td>23.0</td>\n      <td>87.0</td>\n      <td>84.0</td>\n      <td>40.0</td>\n      <td>88.0</td>\n      <td>36.0</td>\n    </tr>\n    <tr>\n      <th>3</th>\n      <td>Holland</td>\n      <td>96.0</td>\n      <td>62.0</td>\n      <td>32.0</td>\n      <td>NaN</td>\n      <td>43.0</td>\n      <td>7.0</td>\n      <td>83.0</td>\n      <td>89.0</td>\n      <td>61.0</td>\n      <td>NaN</td>\n      <td>13.0</td>\n    </tr>\n    <tr>\n      <th>4</th>\n      <td>Belgium</td>\n      <td>94.0</td>\n      <td>38.0</td>\n      <td>11.0</td>\n      <td>NaN</td>\n      <td>23.0</td>\n      <td>9.0</td>\n      <td>76.0</td>\n      <td>76.0</td>\n      <td>42.0</td>\n      <td>NaN</td>\n      <td>83.0</td>\n    </tr>\n    <tr>\n      <th>5</th>\n      <td>Luxembourg</td>\n      <td>97.0</td>\n      <td>61.0</td>\n      <td>28.0</td>\n      <td>NaN</td>\n      <td>12.0</td>\n      <td>7.0</td>\n      <td>85.0</td>\n      <td>94.0</td>\n      <td>83.0</td>\n      <td>91.0</td>\n      <td>84.0</td>\n    </tr>\n    <tr>\n      <th>6</th>\n      <td>England</td>\n      <td>27.0</td>\n      <td>86.0</td>\n      <td>22.0</td>\n      <td>91.0</td>\n      <td>76.0</td>\n      <td>17.0</td>\n      <td>76.0</td>\n      <td>68.0</td>\n      <td>89.0</td>\n      <td>11.0</td>\n      <td>57.0</td>\n    </tr>\n    <tr>\n      <th>7</th>\n      <td>Portugal</td>\n      <td>72.0</td>\n      <td>26.0</td>\n      <td>2.0</td>\n      <td>22.0</td>\n      <td>1.0</td>\n      <td>17.0</td>\n      <td>NaN</td>\n      <td>51.0</td>\n      <td>8.0</td>\n      <td>54.0</td>\n      <td>57.0</td>\n    </tr>\n    <tr>\n      <th>8</th>\n      <td>Austria</td>\n      <td>55.0</td>\n      <td>31.0</td>\n      <td>8.0</td>\n      <td>29.0</td>\n      <td>12.0</td>\n      <td>17.0</td>\n      <td>NaN</td>\n      <td>42.0</td>\n      <td>14.0</td>\n      <td>51.0</td>\n      <td>57.0</td>\n    </tr>\n    <tr>\n      <th>9</th>\n      <td>Switzerland</td>\n      <td>73.0</td>\n      <td>72.0</td>\n      <td>25.0</td>\n      <td>31.0</td>\n      <td>12.0</td>\n      <td>11.0</td>\n      <td>NaN</td>\n      <td>70.0</td>\n      <td>46.0</td>\n      <td>64.0</td>\n      <td>57.0</td>\n    </tr>\n    <tr>\n      <th>10</th>\n      <td>Sweden</td>\n      <td>97.0</td>\n      <td>13.0</td>\n      <td>31.0</td>\n      <td>9.0</td>\n      <td>43.0</td>\n      <td>11.0</td>\n      <td>NaN</td>\n      <td>78.0</td>\n      <td>53.0</td>\n      <td>9.0</td>\n      <td>48.0</td>\n    </tr>\n    <tr>\n      <th>11</th>\n      <td>Denmark</td>\n      <td>96.0</td>\n      <td>17.0</td>\n      <td>35.0</td>\n      <td>66.0</td>\n      <td>17.0</td>\n      <td>11.0</td>\n      <td>81.0</td>\n      <td>72.0</td>\n      <td>50.0</td>\n      <td>11.0</td>\n      <td>30.0</td>\n    </tr>\n    <tr>\n      <th>12</th>\n      <td>Norway</td>\n      <td>92.0</td>\n      <td>17.0</td>\n      <td>13.0</td>\n      <td>62.0</td>\n      <td>4.0</td>\n      <td>17.0</td>\n      <td>61.0</td>\n      <td>72.0</td>\n      <td>34.0</td>\n      <td>11.0</td>\n      <td>28.0</td>\n    </tr>\n    <tr>\n      <th>13</th>\n      <td>Finland</td>\n      <td>98.0</td>\n      <td>12.0</td>\n      <td>20.0</td>\n      <td>64.0</td>\n      <td>10.0</td>\n      <td>8.0</td>\n      <td>50.0</td>\n      <td>57.0</td>\n      <td>22.0</td>\n      <td>15.0</td>\n      <td>17.0</td>\n    </tr>\n    <tr>\n      <th>14</th>\n      <td>Spain</td>\n      <td>70.0</td>\n      <td>40.0</td>\n      <td>3.0</td>\n      <td>62.0</td>\n      <td>2.0</td>\n      <td>14.0</td>\n      <td>59.0</td>\n      <td>77.0</td>\n      <td>30.0</td>\n      <td>80.0</td>\n      <td>91.0</td>\n    </tr>\n    <tr>\n      <th>15</th>\n      <td>NaN</td>\n      <td>NaN</td>\n      <td>NaN</td>\n      <td>NaN</td>\n      <td>NaN</td>\n      <td>NaN</td>\n      <td>NaN</td>\n      <td>NaN</td>\n      <td>NaN</td>\n      <td>NaN</td>\n      <td>NaN</td>\n      <td>NaN</td>\n    </tr>\n  </tbody>\n</table>\n</div>"
     },
     "metadata": {},
     "execution_count": 29
    }
   ],
   "source": [
    "df.replace(71.0, method=\"bfill\" , limit= 1) # It will fill the down value UPTO 1 "
   ]
  },
  {
   "cell_type": "code",
   "execution_count": 32,
   "metadata": {},
   "outputs": [
    {
     "output_type": "execute_result",
     "data": {
      "text/plain": [
       "        Country  Real coffee  Instant coffee  Sweetener  Biscuits  Tin soup  \\\n",
       "0       Germany         90.0            49.0       19.0      57.0      19.0   \n",
       "1         Italy         82.0            10.0        2.0      55.0       3.0   \n",
       "2        France         88.0            42.0        4.0      76.0      11.0   \n",
       "3       Holland         96.0            62.0       32.0       NaN      43.0   \n",
       "4       Belgium         94.0            38.0       11.0       NaN      23.0   \n",
       "5    Luxembourg        100.0            61.0       28.0       NaN      12.0   \n",
       "6       England         27.0            86.0       22.0      91.0      76.0   \n",
       "7      Portugal         72.0            26.0        2.0      22.0       1.0   \n",
       "8       Austria         55.0            31.0        8.0      29.0      12.0   \n",
       "9   Switzerland         73.0            72.0       25.0      31.0      12.0   \n",
       "10       Sweden        100.0            13.0       31.0       9.0      43.0   \n",
       "11      Denmark         96.0            17.0       35.0      66.0      17.0   \n",
       "12       Norway         92.0            17.0       13.0      62.0       4.0   \n",
       "13      Finland         98.0            12.0       20.0      64.0      10.0   \n",
       "14        Spain         70.0            40.0        3.0      62.0       2.0   \n",
       "15          NaN          NaN             NaN        NaN       NaN       NaN   \n",
       "\n",
       "    Potatoes  Apples  Oranges  Tinned fruit  Garlic  Olive oil  \n",
       "0       21.0    81.0     75.0          44.0    22.0       74.0  \n",
       "1        2.0    67.0     71.0           9.0    80.0       94.0  \n",
       "2       23.0    87.0     84.0          40.0    88.0       36.0  \n",
       "3        7.0    83.0     89.0          61.0     NaN       13.0  \n",
       "4        9.0    76.0     76.0          42.0     NaN       83.0  \n",
       "5        7.0    85.0     94.0          83.0    91.0       84.0  \n",
       "6       17.0    76.0     68.0          89.0    11.0       57.0  \n",
       "7       17.0     NaN     51.0           8.0    54.0       57.0  \n",
       "8       17.0     NaN     42.0          14.0    51.0       57.0  \n",
       "9       11.0     NaN     70.0          46.0    64.0       57.0  \n",
       "10      11.0     NaN     78.0          53.0     9.0       48.0  \n",
       "11      11.0    81.0     72.0          50.0    11.0       30.0  \n",
       "12      17.0    61.0     72.0          34.0    11.0       28.0  \n",
       "13       8.0    50.0     57.0          22.0    15.0       17.0  \n",
       "14      14.0    59.0     77.0          30.0    80.0       91.0  \n",
       "15       NaN     NaN      NaN           NaN     NaN        NaN  "
      ],
      "text/html": "<div>\n<style scoped>\n    .dataframe tbody tr th:only-of-type {\n        vertical-align: middle;\n    }\n\n    .dataframe tbody tr th {\n        vertical-align: top;\n    }\n\n    .dataframe thead th {\n        text-align: right;\n    }\n</style>\n<table border=\"1\" class=\"dataframe\">\n  <thead>\n    <tr style=\"text-align: right;\">\n      <th></th>\n      <th>Country</th>\n      <th>Real coffee</th>\n      <th>Instant coffee</th>\n      <th>Sweetener</th>\n      <th>Biscuits</th>\n      <th>Tin soup</th>\n      <th>Potatoes</th>\n      <th>Apples</th>\n      <th>Oranges</th>\n      <th>Tinned fruit</th>\n      <th>Garlic</th>\n      <th>Olive oil</th>\n    </tr>\n  </thead>\n  <tbody>\n    <tr>\n      <th>0</th>\n      <td>Germany</td>\n      <td>90.0</td>\n      <td>49.0</td>\n      <td>19.0</td>\n      <td>57.0</td>\n      <td>19.0</td>\n      <td>21.0</td>\n      <td>81.0</td>\n      <td>75.0</td>\n      <td>44.0</td>\n      <td>22.0</td>\n      <td>74.0</td>\n    </tr>\n    <tr>\n      <th>1</th>\n      <td>Italy</td>\n      <td>82.0</td>\n      <td>10.0</td>\n      <td>2.0</td>\n      <td>55.0</td>\n      <td>3.0</td>\n      <td>2.0</td>\n      <td>67.0</td>\n      <td>71.0</td>\n      <td>9.0</td>\n      <td>80.0</td>\n      <td>94.0</td>\n    </tr>\n    <tr>\n      <th>2</th>\n      <td>France</td>\n      <td>88.0</td>\n      <td>42.0</td>\n      <td>4.0</td>\n      <td>76.0</td>\n      <td>11.0</td>\n      <td>23.0</td>\n      <td>87.0</td>\n      <td>84.0</td>\n      <td>40.0</td>\n      <td>88.0</td>\n      <td>36.0</td>\n    </tr>\n    <tr>\n      <th>3</th>\n      <td>Holland</td>\n      <td>96.0</td>\n      <td>62.0</td>\n      <td>32.0</td>\n      <td>NaN</td>\n      <td>43.0</td>\n      <td>7.0</td>\n      <td>83.0</td>\n      <td>89.0</td>\n      <td>61.0</td>\n      <td>NaN</td>\n      <td>13.0</td>\n    </tr>\n    <tr>\n      <th>4</th>\n      <td>Belgium</td>\n      <td>94.0</td>\n      <td>38.0</td>\n      <td>11.0</td>\n      <td>NaN</td>\n      <td>23.0</td>\n      <td>9.0</td>\n      <td>76.0</td>\n      <td>76.0</td>\n      <td>42.0</td>\n      <td>NaN</td>\n      <td>83.0</td>\n    </tr>\n    <tr>\n      <th>5</th>\n      <td>Luxembourg</td>\n      <td>100.0</td>\n      <td>61.0</td>\n      <td>28.0</td>\n      <td>NaN</td>\n      <td>12.0</td>\n      <td>7.0</td>\n      <td>85.0</td>\n      <td>94.0</td>\n      <td>83.0</td>\n      <td>91.0</td>\n      <td>84.0</td>\n    </tr>\n    <tr>\n      <th>6</th>\n      <td>England</td>\n      <td>27.0</td>\n      <td>86.0</td>\n      <td>22.0</td>\n      <td>91.0</td>\n      <td>76.0</td>\n      <td>17.0</td>\n      <td>76.0</td>\n      <td>68.0</td>\n      <td>89.0</td>\n      <td>11.0</td>\n      <td>57.0</td>\n    </tr>\n    <tr>\n      <th>7</th>\n      <td>Portugal</td>\n      <td>72.0</td>\n      <td>26.0</td>\n      <td>2.0</td>\n      <td>22.0</td>\n      <td>1.0</td>\n      <td>17.0</td>\n      <td>NaN</td>\n      <td>51.0</td>\n      <td>8.0</td>\n      <td>54.0</td>\n      <td>57.0</td>\n    </tr>\n    <tr>\n      <th>8</th>\n      <td>Austria</td>\n      <td>55.0</td>\n      <td>31.0</td>\n      <td>8.0</td>\n      <td>29.0</td>\n      <td>12.0</td>\n      <td>17.0</td>\n      <td>NaN</td>\n      <td>42.0</td>\n      <td>14.0</td>\n      <td>51.0</td>\n      <td>57.0</td>\n    </tr>\n    <tr>\n      <th>9</th>\n      <td>Switzerland</td>\n      <td>73.0</td>\n      <td>72.0</td>\n      <td>25.0</td>\n      <td>31.0</td>\n      <td>12.0</td>\n      <td>11.0</td>\n      <td>NaN</td>\n      <td>70.0</td>\n      <td>46.0</td>\n      <td>64.0</td>\n      <td>57.0</td>\n    </tr>\n    <tr>\n      <th>10</th>\n      <td>Sweden</td>\n      <td>100.0</td>\n      <td>13.0</td>\n      <td>31.0</td>\n      <td>9.0</td>\n      <td>43.0</td>\n      <td>11.0</td>\n      <td>NaN</td>\n      <td>78.0</td>\n      <td>53.0</td>\n      <td>9.0</td>\n      <td>48.0</td>\n    </tr>\n    <tr>\n      <th>11</th>\n      <td>Denmark</td>\n      <td>96.0</td>\n      <td>17.0</td>\n      <td>35.0</td>\n      <td>66.0</td>\n      <td>17.0</td>\n      <td>11.0</td>\n      <td>81.0</td>\n      <td>72.0</td>\n      <td>50.0</td>\n      <td>11.0</td>\n      <td>30.0</td>\n    </tr>\n    <tr>\n      <th>12</th>\n      <td>Norway</td>\n      <td>92.0</td>\n      <td>17.0</td>\n      <td>13.0</td>\n      <td>62.0</td>\n      <td>4.0</td>\n      <td>17.0</td>\n      <td>61.0</td>\n      <td>72.0</td>\n      <td>34.0</td>\n      <td>11.0</td>\n      <td>28.0</td>\n    </tr>\n    <tr>\n      <th>13</th>\n      <td>Finland</td>\n      <td>98.0</td>\n      <td>12.0</td>\n      <td>20.0</td>\n      <td>64.0</td>\n      <td>10.0</td>\n      <td>8.0</td>\n      <td>50.0</td>\n      <td>57.0</td>\n      <td>22.0</td>\n      <td>15.0</td>\n      <td>17.0</td>\n    </tr>\n    <tr>\n      <th>14</th>\n      <td>Spain</td>\n      <td>70.0</td>\n      <td>40.0</td>\n      <td>3.0</td>\n      <td>62.0</td>\n      <td>2.0</td>\n      <td>14.0</td>\n      <td>59.0</td>\n      <td>77.0</td>\n      <td>30.0</td>\n      <td>80.0</td>\n      <td>91.0</td>\n    </tr>\n    <tr>\n      <th>15</th>\n      <td>NaN</td>\n      <td>NaN</td>\n      <td>NaN</td>\n      <td>NaN</td>\n      <td>NaN</td>\n      <td>NaN</td>\n      <td>NaN</td>\n      <td>NaN</td>\n      <td>NaN</td>\n      <td>NaN</td>\n      <td>NaN</td>\n      <td>NaN</td>\n    </tr>\n  </tbody>\n</table>\n</div>"
     },
     "metadata": {},
     "execution_count": 32
    }
   ],
   "source": [
    "df.replace(97.0  , 100 ,inplace=True)# It is change the value of in the MSExel directly\n",
    "df"
   ]
  },
  {
   "cell_type": "code",
   "execution_count": null,
   "metadata": {},
   "outputs": [],
   "source": []
  }
 ]
}