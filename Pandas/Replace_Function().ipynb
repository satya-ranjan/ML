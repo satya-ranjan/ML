{
 "metadata": {
  "language_info": {
   "codemirror_mode": {
    "name": "ipython",
    "version": 3
   },
   "file_extension": ".py",
   "mimetype": "text/x-python",
   "name": "python",
   "nbconvert_exporter": "python",
   "pygments_lexer": "ipython3",
   "version": 3
  },
  "orig_nbformat": 4
 },
 "nbformat": 4,
 "nbformat_minor": 2,
 "cells": [
  {
   "source": [
    "# What is pandas replace"
   ],
   "cell_type": "markdown",
   "metadata": {}
  },
  {
   "source": [
    "Values to the dataframe are replaced with other values dynamically. \n",
    "\n",
    "Syntax:DataFrame.replace()\n",
    "\n",
    "Parameters : toreplace,     limit,\n",
    "             Value,         regex,\n",
    "             inplace,       method,"
   ],
   "cell_type": "markdown",
   "metadata": {}
  },
  {
   "cell_type": "code",
   "execution_count": null,
   "metadata": {},
   "outputs": [],
   "source": []
  }
 ]
}