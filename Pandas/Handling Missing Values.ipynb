{
 "metadata": {
  "language_info": {
   "codemirror_mode": {
    "name": "ipython",
    "version": 3
   },
   "file_extension": ".py",
   "mimetype": "text/x-python",
   "name": "python",
   "nbconvert_exporter": "python",
   "pygments_lexer": "ipython3",
   "version": "3.9.5"
  },
  "orig_nbformat": 4,
  "kernelspec": {
   "name": "python3",
   "display_name": "Python 3.9.5 64-bit"
  },
  "interpreter": {
   "hash": "a12d694c3ccac42055183a0ad11e659c6a2db5c6555ad2c8919d5814fd4e404f"
  }
 },
 "nbformat": 4,
 "nbformat_minor": 2,
 "cells": [
  {
   "source": [
    "# Handling Missing Values"
   ],
   "cell_type": "markdown",
   "metadata": {}
  },
  {
   "cell_type": "code",
   "execution_count": 2,
   "metadata": {},
   "outputs": [],
   "source": [
    "import pandas as pd"
   ]
  },
  {
   "cell_type": "code",
   "execution_count": 10,
   "metadata": {},
   "outputs": [
    {
     "output_type": "execute_result",
     "data": {
      "text/plain": [
       "        Country  Real coffee  Instant coffee  Sweetener  Biscuits  Tin soup  \\\n",
       "0       Germany           90              49       19.0      57.0      19.0   \n",
       "1         Italy           82              10        2.0      55.0       3.0   \n",
       "2        France           88              42        4.0      76.0      11.0   \n",
       "3       Holland           96              62       32.0      62.0      43.0   \n",
       "4       Belgium           94              38       11.0      74.0      23.0   \n",
       "5    Luxembourg           97              61       28.0      79.0      12.0   \n",
       "6       England           27              86       22.0      91.0      76.0   \n",
       "7      Portugal           72              26        2.0      22.0       1.0   \n",
       "8       Austria           55              31       15.0      29.0       NaN   \n",
       "9   Switzerland           73              72       25.0      31.0      10.0   \n",
       "10       Sweden           97              13       31.0       NaN      43.0   \n",
       "11      Denmark           96              17       35.0      66.0      17.0   \n",
       "12       Norway           92              17       13.0      62.0       4.0   \n",
       "13      Finland           98              12       20.0      64.0      10.0   \n",
       "14        Spain           70              40        NaN      62.0       2.0   \n",
       "15      Ireland           30              52       11.0      80.0      18.0   \n",
       "\n",
       "    Potatoes  Apples  Oranges  Tinned fruit  Garlic      Olive oil  \n",
       "0       21.0      81       75            44    22.0             74  \n",
       "1        2.0      67       71             9    80.0             94  \n",
       "2       23.0      87       84            40    88.0             36  \n",
       "3        7.0      83       89            61    15.0             13  \n",
       "4        9.0      76       76            42    29.0             83  \n",
       "5        7.0      85       94            83    91.0             84  \n",
       "6       17.0      76       68            89    11.0             57  \n",
       "7        NaN      22       51             8     NaN  Not available  \n",
       "8        NaN      49       42            14    51.0  Not available  \n",
       "9        NaN      79       70            46    64.0  Not available  \n",
       "10       NaN      56       78            53     9.0             48  \n",
       "11      11.0      81       72            50    11.0             30  \n",
       "12      17.0      61       72            34    11.0             28  \n",
       "13       8.0      50       57            22    15.0             17  \n",
       "14      14.0      59       77            30    86.0             91  \n",
       "15       2.0      57       52            46     5.0             31  "
      ],
      "text/html": "<div>\n<style scoped>\n    .dataframe tbody tr th:only-of-type {\n        vertical-align: middle;\n    }\n\n    .dataframe tbody tr th {\n        vertical-align: top;\n    }\n\n    .dataframe thead th {\n        text-align: right;\n    }\n</style>\n<table border=\"1\" class=\"dataframe\">\n  <thead>\n    <tr style=\"text-align: right;\">\n      <th></th>\n      <th>Country</th>\n      <th>Real coffee</th>\n      <th>Instant coffee</th>\n      <th>Sweetener</th>\n      <th>Biscuits</th>\n      <th>Tin soup</th>\n      <th>Potatoes</th>\n      <th>Apples</th>\n      <th>Oranges</th>\n      <th>Tinned fruit</th>\n      <th>Garlic</th>\n      <th>Olive oil</th>\n    </tr>\n  </thead>\n  <tbody>\n    <tr>\n      <th>0</th>\n      <td>Germany</td>\n      <td>90</td>\n      <td>49</td>\n      <td>19.0</td>\n      <td>57.0</td>\n      <td>19.0</td>\n      <td>21.0</td>\n      <td>81</td>\n      <td>75</td>\n      <td>44</td>\n      <td>22.0</td>\n      <td>74</td>\n    </tr>\n    <tr>\n      <th>1</th>\n      <td>Italy</td>\n      <td>82</td>\n      <td>10</td>\n      <td>2.0</td>\n      <td>55.0</td>\n      <td>3.0</td>\n      <td>2.0</td>\n      <td>67</td>\n      <td>71</td>\n      <td>9</td>\n      <td>80.0</td>\n      <td>94</td>\n    </tr>\n    <tr>\n      <th>2</th>\n      <td>France</td>\n      <td>88</td>\n      <td>42</td>\n      <td>4.0</td>\n      <td>76.0</td>\n      <td>11.0</td>\n      <td>23.0</td>\n      <td>87</td>\n      <td>84</td>\n      <td>40</td>\n      <td>88.0</td>\n      <td>36</td>\n    </tr>\n    <tr>\n      <th>3</th>\n      <td>Holland</td>\n      <td>96</td>\n      <td>62</td>\n      <td>32.0</td>\n      <td>62.0</td>\n      <td>43.0</td>\n      <td>7.0</td>\n      <td>83</td>\n      <td>89</td>\n      <td>61</td>\n      <td>15.0</td>\n      <td>13</td>\n    </tr>\n    <tr>\n      <th>4</th>\n      <td>Belgium</td>\n      <td>94</td>\n      <td>38</td>\n      <td>11.0</td>\n      <td>74.0</td>\n      <td>23.0</td>\n      <td>9.0</td>\n      <td>76</td>\n      <td>76</td>\n      <td>42</td>\n      <td>29.0</td>\n      <td>83</td>\n    </tr>\n    <tr>\n      <th>5</th>\n      <td>Luxembourg</td>\n      <td>97</td>\n      <td>61</td>\n      <td>28.0</td>\n      <td>79.0</td>\n      <td>12.0</td>\n      <td>7.0</td>\n      <td>85</td>\n      <td>94</td>\n      <td>83</td>\n      <td>91.0</td>\n      <td>84</td>\n    </tr>\n    <tr>\n      <th>6</th>\n      <td>England</td>\n      <td>27</td>\n      <td>86</td>\n      <td>22.0</td>\n      <td>91.0</td>\n      <td>76.0</td>\n      <td>17.0</td>\n      <td>76</td>\n      <td>68</td>\n      <td>89</td>\n      <td>11.0</td>\n      <td>57</td>\n    </tr>\n    <tr>\n      <th>7</th>\n      <td>Portugal</td>\n      <td>72</td>\n      <td>26</td>\n      <td>2.0</td>\n      <td>22.0</td>\n      <td>1.0</td>\n      <td>NaN</td>\n      <td>22</td>\n      <td>51</td>\n      <td>8</td>\n      <td>NaN</td>\n      <td>Not available</td>\n    </tr>\n    <tr>\n      <th>8</th>\n      <td>Austria</td>\n      <td>55</td>\n      <td>31</td>\n      <td>15.0</td>\n      <td>29.0</td>\n      <td>NaN</td>\n      <td>NaN</td>\n      <td>49</td>\n      <td>42</td>\n      <td>14</td>\n      <td>51.0</td>\n      <td>Not available</td>\n    </tr>\n    <tr>\n      <th>9</th>\n      <td>Switzerland</td>\n      <td>73</td>\n      <td>72</td>\n      <td>25.0</td>\n      <td>31.0</td>\n      <td>10.0</td>\n      <td>NaN</td>\n      <td>79</td>\n      <td>70</td>\n      <td>46</td>\n      <td>64.0</td>\n      <td>Not available</td>\n    </tr>\n    <tr>\n      <th>10</th>\n      <td>Sweden</td>\n      <td>97</td>\n      <td>13</td>\n      <td>31.0</td>\n      <td>NaN</td>\n      <td>43.0</td>\n      <td>NaN</td>\n      <td>56</td>\n      <td>78</td>\n      <td>53</td>\n      <td>9.0</td>\n      <td>48</td>\n    </tr>\n    <tr>\n      <th>11</th>\n      <td>Denmark</td>\n      <td>96</td>\n      <td>17</td>\n      <td>35.0</td>\n      <td>66.0</td>\n      <td>17.0</td>\n      <td>11.0</td>\n      <td>81</td>\n      <td>72</td>\n      <td>50</td>\n      <td>11.0</td>\n      <td>30</td>\n    </tr>\n    <tr>\n      <th>12</th>\n      <td>Norway</td>\n      <td>92</td>\n      <td>17</td>\n      <td>13.0</td>\n      <td>62.0</td>\n      <td>4.0</td>\n      <td>17.0</td>\n      <td>61</td>\n      <td>72</td>\n      <td>34</td>\n      <td>11.0</td>\n      <td>28</td>\n    </tr>\n    <tr>\n      <th>13</th>\n      <td>Finland</td>\n      <td>98</td>\n      <td>12</td>\n      <td>20.0</td>\n      <td>64.0</td>\n      <td>10.0</td>\n      <td>8.0</td>\n      <td>50</td>\n      <td>57</td>\n      <td>22</td>\n      <td>15.0</td>\n      <td>17</td>\n    </tr>\n    <tr>\n      <th>14</th>\n      <td>Spain</td>\n      <td>70</td>\n      <td>40</td>\n      <td>NaN</td>\n      <td>62.0</td>\n      <td>2.0</td>\n      <td>14.0</td>\n      <td>59</td>\n      <td>77</td>\n      <td>30</td>\n      <td>86.0</td>\n      <td>91</td>\n    </tr>\n    <tr>\n      <th>15</th>\n      <td>Ireland</td>\n      <td>30</td>\n      <td>52</td>\n      <td>11.0</td>\n      <td>80.0</td>\n      <td>18.0</td>\n      <td>2.0</td>\n      <td>57</td>\n      <td>52</td>\n      <td>46</td>\n      <td>5.0</td>\n      <td>31</td>\n    </tr>\n  </tbody>\n</table>\n</div>"
     },
     "metadata": {},
     "execution_count": 10
    }
   ],
   "source": [
    "df = pd.read_csv(\"E:\\\\ML\\\\ML\\\\Pandas\\\\food consumption.csv\")\n",
    "df"
   ]
  },
  {
   "cell_type": "code",
   "execution_count": 11,
   "metadata": {},
   "outputs": [
    {
     "output_type": "execute_result",
     "data": {
      "text/plain": [
       "        Country  Real coffee  Instant coffee  Sweetener  Biscuits  Tin soup  \\\n",
       "0       Germany           90              49       19.0      57.0      19.0   \n",
       "1         Italy           82              10        2.0      55.0       3.0   \n",
       "2        France           88              42        4.0      76.0      11.0   \n",
       "3       Holland           96              62       32.0      62.0      43.0   \n",
       "4       Belgium           94              38       11.0      74.0      23.0   \n",
       "5    Luxembourg           97              61       28.0      79.0      12.0   \n",
       "6       England           27              86       22.0      91.0      76.0   \n",
       "7      Portugal           72              26        2.0      22.0       1.0   \n",
       "8       Austria           55              31       15.0      29.0       NaN   \n",
       "9   Switzerland           73              72       25.0      31.0      10.0   \n",
       "10       Sweden           97              13       31.0       NaN      43.0   \n",
       "11      Denmark           96              17       35.0      66.0      17.0   \n",
       "12       Norway           92              17       13.0      62.0       4.0   \n",
       "13      Finland           98              12       20.0      64.0      10.0   \n",
       "14        Spain           70              40        NaN      62.0       2.0   \n",
       "15      Ireland           30              52       11.0      80.0      18.0   \n",
       "\n",
       "    Potatoes  Apples  Oranges  Tinned fruit  Garlic  Olive oil  \n",
       "0       21.0      81       75            44    22.0       74.0  \n",
       "1        2.0      67       71             9    80.0       94.0  \n",
       "2       23.0      87       84            40    88.0       36.0  \n",
       "3        7.0      83       89            61    15.0       13.0  \n",
       "4        9.0      76       76            42    29.0       83.0  \n",
       "5        7.0      85       94            83    91.0       84.0  \n",
       "6       17.0      76       68            89    11.0       57.0  \n",
       "7        NaN      22       51             8     NaN        NaN  \n",
       "8        NaN      49       42            14    51.0        NaN  \n",
       "9        NaN      79       70            46    64.0        NaN  \n",
       "10       NaN      56       78            53     9.0       48.0  \n",
       "11      11.0      81       72            50    11.0       30.0  \n",
       "12      17.0      61       72            34    11.0       28.0  \n",
       "13       8.0      50       57            22    15.0       17.0  \n",
       "14      14.0      59       77            30    86.0       91.0  \n",
       "15       2.0      57       52            46     5.0       31.0  "
      ],
      "text/html": "<div>\n<style scoped>\n    .dataframe tbody tr th:only-of-type {\n        vertical-align: middle;\n    }\n\n    .dataframe tbody tr th {\n        vertical-align: top;\n    }\n\n    .dataframe thead th {\n        text-align: right;\n    }\n</style>\n<table border=\"1\" class=\"dataframe\">\n  <thead>\n    <tr style=\"text-align: right;\">\n      <th></th>\n      <th>Country</th>\n      <th>Real coffee</th>\n      <th>Instant coffee</th>\n      <th>Sweetener</th>\n      <th>Biscuits</th>\n      <th>Tin soup</th>\n      <th>Potatoes</th>\n      <th>Apples</th>\n      <th>Oranges</th>\n      <th>Tinned fruit</th>\n      <th>Garlic</th>\n      <th>Olive oil</th>\n    </tr>\n  </thead>\n  <tbody>\n    <tr>\n      <th>0</th>\n      <td>Germany</td>\n      <td>90</td>\n      <td>49</td>\n      <td>19.0</td>\n      <td>57.0</td>\n      <td>19.0</td>\n      <td>21.0</td>\n      <td>81</td>\n      <td>75</td>\n      <td>44</td>\n      <td>22.0</td>\n      <td>74.0</td>\n    </tr>\n    <tr>\n      <th>1</th>\n      <td>Italy</td>\n      <td>82</td>\n      <td>10</td>\n      <td>2.0</td>\n      <td>55.0</td>\n      <td>3.0</td>\n      <td>2.0</td>\n      <td>67</td>\n      <td>71</td>\n      <td>9</td>\n      <td>80.0</td>\n      <td>94.0</td>\n    </tr>\n    <tr>\n      <th>2</th>\n      <td>France</td>\n      <td>88</td>\n      <td>42</td>\n      <td>4.0</td>\n      <td>76.0</td>\n      <td>11.0</td>\n      <td>23.0</td>\n      <td>87</td>\n      <td>84</td>\n      <td>40</td>\n      <td>88.0</td>\n      <td>36.0</td>\n    </tr>\n    <tr>\n      <th>3</th>\n      <td>Holland</td>\n      <td>96</td>\n      <td>62</td>\n      <td>32.0</td>\n      <td>62.0</td>\n      <td>43.0</td>\n      <td>7.0</td>\n      <td>83</td>\n      <td>89</td>\n      <td>61</td>\n      <td>15.0</td>\n      <td>13.0</td>\n    </tr>\n    <tr>\n      <th>4</th>\n      <td>Belgium</td>\n      <td>94</td>\n      <td>38</td>\n      <td>11.0</td>\n      <td>74.0</td>\n      <td>23.0</td>\n      <td>9.0</td>\n      <td>76</td>\n      <td>76</td>\n      <td>42</td>\n      <td>29.0</td>\n      <td>83.0</td>\n    </tr>\n    <tr>\n      <th>5</th>\n      <td>Luxembourg</td>\n      <td>97</td>\n      <td>61</td>\n      <td>28.0</td>\n      <td>79.0</td>\n      <td>12.0</td>\n      <td>7.0</td>\n      <td>85</td>\n      <td>94</td>\n      <td>83</td>\n      <td>91.0</td>\n      <td>84.0</td>\n    </tr>\n    <tr>\n      <th>6</th>\n      <td>England</td>\n      <td>27</td>\n      <td>86</td>\n      <td>22.0</td>\n      <td>91.0</td>\n      <td>76.0</td>\n      <td>17.0</td>\n      <td>76</td>\n      <td>68</td>\n      <td>89</td>\n      <td>11.0</td>\n      <td>57.0</td>\n    </tr>\n    <tr>\n      <th>7</th>\n      <td>Portugal</td>\n      <td>72</td>\n      <td>26</td>\n      <td>2.0</td>\n      <td>22.0</td>\n      <td>1.0</td>\n      <td>NaN</td>\n      <td>22</td>\n      <td>51</td>\n      <td>8</td>\n      <td>NaN</td>\n      <td>NaN</td>\n    </tr>\n    <tr>\n      <th>8</th>\n      <td>Austria</td>\n      <td>55</td>\n      <td>31</td>\n      <td>15.0</td>\n      <td>29.0</td>\n      <td>NaN</td>\n      <td>NaN</td>\n      <td>49</td>\n      <td>42</td>\n      <td>14</td>\n      <td>51.0</td>\n      <td>NaN</td>\n    </tr>\n    <tr>\n      <th>9</th>\n      <td>Switzerland</td>\n      <td>73</td>\n      <td>72</td>\n      <td>25.0</td>\n      <td>31.0</td>\n      <td>10.0</td>\n      <td>NaN</td>\n      <td>79</td>\n      <td>70</td>\n      <td>46</td>\n      <td>64.0</td>\n      <td>NaN</td>\n    </tr>\n    <tr>\n      <th>10</th>\n      <td>Sweden</td>\n      <td>97</td>\n      <td>13</td>\n      <td>31.0</td>\n      <td>NaN</td>\n      <td>43.0</td>\n      <td>NaN</td>\n      <td>56</td>\n      <td>78</td>\n      <td>53</td>\n      <td>9.0</td>\n      <td>48.0</td>\n    </tr>\n    <tr>\n      <th>11</th>\n      <td>Denmark</td>\n      <td>96</td>\n      <td>17</td>\n      <td>35.0</td>\n      <td>66.0</td>\n      <td>17.0</td>\n      <td>11.0</td>\n      <td>81</td>\n      <td>72</td>\n      <td>50</td>\n      <td>11.0</td>\n      <td>30.0</td>\n    </tr>\n    <tr>\n      <th>12</th>\n      <td>Norway</td>\n      <td>92</td>\n      <td>17</td>\n      <td>13.0</td>\n      <td>62.0</td>\n      <td>4.0</td>\n      <td>17.0</td>\n      <td>61</td>\n      <td>72</td>\n      <td>34</td>\n      <td>11.0</td>\n      <td>28.0</td>\n    </tr>\n    <tr>\n      <th>13</th>\n      <td>Finland</td>\n      <td>98</td>\n      <td>12</td>\n      <td>20.0</td>\n      <td>64.0</td>\n      <td>10.0</td>\n      <td>8.0</td>\n      <td>50</td>\n      <td>57</td>\n      <td>22</td>\n      <td>15.0</td>\n      <td>17.0</td>\n    </tr>\n    <tr>\n      <th>14</th>\n      <td>Spain</td>\n      <td>70</td>\n      <td>40</td>\n      <td>NaN</td>\n      <td>62.0</td>\n      <td>2.0</td>\n      <td>14.0</td>\n      <td>59</td>\n      <td>77</td>\n      <td>30</td>\n      <td>86.0</td>\n      <td>91.0</td>\n    </tr>\n    <tr>\n      <th>15</th>\n      <td>Ireland</td>\n      <td>30</td>\n      <td>52</td>\n      <td>11.0</td>\n      <td>80.0</td>\n      <td>18.0</td>\n      <td>2.0</td>\n      <td>57</td>\n      <td>52</td>\n      <td>46</td>\n      <td>5.0</td>\n      <td>31.0</td>\n    </tr>\n  </tbody>\n</table>\n</div>"
     },
     "metadata": {},
     "execution_count": 11
    }
   ],
   "source": [
    "df = pd.read_csv(\"E:\\\\ML\\\\ML\\\\Pandas\\\\food consumption.csv\", na_values=\"Not available\") \n",
    "df                                                          # It will handel \"Not available\" value to NaN"
   ]
  },
  {
   "cell_type": "code",
   "execution_count": 14,
   "metadata": {},
   "outputs": [
    {
     "output_type": "execute_result",
     "data": {
      "text/plain": [
       "        Country  Real coffee  Instant coffee Sweetener  Biscuits  Tin soup  \\\n",
       "0       Germany           90              49        19      57.0      19.0   \n",
       "1         Italy           82              10         2      55.0       3.0   \n",
       "2        France           88              42         4      76.0      11.0   \n",
       "3       Holland           96              62        32      62.0      43.0   \n",
       "4       Belgium           94              38        11      74.0      23.0   \n",
       "5    Luxembourg           97              61        28      79.0      12.0   \n",
       "6       England           27              86        22      91.0      76.0   \n",
       "7      Portugal           72              26         2      22.0       1.0   \n",
       "8       Austria           55              31  no value      29.0       NaN   \n",
       "9   Switzerland           73              72        25      31.0      10.0   \n",
       "10       Sweden           97              13        31       NaN      43.0   \n",
       "11      Denmark           96              17        35      66.0      17.0   \n",
       "12       Norway           92              17        13      62.0       4.0   \n",
       "13      Finland           98              12        20      64.0      10.0   \n",
       "14        Spain           70              40       NaN      62.0       2.0   \n",
       "15      Ireland           30              52        11      80.0      18.0   \n",
       "\n",
       "    Potatoes  Apples  Oranges  Tinned fruit  Garlic      Olive oil  \n",
       "0       21.0      81       75            44    22.0             74  \n",
       "1        2.0      67       71             9    80.0             94  \n",
       "2       23.0      87       84            40    88.0             36  \n",
       "3        7.0      83       89            61    15.0             13  \n",
       "4        9.0      76       76            42    29.0             83  \n",
       "5        7.0      85       94            83    91.0             84  \n",
       "6       17.0      76       68            89    11.0             57  \n",
       "7        NaN      22       51             8     NaN  Not available  \n",
       "8        NaN      49       42            14    51.0  Not available  \n",
       "9        NaN      79       70            46    64.0  Not available  \n",
       "10       NaN      56       78            53     9.0             48  \n",
       "11      11.0      81       72            50    11.0             30  \n",
       "12      17.0      61       72            34    11.0             28  \n",
       "13       8.0      50       57            22    15.0             17  \n",
       "14      14.0      59       77            30    86.0             91  \n",
       "15       2.0      57       52            46     5.0             31  "
      ],
      "text/html": "<div>\n<style scoped>\n    .dataframe tbody tr th:only-of-type {\n        vertical-align: middle;\n    }\n\n    .dataframe tbody tr th {\n        vertical-align: top;\n    }\n\n    .dataframe thead th {\n        text-align: right;\n    }\n</style>\n<table border=\"1\" class=\"dataframe\">\n  <thead>\n    <tr style=\"text-align: right;\">\n      <th></th>\n      <th>Country</th>\n      <th>Real coffee</th>\n      <th>Instant coffee</th>\n      <th>Sweetener</th>\n      <th>Biscuits</th>\n      <th>Tin soup</th>\n      <th>Potatoes</th>\n      <th>Apples</th>\n      <th>Oranges</th>\n      <th>Tinned fruit</th>\n      <th>Garlic</th>\n      <th>Olive oil</th>\n    </tr>\n  </thead>\n  <tbody>\n    <tr>\n      <th>0</th>\n      <td>Germany</td>\n      <td>90</td>\n      <td>49</td>\n      <td>19</td>\n      <td>57.0</td>\n      <td>19.0</td>\n      <td>21.0</td>\n      <td>81</td>\n      <td>75</td>\n      <td>44</td>\n      <td>22.0</td>\n      <td>74</td>\n    </tr>\n    <tr>\n      <th>1</th>\n      <td>Italy</td>\n      <td>82</td>\n      <td>10</td>\n      <td>2</td>\n      <td>55.0</td>\n      <td>3.0</td>\n      <td>2.0</td>\n      <td>67</td>\n      <td>71</td>\n      <td>9</td>\n      <td>80.0</td>\n      <td>94</td>\n    </tr>\n    <tr>\n      <th>2</th>\n      <td>France</td>\n      <td>88</td>\n      <td>42</td>\n      <td>4</td>\n      <td>76.0</td>\n      <td>11.0</td>\n      <td>23.0</td>\n      <td>87</td>\n      <td>84</td>\n      <td>40</td>\n      <td>88.0</td>\n      <td>36</td>\n    </tr>\n    <tr>\n      <th>3</th>\n      <td>Holland</td>\n      <td>96</td>\n      <td>62</td>\n      <td>32</td>\n      <td>62.0</td>\n      <td>43.0</td>\n      <td>7.0</td>\n      <td>83</td>\n      <td>89</td>\n      <td>61</td>\n      <td>15.0</td>\n      <td>13</td>\n    </tr>\n    <tr>\n      <th>4</th>\n      <td>Belgium</td>\n      <td>94</td>\n      <td>38</td>\n      <td>11</td>\n      <td>74.0</td>\n      <td>23.0</td>\n      <td>9.0</td>\n      <td>76</td>\n      <td>76</td>\n      <td>42</td>\n      <td>29.0</td>\n      <td>83</td>\n    </tr>\n    <tr>\n      <th>5</th>\n      <td>Luxembourg</td>\n      <td>97</td>\n      <td>61</td>\n      <td>28</td>\n      <td>79.0</td>\n      <td>12.0</td>\n      <td>7.0</td>\n      <td>85</td>\n      <td>94</td>\n      <td>83</td>\n      <td>91.0</td>\n      <td>84</td>\n    </tr>\n    <tr>\n      <th>6</th>\n      <td>England</td>\n      <td>27</td>\n      <td>86</td>\n      <td>22</td>\n      <td>91.0</td>\n      <td>76.0</td>\n      <td>17.0</td>\n      <td>76</td>\n      <td>68</td>\n      <td>89</td>\n      <td>11.0</td>\n      <td>57</td>\n    </tr>\n    <tr>\n      <th>7</th>\n      <td>Portugal</td>\n      <td>72</td>\n      <td>26</td>\n      <td>2</td>\n      <td>22.0</td>\n      <td>1.0</td>\n      <td>NaN</td>\n      <td>22</td>\n      <td>51</td>\n      <td>8</td>\n      <td>NaN</td>\n      <td>Not available</td>\n    </tr>\n    <tr>\n      <th>8</th>\n      <td>Austria</td>\n      <td>55</td>\n      <td>31</td>\n      <td>no value</td>\n      <td>29.0</td>\n      <td>NaN</td>\n      <td>NaN</td>\n      <td>49</td>\n      <td>42</td>\n      <td>14</td>\n      <td>51.0</td>\n      <td>Not available</td>\n    </tr>\n    <tr>\n      <th>9</th>\n      <td>Switzerland</td>\n      <td>73</td>\n      <td>72</td>\n      <td>25</td>\n      <td>31.0</td>\n      <td>10.0</td>\n      <td>NaN</td>\n      <td>79</td>\n      <td>70</td>\n      <td>46</td>\n      <td>64.0</td>\n      <td>Not available</td>\n    </tr>\n    <tr>\n      <th>10</th>\n      <td>Sweden</td>\n      <td>97</td>\n      <td>13</td>\n      <td>31</td>\n      <td>NaN</td>\n      <td>43.0</td>\n      <td>NaN</td>\n      <td>56</td>\n      <td>78</td>\n      <td>53</td>\n      <td>9.0</td>\n      <td>48</td>\n    </tr>\n    <tr>\n      <th>11</th>\n      <td>Denmark</td>\n      <td>96</td>\n      <td>17</td>\n      <td>35</td>\n      <td>66.0</td>\n      <td>17.0</td>\n      <td>11.0</td>\n      <td>81</td>\n      <td>72</td>\n      <td>50</td>\n      <td>11.0</td>\n      <td>30</td>\n    </tr>\n    <tr>\n      <th>12</th>\n      <td>Norway</td>\n      <td>92</td>\n      <td>17</td>\n      <td>13</td>\n      <td>62.0</td>\n      <td>4.0</td>\n      <td>17.0</td>\n      <td>61</td>\n      <td>72</td>\n      <td>34</td>\n      <td>11.0</td>\n      <td>28</td>\n    </tr>\n    <tr>\n      <th>13</th>\n      <td>Finland</td>\n      <td>98</td>\n      <td>12</td>\n      <td>20</td>\n      <td>64.0</td>\n      <td>10.0</td>\n      <td>8.0</td>\n      <td>50</td>\n      <td>57</td>\n      <td>22</td>\n      <td>15.0</td>\n      <td>17</td>\n    </tr>\n    <tr>\n      <th>14</th>\n      <td>Spain</td>\n      <td>70</td>\n      <td>40</td>\n      <td>NaN</td>\n      <td>62.0</td>\n      <td>2.0</td>\n      <td>14.0</td>\n      <td>59</td>\n      <td>77</td>\n      <td>30</td>\n      <td>86.0</td>\n      <td>91</td>\n    </tr>\n    <tr>\n      <th>15</th>\n      <td>Ireland</td>\n      <td>30</td>\n      <td>52</td>\n      <td>11</td>\n      <td>80.0</td>\n      <td>18.0</td>\n      <td>2.0</td>\n      <td>57</td>\n      <td>52</td>\n      <td>46</td>\n      <td>5.0</td>\n      <td>31</td>\n    </tr>\n  </tbody>\n</table>\n</div>"
     },
     "metadata": {},
     "execution_count": 14
    }
   ],
   "source": [
    "df = pd.read_csv(\"E:\\\\ML\\\\ML\\\\Pandas\\\\food consumption.csv\") \n",
    "df                                                   "
   ]
  },
  {
   "cell_type": "code",
   "execution_count": 15,
   "metadata": {},
   "outputs": [
    {
     "output_type": "execute_result",
     "data": {
      "text/plain": [
       "        Country  Real coffee  Instant coffee  Sweetener  Biscuits  Tin soup  \\\n",
       "0       Germany           90              49       19.0      57.0      19.0   \n",
       "1         Italy           82              10        2.0      55.0       3.0   \n",
       "2        France           88              42        4.0      76.0      11.0   \n",
       "3       Holland           96              62       32.0      62.0      43.0   \n",
       "4       Belgium           94              38       11.0      74.0      23.0   \n",
       "5    Luxembourg           97              61       28.0      79.0      12.0   \n",
       "6       England           27              86       22.0      91.0      76.0   \n",
       "7      Portugal           72              26        2.0      22.0       1.0   \n",
       "8       Austria           55              31        NaN      29.0       NaN   \n",
       "9   Switzerland           73              72       25.0      31.0      10.0   \n",
       "10       Sweden           97              13       31.0       NaN      43.0   \n",
       "11      Denmark           96              17       35.0      66.0      17.0   \n",
       "12       Norway           92              17       13.0      62.0       4.0   \n",
       "13      Finland           98              12       20.0      64.0      10.0   \n",
       "14        Spain           70              40        NaN      62.0       2.0   \n",
       "15      Ireland           30              52       11.0      80.0      18.0   \n",
       "\n",
       "    Potatoes  Apples  Oranges  Tinned fruit  Garlic  Olive oil  \n",
       "0       21.0      81       75            44    22.0       74.0  \n",
       "1        2.0      67       71             9    80.0       94.0  \n",
       "2       23.0      87       84            40    88.0       36.0  \n",
       "3        7.0      83       89            61    15.0       13.0  \n",
       "4        9.0      76       76            42    29.0       83.0  \n",
       "5        7.0      85       94            83    91.0       84.0  \n",
       "6       17.0      76       68            89    11.0       57.0  \n",
       "7        NaN      22       51             8     NaN        NaN  \n",
       "8        NaN      49       42            14    51.0        NaN  \n",
       "9        NaN      79       70            46    64.0        NaN  \n",
       "10       NaN      56       78            53     9.0       48.0  \n",
       "11      11.0      81       72            50    11.0       30.0  \n",
       "12      17.0      61       72            34    11.0       28.0  \n",
       "13       8.0      50       57            22    15.0       17.0  \n",
       "14      14.0      59       77            30    86.0       91.0  \n",
       "15       2.0      57       52            46     5.0       31.0  "
      ],
      "text/html": "<div>\n<style scoped>\n    .dataframe tbody tr th:only-of-type {\n        vertical-align: middle;\n    }\n\n    .dataframe tbody tr th {\n        vertical-align: top;\n    }\n\n    .dataframe thead th {\n        text-align: right;\n    }\n</style>\n<table border=\"1\" class=\"dataframe\">\n  <thead>\n    <tr style=\"text-align: right;\">\n      <th></th>\n      <th>Country</th>\n      <th>Real coffee</th>\n      <th>Instant coffee</th>\n      <th>Sweetener</th>\n      <th>Biscuits</th>\n      <th>Tin soup</th>\n      <th>Potatoes</th>\n      <th>Apples</th>\n      <th>Oranges</th>\n      <th>Tinned fruit</th>\n      <th>Garlic</th>\n      <th>Olive oil</th>\n    </tr>\n  </thead>\n  <tbody>\n    <tr>\n      <th>0</th>\n      <td>Germany</td>\n      <td>90</td>\n      <td>49</td>\n      <td>19.0</td>\n      <td>57.0</td>\n      <td>19.0</td>\n      <td>21.0</td>\n      <td>81</td>\n      <td>75</td>\n      <td>44</td>\n      <td>22.0</td>\n      <td>74.0</td>\n    </tr>\n    <tr>\n      <th>1</th>\n      <td>Italy</td>\n      <td>82</td>\n      <td>10</td>\n      <td>2.0</td>\n      <td>55.0</td>\n      <td>3.0</td>\n      <td>2.0</td>\n      <td>67</td>\n      <td>71</td>\n      <td>9</td>\n      <td>80.0</td>\n      <td>94.0</td>\n    </tr>\n    <tr>\n      <th>2</th>\n      <td>France</td>\n      <td>88</td>\n      <td>42</td>\n      <td>4.0</td>\n      <td>76.0</td>\n      <td>11.0</td>\n      <td>23.0</td>\n      <td>87</td>\n      <td>84</td>\n      <td>40</td>\n      <td>88.0</td>\n      <td>36.0</td>\n    </tr>\n    <tr>\n      <th>3</th>\n      <td>Holland</td>\n      <td>96</td>\n      <td>62</td>\n      <td>32.0</td>\n      <td>62.0</td>\n      <td>43.0</td>\n      <td>7.0</td>\n      <td>83</td>\n      <td>89</td>\n      <td>61</td>\n      <td>15.0</td>\n      <td>13.0</td>\n    </tr>\n    <tr>\n      <th>4</th>\n      <td>Belgium</td>\n      <td>94</td>\n      <td>38</td>\n      <td>11.0</td>\n      <td>74.0</td>\n      <td>23.0</td>\n      <td>9.0</td>\n      <td>76</td>\n      <td>76</td>\n      <td>42</td>\n      <td>29.0</td>\n      <td>83.0</td>\n    </tr>\n    <tr>\n      <th>5</th>\n      <td>Luxembourg</td>\n      <td>97</td>\n      <td>61</td>\n      <td>28.0</td>\n      <td>79.0</td>\n      <td>12.0</td>\n      <td>7.0</td>\n      <td>85</td>\n      <td>94</td>\n      <td>83</td>\n      <td>91.0</td>\n      <td>84.0</td>\n    </tr>\n    <tr>\n      <th>6</th>\n      <td>England</td>\n      <td>27</td>\n      <td>86</td>\n      <td>22.0</td>\n      <td>91.0</td>\n      <td>76.0</td>\n      <td>17.0</td>\n      <td>76</td>\n      <td>68</td>\n      <td>89</td>\n      <td>11.0</td>\n      <td>57.0</td>\n    </tr>\n    <tr>\n      <th>7</th>\n      <td>Portugal</td>\n      <td>72</td>\n      <td>26</td>\n      <td>2.0</td>\n      <td>22.0</td>\n      <td>1.0</td>\n      <td>NaN</td>\n      <td>22</td>\n      <td>51</td>\n      <td>8</td>\n      <td>NaN</td>\n      <td>NaN</td>\n    </tr>\n    <tr>\n      <th>8</th>\n      <td>Austria</td>\n      <td>55</td>\n      <td>31</td>\n      <td>NaN</td>\n      <td>29.0</td>\n      <td>NaN</td>\n      <td>NaN</td>\n      <td>49</td>\n      <td>42</td>\n      <td>14</td>\n      <td>51.0</td>\n      <td>NaN</td>\n    </tr>\n    <tr>\n      <th>9</th>\n      <td>Switzerland</td>\n      <td>73</td>\n      <td>72</td>\n      <td>25.0</td>\n      <td>31.0</td>\n      <td>10.0</td>\n      <td>NaN</td>\n      <td>79</td>\n      <td>70</td>\n      <td>46</td>\n      <td>64.0</td>\n      <td>NaN</td>\n    </tr>\n    <tr>\n      <th>10</th>\n      <td>Sweden</td>\n      <td>97</td>\n      <td>13</td>\n      <td>31.0</td>\n      <td>NaN</td>\n      <td>43.0</td>\n      <td>NaN</td>\n      <td>56</td>\n      <td>78</td>\n      <td>53</td>\n      <td>9.0</td>\n      <td>48.0</td>\n    </tr>\n    <tr>\n      <th>11</th>\n      <td>Denmark</td>\n      <td>96</td>\n      <td>17</td>\n      <td>35.0</td>\n      <td>66.0</td>\n      <td>17.0</td>\n      <td>11.0</td>\n      <td>81</td>\n      <td>72</td>\n      <td>50</td>\n      <td>11.0</td>\n      <td>30.0</td>\n    </tr>\n    <tr>\n      <th>12</th>\n      <td>Norway</td>\n      <td>92</td>\n      <td>17</td>\n      <td>13.0</td>\n      <td>62.0</td>\n      <td>4.0</td>\n      <td>17.0</td>\n      <td>61</td>\n      <td>72</td>\n      <td>34</td>\n      <td>11.0</td>\n      <td>28.0</td>\n    </tr>\n    <tr>\n      <th>13</th>\n      <td>Finland</td>\n      <td>98</td>\n      <td>12</td>\n      <td>20.0</td>\n      <td>64.0</td>\n      <td>10.0</td>\n      <td>8.0</td>\n      <td>50</td>\n      <td>57</td>\n      <td>22</td>\n      <td>15.0</td>\n      <td>17.0</td>\n    </tr>\n    <tr>\n      <th>14</th>\n      <td>Spain</td>\n      <td>70</td>\n      <td>40</td>\n      <td>NaN</td>\n      <td>62.0</td>\n      <td>2.0</td>\n      <td>14.0</td>\n      <td>59</td>\n      <td>77</td>\n      <td>30</td>\n      <td>86.0</td>\n      <td>91.0</td>\n    </tr>\n    <tr>\n      <th>15</th>\n      <td>Ireland</td>\n      <td>30</td>\n      <td>52</td>\n      <td>11.0</td>\n      <td>80.0</td>\n      <td>18.0</td>\n      <td>2.0</td>\n      <td>57</td>\n      <td>52</td>\n      <td>46</td>\n      <td>5.0</td>\n      <td>31.0</td>\n    </tr>\n  </tbody>\n</table>\n</div>"
     },
     "metadata": {},
     "execution_count": 15
    }
   ],
   "source": [
    "df = pd.read_csv(\"E:\\\\ML\\\\ML\\\\Pandas\\\\food consumption.csv\", na_values=[\"Not available\",\"no value\"]) \n",
    "df                                                   # It will handel more than NaN values"
   ]
  },
  {
   "cell_type": "code",
   "execution_count": 16,
   "metadata": {},
   "outputs": [
    {
     "output_type": "execute_result",
     "data": {
      "text/plain": [
       "        Country  Real coffee  Instant coffee Sweetener  Biscuits  Tin soup  \\\n",
       "0       Germany           90              49        19      57.0      19.0   \n",
       "1         Italy           82              10         2      55.0       3.0   \n",
       "2        France           88              42         4      76.0      11.0   \n",
       "3       Holland           96              62        32      62.0      43.0   \n",
       "4       Belgium           94              38        11      74.0      23.0   \n",
       "5    Luxembourg           97              61        28      79.0      12.0   \n",
       "6       England           27              86        22      91.0      76.0   \n",
       "7      Portugal           72              26         2      22.0       1.0   \n",
       "8       Austria           55              31  no value      29.0       NaN   \n",
       "9   Switzerland           73              72        25      31.0      10.0   \n",
       "10       Sweden           97              13        31       NaN      43.0   \n",
       "11      Denmark           96              17        35      66.0      17.0   \n",
       "12       Norway           92              17        13      62.0       4.0   \n",
       "13      Finland           98              12        20      64.0      10.0   \n",
       "14        Spain           70              40       NaN      62.0       2.0   \n",
       "15      Ireland           30              52        11      80.0      18.0   \n",
       "\n",
       "    Potatoes  Apples  Oranges  Tinned fruit  Garlic      Olive oil  \n",
       "0       21.0      81       75            44    22.0             74  \n",
       "1        2.0      67       71             9    80.0             94  \n",
       "2       23.0      87       84            40    88.0             36  \n",
       "3        7.0      83       89            61    15.0             13  \n",
       "4        9.0      76       76            42    29.0             83  \n",
       "5        7.0      85       94            83    91.0             84  \n",
       "6       17.0      76       68            89    11.0             57  \n",
       "7        NaN      22       51             8     NaN  Not available  \n",
       "8        NaN      49       42            14    51.0  Not available  \n",
       "9        NaN      79       70            46    64.0  Not available  \n",
       "10       NaN      56       78            53     9.0             48  \n",
       "11      11.0      81       72            50    11.0             30  \n",
       "12      17.0      61       72            34    11.0             28  \n",
       "13       8.0      50       57            22    15.0             17  \n",
       "14      14.0      59       77            30    86.0             91  \n",
       "15       2.0      57       52            46     5.0             31  "
      ],
      "text/html": "<div>\n<style scoped>\n    .dataframe tbody tr th:only-of-type {\n        vertical-align: middle;\n    }\n\n    .dataframe tbody tr th {\n        vertical-align: top;\n    }\n\n    .dataframe thead th {\n        text-align: right;\n    }\n</style>\n<table border=\"1\" class=\"dataframe\">\n  <thead>\n    <tr style=\"text-align: right;\">\n      <th></th>\n      <th>Country</th>\n      <th>Real coffee</th>\n      <th>Instant coffee</th>\n      <th>Sweetener</th>\n      <th>Biscuits</th>\n      <th>Tin soup</th>\n      <th>Potatoes</th>\n      <th>Apples</th>\n      <th>Oranges</th>\n      <th>Tinned fruit</th>\n      <th>Garlic</th>\n      <th>Olive oil</th>\n    </tr>\n  </thead>\n  <tbody>\n    <tr>\n      <th>0</th>\n      <td>Germany</td>\n      <td>90</td>\n      <td>49</td>\n      <td>19</td>\n      <td>57.0</td>\n      <td>19.0</td>\n      <td>21.0</td>\n      <td>81</td>\n      <td>75</td>\n      <td>44</td>\n      <td>22.0</td>\n      <td>74</td>\n    </tr>\n    <tr>\n      <th>1</th>\n      <td>Italy</td>\n      <td>82</td>\n      <td>10</td>\n      <td>2</td>\n      <td>55.0</td>\n      <td>3.0</td>\n      <td>2.0</td>\n      <td>67</td>\n      <td>71</td>\n      <td>9</td>\n      <td>80.0</td>\n      <td>94</td>\n    </tr>\n    <tr>\n      <th>2</th>\n      <td>France</td>\n      <td>88</td>\n      <td>42</td>\n      <td>4</td>\n      <td>76.0</td>\n      <td>11.0</td>\n      <td>23.0</td>\n      <td>87</td>\n      <td>84</td>\n      <td>40</td>\n      <td>88.0</td>\n      <td>36</td>\n    </tr>\n    <tr>\n      <th>3</th>\n      <td>Holland</td>\n      <td>96</td>\n      <td>62</td>\n      <td>32</td>\n      <td>62.0</td>\n      <td>43.0</td>\n      <td>7.0</td>\n      <td>83</td>\n      <td>89</td>\n      <td>61</td>\n      <td>15.0</td>\n      <td>13</td>\n    </tr>\n    <tr>\n      <th>4</th>\n      <td>Belgium</td>\n      <td>94</td>\n      <td>38</td>\n      <td>11</td>\n      <td>74.0</td>\n      <td>23.0</td>\n      <td>9.0</td>\n      <td>76</td>\n      <td>76</td>\n      <td>42</td>\n      <td>29.0</td>\n      <td>83</td>\n    </tr>\n    <tr>\n      <th>5</th>\n      <td>Luxembourg</td>\n      <td>97</td>\n      <td>61</td>\n      <td>28</td>\n      <td>79.0</td>\n      <td>12.0</td>\n      <td>7.0</td>\n      <td>85</td>\n      <td>94</td>\n      <td>83</td>\n      <td>91.0</td>\n      <td>84</td>\n    </tr>\n    <tr>\n      <th>6</th>\n      <td>England</td>\n      <td>27</td>\n      <td>86</td>\n      <td>22</td>\n      <td>91.0</td>\n      <td>76.0</td>\n      <td>17.0</td>\n      <td>76</td>\n      <td>68</td>\n      <td>89</td>\n      <td>11.0</td>\n      <td>57</td>\n    </tr>\n    <tr>\n      <th>7</th>\n      <td>Portugal</td>\n      <td>72</td>\n      <td>26</td>\n      <td>2</td>\n      <td>22.0</td>\n      <td>1.0</td>\n      <td>NaN</td>\n      <td>22</td>\n      <td>51</td>\n      <td>8</td>\n      <td>NaN</td>\n      <td>Not available</td>\n    </tr>\n    <tr>\n      <th>8</th>\n      <td>Austria</td>\n      <td>55</td>\n      <td>31</td>\n      <td>no value</td>\n      <td>29.0</td>\n      <td>NaN</td>\n      <td>NaN</td>\n      <td>49</td>\n      <td>42</td>\n      <td>14</td>\n      <td>51.0</td>\n      <td>Not available</td>\n    </tr>\n    <tr>\n      <th>9</th>\n      <td>Switzerland</td>\n      <td>73</td>\n      <td>72</td>\n      <td>25</td>\n      <td>31.0</td>\n      <td>10.0</td>\n      <td>NaN</td>\n      <td>79</td>\n      <td>70</td>\n      <td>46</td>\n      <td>64.0</td>\n      <td>Not available</td>\n    </tr>\n    <tr>\n      <th>10</th>\n      <td>Sweden</td>\n      <td>97</td>\n      <td>13</td>\n      <td>31</td>\n      <td>NaN</td>\n      <td>43.0</td>\n      <td>NaN</td>\n      <td>56</td>\n      <td>78</td>\n      <td>53</td>\n      <td>9.0</td>\n      <td>48</td>\n    </tr>\n    <tr>\n      <th>11</th>\n      <td>Denmark</td>\n      <td>96</td>\n      <td>17</td>\n      <td>35</td>\n      <td>66.0</td>\n      <td>17.0</td>\n      <td>11.0</td>\n      <td>81</td>\n      <td>72</td>\n      <td>50</td>\n      <td>11.0</td>\n      <td>30</td>\n    </tr>\n    <tr>\n      <th>12</th>\n      <td>Norway</td>\n      <td>92</td>\n      <td>17</td>\n      <td>13</td>\n      <td>62.0</td>\n      <td>4.0</td>\n      <td>17.0</td>\n      <td>61</td>\n      <td>72</td>\n      <td>34</td>\n      <td>11.0</td>\n      <td>28</td>\n    </tr>\n    <tr>\n      <th>13</th>\n      <td>Finland</td>\n      <td>98</td>\n      <td>12</td>\n      <td>20</td>\n      <td>64.0</td>\n      <td>10.0</td>\n      <td>8.0</td>\n      <td>50</td>\n      <td>57</td>\n      <td>22</td>\n      <td>15.0</td>\n      <td>17</td>\n    </tr>\n    <tr>\n      <th>14</th>\n      <td>Spain</td>\n      <td>70</td>\n      <td>40</td>\n      <td>NaN</td>\n      <td>62.0</td>\n      <td>2.0</td>\n      <td>14.0</td>\n      <td>59</td>\n      <td>77</td>\n      <td>30</td>\n      <td>86.0</td>\n      <td>91</td>\n    </tr>\n    <tr>\n      <th>15</th>\n      <td>Ireland</td>\n      <td>30</td>\n      <td>52</td>\n      <td>11</td>\n      <td>80.0</td>\n      <td>18.0</td>\n      <td>2.0</td>\n      <td>57</td>\n      <td>52</td>\n      <td>46</td>\n      <td>5.0</td>\n      <td>31</td>\n    </tr>\n  </tbody>\n</table>\n</div>"
     },
     "metadata": {},
     "execution_count": 16
    }
   ],
   "source": [
    "df = pd.read_csv(\"E:\\\\ML\\\\ML\\\\Pandas\\\\food consumption.csv\")\n",
    "df"
   ]
  },
  {
   "cell_type": "code",
   "execution_count": 20,
   "metadata": {},
   "outputs": [
    {
     "output_type": "execute_result",
     "data": {
      "text/plain": [
       "        Country  Real coffee  Instant coffee  Sweetener  Biscuits  Tin soup  \\\n",
       "0       Germany           90              49       19.0      57.0      19.0   \n",
       "1         Italy           82              10        2.0      55.0       3.0   \n",
       "2        France           88              42        4.0      76.0      11.0   \n",
       "3       Holland           96              62       32.0      62.0      43.0   \n",
       "4       Belgium           94              38       11.0      74.0      23.0   \n",
       "5    Luxembourg           97              61       28.0      79.0      12.0   \n",
       "6       England           27              86       22.0      91.0      76.0   \n",
       "7      Portugal           72              26        2.0      22.0       1.0   \n",
       "8       Austria           55              31        NaN      29.0       NaN   \n",
       "9   Switzerland           73              72       25.0      31.0      10.0   \n",
       "10       Sweden           97              13       31.0       NaN      43.0   \n",
       "11      Denmark           96              17       35.0      66.0      17.0   \n",
       "12       Norway           92              17       13.0      62.0       4.0   \n",
       "13      Finland           98              12       20.0      64.0      10.0   \n",
       "14        Spain           70              40        NaN      62.0       2.0   \n",
       "15      Ireland           30              52       11.0      80.0      18.0   \n",
       "\n",
       "    Potatoes  Apples  Oranges  Tinned fruit  Garlic  Olive oil  \n",
       "0       21.0      81       75            44    22.0       74.0  \n",
       "1        2.0      67       71             9    80.0       94.0  \n",
       "2       23.0      87       84            40    88.0       36.0  \n",
       "3        7.0      83       89            61    15.0       13.0  \n",
       "4        9.0      76       76            42    29.0       83.0  \n",
       "5        7.0      85       94            83    91.0       84.0  \n",
       "6       17.0      76       68            89    11.0       57.0  \n",
       "7        NaN      22       51             8     NaN        NaN  \n",
       "8        NaN      49       42            14    51.0        NaN  \n",
       "9        NaN      79       70            46    64.0        NaN  \n",
       "10       NaN      56       78            53     9.0       48.0  \n",
       "11      11.0      81       72            50    11.0       30.0  \n",
       "12      17.0      61       72            34    11.0       28.0  \n",
       "13       8.0      50       57            22    15.0       17.0  \n",
       "14      14.0      59       77            30    86.0       91.0  \n",
       "15       2.0      57       52            46     5.0       31.0  "
      ],
      "text/html": "<div>\n<style scoped>\n    .dataframe tbody tr th:only-of-type {\n        vertical-align: middle;\n    }\n\n    .dataframe tbody tr th {\n        vertical-align: top;\n    }\n\n    .dataframe thead th {\n        text-align: right;\n    }\n</style>\n<table border=\"1\" class=\"dataframe\">\n  <thead>\n    <tr style=\"text-align: right;\">\n      <th></th>\n      <th>Country</th>\n      <th>Real coffee</th>\n      <th>Instant coffee</th>\n      <th>Sweetener</th>\n      <th>Biscuits</th>\n      <th>Tin soup</th>\n      <th>Potatoes</th>\n      <th>Apples</th>\n      <th>Oranges</th>\n      <th>Tinned fruit</th>\n      <th>Garlic</th>\n      <th>Olive oil</th>\n    </tr>\n  </thead>\n  <tbody>\n    <tr>\n      <th>0</th>\n      <td>Germany</td>\n      <td>90</td>\n      <td>49</td>\n      <td>19.0</td>\n      <td>57.0</td>\n      <td>19.0</td>\n      <td>21.0</td>\n      <td>81</td>\n      <td>75</td>\n      <td>44</td>\n      <td>22.0</td>\n      <td>74.0</td>\n    </tr>\n    <tr>\n      <th>1</th>\n      <td>Italy</td>\n      <td>82</td>\n      <td>10</td>\n      <td>2.0</td>\n      <td>55.0</td>\n      <td>3.0</td>\n      <td>2.0</td>\n      <td>67</td>\n      <td>71</td>\n      <td>9</td>\n      <td>80.0</td>\n      <td>94.0</td>\n    </tr>\n    <tr>\n      <th>2</th>\n      <td>France</td>\n      <td>88</td>\n      <td>42</td>\n      <td>4.0</td>\n      <td>76.0</td>\n      <td>11.0</td>\n      <td>23.0</td>\n      <td>87</td>\n      <td>84</td>\n      <td>40</td>\n      <td>88.0</td>\n      <td>36.0</td>\n    </tr>\n    <tr>\n      <th>3</th>\n      <td>Holland</td>\n      <td>96</td>\n      <td>62</td>\n      <td>32.0</td>\n      <td>62.0</td>\n      <td>43.0</td>\n      <td>7.0</td>\n      <td>83</td>\n      <td>89</td>\n      <td>61</td>\n      <td>15.0</td>\n      <td>13.0</td>\n    </tr>\n    <tr>\n      <th>4</th>\n      <td>Belgium</td>\n      <td>94</td>\n      <td>38</td>\n      <td>11.0</td>\n      <td>74.0</td>\n      <td>23.0</td>\n      <td>9.0</td>\n      <td>76</td>\n      <td>76</td>\n      <td>42</td>\n      <td>29.0</td>\n      <td>83.0</td>\n    </tr>\n    <tr>\n      <th>5</th>\n      <td>Luxembourg</td>\n      <td>97</td>\n      <td>61</td>\n      <td>28.0</td>\n      <td>79.0</td>\n      <td>12.0</td>\n      <td>7.0</td>\n      <td>85</td>\n      <td>94</td>\n      <td>83</td>\n      <td>91.0</td>\n      <td>84.0</td>\n    </tr>\n    <tr>\n      <th>6</th>\n      <td>England</td>\n      <td>27</td>\n      <td>86</td>\n      <td>22.0</td>\n      <td>91.0</td>\n      <td>76.0</td>\n      <td>17.0</td>\n      <td>76</td>\n      <td>68</td>\n      <td>89</td>\n      <td>11.0</td>\n      <td>57.0</td>\n    </tr>\n    <tr>\n      <th>7</th>\n      <td>Portugal</td>\n      <td>72</td>\n      <td>26</td>\n      <td>2.0</td>\n      <td>22.0</td>\n      <td>1.0</td>\n      <td>NaN</td>\n      <td>22</td>\n      <td>51</td>\n      <td>8</td>\n      <td>NaN</td>\n      <td>NaN</td>\n    </tr>\n    <tr>\n      <th>8</th>\n      <td>Austria</td>\n      <td>55</td>\n      <td>31</td>\n      <td>NaN</td>\n      <td>29.0</td>\n      <td>NaN</td>\n      <td>NaN</td>\n      <td>49</td>\n      <td>42</td>\n      <td>14</td>\n      <td>51.0</td>\n      <td>NaN</td>\n    </tr>\n    <tr>\n      <th>9</th>\n      <td>Switzerland</td>\n      <td>73</td>\n      <td>72</td>\n      <td>25.0</td>\n      <td>31.0</td>\n      <td>10.0</td>\n      <td>NaN</td>\n      <td>79</td>\n      <td>70</td>\n      <td>46</td>\n      <td>64.0</td>\n      <td>NaN</td>\n    </tr>\n    <tr>\n      <th>10</th>\n      <td>Sweden</td>\n      <td>97</td>\n      <td>13</td>\n      <td>31.0</td>\n      <td>NaN</td>\n      <td>43.0</td>\n      <td>NaN</td>\n      <td>56</td>\n      <td>78</td>\n      <td>53</td>\n      <td>9.0</td>\n      <td>48.0</td>\n    </tr>\n    <tr>\n      <th>11</th>\n      <td>Denmark</td>\n      <td>96</td>\n      <td>17</td>\n      <td>35.0</td>\n      <td>66.0</td>\n      <td>17.0</td>\n      <td>11.0</td>\n      <td>81</td>\n      <td>72</td>\n      <td>50</td>\n      <td>11.0</td>\n      <td>30.0</td>\n    </tr>\n    <tr>\n      <th>12</th>\n      <td>Norway</td>\n      <td>92</td>\n      <td>17</td>\n      <td>13.0</td>\n      <td>62.0</td>\n      <td>4.0</td>\n      <td>17.0</td>\n      <td>61</td>\n      <td>72</td>\n      <td>34</td>\n      <td>11.0</td>\n      <td>28.0</td>\n    </tr>\n    <tr>\n      <th>13</th>\n      <td>Finland</td>\n      <td>98</td>\n      <td>12</td>\n      <td>20.0</td>\n      <td>64.0</td>\n      <td>10.0</td>\n      <td>8.0</td>\n      <td>50</td>\n      <td>57</td>\n      <td>22</td>\n      <td>15.0</td>\n      <td>17.0</td>\n    </tr>\n    <tr>\n      <th>14</th>\n      <td>Spain</td>\n      <td>70</td>\n      <td>40</td>\n      <td>NaN</td>\n      <td>62.0</td>\n      <td>2.0</td>\n      <td>14.0</td>\n      <td>59</td>\n      <td>77</td>\n      <td>30</td>\n      <td>86.0</td>\n      <td>91.0</td>\n    </tr>\n    <tr>\n      <th>15</th>\n      <td>Ireland</td>\n      <td>30</td>\n      <td>52</td>\n      <td>11.0</td>\n      <td>80.0</td>\n      <td>18.0</td>\n      <td>2.0</td>\n      <td>57</td>\n      <td>52</td>\n      <td>46</td>\n      <td>5.0</td>\n      <td>31.0</td>\n    </tr>\n  </tbody>\n</table>\n</div>"
     },
     "metadata": {},
     "execution_count": 20
    }
   ],
   "source": [
    "df = pd.read_csv(\"E:\\\\ML\\\\ML\\\\Pandas\\\\food consumption.csv\",na_values= {\"Sweetener\":\"no value\",\"Olive oil\":\"Not available\"})                # It will handel coloums with NaN values\n",
    "\n",
    "df"
   ]
  },
  {
   "cell_type": "code",
   "execution_count": 21,
   "metadata": {},
   "outputs": [
    {
     "output_type": "execute_result",
     "data": {
      "text/plain": [
       "        Country  Real coffee  Instant coffee  Sweetener  Biscuits  Tin soup  \\\n",
       "0       Germany           90              49       19.0      57.0      19.0   \n",
       "1         Italy           82              10        2.0      55.0       3.0   \n",
       "2        France           88              42        4.0      76.0      11.0   \n",
       "3       Holland           96              62       32.0      62.0      43.0   \n",
       "4       Belgium           94              38       11.0      74.0      23.0   \n",
       "5    Luxembourg           97              61       28.0      79.0      12.0   \n",
       "6       England           27              86       22.0      91.0      76.0   \n",
       "7      Portugal           72              26        2.0      22.0       1.0   \n",
       "8       Austria           55              31        NaN      29.0       NaN   \n",
       "9   Switzerland           73              72       25.0      31.0      10.0   \n",
       "10       Sweden           97              13       31.0       NaN      43.0   \n",
       "11      Denmark           96              17       35.0      66.0      17.0   \n",
       "12       Norway           92              17       13.0      62.0       4.0   \n",
       "13      Finland           98              12       20.0      64.0      10.0   \n",
       "14        Spain           70              40        NaN      62.0       2.0   \n",
       "15      Ireland           30              52       11.0      80.0      18.0   \n",
       "\n",
       "    Potatoes  Apples  Oranges  Tinned fruit  Garlic  Olive oil  \n",
       "0       21.0      81       75            44    22.0       74.0  \n",
       "1        2.0      67       71             9    80.0       94.0  \n",
       "2       23.0      87       84            40    88.0       36.0  \n",
       "3        7.0      83       89            61    15.0       13.0  \n",
       "4        9.0      76       76            42    29.0       83.0  \n",
       "5        7.0      85       94            83    91.0       84.0  \n",
       "6       17.0      76       68            89    11.0       57.0  \n",
       "7        NaN      22       51             8     NaN        NaN  \n",
       "8        NaN      49       42            14    51.0        NaN  \n",
       "9        NaN      79       70            46    64.0        NaN  \n",
       "10       NaN      56       78            53     9.0       48.0  \n",
       "11      11.0      81       72            50    11.0       30.0  \n",
       "12      17.0      61       72            34    11.0       28.0  \n",
       "13       8.0      50       57            22    15.0       17.0  \n",
       "14      14.0      59       77            30    86.0       91.0  \n",
       "15       2.0      57       52            46     5.0       31.0  "
      ],
      "text/html": "<div>\n<style scoped>\n    .dataframe tbody tr th:only-of-type {\n        vertical-align: middle;\n    }\n\n    .dataframe tbody tr th {\n        vertical-align: top;\n    }\n\n    .dataframe thead th {\n        text-align: right;\n    }\n</style>\n<table border=\"1\" class=\"dataframe\">\n  <thead>\n    <tr style=\"text-align: right;\">\n      <th></th>\n      <th>Country</th>\n      <th>Real coffee</th>\n      <th>Instant coffee</th>\n      <th>Sweetener</th>\n      <th>Biscuits</th>\n      <th>Tin soup</th>\n      <th>Potatoes</th>\n      <th>Apples</th>\n      <th>Oranges</th>\n      <th>Tinned fruit</th>\n      <th>Garlic</th>\n      <th>Olive oil</th>\n    </tr>\n  </thead>\n  <tbody>\n    <tr>\n      <th>0</th>\n      <td>Germany</td>\n      <td>90</td>\n      <td>49</td>\n      <td>19.0</td>\n      <td>57.0</td>\n      <td>19.0</td>\n      <td>21.0</td>\n      <td>81</td>\n      <td>75</td>\n      <td>44</td>\n      <td>22.0</td>\n      <td>74.0</td>\n    </tr>\n    <tr>\n      <th>1</th>\n      <td>Italy</td>\n      <td>82</td>\n      <td>10</td>\n      <td>2.0</td>\n      <td>55.0</td>\n      <td>3.0</td>\n      <td>2.0</td>\n      <td>67</td>\n      <td>71</td>\n      <td>9</td>\n      <td>80.0</td>\n      <td>94.0</td>\n    </tr>\n    <tr>\n      <th>2</th>\n      <td>France</td>\n      <td>88</td>\n      <td>42</td>\n      <td>4.0</td>\n      <td>76.0</td>\n      <td>11.0</td>\n      <td>23.0</td>\n      <td>87</td>\n      <td>84</td>\n      <td>40</td>\n      <td>88.0</td>\n      <td>36.0</td>\n    </tr>\n    <tr>\n      <th>3</th>\n      <td>Holland</td>\n      <td>96</td>\n      <td>62</td>\n      <td>32.0</td>\n      <td>62.0</td>\n      <td>43.0</td>\n      <td>7.0</td>\n      <td>83</td>\n      <td>89</td>\n      <td>61</td>\n      <td>15.0</td>\n      <td>13.0</td>\n    </tr>\n    <tr>\n      <th>4</th>\n      <td>Belgium</td>\n      <td>94</td>\n      <td>38</td>\n      <td>11.0</td>\n      <td>74.0</td>\n      <td>23.0</td>\n      <td>9.0</td>\n      <td>76</td>\n      <td>76</td>\n      <td>42</td>\n      <td>29.0</td>\n      <td>83.0</td>\n    </tr>\n    <tr>\n      <th>5</th>\n      <td>Luxembourg</td>\n      <td>97</td>\n      <td>61</td>\n      <td>28.0</td>\n      <td>79.0</td>\n      <td>12.0</td>\n      <td>7.0</td>\n      <td>85</td>\n      <td>94</td>\n      <td>83</td>\n      <td>91.0</td>\n      <td>84.0</td>\n    </tr>\n    <tr>\n      <th>6</th>\n      <td>England</td>\n      <td>27</td>\n      <td>86</td>\n      <td>22.0</td>\n      <td>91.0</td>\n      <td>76.0</td>\n      <td>17.0</td>\n      <td>76</td>\n      <td>68</td>\n      <td>89</td>\n      <td>11.0</td>\n      <td>57.0</td>\n    </tr>\n    <tr>\n      <th>7</th>\n      <td>Portugal</td>\n      <td>72</td>\n      <td>26</td>\n      <td>2.0</td>\n      <td>22.0</td>\n      <td>1.0</td>\n      <td>NaN</td>\n      <td>22</td>\n      <td>51</td>\n      <td>8</td>\n      <td>NaN</td>\n      <td>NaN</td>\n    </tr>\n    <tr>\n      <th>8</th>\n      <td>Austria</td>\n      <td>55</td>\n      <td>31</td>\n      <td>NaN</td>\n      <td>29.0</td>\n      <td>NaN</td>\n      <td>NaN</td>\n      <td>49</td>\n      <td>42</td>\n      <td>14</td>\n      <td>51.0</td>\n      <td>NaN</td>\n    </tr>\n    <tr>\n      <th>9</th>\n      <td>Switzerland</td>\n      <td>73</td>\n      <td>72</td>\n      <td>25.0</td>\n      <td>31.0</td>\n      <td>10.0</td>\n      <td>NaN</td>\n      <td>79</td>\n      <td>70</td>\n      <td>46</td>\n      <td>64.0</td>\n      <td>NaN</td>\n    </tr>\n    <tr>\n      <th>10</th>\n      <td>Sweden</td>\n      <td>97</td>\n      <td>13</td>\n      <td>31.0</td>\n      <td>NaN</td>\n      <td>43.0</td>\n      <td>NaN</td>\n      <td>56</td>\n      <td>78</td>\n      <td>53</td>\n      <td>9.0</td>\n      <td>48.0</td>\n    </tr>\n    <tr>\n      <th>11</th>\n      <td>Denmark</td>\n      <td>96</td>\n      <td>17</td>\n      <td>35.0</td>\n      <td>66.0</td>\n      <td>17.0</td>\n      <td>11.0</td>\n      <td>81</td>\n      <td>72</td>\n      <td>50</td>\n      <td>11.0</td>\n      <td>30.0</td>\n    </tr>\n    <tr>\n      <th>12</th>\n      <td>Norway</td>\n      <td>92</td>\n      <td>17</td>\n      <td>13.0</td>\n      <td>62.0</td>\n      <td>4.0</td>\n      <td>17.0</td>\n      <td>61</td>\n      <td>72</td>\n      <td>34</td>\n      <td>11.0</td>\n      <td>28.0</td>\n    </tr>\n    <tr>\n      <th>13</th>\n      <td>Finland</td>\n      <td>98</td>\n      <td>12</td>\n      <td>20.0</td>\n      <td>64.0</td>\n      <td>10.0</td>\n      <td>8.0</td>\n      <td>50</td>\n      <td>57</td>\n      <td>22</td>\n      <td>15.0</td>\n      <td>17.0</td>\n    </tr>\n    <tr>\n      <th>14</th>\n      <td>Spain</td>\n      <td>70</td>\n      <td>40</td>\n      <td>NaN</td>\n      <td>62.0</td>\n      <td>2.0</td>\n      <td>14.0</td>\n      <td>59</td>\n      <td>77</td>\n      <td>30</td>\n      <td>86.0</td>\n      <td>91.0</td>\n    </tr>\n    <tr>\n      <th>15</th>\n      <td>Ireland</td>\n      <td>30</td>\n      <td>52</td>\n      <td>11.0</td>\n      <td>80.0</td>\n      <td>18.0</td>\n      <td>2.0</td>\n      <td>57</td>\n      <td>52</td>\n      <td>46</td>\n      <td>5.0</td>\n      <td>31.0</td>\n    </tr>\n  </tbody>\n</table>\n</div>"
     },
     "metadata": {},
     "execution_count": 21
    }
   ],
   "source": [
    "df = pd.read_csv(\"E:\\\\ML\\\\ML\\\\Pandas\\\\food consumption.csv\")\n",
    "df"
   ]
  },
  {
   "cell_type": "code",
   "execution_count": 23,
   "metadata": {},
   "outputs": [
    {
     "output_type": "execute_result",
     "data": {
      "text/plain": [
       "        Country  Real coffee  Instant coffee Sweetener Biscuits Tin soup  \\\n",
       "0       Germany           90              49        19       57       19   \n",
       "1         Italy           82              10         2       55        3   \n",
       "2        France           88              42         4       76       11   \n",
       "3       Holland           96              62        32       62       43   \n",
       "4       Belgium           94              38        11       74       23   \n",
       "5    Luxembourg           97              61        28       79       12   \n",
       "6       England           27              86        22       91       76   \n",
       "7      Portugal           72              26         2       22        1   \n",
       "8       Austria           55              31                 29            \n",
       "9   Switzerland           73              72        25       31       10   \n",
       "10       Sweden           97              13        31                43   \n",
       "11      Denmark           96              17        35       66       17   \n",
       "12       Norway           92              17        13       62        4   \n",
       "13      Finland           98              12        20       64       10   \n",
       "14        Spain           70              40                 62        2   \n",
       "15      Ireland           30              52        11       80       18   \n",
       "\n",
       "   Potatoes  Apples  Oranges  Tinned fruit Garlic Olive oil  \n",
       "0        21      81       75            44     22        74  \n",
       "1         2      67       71             9     80        94  \n",
       "2        23      87       84            40     88        36  \n",
       "3         7      83       89            61     15        13  \n",
       "4         9      76       76            42     29        83  \n",
       "5         7      85       94            83     91        84  \n",
       "6        17      76       68            89     11        57  \n",
       "7      #N/A      22       51             8             null  \n",
       "8      #N/A      49       42            14     51      null  \n",
       "9      #N/A      79       70            46     64      null  \n",
       "10               56       78            53      9        48  \n",
       "11       11      81       72            50     11        30  \n",
       "12       17      61       72            34     11        28  \n",
       "13        8      50       57            22     15        17  \n",
       "14       14      59       77            30     86        91  \n",
       "15        2      57       52            46      5        31  "
      ],
      "text/html": "<div>\n<style scoped>\n    .dataframe tbody tr th:only-of-type {\n        vertical-align: middle;\n    }\n\n    .dataframe tbody tr th {\n        vertical-align: top;\n    }\n\n    .dataframe thead th {\n        text-align: right;\n    }\n</style>\n<table border=\"1\" class=\"dataframe\">\n  <thead>\n    <tr style=\"text-align: right;\">\n      <th></th>\n      <th>Country</th>\n      <th>Real coffee</th>\n      <th>Instant coffee</th>\n      <th>Sweetener</th>\n      <th>Biscuits</th>\n      <th>Tin soup</th>\n      <th>Potatoes</th>\n      <th>Apples</th>\n      <th>Oranges</th>\n      <th>Tinned fruit</th>\n      <th>Garlic</th>\n      <th>Olive oil</th>\n    </tr>\n  </thead>\n  <tbody>\n    <tr>\n      <th>0</th>\n      <td>Germany</td>\n      <td>90</td>\n      <td>49</td>\n      <td>19</td>\n      <td>57</td>\n      <td>19</td>\n      <td>21</td>\n      <td>81</td>\n      <td>75</td>\n      <td>44</td>\n      <td>22</td>\n      <td>74</td>\n    </tr>\n    <tr>\n      <th>1</th>\n      <td>Italy</td>\n      <td>82</td>\n      <td>10</td>\n      <td>2</td>\n      <td>55</td>\n      <td>3</td>\n      <td>2</td>\n      <td>67</td>\n      <td>71</td>\n      <td>9</td>\n      <td>80</td>\n      <td>94</td>\n    </tr>\n    <tr>\n      <th>2</th>\n      <td>France</td>\n      <td>88</td>\n      <td>42</td>\n      <td>4</td>\n      <td>76</td>\n      <td>11</td>\n      <td>23</td>\n      <td>87</td>\n      <td>84</td>\n      <td>40</td>\n      <td>88</td>\n      <td>36</td>\n    </tr>\n    <tr>\n      <th>3</th>\n      <td>Holland</td>\n      <td>96</td>\n      <td>62</td>\n      <td>32</td>\n      <td>62</td>\n      <td>43</td>\n      <td>7</td>\n      <td>83</td>\n      <td>89</td>\n      <td>61</td>\n      <td>15</td>\n      <td>13</td>\n    </tr>\n    <tr>\n      <th>4</th>\n      <td>Belgium</td>\n      <td>94</td>\n      <td>38</td>\n      <td>11</td>\n      <td>74</td>\n      <td>23</td>\n      <td>9</td>\n      <td>76</td>\n      <td>76</td>\n      <td>42</td>\n      <td>29</td>\n      <td>83</td>\n    </tr>\n    <tr>\n      <th>5</th>\n      <td>Luxembourg</td>\n      <td>97</td>\n      <td>61</td>\n      <td>28</td>\n      <td>79</td>\n      <td>12</td>\n      <td>7</td>\n      <td>85</td>\n      <td>94</td>\n      <td>83</td>\n      <td>91</td>\n      <td>84</td>\n    </tr>\n    <tr>\n      <th>6</th>\n      <td>England</td>\n      <td>27</td>\n      <td>86</td>\n      <td>22</td>\n      <td>91</td>\n      <td>76</td>\n      <td>17</td>\n      <td>76</td>\n      <td>68</td>\n      <td>89</td>\n      <td>11</td>\n      <td>57</td>\n    </tr>\n    <tr>\n      <th>7</th>\n      <td>Portugal</td>\n      <td>72</td>\n      <td>26</td>\n      <td>2</td>\n      <td>22</td>\n      <td>1</td>\n      <td>#N/A</td>\n      <td>22</td>\n      <td>51</td>\n      <td>8</td>\n      <td></td>\n      <td>null</td>\n    </tr>\n    <tr>\n      <th>8</th>\n      <td>Austria</td>\n      <td>55</td>\n      <td>31</td>\n      <td></td>\n      <td>29</td>\n      <td></td>\n      <td>#N/A</td>\n      <td>49</td>\n      <td>42</td>\n      <td>14</td>\n      <td>51</td>\n      <td>null</td>\n    </tr>\n    <tr>\n      <th>9</th>\n      <td>Switzerland</td>\n      <td>73</td>\n      <td>72</td>\n      <td>25</td>\n      <td>31</td>\n      <td>10</td>\n      <td>#N/A</td>\n      <td>79</td>\n      <td>70</td>\n      <td>46</td>\n      <td>64</td>\n      <td>null</td>\n    </tr>\n    <tr>\n      <th>10</th>\n      <td>Sweden</td>\n      <td>97</td>\n      <td>13</td>\n      <td>31</td>\n      <td></td>\n      <td>43</td>\n      <td></td>\n      <td>56</td>\n      <td>78</td>\n      <td>53</td>\n      <td>9</td>\n      <td>48</td>\n    </tr>\n    <tr>\n      <th>11</th>\n      <td>Denmark</td>\n      <td>96</td>\n      <td>17</td>\n      <td>35</td>\n      <td>66</td>\n      <td>17</td>\n      <td>11</td>\n      <td>81</td>\n      <td>72</td>\n      <td>50</td>\n      <td>11</td>\n      <td>30</td>\n    </tr>\n    <tr>\n      <th>12</th>\n      <td>Norway</td>\n      <td>92</td>\n      <td>17</td>\n      <td>13</td>\n      <td>62</td>\n      <td>4</td>\n      <td>17</td>\n      <td>61</td>\n      <td>72</td>\n      <td>34</td>\n      <td>11</td>\n      <td>28</td>\n    </tr>\n    <tr>\n      <th>13</th>\n      <td>Finland</td>\n      <td>98</td>\n      <td>12</td>\n      <td>20</td>\n      <td>64</td>\n      <td>10</td>\n      <td>8</td>\n      <td>50</td>\n      <td>57</td>\n      <td>22</td>\n      <td>15</td>\n      <td>17</td>\n    </tr>\n    <tr>\n      <th>14</th>\n      <td>Spain</td>\n      <td>70</td>\n      <td>40</td>\n      <td></td>\n      <td>62</td>\n      <td>2</td>\n      <td>14</td>\n      <td>59</td>\n      <td>77</td>\n      <td>30</td>\n      <td>86</td>\n      <td>91</td>\n    </tr>\n    <tr>\n      <th>15</th>\n      <td>Ireland</td>\n      <td>30</td>\n      <td>52</td>\n      <td>11</td>\n      <td>80</td>\n      <td>18</td>\n      <td>2</td>\n      <td>57</td>\n      <td>52</td>\n      <td>46</td>\n      <td>5</td>\n      <td>31</td>\n    </tr>\n  </tbody>\n</table>\n</div>"
     },
     "metadata": {},
     "execution_count": 23
    }
   ],
   "source": [
    "df = pd.read_csv(\"E:\\\\ML\\\\ML\\\\Pandas\\\\food consumption.csv\",keep_default_na= False)\n",
    "df                                                          # TO keep the defult values like N\\A"
   ]
  },
  {
   "cell_type": "code",
   "execution_count": 26,
   "metadata": {},
   "outputs": [
    {
     "output_type": "execute_result",
     "data": {
      "text/plain": [
       "        Country  Real coffee  Instant coffee  Sweetener  Biscuits  Tin soup  \\\n",
       "0       Germany           90              49       19.0      57.0      19.0   \n",
       "1         Italy           82              10        2.0      55.0       3.0   \n",
       "2        France           88              42        4.0      76.0      11.0   \n",
       "3       Holland           96              62       32.0      62.0      43.0   \n",
       "4       Belgium           94              38       11.0      74.0      23.0   \n",
       "5    Luxembourg           97              61       28.0      79.0      12.0   \n",
       "6       England           27              86       22.0      91.0      76.0   \n",
       "7      Portugal           72              26        2.0      22.0       1.0   \n",
       "8       Austria           55              31        NaN      29.0       NaN   \n",
       "9   Switzerland           73              72       25.0      31.0      10.0   \n",
       "10       Sweden           97              13       31.0       NaN      43.0   \n",
       "11      Denmark           96              17       35.0      66.0      17.0   \n",
       "12       Norway           92              17       13.0      62.0       4.0   \n",
       "13      Finland           98              12       20.0      64.0      10.0   \n",
       "14        Spain           70              40        NaN      62.0       2.0   \n",
       "15      Ireland           30              52       11.0      80.0      18.0   \n",
       "\n",
       "    Potatoes  Apples  Oranges  Tinned fruit  Garlic  Olive oil  \n",
       "0       21.0      81       75            44    22.0       74.0  \n",
       "1        2.0      67       71             9    80.0       94.0  \n",
       "2       23.0      87       84            40    88.0       36.0  \n",
       "3        7.0      83       89            61    15.0       13.0  \n",
       "4        9.0      76       76            42    29.0       83.0  \n",
       "5        7.0      85       94            83    91.0       84.0  \n",
       "6       17.0      76       68            89    11.0       57.0  \n",
       "7        NaN      22       51             8     NaN        NaN  \n",
       "8        NaN      49       42            14    51.0        NaN  \n",
       "9        NaN      79       70            46    64.0        NaN  \n",
       "10       NaN      56       78            53     9.0       48.0  \n",
       "11      11.0      81       72            50    11.0       30.0  \n",
       "12      17.0      61       72            34    11.0       28.0  \n",
       "13       8.0      50       57            22    15.0       17.0  \n",
       "14      14.0      59       77            30    86.0       91.0  \n",
       "15       2.0      57       52            46     5.0       31.0  "
      ],
      "text/html": "<div>\n<style scoped>\n    .dataframe tbody tr th:only-of-type {\n        vertical-align: middle;\n    }\n\n    .dataframe tbody tr th {\n        vertical-align: top;\n    }\n\n    .dataframe thead th {\n        text-align: right;\n    }\n</style>\n<table border=\"1\" class=\"dataframe\">\n  <thead>\n    <tr style=\"text-align: right;\">\n      <th></th>\n      <th>Country</th>\n      <th>Real coffee</th>\n      <th>Instant coffee</th>\n      <th>Sweetener</th>\n      <th>Biscuits</th>\n      <th>Tin soup</th>\n      <th>Potatoes</th>\n      <th>Apples</th>\n      <th>Oranges</th>\n      <th>Tinned fruit</th>\n      <th>Garlic</th>\n      <th>Olive oil</th>\n    </tr>\n  </thead>\n  <tbody>\n    <tr>\n      <th>0</th>\n      <td>Germany</td>\n      <td>90</td>\n      <td>49</td>\n      <td>19.0</td>\n      <td>57.0</td>\n      <td>19.0</td>\n      <td>21.0</td>\n      <td>81</td>\n      <td>75</td>\n      <td>44</td>\n      <td>22.0</td>\n      <td>74.0</td>\n    </tr>\n    <tr>\n      <th>1</th>\n      <td>Italy</td>\n      <td>82</td>\n      <td>10</td>\n      <td>2.0</td>\n      <td>55.0</td>\n      <td>3.0</td>\n      <td>2.0</td>\n      <td>67</td>\n      <td>71</td>\n      <td>9</td>\n      <td>80.0</td>\n      <td>94.0</td>\n    </tr>\n    <tr>\n      <th>2</th>\n      <td>France</td>\n      <td>88</td>\n      <td>42</td>\n      <td>4.0</td>\n      <td>76.0</td>\n      <td>11.0</td>\n      <td>23.0</td>\n      <td>87</td>\n      <td>84</td>\n      <td>40</td>\n      <td>88.0</td>\n      <td>36.0</td>\n    </tr>\n    <tr>\n      <th>3</th>\n      <td>Holland</td>\n      <td>96</td>\n      <td>62</td>\n      <td>32.0</td>\n      <td>62.0</td>\n      <td>43.0</td>\n      <td>7.0</td>\n      <td>83</td>\n      <td>89</td>\n      <td>61</td>\n      <td>15.0</td>\n      <td>13.0</td>\n    </tr>\n    <tr>\n      <th>4</th>\n      <td>Belgium</td>\n      <td>94</td>\n      <td>38</td>\n      <td>11.0</td>\n      <td>74.0</td>\n      <td>23.0</td>\n      <td>9.0</td>\n      <td>76</td>\n      <td>76</td>\n      <td>42</td>\n      <td>29.0</td>\n      <td>83.0</td>\n    </tr>\n    <tr>\n      <th>5</th>\n      <td>Luxembourg</td>\n      <td>97</td>\n      <td>61</td>\n      <td>28.0</td>\n      <td>79.0</td>\n      <td>12.0</td>\n      <td>7.0</td>\n      <td>85</td>\n      <td>94</td>\n      <td>83</td>\n      <td>91.0</td>\n      <td>84.0</td>\n    </tr>\n    <tr>\n      <th>6</th>\n      <td>England</td>\n      <td>27</td>\n      <td>86</td>\n      <td>22.0</td>\n      <td>91.0</td>\n      <td>76.0</td>\n      <td>17.0</td>\n      <td>76</td>\n      <td>68</td>\n      <td>89</td>\n      <td>11.0</td>\n      <td>57.0</td>\n    </tr>\n    <tr>\n      <th>7</th>\n      <td>Portugal</td>\n      <td>72</td>\n      <td>26</td>\n      <td>2.0</td>\n      <td>22.0</td>\n      <td>1.0</td>\n      <td>NaN</td>\n      <td>22</td>\n      <td>51</td>\n      <td>8</td>\n      <td>NaN</td>\n      <td>NaN</td>\n    </tr>\n    <tr>\n      <th>8</th>\n      <td>Austria</td>\n      <td>55</td>\n      <td>31</td>\n      <td>NaN</td>\n      <td>29.0</td>\n      <td>NaN</td>\n      <td>NaN</td>\n      <td>49</td>\n      <td>42</td>\n      <td>14</td>\n      <td>51.0</td>\n      <td>NaN</td>\n    </tr>\n    <tr>\n      <th>9</th>\n      <td>Switzerland</td>\n      <td>73</td>\n      <td>72</td>\n      <td>25.0</td>\n      <td>31.0</td>\n      <td>10.0</td>\n      <td>NaN</td>\n      <td>79</td>\n      <td>70</td>\n      <td>46</td>\n      <td>64.0</td>\n      <td>NaN</td>\n    </tr>\n    <tr>\n      <th>10</th>\n      <td>Sweden</td>\n      <td>97</td>\n      <td>13</td>\n      <td>31.0</td>\n      <td>NaN</td>\n      <td>43.0</td>\n      <td>NaN</td>\n      <td>56</td>\n      <td>78</td>\n      <td>53</td>\n      <td>9.0</td>\n      <td>48.0</td>\n    </tr>\n    <tr>\n      <th>11</th>\n      <td>Denmark</td>\n      <td>96</td>\n      <td>17</td>\n      <td>35.0</td>\n      <td>66.0</td>\n      <td>17.0</td>\n      <td>11.0</td>\n      <td>81</td>\n      <td>72</td>\n      <td>50</td>\n      <td>11.0</td>\n      <td>30.0</td>\n    </tr>\n    <tr>\n      <th>12</th>\n      <td>Norway</td>\n      <td>92</td>\n      <td>17</td>\n      <td>13.0</td>\n      <td>62.0</td>\n      <td>4.0</td>\n      <td>17.0</td>\n      <td>61</td>\n      <td>72</td>\n      <td>34</td>\n      <td>11.0</td>\n      <td>28.0</td>\n    </tr>\n    <tr>\n      <th>13</th>\n      <td>Finland</td>\n      <td>98</td>\n      <td>12</td>\n      <td>20.0</td>\n      <td>64.0</td>\n      <td>10.0</td>\n      <td>8.0</td>\n      <td>50</td>\n      <td>57</td>\n      <td>22</td>\n      <td>15.0</td>\n      <td>17.0</td>\n    </tr>\n    <tr>\n      <th>14</th>\n      <td>Spain</td>\n      <td>70</td>\n      <td>40</td>\n      <td>NaN</td>\n      <td>62.0</td>\n      <td>2.0</td>\n      <td>14.0</td>\n      <td>59</td>\n      <td>77</td>\n      <td>30</td>\n      <td>86.0</td>\n      <td>91.0</td>\n    </tr>\n    <tr>\n      <th>15</th>\n      <td>Ireland</td>\n      <td>30</td>\n      <td>52</td>\n      <td>11.0</td>\n      <td>80.0</td>\n      <td>18.0</td>\n      <td>2.0</td>\n      <td>57</td>\n      <td>52</td>\n      <td>46</td>\n      <td>5.0</td>\n      <td>31.0</td>\n    </tr>\n  </tbody>\n</table>\n</div>"
     },
     "metadata": {},
     "execution_count": 26
    }
   ],
   "source": [
    "df = pd.read_csv(\"E:\\\\ML\\\\ML\\\\Pandas\\\\food consumption.csv\",keep_default_na= True)\n",
    "df                                                         # It will change the defult values of null to NaN"
   ]
  },
  {
   "cell_type": "code",
   "execution_count": 31,
   "metadata": {},
   "outputs": [
    {
     "output_type": "execute_result",
     "data": {
      "text/plain": [
       "        Country  Real coffee  Instant coffee  Sweetener  Biscuits  Tin soup  \\\n",
       "0       Germany           90              49         19        57        19   \n",
       "1         Italy           82              10          2        55         3   \n",
       "2        France           88              42          4        76        11   \n",
       "3       Holland           96              62         32        62        43   \n",
       "4       Belgium           94              38         11        74        23   \n",
       "5    Luxembourg           97              61         28        79        12   \n",
       "6       England           27              86         22        91        76   \n",
       "7      Portugal           72              26          2        22         1   \n",
       "8       Austria           55              31          8        29        12   \n",
       "9   Switzerland           73              72         25        31        12   \n",
       "10       Sweden           97              13         31         9        43   \n",
       "11      Denmark           96              17         35        66        17   \n",
       "12       Norway           92              17         13        62         4   \n",
       "13      Finland           98              12         20        64        10   \n",
       "14        Spain           70              40          3        62         2   \n",
       "15      Ireland           30              52         11        80        18   \n",
       "\n",
       "    Potatoes  Apples  Oranges  Tinned fruit  Garlic  Olive oil  \n",
       "0         21      81       75            44      22         74  \n",
       "1          2      67       71             9      80         94  \n",
       "2         23      87       84            40      88         36  \n",
       "3          7      83       89            61      15         13  \n",
       "4          9      76       76            42      29         83  \n",
       "5          7      85       94            83      91         84  \n",
       "6         17      76       68            89      11         57  \n",
       "7         17      22       51             8      54         57  \n",
       "8         17      49       42            14      51         57  \n",
       "9         11      79       70            46      64         57  \n",
       "10        11      56       78            53       9         48  \n",
       "11        11      81       72            50      11         30  \n",
       "12        17      61       72            34      11         28  \n",
       "13         8      50       57            22      15         17  \n",
       "14        14      59       77            30      80         91  \n",
       "15         2      57       52            46       5         31  "
      ],
      "text/html": "<div>\n<style scoped>\n    .dataframe tbody tr th:only-of-type {\n        vertical-align: middle;\n    }\n\n    .dataframe tbody tr th {\n        vertical-align: top;\n    }\n\n    .dataframe thead th {\n        text-align: right;\n    }\n</style>\n<table border=\"1\" class=\"dataframe\">\n  <thead>\n    <tr style=\"text-align: right;\">\n      <th></th>\n      <th>Country</th>\n      <th>Real coffee</th>\n      <th>Instant coffee</th>\n      <th>Sweetener</th>\n      <th>Biscuits</th>\n      <th>Tin soup</th>\n      <th>Potatoes</th>\n      <th>Apples</th>\n      <th>Oranges</th>\n      <th>Tinned fruit</th>\n      <th>Garlic</th>\n      <th>Olive oil</th>\n    </tr>\n  </thead>\n  <tbody>\n    <tr>\n      <th>0</th>\n      <td>Germany</td>\n      <td>90</td>\n      <td>49</td>\n      <td>19</td>\n      <td>57</td>\n      <td>19</td>\n      <td>21</td>\n      <td>81</td>\n      <td>75</td>\n      <td>44</td>\n      <td>22</td>\n      <td>74</td>\n    </tr>\n    <tr>\n      <th>1</th>\n      <td>Italy</td>\n      <td>82</td>\n      <td>10</td>\n      <td>2</td>\n      <td>55</td>\n      <td>3</td>\n      <td>2</td>\n      <td>67</td>\n      <td>71</td>\n      <td>9</td>\n      <td>80</td>\n      <td>94</td>\n    </tr>\n    <tr>\n      <th>2</th>\n      <td>France</td>\n      <td>88</td>\n      <td>42</td>\n      <td>4</td>\n      <td>76</td>\n      <td>11</td>\n      <td>23</td>\n      <td>87</td>\n      <td>84</td>\n      <td>40</td>\n      <td>88</td>\n      <td>36</td>\n    </tr>\n    <tr>\n      <th>3</th>\n      <td>Holland</td>\n      <td>96</td>\n      <td>62</td>\n      <td>32</td>\n      <td>62</td>\n      <td>43</td>\n      <td>7</td>\n      <td>83</td>\n      <td>89</td>\n      <td>61</td>\n      <td>15</td>\n      <td>13</td>\n    </tr>\n    <tr>\n      <th>4</th>\n      <td>Belgium</td>\n      <td>94</td>\n      <td>38</td>\n      <td>11</td>\n      <td>74</td>\n      <td>23</td>\n      <td>9</td>\n      <td>76</td>\n      <td>76</td>\n      <td>42</td>\n      <td>29</td>\n      <td>83</td>\n    </tr>\n    <tr>\n      <th>5</th>\n      <td>Luxembourg</td>\n      <td>97</td>\n      <td>61</td>\n      <td>28</td>\n      <td>79</td>\n      <td>12</td>\n      <td>7</td>\n      <td>85</td>\n      <td>94</td>\n      <td>83</td>\n      <td>91</td>\n      <td>84</td>\n    </tr>\n    <tr>\n      <th>6</th>\n      <td>England</td>\n      <td>27</td>\n      <td>86</td>\n      <td>22</td>\n      <td>91</td>\n      <td>76</td>\n      <td>17</td>\n      <td>76</td>\n      <td>68</td>\n      <td>89</td>\n      <td>11</td>\n      <td>57</td>\n    </tr>\n    <tr>\n      <th>7</th>\n      <td>Portugal</td>\n      <td>72</td>\n      <td>26</td>\n      <td>2</td>\n      <td>22</td>\n      <td>1</td>\n      <td>17</td>\n      <td>22</td>\n      <td>51</td>\n      <td>8</td>\n      <td>54</td>\n      <td>57</td>\n    </tr>\n    <tr>\n      <th>8</th>\n      <td>Austria</td>\n      <td>55</td>\n      <td>31</td>\n      <td>8</td>\n      <td>29</td>\n      <td>12</td>\n      <td>17</td>\n      <td>49</td>\n      <td>42</td>\n      <td>14</td>\n      <td>51</td>\n      <td>57</td>\n    </tr>\n    <tr>\n      <th>9</th>\n      <td>Switzerland</td>\n      <td>73</td>\n      <td>72</td>\n      <td>25</td>\n      <td>31</td>\n      <td>12</td>\n      <td>11</td>\n      <td>79</td>\n      <td>70</td>\n      <td>46</td>\n      <td>64</td>\n      <td>57</td>\n    </tr>\n    <tr>\n      <th>10</th>\n      <td>Sweden</td>\n      <td>97</td>\n      <td>13</td>\n      <td>31</td>\n      <td>9</td>\n      <td>43</td>\n      <td>11</td>\n      <td>56</td>\n      <td>78</td>\n      <td>53</td>\n      <td>9</td>\n      <td>48</td>\n    </tr>\n    <tr>\n      <th>11</th>\n      <td>Denmark</td>\n      <td>96</td>\n      <td>17</td>\n      <td>35</td>\n      <td>66</td>\n      <td>17</td>\n      <td>11</td>\n      <td>81</td>\n      <td>72</td>\n      <td>50</td>\n      <td>11</td>\n      <td>30</td>\n    </tr>\n    <tr>\n      <th>12</th>\n      <td>Norway</td>\n      <td>92</td>\n      <td>17</td>\n      <td>13</td>\n      <td>62</td>\n      <td>4</td>\n      <td>17</td>\n      <td>61</td>\n      <td>72</td>\n      <td>34</td>\n      <td>11</td>\n      <td>28</td>\n    </tr>\n    <tr>\n      <th>13</th>\n      <td>Finland</td>\n      <td>98</td>\n      <td>12</td>\n      <td>20</td>\n      <td>64</td>\n      <td>10</td>\n      <td>8</td>\n      <td>50</td>\n      <td>57</td>\n      <td>22</td>\n      <td>15</td>\n      <td>17</td>\n    </tr>\n    <tr>\n      <th>14</th>\n      <td>Spain</td>\n      <td>70</td>\n      <td>40</td>\n      <td>3</td>\n      <td>62</td>\n      <td>2</td>\n      <td>14</td>\n      <td>59</td>\n      <td>77</td>\n      <td>30</td>\n      <td>80</td>\n      <td>91</td>\n    </tr>\n    <tr>\n      <th>15</th>\n      <td>Ireland</td>\n      <td>30</td>\n      <td>52</td>\n      <td>11</td>\n      <td>80</td>\n      <td>18</td>\n      <td>2</td>\n      <td>57</td>\n      <td>52</td>\n      <td>46</td>\n      <td>5</td>\n      <td>31</td>\n    </tr>\n  </tbody>\n</table>\n</div>"
     },
     "metadata": {},
     "execution_count": 31
    }
   ],
   "source": [
    "df = pd.read_csv(\"E:\\\\ML\\\\ML\\\\Pandas\\\\food consumption.csv\", na_filter=False)\n",
    "df                                                          # It will boost up the performance"
   ]
  },
  {
   "cell_type": "code",
   "execution_count": null,
   "metadata": {},
   "outputs": [],
   "source": []
  }
 ]
}