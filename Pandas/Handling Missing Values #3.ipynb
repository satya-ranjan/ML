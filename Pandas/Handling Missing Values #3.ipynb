{
 "metadata": {
  "language_info": {
   "codemirror_mode": {
    "name": "ipython",
    "version": 3
   },
   "file_extension": ".py",
   "mimetype": "text/x-python",
   "name": "python",
   "nbconvert_exporter": "python",
   "pygments_lexer": "ipython3",
   "version": "3.9.5"
  },
  "orig_nbformat": 4,
  "kernelspec": {
   "name": "python3",
   "display_name": "Python 3.9.5 64-bit"
  },
  "interpreter": {
   "hash": "a12d694c3ccac42055183a0ad11e659c6a2db5c6555ad2c8919d5814fd4e404f"
  }
 },
 "nbformat": 4,
 "nbformat_minor": 2,
 "cells": [
  {
   "source": [
    "# Handling Missing Values #3"
   ],
   "cell_type": "markdown",
   "metadata": {}
  },
  {
   "cell_type": "code",
   "execution_count": 4,
   "metadata": {},
   "outputs": [],
   "source": [
    "import pandas as pd"
   ]
  },
  {
   "cell_type": "code",
   "execution_count": 5,
   "metadata": {},
   "outputs": [
    {
     "output_type": "execute_result",
     "data": {
      "text/plain": [
       "        Country  Real coffee  Instant coffee  Sweetener  Biscuits  Tin soup  \\\n",
       "0       Germany         90.0            49.0       19.0      57.0      19.0   \n",
       "1         Italy         82.0            10.0        2.0      55.0       3.0   \n",
       "2        France         88.0            42.0        4.0      76.0      11.0   \n",
       "3       Holland         96.0            62.0       32.0       NaN      43.0   \n",
       "4       Belgium         94.0            38.0       11.0       NaN      23.0   \n",
       "5    Luxembourg         97.0            61.0       28.0       NaN      12.0   \n",
       "6       England         27.0            86.0       22.0      91.0      76.0   \n",
       "7      Portugal         72.0            26.0        2.0      22.0       1.0   \n",
       "8       Austria         55.0            31.0        8.0      29.0      12.0   \n",
       "9   Switzerland         73.0            72.0       25.0      31.0      12.0   \n",
       "10       Sweden         97.0            13.0       31.0       9.0      43.0   \n",
       "11      Denmark         96.0            17.0       35.0      66.0      17.0   \n",
       "12       Norway         92.0            17.0       13.0      62.0       4.0   \n",
       "13      Finland         98.0            12.0       20.0      64.0      10.0   \n",
       "14        Spain         70.0            40.0        3.0      62.0       2.0   \n",
       "15          NaN          NaN             NaN        NaN       NaN       NaN   \n",
       "\n",
       "    Potatoes  Apples  Oranges  Tinned fruit  Garlic  Olive oil  \n",
       "0       21.0    81.0     75.0          44.0    22.0       74.0  \n",
       "1        2.0    67.0     71.0           9.0    80.0       94.0  \n",
       "2       23.0    87.0     84.0          40.0    88.0       36.0  \n",
       "3        7.0    83.0     89.0          61.0     NaN       13.0  \n",
       "4        9.0    76.0     76.0          42.0     NaN       83.0  \n",
       "5        7.0    85.0     94.0          83.0    91.0       84.0  \n",
       "6       17.0    76.0     68.0          89.0    11.0       57.0  \n",
       "7       17.0     NaN     51.0           8.0    54.0       57.0  \n",
       "8       17.0     NaN     42.0          14.0    51.0       57.0  \n",
       "9       11.0     NaN     70.0          46.0    64.0       57.0  \n",
       "10      11.0     NaN     78.0          53.0     9.0       48.0  \n",
       "11      11.0    81.0     72.0          50.0    11.0       30.0  \n",
       "12      17.0    61.0     72.0          34.0    11.0       28.0  \n",
       "13       8.0    50.0     57.0          22.0    15.0       17.0  \n",
       "14      14.0    59.0     77.0          30.0    80.0       91.0  \n",
       "15       NaN     NaN      NaN           NaN     NaN        NaN  "
      ],
      "text/html": "<div>\n<style scoped>\n    .dataframe tbody tr th:only-of-type {\n        vertical-align: middle;\n    }\n\n    .dataframe tbody tr th {\n        vertical-align: top;\n    }\n\n    .dataframe thead th {\n        text-align: right;\n    }\n</style>\n<table border=\"1\" class=\"dataframe\">\n  <thead>\n    <tr style=\"text-align: right;\">\n      <th></th>\n      <th>Country</th>\n      <th>Real coffee</th>\n      <th>Instant coffee</th>\n      <th>Sweetener</th>\n      <th>Biscuits</th>\n      <th>Tin soup</th>\n      <th>Potatoes</th>\n      <th>Apples</th>\n      <th>Oranges</th>\n      <th>Tinned fruit</th>\n      <th>Garlic</th>\n      <th>Olive oil</th>\n    </tr>\n  </thead>\n  <tbody>\n    <tr>\n      <th>0</th>\n      <td>Germany</td>\n      <td>90.0</td>\n      <td>49.0</td>\n      <td>19.0</td>\n      <td>57.0</td>\n      <td>19.0</td>\n      <td>21.0</td>\n      <td>81.0</td>\n      <td>75.0</td>\n      <td>44.0</td>\n      <td>22.0</td>\n      <td>74.0</td>\n    </tr>\n    <tr>\n      <th>1</th>\n      <td>Italy</td>\n      <td>82.0</td>\n      <td>10.0</td>\n      <td>2.0</td>\n      <td>55.0</td>\n      <td>3.0</td>\n      <td>2.0</td>\n      <td>67.0</td>\n      <td>71.0</td>\n      <td>9.0</td>\n      <td>80.0</td>\n      <td>94.0</td>\n    </tr>\n    <tr>\n      <th>2</th>\n      <td>France</td>\n      <td>88.0</td>\n      <td>42.0</td>\n      <td>4.0</td>\n      <td>76.0</td>\n      <td>11.0</td>\n      <td>23.0</td>\n      <td>87.0</td>\n      <td>84.0</td>\n      <td>40.0</td>\n      <td>88.0</td>\n      <td>36.0</td>\n    </tr>\n    <tr>\n      <th>3</th>\n      <td>Holland</td>\n      <td>96.0</td>\n      <td>62.0</td>\n      <td>32.0</td>\n      <td>NaN</td>\n      <td>43.0</td>\n      <td>7.0</td>\n      <td>83.0</td>\n      <td>89.0</td>\n      <td>61.0</td>\n      <td>NaN</td>\n      <td>13.0</td>\n    </tr>\n    <tr>\n      <th>4</th>\n      <td>Belgium</td>\n      <td>94.0</td>\n      <td>38.0</td>\n      <td>11.0</td>\n      <td>NaN</td>\n      <td>23.0</td>\n      <td>9.0</td>\n      <td>76.0</td>\n      <td>76.0</td>\n      <td>42.0</td>\n      <td>NaN</td>\n      <td>83.0</td>\n    </tr>\n    <tr>\n      <th>5</th>\n      <td>Luxembourg</td>\n      <td>97.0</td>\n      <td>61.0</td>\n      <td>28.0</td>\n      <td>NaN</td>\n      <td>12.0</td>\n      <td>7.0</td>\n      <td>85.0</td>\n      <td>94.0</td>\n      <td>83.0</td>\n      <td>91.0</td>\n      <td>84.0</td>\n    </tr>\n    <tr>\n      <th>6</th>\n      <td>England</td>\n      <td>27.0</td>\n      <td>86.0</td>\n      <td>22.0</td>\n      <td>91.0</td>\n      <td>76.0</td>\n      <td>17.0</td>\n      <td>76.0</td>\n      <td>68.0</td>\n      <td>89.0</td>\n      <td>11.0</td>\n      <td>57.0</td>\n    </tr>\n    <tr>\n      <th>7</th>\n      <td>Portugal</td>\n      <td>72.0</td>\n      <td>26.0</td>\n      <td>2.0</td>\n      <td>22.0</td>\n      <td>1.0</td>\n      <td>17.0</td>\n      <td>NaN</td>\n      <td>51.0</td>\n      <td>8.0</td>\n      <td>54.0</td>\n      <td>57.0</td>\n    </tr>\n    <tr>\n      <th>8</th>\n      <td>Austria</td>\n      <td>55.0</td>\n      <td>31.0</td>\n      <td>8.0</td>\n      <td>29.0</td>\n      <td>12.0</td>\n      <td>17.0</td>\n      <td>NaN</td>\n      <td>42.0</td>\n      <td>14.0</td>\n      <td>51.0</td>\n      <td>57.0</td>\n    </tr>\n    <tr>\n      <th>9</th>\n      <td>Switzerland</td>\n      <td>73.0</td>\n      <td>72.0</td>\n      <td>25.0</td>\n      <td>31.0</td>\n      <td>12.0</td>\n      <td>11.0</td>\n      <td>NaN</td>\n      <td>70.0</td>\n      <td>46.0</td>\n      <td>64.0</td>\n      <td>57.0</td>\n    </tr>\n    <tr>\n      <th>10</th>\n      <td>Sweden</td>\n      <td>97.0</td>\n      <td>13.0</td>\n      <td>31.0</td>\n      <td>9.0</td>\n      <td>43.0</td>\n      <td>11.0</td>\n      <td>NaN</td>\n      <td>78.0</td>\n      <td>53.0</td>\n      <td>9.0</td>\n      <td>48.0</td>\n    </tr>\n    <tr>\n      <th>11</th>\n      <td>Denmark</td>\n      <td>96.0</td>\n      <td>17.0</td>\n      <td>35.0</td>\n      <td>66.0</td>\n      <td>17.0</td>\n      <td>11.0</td>\n      <td>81.0</td>\n      <td>72.0</td>\n      <td>50.0</td>\n      <td>11.0</td>\n      <td>30.0</td>\n    </tr>\n    <tr>\n      <th>12</th>\n      <td>Norway</td>\n      <td>92.0</td>\n      <td>17.0</td>\n      <td>13.0</td>\n      <td>62.0</td>\n      <td>4.0</td>\n      <td>17.0</td>\n      <td>61.0</td>\n      <td>72.0</td>\n      <td>34.0</td>\n      <td>11.0</td>\n      <td>28.0</td>\n    </tr>\n    <tr>\n      <th>13</th>\n      <td>Finland</td>\n      <td>98.0</td>\n      <td>12.0</td>\n      <td>20.0</td>\n      <td>64.0</td>\n      <td>10.0</td>\n      <td>8.0</td>\n      <td>50.0</td>\n      <td>57.0</td>\n      <td>22.0</td>\n      <td>15.0</td>\n      <td>17.0</td>\n    </tr>\n    <tr>\n      <th>14</th>\n      <td>Spain</td>\n      <td>70.0</td>\n      <td>40.0</td>\n      <td>3.0</td>\n      <td>62.0</td>\n      <td>2.0</td>\n      <td>14.0</td>\n      <td>59.0</td>\n      <td>77.0</td>\n      <td>30.0</td>\n      <td>80.0</td>\n      <td>91.0</td>\n    </tr>\n    <tr>\n      <th>15</th>\n      <td>NaN</td>\n      <td>NaN</td>\n      <td>NaN</td>\n      <td>NaN</td>\n      <td>NaN</td>\n      <td>NaN</td>\n      <td>NaN</td>\n      <td>NaN</td>\n      <td>NaN</td>\n      <td>NaN</td>\n      <td>NaN</td>\n      <td>NaN</td>\n    </tr>\n  </tbody>\n</table>\n</div>"
     },
     "metadata": {},
     "execution_count": 5
    }
   ],
   "source": [
    "df = pd.read_csv(\"E:\\\\ML\\\\ML\\\\Pandas\\\\food consumption.csv\")\n",
    "df"
   ]
  },
  {
   "cell_type": "code",
   "execution_count": 6,
   "metadata": {},
   "outputs": [
    {
     "output_type": "execute_result",
     "data": {
      "text/plain": [
       "    Country  Real coffee  Instant coffee  Sweetener  Biscuits  Tin soup  \\\n",
       "0   Germany         90.0            49.0       19.0      57.0      19.0   \n",
       "1     Italy         82.0            10.0        2.0      55.0       3.0   \n",
       "2    France         88.0            42.0        4.0      76.0      11.0   \n",
       "6   England         27.0            86.0       22.0      91.0      76.0   \n",
       "11  Denmark         96.0            17.0       35.0      66.0      17.0   \n",
       "12   Norway         92.0            17.0       13.0      62.0       4.0   \n",
       "13  Finland         98.0            12.0       20.0      64.0      10.0   \n",
       "14    Spain         70.0            40.0        3.0      62.0       2.0   \n",
       "\n",
       "    Potatoes  Apples  Oranges  Tinned fruit  Garlic  Olive oil  \n",
       "0       21.0    81.0     75.0          44.0    22.0       74.0  \n",
       "1        2.0    67.0     71.0           9.0    80.0       94.0  \n",
       "2       23.0    87.0     84.0          40.0    88.0       36.0  \n",
       "6       17.0    76.0     68.0          89.0    11.0       57.0  \n",
       "11      11.0    81.0     72.0          50.0    11.0       30.0  \n",
       "12      17.0    61.0     72.0          34.0    11.0       28.0  \n",
       "13       8.0    50.0     57.0          22.0    15.0       17.0  \n",
       "14      14.0    59.0     77.0          30.0    80.0       91.0  "
      ],
      "text/html": "<div>\n<style scoped>\n    .dataframe tbody tr th:only-of-type {\n        vertical-align: middle;\n    }\n\n    .dataframe tbody tr th {\n        vertical-align: top;\n    }\n\n    .dataframe thead th {\n        text-align: right;\n    }\n</style>\n<table border=\"1\" class=\"dataframe\">\n  <thead>\n    <tr style=\"text-align: right;\">\n      <th></th>\n      <th>Country</th>\n      <th>Real coffee</th>\n      <th>Instant coffee</th>\n      <th>Sweetener</th>\n      <th>Biscuits</th>\n      <th>Tin soup</th>\n      <th>Potatoes</th>\n      <th>Apples</th>\n      <th>Oranges</th>\n      <th>Tinned fruit</th>\n      <th>Garlic</th>\n      <th>Olive oil</th>\n    </tr>\n  </thead>\n  <tbody>\n    <tr>\n      <th>0</th>\n      <td>Germany</td>\n      <td>90.0</td>\n      <td>49.0</td>\n      <td>19.0</td>\n      <td>57.0</td>\n      <td>19.0</td>\n      <td>21.0</td>\n      <td>81.0</td>\n      <td>75.0</td>\n      <td>44.0</td>\n      <td>22.0</td>\n      <td>74.0</td>\n    </tr>\n    <tr>\n      <th>1</th>\n      <td>Italy</td>\n      <td>82.0</td>\n      <td>10.0</td>\n      <td>2.0</td>\n      <td>55.0</td>\n      <td>3.0</td>\n      <td>2.0</td>\n      <td>67.0</td>\n      <td>71.0</td>\n      <td>9.0</td>\n      <td>80.0</td>\n      <td>94.0</td>\n    </tr>\n    <tr>\n      <th>2</th>\n      <td>France</td>\n      <td>88.0</td>\n      <td>42.0</td>\n      <td>4.0</td>\n      <td>76.0</td>\n      <td>11.0</td>\n      <td>23.0</td>\n      <td>87.0</td>\n      <td>84.0</td>\n      <td>40.0</td>\n      <td>88.0</td>\n      <td>36.0</td>\n    </tr>\n    <tr>\n      <th>6</th>\n      <td>England</td>\n      <td>27.0</td>\n      <td>86.0</td>\n      <td>22.0</td>\n      <td>91.0</td>\n      <td>76.0</td>\n      <td>17.0</td>\n      <td>76.0</td>\n      <td>68.0</td>\n      <td>89.0</td>\n      <td>11.0</td>\n      <td>57.0</td>\n    </tr>\n    <tr>\n      <th>11</th>\n      <td>Denmark</td>\n      <td>96.0</td>\n      <td>17.0</td>\n      <td>35.0</td>\n      <td>66.0</td>\n      <td>17.0</td>\n      <td>11.0</td>\n      <td>81.0</td>\n      <td>72.0</td>\n      <td>50.0</td>\n      <td>11.0</td>\n      <td>30.0</td>\n    </tr>\n    <tr>\n      <th>12</th>\n      <td>Norway</td>\n      <td>92.0</td>\n      <td>17.0</td>\n      <td>13.0</td>\n      <td>62.0</td>\n      <td>4.0</td>\n      <td>17.0</td>\n      <td>61.0</td>\n      <td>72.0</td>\n      <td>34.0</td>\n      <td>11.0</td>\n      <td>28.0</td>\n    </tr>\n    <tr>\n      <th>13</th>\n      <td>Finland</td>\n      <td>98.0</td>\n      <td>12.0</td>\n      <td>20.0</td>\n      <td>64.0</td>\n      <td>10.0</td>\n      <td>8.0</td>\n      <td>50.0</td>\n      <td>57.0</td>\n      <td>22.0</td>\n      <td>15.0</td>\n      <td>17.0</td>\n    </tr>\n    <tr>\n      <th>14</th>\n      <td>Spain</td>\n      <td>70.0</td>\n      <td>40.0</td>\n      <td>3.0</td>\n      <td>62.0</td>\n      <td>2.0</td>\n      <td>14.0</td>\n      <td>59.0</td>\n      <td>77.0</td>\n      <td>30.0</td>\n      <td>80.0</td>\n      <td>91.0</td>\n    </tr>\n  </tbody>\n</table>\n</div>"
     },
     "metadata": {},
     "execution_count": 6
    }
   ],
   "source": [
    "df.dropna() # It will drope all NAN values"
   ]
  },
  {
   "cell_type": "code",
   "execution_count": 7,
   "metadata": {},
   "outputs": [
    {
     "output_type": "execute_result",
     "data": {
      "text/plain": [
       "Empty DataFrame\n",
       "Columns: []\n",
       "Index: [0, 1, 2, 3, 4, 5, 6, 7, 8, 9, 10, 11, 12, 13, 14, 15]"
      ],
      "text/html": "<div>\n<style scoped>\n    .dataframe tbody tr th:only-of-type {\n        vertical-align: middle;\n    }\n\n    .dataframe tbody tr th {\n        vertical-align: top;\n    }\n\n    .dataframe thead th {\n        text-align: right;\n    }\n</style>\n<table border=\"1\" class=\"dataframe\">\n  <thead>\n    <tr style=\"text-align: right;\">\n      <th></th>\n    </tr>\n  </thead>\n  <tbody>\n    <tr>\n      <th>0</th>\n    </tr>\n    <tr>\n      <th>1</th>\n    </tr>\n    <tr>\n      <th>2</th>\n    </tr>\n    <tr>\n      <th>3</th>\n    </tr>\n    <tr>\n      <th>4</th>\n    </tr>\n    <tr>\n      <th>5</th>\n    </tr>\n    <tr>\n      <th>6</th>\n    </tr>\n    <tr>\n      <th>7</th>\n    </tr>\n    <tr>\n      <th>8</th>\n    </tr>\n    <tr>\n      <th>9</th>\n    </tr>\n    <tr>\n      <th>10</th>\n    </tr>\n    <tr>\n      <th>11</th>\n    </tr>\n    <tr>\n      <th>12</th>\n    </tr>\n    <tr>\n      <th>13</th>\n    </tr>\n    <tr>\n      <th>14</th>\n    </tr>\n    <tr>\n      <th>15</th>\n    </tr>\n  </tbody>\n</table>\n</div>"
     },
     "metadata": {},
     "execution_count": 7
    }
   ],
   "source": [
    "df.dropna(axis=1) # it will drop all the colomns where \"NAN\" values will be there "
   ]
  },
  {
   "cell_type": "code",
   "execution_count": 8,
   "metadata": {},
   "outputs": [
    {
     "output_type": "execute_result",
     "data": {
      "text/plain": [
       "    Country  Real coffee  Instant coffee  Sweetener  Biscuits  Tin soup  \\\n",
       "0   Germany         90.0            49.0       19.0      57.0      19.0   \n",
       "1     Italy         82.0            10.0        2.0      55.0       3.0   \n",
       "2    France         88.0            42.0        4.0      76.0      11.0   \n",
       "6   England         27.0            86.0       22.0      91.0      76.0   \n",
       "11  Denmark         96.0            17.0       35.0      66.0      17.0   \n",
       "12   Norway         92.0            17.0       13.0      62.0       4.0   \n",
       "13  Finland         98.0            12.0       20.0      64.0      10.0   \n",
       "14    Spain         70.0            40.0        3.0      62.0       2.0   \n",
       "\n",
       "    Potatoes  Apples  Oranges  Tinned fruit  Garlic  Olive oil  \n",
       "0       21.0    81.0     75.0          44.0    22.0       74.0  \n",
       "1        2.0    67.0     71.0           9.0    80.0       94.0  \n",
       "2       23.0    87.0     84.0          40.0    88.0       36.0  \n",
       "6       17.0    76.0     68.0          89.0    11.0       57.0  \n",
       "11      11.0    81.0     72.0          50.0    11.0       30.0  \n",
       "12      17.0    61.0     72.0          34.0    11.0       28.0  \n",
       "13       8.0    50.0     57.0          22.0    15.0       17.0  \n",
       "14      14.0    59.0     77.0          30.0    80.0       91.0  "
      ],
      "text/html": "<div>\n<style scoped>\n    .dataframe tbody tr th:only-of-type {\n        vertical-align: middle;\n    }\n\n    .dataframe tbody tr th {\n        vertical-align: top;\n    }\n\n    .dataframe thead th {\n        text-align: right;\n    }\n</style>\n<table border=\"1\" class=\"dataframe\">\n  <thead>\n    <tr style=\"text-align: right;\">\n      <th></th>\n      <th>Country</th>\n      <th>Real coffee</th>\n      <th>Instant coffee</th>\n      <th>Sweetener</th>\n      <th>Biscuits</th>\n      <th>Tin soup</th>\n      <th>Potatoes</th>\n      <th>Apples</th>\n      <th>Oranges</th>\n      <th>Tinned fruit</th>\n      <th>Garlic</th>\n      <th>Olive oil</th>\n    </tr>\n  </thead>\n  <tbody>\n    <tr>\n      <th>0</th>\n      <td>Germany</td>\n      <td>90.0</td>\n      <td>49.0</td>\n      <td>19.0</td>\n      <td>57.0</td>\n      <td>19.0</td>\n      <td>21.0</td>\n      <td>81.0</td>\n      <td>75.0</td>\n      <td>44.0</td>\n      <td>22.0</td>\n      <td>74.0</td>\n    </tr>\n    <tr>\n      <th>1</th>\n      <td>Italy</td>\n      <td>82.0</td>\n      <td>10.0</td>\n      <td>2.0</td>\n      <td>55.0</td>\n      <td>3.0</td>\n      <td>2.0</td>\n      <td>67.0</td>\n      <td>71.0</td>\n      <td>9.0</td>\n      <td>80.0</td>\n      <td>94.0</td>\n    </tr>\n    <tr>\n      <th>2</th>\n      <td>France</td>\n      <td>88.0</td>\n      <td>42.0</td>\n      <td>4.0</td>\n      <td>76.0</td>\n      <td>11.0</td>\n      <td>23.0</td>\n      <td>87.0</td>\n      <td>84.0</td>\n      <td>40.0</td>\n      <td>88.0</td>\n      <td>36.0</td>\n    </tr>\n    <tr>\n      <th>6</th>\n      <td>England</td>\n      <td>27.0</td>\n      <td>86.0</td>\n      <td>22.0</td>\n      <td>91.0</td>\n      <td>76.0</td>\n      <td>17.0</td>\n      <td>76.0</td>\n      <td>68.0</td>\n      <td>89.0</td>\n      <td>11.0</td>\n      <td>57.0</td>\n    </tr>\n    <tr>\n      <th>11</th>\n      <td>Denmark</td>\n      <td>96.0</td>\n      <td>17.0</td>\n      <td>35.0</td>\n      <td>66.0</td>\n      <td>17.0</td>\n      <td>11.0</td>\n      <td>81.0</td>\n      <td>72.0</td>\n      <td>50.0</td>\n      <td>11.0</td>\n      <td>30.0</td>\n    </tr>\n    <tr>\n      <th>12</th>\n      <td>Norway</td>\n      <td>92.0</td>\n      <td>17.0</td>\n      <td>13.0</td>\n      <td>62.0</td>\n      <td>4.0</td>\n      <td>17.0</td>\n      <td>61.0</td>\n      <td>72.0</td>\n      <td>34.0</td>\n      <td>11.0</td>\n      <td>28.0</td>\n    </tr>\n    <tr>\n      <th>13</th>\n      <td>Finland</td>\n      <td>98.0</td>\n      <td>12.0</td>\n      <td>20.0</td>\n      <td>64.0</td>\n      <td>10.0</td>\n      <td>8.0</td>\n      <td>50.0</td>\n      <td>57.0</td>\n      <td>22.0</td>\n      <td>15.0</td>\n      <td>17.0</td>\n    </tr>\n    <tr>\n      <th>14</th>\n      <td>Spain</td>\n      <td>70.0</td>\n      <td>40.0</td>\n      <td>3.0</td>\n      <td>62.0</td>\n      <td>2.0</td>\n      <td>14.0</td>\n      <td>59.0</td>\n      <td>77.0</td>\n      <td>30.0</td>\n      <td>80.0</td>\n      <td>91.0</td>\n    </tr>\n  </tbody>\n</table>\n</div>"
     },
     "metadata": {},
     "execution_count": 8
    }
   ],
   "source": [
    "df.dropna(how=\"any\") # ROW It will drop all the ROW where there null values "
   ]
  },
  {
   "cell_type": "code",
   "execution_count": 9,
   "metadata": {},
   "outputs": [
    {
     "output_type": "execute_result",
     "data": {
      "text/plain": [
       "Empty DataFrame\n",
       "Columns: []\n",
       "Index: [0, 1, 2, 3, 4, 5, 6, 7, 8, 9, 10, 11, 12, 13, 14, 15]"
      ],
      "text/html": "<div>\n<style scoped>\n    .dataframe tbody tr th:only-of-type {\n        vertical-align: middle;\n    }\n\n    .dataframe tbody tr th {\n        vertical-align: top;\n    }\n\n    .dataframe thead th {\n        text-align: right;\n    }\n</style>\n<table border=\"1\" class=\"dataframe\">\n  <thead>\n    <tr style=\"text-align: right;\">\n      <th></th>\n    </tr>\n  </thead>\n  <tbody>\n    <tr>\n      <th>0</th>\n    </tr>\n    <tr>\n      <th>1</th>\n    </tr>\n    <tr>\n      <th>2</th>\n    </tr>\n    <tr>\n      <th>3</th>\n    </tr>\n    <tr>\n      <th>4</th>\n    </tr>\n    <tr>\n      <th>5</th>\n    </tr>\n    <tr>\n      <th>6</th>\n    </tr>\n    <tr>\n      <th>7</th>\n    </tr>\n    <tr>\n      <th>8</th>\n    </tr>\n    <tr>\n      <th>9</th>\n    </tr>\n    <tr>\n      <th>10</th>\n    </tr>\n    <tr>\n      <th>11</th>\n    </tr>\n    <tr>\n      <th>12</th>\n    </tr>\n    <tr>\n      <th>13</th>\n    </tr>\n    <tr>\n      <th>14</th>\n    </tr>\n    <tr>\n      <th>15</th>\n    </tr>\n  </tbody>\n</table>\n</div>"
     },
     "metadata": {},
     "execution_count": 9
    }
   ],
   "source": [
    "df.dropna(axis = 1 , how=\"any\") # It will drop NULL coloums "
   ]
  },
  {
   "cell_type": "code",
   "execution_count": 10,
   "metadata": {},
   "outputs": [
    {
     "output_type": "execute_result",
     "data": {
      "text/plain": [
       "        Country  Real coffee  Instant coffee  Sweetener  Biscuits  Tin soup  \\\n",
       "0       Germany         90.0            49.0       19.0      57.0      19.0   \n",
       "1         Italy         82.0            10.0        2.0      55.0       3.0   \n",
       "2        France         88.0            42.0        4.0      76.0      11.0   \n",
       "3       Holland         96.0            62.0       32.0       NaN      43.0   \n",
       "4       Belgium         94.0            38.0       11.0       NaN      23.0   \n",
       "5    Luxembourg         97.0            61.0       28.0       NaN      12.0   \n",
       "6       England         27.0            86.0       22.0      91.0      76.0   \n",
       "7      Portugal         72.0            26.0        2.0      22.0       1.0   \n",
       "8       Austria         55.0            31.0        8.0      29.0      12.0   \n",
       "9   Switzerland         73.0            72.0       25.0      31.0      12.0   \n",
       "10       Sweden         97.0            13.0       31.0       9.0      43.0   \n",
       "11      Denmark         96.0            17.0       35.0      66.0      17.0   \n",
       "12       Norway         92.0            17.0       13.0      62.0       4.0   \n",
       "13      Finland         98.0            12.0       20.0      64.0      10.0   \n",
       "14        Spain         70.0            40.0        3.0      62.0       2.0   \n",
       "\n",
       "    Potatoes  Apples  Oranges  Tinned fruit  Garlic  Olive oil  \n",
       "0       21.0    81.0     75.0          44.0    22.0       74.0  \n",
       "1        2.0    67.0     71.0           9.0    80.0       94.0  \n",
       "2       23.0    87.0     84.0          40.0    88.0       36.0  \n",
       "3        7.0    83.0     89.0          61.0     NaN       13.0  \n",
       "4        9.0    76.0     76.0          42.0     NaN       83.0  \n",
       "5        7.0    85.0     94.0          83.0    91.0       84.0  \n",
       "6       17.0    76.0     68.0          89.0    11.0       57.0  \n",
       "7       17.0     NaN     51.0           8.0    54.0       57.0  \n",
       "8       17.0     NaN     42.0          14.0    51.0       57.0  \n",
       "9       11.0     NaN     70.0          46.0    64.0       57.0  \n",
       "10      11.0     NaN     78.0          53.0     9.0       48.0  \n",
       "11      11.0    81.0     72.0          50.0    11.0       30.0  \n",
       "12      17.0    61.0     72.0          34.0    11.0       28.0  \n",
       "13       8.0    50.0     57.0          22.0    15.0       17.0  \n",
       "14      14.0    59.0     77.0          30.0    80.0       91.0  "
      ],
      "text/html": "<div>\n<style scoped>\n    .dataframe tbody tr th:only-of-type {\n        vertical-align: middle;\n    }\n\n    .dataframe tbody tr th {\n        vertical-align: top;\n    }\n\n    .dataframe thead th {\n        text-align: right;\n    }\n</style>\n<table border=\"1\" class=\"dataframe\">\n  <thead>\n    <tr style=\"text-align: right;\">\n      <th></th>\n      <th>Country</th>\n      <th>Real coffee</th>\n      <th>Instant coffee</th>\n      <th>Sweetener</th>\n      <th>Biscuits</th>\n      <th>Tin soup</th>\n      <th>Potatoes</th>\n      <th>Apples</th>\n      <th>Oranges</th>\n      <th>Tinned fruit</th>\n      <th>Garlic</th>\n      <th>Olive oil</th>\n    </tr>\n  </thead>\n  <tbody>\n    <tr>\n      <th>0</th>\n      <td>Germany</td>\n      <td>90.0</td>\n      <td>49.0</td>\n      <td>19.0</td>\n      <td>57.0</td>\n      <td>19.0</td>\n      <td>21.0</td>\n      <td>81.0</td>\n      <td>75.0</td>\n      <td>44.0</td>\n      <td>22.0</td>\n      <td>74.0</td>\n    </tr>\n    <tr>\n      <th>1</th>\n      <td>Italy</td>\n      <td>82.0</td>\n      <td>10.0</td>\n      <td>2.0</td>\n      <td>55.0</td>\n      <td>3.0</td>\n      <td>2.0</td>\n      <td>67.0</td>\n      <td>71.0</td>\n      <td>9.0</td>\n      <td>80.0</td>\n      <td>94.0</td>\n    </tr>\n    <tr>\n      <th>2</th>\n      <td>France</td>\n      <td>88.0</td>\n      <td>42.0</td>\n      <td>4.0</td>\n      <td>76.0</td>\n      <td>11.0</td>\n      <td>23.0</td>\n      <td>87.0</td>\n      <td>84.0</td>\n      <td>40.0</td>\n      <td>88.0</td>\n      <td>36.0</td>\n    </tr>\n    <tr>\n      <th>3</th>\n      <td>Holland</td>\n      <td>96.0</td>\n      <td>62.0</td>\n      <td>32.0</td>\n      <td>NaN</td>\n      <td>43.0</td>\n      <td>7.0</td>\n      <td>83.0</td>\n      <td>89.0</td>\n      <td>61.0</td>\n      <td>NaN</td>\n      <td>13.0</td>\n    </tr>\n    <tr>\n      <th>4</th>\n      <td>Belgium</td>\n      <td>94.0</td>\n      <td>38.0</td>\n      <td>11.0</td>\n      <td>NaN</td>\n      <td>23.0</td>\n      <td>9.0</td>\n      <td>76.0</td>\n      <td>76.0</td>\n      <td>42.0</td>\n      <td>NaN</td>\n      <td>83.0</td>\n    </tr>\n    <tr>\n      <th>5</th>\n      <td>Luxembourg</td>\n      <td>97.0</td>\n      <td>61.0</td>\n      <td>28.0</td>\n      <td>NaN</td>\n      <td>12.0</td>\n      <td>7.0</td>\n      <td>85.0</td>\n      <td>94.0</td>\n      <td>83.0</td>\n      <td>91.0</td>\n      <td>84.0</td>\n    </tr>\n    <tr>\n      <th>6</th>\n      <td>England</td>\n      <td>27.0</td>\n      <td>86.0</td>\n      <td>22.0</td>\n      <td>91.0</td>\n      <td>76.0</td>\n      <td>17.0</td>\n      <td>76.0</td>\n      <td>68.0</td>\n      <td>89.0</td>\n      <td>11.0</td>\n      <td>57.0</td>\n    </tr>\n    <tr>\n      <th>7</th>\n      <td>Portugal</td>\n      <td>72.0</td>\n      <td>26.0</td>\n      <td>2.0</td>\n      <td>22.0</td>\n      <td>1.0</td>\n      <td>17.0</td>\n      <td>NaN</td>\n      <td>51.0</td>\n      <td>8.0</td>\n      <td>54.0</td>\n      <td>57.0</td>\n    </tr>\n    <tr>\n      <th>8</th>\n      <td>Austria</td>\n      <td>55.0</td>\n      <td>31.0</td>\n      <td>8.0</td>\n      <td>29.0</td>\n      <td>12.0</td>\n      <td>17.0</td>\n      <td>NaN</td>\n      <td>42.0</td>\n      <td>14.0</td>\n      <td>51.0</td>\n      <td>57.0</td>\n    </tr>\n    <tr>\n      <th>9</th>\n      <td>Switzerland</td>\n      <td>73.0</td>\n      <td>72.0</td>\n      <td>25.0</td>\n      <td>31.0</td>\n      <td>12.0</td>\n      <td>11.0</td>\n      <td>NaN</td>\n      <td>70.0</td>\n      <td>46.0</td>\n      <td>64.0</td>\n      <td>57.0</td>\n    </tr>\n    <tr>\n      <th>10</th>\n      <td>Sweden</td>\n      <td>97.0</td>\n      <td>13.0</td>\n      <td>31.0</td>\n      <td>9.0</td>\n      <td>43.0</td>\n      <td>11.0</td>\n      <td>NaN</td>\n      <td>78.0</td>\n      <td>53.0</td>\n      <td>9.0</td>\n      <td>48.0</td>\n    </tr>\n    <tr>\n      <th>11</th>\n      <td>Denmark</td>\n      <td>96.0</td>\n      <td>17.0</td>\n      <td>35.0</td>\n      <td>66.0</td>\n      <td>17.0</td>\n      <td>11.0</td>\n      <td>81.0</td>\n      <td>72.0</td>\n      <td>50.0</td>\n      <td>11.0</td>\n      <td>30.0</td>\n    </tr>\n    <tr>\n      <th>12</th>\n      <td>Norway</td>\n      <td>92.0</td>\n      <td>17.0</td>\n      <td>13.0</td>\n      <td>62.0</td>\n      <td>4.0</td>\n      <td>17.0</td>\n      <td>61.0</td>\n      <td>72.0</td>\n      <td>34.0</td>\n      <td>11.0</td>\n      <td>28.0</td>\n    </tr>\n    <tr>\n      <th>13</th>\n      <td>Finland</td>\n      <td>98.0</td>\n      <td>12.0</td>\n      <td>20.0</td>\n      <td>64.0</td>\n      <td>10.0</td>\n      <td>8.0</td>\n      <td>50.0</td>\n      <td>57.0</td>\n      <td>22.0</td>\n      <td>15.0</td>\n      <td>17.0</td>\n    </tr>\n    <tr>\n      <th>14</th>\n      <td>Spain</td>\n      <td>70.0</td>\n      <td>40.0</td>\n      <td>3.0</td>\n      <td>62.0</td>\n      <td>2.0</td>\n      <td>14.0</td>\n      <td>59.0</td>\n      <td>77.0</td>\n      <td>30.0</td>\n      <td>80.0</td>\n      <td>91.0</td>\n    </tr>\n  </tbody>\n</table>\n</div>"
     },
     "metadata": {},
     "execution_count": 10
    }
   ],
   "source": [
    "df.dropna(how=\"all\") "
   ]
  },
  {
   "cell_type": "code",
   "execution_count": 11,
   "metadata": {},
   "outputs": [
    {
     "output_type": "execute_result",
     "data": {
      "text/plain": [
       "        Country  Real coffee  Instant coffee  Sweetener  Biscuits  Tin soup  \\\n",
       "0       Germany         90.0            49.0       19.0      57.0      19.0   \n",
       "1         Italy         82.0            10.0        2.0      55.0       3.0   \n",
       "2        France         88.0            42.0        4.0      76.0      11.0   \n",
       "3       Holland         96.0            62.0       32.0       NaN      43.0   \n",
       "4       Belgium         94.0            38.0       11.0       NaN      23.0   \n",
       "5    Luxembourg         97.0            61.0       28.0       NaN      12.0   \n",
       "6       England         27.0            86.0       22.0      91.0      76.0   \n",
       "7      Portugal         72.0            26.0        2.0      22.0       1.0   \n",
       "8       Austria         55.0            31.0        8.0      29.0      12.0   \n",
       "9   Switzerland         73.0            72.0       25.0      31.0      12.0   \n",
       "10       Sweden         97.0            13.0       31.0       9.0      43.0   \n",
       "11      Denmark         96.0            17.0       35.0      66.0      17.0   \n",
       "12       Norway         92.0            17.0       13.0      62.0       4.0   \n",
       "13      Finland         98.0            12.0       20.0      64.0      10.0   \n",
       "14        Spain         70.0            40.0        3.0      62.0       2.0   \n",
       "15          NaN          NaN             NaN        NaN       NaN       NaN   \n",
       "\n",
       "    Potatoes  Apples  Oranges  Tinned fruit  Garlic  Olive oil  \n",
       "0       21.0    81.0     75.0          44.0    22.0       74.0  \n",
       "1        2.0    67.0     71.0           9.0    80.0       94.0  \n",
       "2       23.0    87.0     84.0          40.0    88.0       36.0  \n",
       "3        7.0    83.0     89.0          61.0     NaN       13.0  \n",
       "4        9.0    76.0     76.0          42.0     NaN       83.0  \n",
       "5        7.0    85.0     94.0          83.0    91.0       84.0  \n",
       "6       17.0    76.0     68.0          89.0    11.0       57.0  \n",
       "7       17.0     NaN     51.0           8.0    54.0       57.0  \n",
       "8       17.0     NaN     42.0          14.0    51.0       57.0  \n",
       "9       11.0     NaN     70.0          46.0    64.0       57.0  \n",
       "10      11.0     NaN     78.0          53.0     9.0       48.0  \n",
       "11      11.0    81.0     72.0          50.0    11.0       30.0  \n",
       "12      17.0    61.0     72.0          34.0    11.0       28.0  \n",
       "13       8.0    50.0     57.0          22.0    15.0       17.0  \n",
       "14      14.0    59.0     77.0          30.0    80.0       91.0  \n",
       "15       NaN     NaN      NaN           NaN     NaN        NaN  "
      ],
      "text/html": "<div>\n<style scoped>\n    .dataframe tbody tr th:only-of-type {\n        vertical-align: middle;\n    }\n\n    .dataframe tbody tr th {\n        vertical-align: top;\n    }\n\n    .dataframe thead th {\n        text-align: right;\n    }\n</style>\n<table border=\"1\" class=\"dataframe\">\n  <thead>\n    <tr style=\"text-align: right;\">\n      <th></th>\n      <th>Country</th>\n      <th>Real coffee</th>\n      <th>Instant coffee</th>\n      <th>Sweetener</th>\n      <th>Biscuits</th>\n      <th>Tin soup</th>\n      <th>Potatoes</th>\n      <th>Apples</th>\n      <th>Oranges</th>\n      <th>Tinned fruit</th>\n      <th>Garlic</th>\n      <th>Olive oil</th>\n    </tr>\n  </thead>\n  <tbody>\n    <tr>\n      <th>0</th>\n      <td>Germany</td>\n      <td>90.0</td>\n      <td>49.0</td>\n      <td>19.0</td>\n      <td>57.0</td>\n      <td>19.0</td>\n      <td>21.0</td>\n      <td>81.0</td>\n      <td>75.0</td>\n      <td>44.0</td>\n      <td>22.0</td>\n      <td>74.0</td>\n    </tr>\n    <tr>\n      <th>1</th>\n      <td>Italy</td>\n      <td>82.0</td>\n      <td>10.0</td>\n      <td>2.0</td>\n      <td>55.0</td>\n      <td>3.0</td>\n      <td>2.0</td>\n      <td>67.0</td>\n      <td>71.0</td>\n      <td>9.0</td>\n      <td>80.0</td>\n      <td>94.0</td>\n    </tr>\n    <tr>\n      <th>2</th>\n      <td>France</td>\n      <td>88.0</td>\n      <td>42.0</td>\n      <td>4.0</td>\n      <td>76.0</td>\n      <td>11.0</td>\n      <td>23.0</td>\n      <td>87.0</td>\n      <td>84.0</td>\n      <td>40.0</td>\n      <td>88.0</td>\n      <td>36.0</td>\n    </tr>\n    <tr>\n      <th>3</th>\n      <td>Holland</td>\n      <td>96.0</td>\n      <td>62.0</td>\n      <td>32.0</td>\n      <td>NaN</td>\n      <td>43.0</td>\n      <td>7.0</td>\n      <td>83.0</td>\n      <td>89.0</td>\n      <td>61.0</td>\n      <td>NaN</td>\n      <td>13.0</td>\n    </tr>\n    <tr>\n      <th>4</th>\n      <td>Belgium</td>\n      <td>94.0</td>\n      <td>38.0</td>\n      <td>11.0</td>\n      <td>NaN</td>\n      <td>23.0</td>\n      <td>9.0</td>\n      <td>76.0</td>\n      <td>76.0</td>\n      <td>42.0</td>\n      <td>NaN</td>\n      <td>83.0</td>\n    </tr>\n    <tr>\n      <th>5</th>\n      <td>Luxembourg</td>\n      <td>97.0</td>\n      <td>61.0</td>\n      <td>28.0</td>\n      <td>NaN</td>\n      <td>12.0</td>\n      <td>7.0</td>\n      <td>85.0</td>\n      <td>94.0</td>\n      <td>83.0</td>\n      <td>91.0</td>\n      <td>84.0</td>\n    </tr>\n    <tr>\n      <th>6</th>\n      <td>England</td>\n      <td>27.0</td>\n      <td>86.0</td>\n      <td>22.0</td>\n      <td>91.0</td>\n      <td>76.0</td>\n      <td>17.0</td>\n      <td>76.0</td>\n      <td>68.0</td>\n      <td>89.0</td>\n      <td>11.0</td>\n      <td>57.0</td>\n    </tr>\n    <tr>\n      <th>7</th>\n      <td>Portugal</td>\n      <td>72.0</td>\n      <td>26.0</td>\n      <td>2.0</td>\n      <td>22.0</td>\n      <td>1.0</td>\n      <td>17.0</td>\n      <td>NaN</td>\n      <td>51.0</td>\n      <td>8.0</td>\n      <td>54.0</td>\n      <td>57.0</td>\n    </tr>\n    <tr>\n      <th>8</th>\n      <td>Austria</td>\n      <td>55.0</td>\n      <td>31.0</td>\n      <td>8.0</td>\n      <td>29.0</td>\n      <td>12.0</td>\n      <td>17.0</td>\n      <td>NaN</td>\n      <td>42.0</td>\n      <td>14.0</td>\n      <td>51.0</td>\n      <td>57.0</td>\n    </tr>\n    <tr>\n      <th>9</th>\n      <td>Switzerland</td>\n      <td>73.0</td>\n      <td>72.0</td>\n      <td>25.0</td>\n      <td>31.0</td>\n      <td>12.0</td>\n      <td>11.0</td>\n      <td>NaN</td>\n      <td>70.0</td>\n      <td>46.0</td>\n      <td>64.0</td>\n      <td>57.0</td>\n    </tr>\n    <tr>\n      <th>10</th>\n      <td>Sweden</td>\n      <td>97.0</td>\n      <td>13.0</td>\n      <td>31.0</td>\n      <td>9.0</td>\n      <td>43.0</td>\n      <td>11.0</td>\n      <td>NaN</td>\n      <td>78.0</td>\n      <td>53.0</td>\n      <td>9.0</td>\n      <td>48.0</td>\n    </tr>\n    <tr>\n      <th>11</th>\n      <td>Denmark</td>\n      <td>96.0</td>\n      <td>17.0</td>\n      <td>35.0</td>\n      <td>66.0</td>\n      <td>17.0</td>\n      <td>11.0</td>\n      <td>81.0</td>\n      <td>72.0</td>\n      <td>50.0</td>\n      <td>11.0</td>\n      <td>30.0</td>\n    </tr>\n    <tr>\n      <th>12</th>\n      <td>Norway</td>\n      <td>92.0</td>\n      <td>17.0</td>\n      <td>13.0</td>\n      <td>62.0</td>\n      <td>4.0</td>\n      <td>17.0</td>\n      <td>61.0</td>\n      <td>72.0</td>\n      <td>34.0</td>\n      <td>11.0</td>\n      <td>28.0</td>\n    </tr>\n    <tr>\n      <th>13</th>\n      <td>Finland</td>\n      <td>98.0</td>\n      <td>12.0</td>\n      <td>20.0</td>\n      <td>64.0</td>\n      <td>10.0</td>\n      <td>8.0</td>\n      <td>50.0</td>\n      <td>57.0</td>\n      <td>22.0</td>\n      <td>15.0</td>\n      <td>17.0</td>\n    </tr>\n    <tr>\n      <th>14</th>\n      <td>Spain</td>\n      <td>70.0</td>\n      <td>40.0</td>\n      <td>3.0</td>\n      <td>62.0</td>\n      <td>2.0</td>\n      <td>14.0</td>\n      <td>59.0</td>\n      <td>77.0</td>\n      <td>30.0</td>\n      <td>80.0</td>\n      <td>91.0</td>\n    </tr>\n    <tr>\n      <th>15</th>\n      <td>NaN</td>\n      <td>NaN</td>\n      <td>NaN</td>\n      <td>NaN</td>\n      <td>NaN</td>\n      <td>NaN</td>\n      <td>NaN</td>\n      <td>NaN</td>\n      <td>NaN</td>\n      <td>NaN</td>\n      <td>NaN</td>\n      <td>NaN</td>\n    </tr>\n  </tbody>\n</table>\n</div>"
     },
     "metadata": {},
     "execution_count": 11
    }
   ],
   "source": [
    "df = pd.read_csv(\"E:\\\\ML\\\\ML\\\\Pandas\\\\food consumption.csv\")\n",
    "df"
   ]
  },
  {
   "cell_type": "code",
   "execution_count": 12,
   "metadata": {},
   "outputs": [
    {
     "output_type": "execute_result",
     "data": {
      "text/plain": [
       "        Country  Real coffee  Instant coffee  Sweetener  Biscuits  Tin soup  \\\n",
       "0       Germany         90.0            49.0       19.0      57.0      19.0   \n",
       "1         Italy         82.0            10.0        2.0      55.0       3.0   \n",
       "2        France         88.0            42.0        4.0      76.0      11.0   \n",
       "3       Holland         96.0            62.0       32.0       NaN      43.0   \n",
       "4       Belgium         94.0            38.0       11.0       NaN      23.0   \n",
       "5    Luxembourg         97.0            61.0       28.0       NaN      12.0   \n",
       "6       England         27.0            86.0       22.0      91.0      76.0   \n",
       "7      Portugal         72.0            26.0        2.0      22.0       1.0   \n",
       "8       Austria         55.0            31.0        8.0      29.0      12.0   \n",
       "9   Switzerland         73.0            72.0       25.0      31.0      12.0   \n",
       "10       Sweden         97.0            13.0       31.0       9.0      43.0   \n",
       "11      Denmark         96.0            17.0       35.0      66.0      17.0   \n",
       "12       Norway         92.0            17.0       13.0      62.0       4.0   \n",
       "13      Finland         98.0            12.0       20.0      64.0      10.0   \n",
       "14        Spain         70.0            40.0        3.0      62.0       2.0   \n",
       "\n",
       "    Potatoes  Apples  Oranges  Tinned fruit  Garlic  Olive oil  \n",
       "0       21.0    81.0     75.0          44.0    22.0       74.0  \n",
       "1        2.0    67.0     71.0           9.0    80.0       94.0  \n",
       "2       23.0    87.0     84.0          40.0    88.0       36.0  \n",
       "3        7.0    83.0     89.0          61.0     NaN       13.0  \n",
       "4        9.0    76.0     76.0          42.0     NaN       83.0  \n",
       "5        7.0    85.0     94.0          83.0    91.0       84.0  \n",
       "6       17.0    76.0     68.0          89.0    11.0       57.0  \n",
       "7       17.0     NaN     51.0           8.0    54.0       57.0  \n",
       "8       17.0     NaN     42.0          14.0    51.0       57.0  \n",
       "9       11.0     NaN     70.0          46.0    64.0       57.0  \n",
       "10      11.0     NaN     78.0          53.0     9.0       48.0  \n",
       "11      11.0    81.0     72.0          50.0    11.0       30.0  \n",
       "12      17.0    61.0     72.0          34.0    11.0       28.0  \n",
       "13       8.0    50.0     57.0          22.0    15.0       17.0  \n",
       "14      14.0    59.0     77.0          30.0    80.0       91.0  "
      ],
      "text/html": "<div>\n<style scoped>\n    .dataframe tbody tr th:only-of-type {\n        vertical-align: middle;\n    }\n\n    .dataframe tbody tr th {\n        vertical-align: top;\n    }\n\n    .dataframe thead th {\n        text-align: right;\n    }\n</style>\n<table border=\"1\" class=\"dataframe\">\n  <thead>\n    <tr style=\"text-align: right;\">\n      <th></th>\n      <th>Country</th>\n      <th>Real coffee</th>\n      <th>Instant coffee</th>\n      <th>Sweetener</th>\n      <th>Biscuits</th>\n      <th>Tin soup</th>\n      <th>Potatoes</th>\n      <th>Apples</th>\n      <th>Oranges</th>\n      <th>Tinned fruit</th>\n      <th>Garlic</th>\n      <th>Olive oil</th>\n    </tr>\n  </thead>\n  <tbody>\n    <tr>\n      <th>0</th>\n      <td>Germany</td>\n      <td>90.0</td>\n      <td>49.0</td>\n      <td>19.0</td>\n      <td>57.0</td>\n      <td>19.0</td>\n      <td>21.0</td>\n      <td>81.0</td>\n      <td>75.0</td>\n      <td>44.0</td>\n      <td>22.0</td>\n      <td>74.0</td>\n    </tr>\n    <tr>\n      <th>1</th>\n      <td>Italy</td>\n      <td>82.0</td>\n      <td>10.0</td>\n      <td>2.0</td>\n      <td>55.0</td>\n      <td>3.0</td>\n      <td>2.0</td>\n      <td>67.0</td>\n      <td>71.0</td>\n      <td>9.0</td>\n      <td>80.0</td>\n      <td>94.0</td>\n    </tr>\n    <tr>\n      <th>2</th>\n      <td>France</td>\n      <td>88.0</td>\n      <td>42.0</td>\n      <td>4.0</td>\n      <td>76.0</td>\n      <td>11.0</td>\n      <td>23.0</td>\n      <td>87.0</td>\n      <td>84.0</td>\n      <td>40.0</td>\n      <td>88.0</td>\n      <td>36.0</td>\n    </tr>\n    <tr>\n      <th>3</th>\n      <td>Holland</td>\n      <td>96.0</td>\n      <td>62.0</td>\n      <td>32.0</td>\n      <td>NaN</td>\n      <td>43.0</td>\n      <td>7.0</td>\n      <td>83.0</td>\n      <td>89.0</td>\n      <td>61.0</td>\n      <td>NaN</td>\n      <td>13.0</td>\n    </tr>\n    <tr>\n      <th>4</th>\n      <td>Belgium</td>\n      <td>94.0</td>\n      <td>38.0</td>\n      <td>11.0</td>\n      <td>NaN</td>\n      <td>23.0</td>\n      <td>9.0</td>\n      <td>76.0</td>\n      <td>76.0</td>\n      <td>42.0</td>\n      <td>NaN</td>\n      <td>83.0</td>\n    </tr>\n    <tr>\n      <th>5</th>\n      <td>Luxembourg</td>\n      <td>97.0</td>\n      <td>61.0</td>\n      <td>28.0</td>\n      <td>NaN</td>\n      <td>12.0</td>\n      <td>7.0</td>\n      <td>85.0</td>\n      <td>94.0</td>\n      <td>83.0</td>\n      <td>91.0</td>\n      <td>84.0</td>\n    </tr>\n    <tr>\n      <th>6</th>\n      <td>England</td>\n      <td>27.0</td>\n      <td>86.0</td>\n      <td>22.0</td>\n      <td>91.0</td>\n      <td>76.0</td>\n      <td>17.0</td>\n      <td>76.0</td>\n      <td>68.0</td>\n      <td>89.0</td>\n      <td>11.0</td>\n      <td>57.0</td>\n    </tr>\n    <tr>\n      <th>7</th>\n      <td>Portugal</td>\n      <td>72.0</td>\n      <td>26.0</td>\n      <td>2.0</td>\n      <td>22.0</td>\n      <td>1.0</td>\n      <td>17.0</td>\n      <td>NaN</td>\n      <td>51.0</td>\n      <td>8.0</td>\n      <td>54.0</td>\n      <td>57.0</td>\n    </tr>\n    <tr>\n      <th>8</th>\n      <td>Austria</td>\n      <td>55.0</td>\n      <td>31.0</td>\n      <td>8.0</td>\n      <td>29.0</td>\n      <td>12.0</td>\n      <td>17.0</td>\n      <td>NaN</td>\n      <td>42.0</td>\n      <td>14.0</td>\n      <td>51.0</td>\n      <td>57.0</td>\n    </tr>\n    <tr>\n      <th>9</th>\n      <td>Switzerland</td>\n      <td>73.0</td>\n      <td>72.0</td>\n      <td>25.0</td>\n      <td>31.0</td>\n      <td>12.0</td>\n      <td>11.0</td>\n      <td>NaN</td>\n      <td>70.0</td>\n      <td>46.0</td>\n      <td>64.0</td>\n      <td>57.0</td>\n    </tr>\n    <tr>\n      <th>10</th>\n      <td>Sweden</td>\n      <td>97.0</td>\n      <td>13.0</td>\n      <td>31.0</td>\n      <td>9.0</td>\n      <td>43.0</td>\n      <td>11.0</td>\n      <td>NaN</td>\n      <td>78.0</td>\n      <td>53.0</td>\n      <td>9.0</td>\n      <td>48.0</td>\n    </tr>\n    <tr>\n      <th>11</th>\n      <td>Denmark</td>\n      <td>96.0</td>\n      <td>17.0</td>\n      <td>35.0</td>\n      <td>66.0</td>\n      <td>17.0</td>\n      <td>11.0</td>\n      <td>81.0</td>\n      <td>72.0</td>\n      <td>50.0</td>\n      <td>11.0</td>\n      <td>30.0</td>\n    </tr>\n    <tr>\n      <th>12</th>\n      <td>Norway</td>\n      <td>92.0</td>\n      <td>17.0</td>\n      <td>13.0</td>\n      <td>62.0</td>\n      <td>4.0</td>\n      <td>17.0</td>\n      <td>61.0</td>\n      <td>72.0</td>\n      <td>34.0</td>\n      <td>11.0</td>\n      <td>28.0</td>\n    </tr>\n    <tr>\n      <th>13</th>\n      <td>Finland</td>\n      <td>98.0</td>\n      <td>12.0</td>\n      <td>20.0</td>\n      <td>64.0</td>\n      <td>10.0</td>\n      <td>8.0</td>\n      <td>50.0</td>\n      <td>57.0</td>\n      <td>22.0</td>\n      <td>15.0</td>\n      <td>17.0</td>\n    </tr>\n    <tr>\n      <th>14</th>\n      <td>Spain</td>\n      <td>70.0</td>\n      <td>40.0</td>\n      <td>3.0</td>\n      <td>62.0</td>\n      <td>2.0</td>\n      <td>14.0</td>\n      <td>59.0</td>\n      <td>77.0</td>\n      <td>30.0</td>\n      <td>80.0</td>\n      <td>91.0</td>\n    </tr>\n  </tbody>\n</table>\n</div>"
     },
     "metadata": {},
     "execution_count": 12
    }
   ],
   "source": [
    "df.dropna(how= \"all\") # It will drop 15 row as it has all NaN values"
   ]
  },
  {
   "cell_type": "code",
   "execution_count": 13,
   "metadata": {},
   "outputs": [
    {
     "output_type": "execute_result",
     "data": {
      "text/plain": [
       "        Country  Real coffee  Instant coffee  Sweetener  Biscuits  Tin soup  \\\n",
       "0       Germany         90.0            49.0       19.0      57.0      19.0   \n",
       "1         Italy         82.0            10.0        2.0      55.0       3.0   \n",
       "2        France         88.0            42.0        4.0      76.0      11.0   \n",
       "3       Holland         96.0            62.0       32.0       NaN      43.0   \n",
       "4       Belgium         94.0            38.0       11.0       NaN      23.0   \n",
       "5    Luxembourg         97.0            61.0       28.0       NaN      12.0   \n",
       "6       England         27.0            86.0       22.0      91.0      76.0   \n",
       "7      Portugal         72.0            26.0        2.0      22.0       1.0   \n",
       "8       Austria         55.0            31.0        8.0      29.0      12.0   \n",
       "9   Switzerland         73.0            72.0       25.0      31.0      12.0   \n",
       "10       Sweden         97.0            13.0       31.0       9.0      43.0   \n",
       "11      Denmark         96.0            17.0       35.0      66.0      17.0   \n",
       "12       Norway         92.0            17.0       13.0      62.0       4.0   \n",
       "13      Finland         98.0            12.0       20.0      64.0      10.0   \n",
       "14        Spain         70.0            40.0        3.0      62.0       2.0   \n",
       "\n",
       "    Potatoes  Apples  Oranges  Tinned fruit  Garlic  Olive oil  \n",
       "0       21.0    81.0     75.0          44.0    22.0       74.0  \n",
       "1        2.0    67.0     71.0           9.0    80.0       94.0  \n",
       "2       23.0    87.0     84.0          40.0    88.0       36.0  \n",
       "3        7.0    83.0     89.0          61.0     NaN       13.0  \n",
       "4        9.0    76.0     76.0          42.0     NaN       83.0  \n",
       "5        7.0    85.0     94.0          83.0    91.0       84.0  \n",
       "6       17.0    76.0     68.0          89.0    11.0       57.0  \n",
       "7       17.0     NaN     51.0           8.0    54.0       57.0  \n",
       "8       17.0     NaN     42.0          14.0    51.0       57.0  \n",
       "9       11.0     NaN     70.0          46.0    64.0       57.0  \n",
       "10      11.0     NaN     78.0          53.0     9.0       48.0  \n",
       "11      11.0    81.0     72.0          50.0    11.0       30.0  \n",
       "12      17.0    61.0     72.0          34.0    11.0       28.0  \n",
       "13       8.0    50.0     57.0          22.0    15.0       17.0  \n",
       "14      14.0    59.0     77.0          30.0    80.0       91.0  "
      ],
      "text/html": "<div>\n<style scoped>\n    .dataframe tbody tr th:only-of-type {\n        vertical-align: middle;\n    }\n\n    .dataframe tbody tr th {\n        vertical-align: top;\n    }\n\n    .dataframe thead th {\n        text-align: right;\n    }\n</style>\n<table border=\"1\" class=\"dataframe\">\n  <thead>\n    <tr style=\"text-align: right;\">\n      <th></th>\n      <th>Country</th>\n      <th>Real coffee</th>\n      <th>Instant coffee</th>\n      <th>Sweetener</th>\n      <th>Biscuits</th>\n      <th>Tin soup</th>\n      <th>Potatoes</th>\n      <th>Apples</th>\n      <th>Oranges</th>\n      <th>Tinned fruit</th>\n      <th>Garlic</th>\n      <th>Olive oil</th>\n    </tr>\n  </thead>\n  <tbody>\n    <tr>\n      <th>0</th>\n      <td>Germany</td>\n      <td>90.0</td>\n      <td>49.0</td>\n      <td>19.0</td>\n      <td>57.0</td>\n      <td>19.0</td>\n      <td>21.0</td>\n      <td>81.0</td>\n      <td>75.0</td>\n      <td>44.0</td>\n      <td>22.0</td>\n      <td>74.0</td>\n    </tr>\n    <tr>\n      <th>1</th>\n      <td>Italy</td>\n      <td>82.0</td>\n      <td>10.0</td>\n      <td>2.0</td>\n      <td>55.0</td>\n      <td>3.0</td>\n      <td>2.0</td>\n      <td>67.0</td>\n      <td>71.0</td>\n      <td>9.0</td>\n      <td>80.0</td>\n      <td>94.0</td>\n    </tr>\n    <tr>\n      <th>2</th>\n      <td>France</td>\n      <td>88.0</td>\n      <td>42.0</td>\n      <td>4.0</td>\n      <td>76.0</td>\n      <td>11.0</td>\n      <td>23.0</td>\n      <td>87.0</td>\n      <td>84.0</td>\n      <td>40.0</td>\n      <td>88.0</td>\n      <td>36.0</td>\n    </tr>\n    <tr>\n      <th>3</th>\n      <td>Holland</td>\n      <td>96.0</td>\n      <td>62.0</td>\n      <td>32.0</td>\n      <td>NaN</td>\n      <td>43.0</td>\n      <td>7.0</td>\n      <td>83.0</td>\n      <td>89.0</td>\n      <td>61.0</td>\n      <td>NaN</td>\n      <td>13.0</td>\n    </tr>\n    <tr>\n      <th>4</th>\n      <td>Belgium</td>\n      <td>94.0</td>\n      <td>38.0</td>\n      <td>11.0</td>\n      <td>NaN</td>\n      <td>23.0</td>\n      <td>9.0</td>\n      <td>76.0</td>\n      <td>76.0</td>\n      <td>42.0</td>\n      <td>NaN</td>\n      <td>83.0</td>\n    </tr>\n    <tr>\n      <th>5</th>\n      <td>Luxembourg</td>\n      <td>97.0</td>\n      <td>61.0</td>\n      <td>28.0</td>\n      <td>NaN</td>\n      <td>12.0</td>\n      <td>7.0</td>\n      <td>85.0</td>\n      <td>94.0</td>\n      <td>83.0</td>\n      <td>91.0</td>\n      <td>84.0</td>\n    </tr>\n    <tr>\n      <th>6</th>\n      <td>England</td>\n      <td>27.0</td>\n      <td>86.0</td>\n      <td>22.0</td>\n      <td>91.0</td>\n      <td>76.0</td>\n      <td>17.0</td>\n      <td>76.0</td>\n      <td>68.0</td>\n      <td>89.0</td>\n      <td>11.0</td>\n      <td>57.0</td>\n    </tr>\n    <tr>\n      <th>7</th>\n      <td>Portugal</td>\n      <td>72.0</td>\n      <td>26.0</td>\n      <td>2.0</td>\n      <td>22.0</td>\n      <td>1.0</td>\n      <td>17.0</td>\n      <td>NaN</td>\n      <td>51.0</td>\n      <td>8.0</td>\n      <td>54.0</td>\n      <td>57.0</td>\n    </tr>\n    <tr>\n      <th>8</th>\n      <td>Austria</td>\n      <td>55.0</td>\n      <td>31.0</td>\n      <td>8.0</td>\n      <td>29.0</td>\n      <td>12.0</td>\n      <td>17.0</td>\n      <td>NaN</td>\n      <td>42.0</td>\n      <td>14.0</td>\n      <td>51.0</td>\n      <td>57.0</td>\n    </tr>\n    <tr>\n      <th>9</th>\n      <td>Switzerland</td>\n      <td>73.0</td>\n      <td>72.0</td>\n      <td>25.0</td>\n      <td>31.0</td>\n      <td>12.0</td>\n      <td>11.0</td>\n      <td>NaN</td>\n      <td>70.0</td>\n      <td>46.0</td>\n      <td>64.0</td>\n      <td>57.0</td>\n    </tr>\n    <tr>\n      <th>10</th>\n      <td>Sweden</td>\n      <td>97.0</td>\n      <td>13.0</td>\n      <td>31.0</td>\n      <td>9.0</td>\n      <td>43.0</td>\n      <td>11.0</td>\n      <td>NaN</td>\n      <td>78.0</td>\n      <td>53.0</td>\n      <td>9.0</td>\n      <td>48.0</td>\n    </tr>\n    <tr>\n      <th>11</th>\n      <td>Denmark</td>\n      <td>96.0</td>\n      <td>17.0</td>\n      <td>35.0</td>\n      <td>66.0</td>\n      <td>17.0</td>\n      <td>11.0</td>\n      <td>81.0</td>\n      <td>72.0</td>\n      <td>50.0</td>\n      <td>11.0</td>\n      <td>30.0</td>\n    </tr>\n    <tr>\n      <th>12</th>\n      <td>Norway</td>\n      <td>92.0</td>\n      <td>17.0</td>\n      <td>13.0</td>\n      <td>62.0</td>\n      <td>4.0</td>\n      <td>17.0</td>\n      <td>61.0</td>\n      <td>72.0</td>\n      <td>34.0</td>\n      <td>11.0</td>\n      <td>28.0</td>\n    </tr>\n    <tr>\n      <th>13</th>\n      <td>Finland</td>\n      <td>98.0</td>\n      <td>12.0</td>\n      <td>20.0</td>\n      <td>64.0</td>\n      <td>10.0</td>\n      <td>8.0</td>\n      <td>50.0</td>\n      <td>57.0</td>\n      <td>22.0</td>\n      <td>15.0</td>\n      <td>17.0</td>\n    </tr>\n    <tr>\n      <th>14</th>\n      <td>Spain</td>\n      <td>70.0</td>\n      <td>40.0</td>\n      <td>3.0</td>\n      <td>62.0</td>\n      <td>2.0</td>\n      <td>14.0</td>\n      <td>59.0</td>\n      <td>77.0</td>\n      <td>30.0</td>\n      <td>80.0</td>\n      <td>91.0</td>\n    </tr>\n  </tbody>\n</table>\n</div>"
     },
     "metadata": {},
     "execution_count": 13
    }
   ],
   "source": [
    "df.dropna(thresh=1 ) # It will print all which have atlist 1 not null values"
   ]
  },
  {
   "cell_type": "code",
   "execution_count": 14,
   "metadata": {},
   "outputs": [
    {
     "output_type": "execute_result",
     "data": {
      "text/plain": [
       "        Country  Real coffee  Instant coffee  Sweetener  Biscuits  Tin soup  \\\n",
       "0       Germany         90.0            49.0       19.0      57.0      19.0   \n",
       "1         Italy         82.0            10.0        2.0      55.0       3.0   \n",
       "2        France         88.0            42.0        4.0      76.0      11.0   \n",
       "3       Holland         96.0            62.0       32.0       NaN      43.0   \n",
       "4       Belgium         94.0            38.0       11.0       NaN      23.0   \n",
       "5    Luxembourg         97.0            61.0       28.0       NaN      12.0   \n",
       "6       England         27.0            86.0       22.0      91.0      76.0   \n",
       "7      Portugal         72.0            26.0        2.0      22.0       1.0   \n",
       "8       Austria         55.0            31.0        8.0      29.0      12.0   \n",
       "9   Switzerland         73.0            72.0       25.0      31.0      12.0   \n",
       "10       Sweden         97.0            13.0       31.0       9.0      43.0   \n",
       "11      Denmark         96.0            17.0       35.0      66.0      17.0   \n",
       "12       Norway         92.0            17.0       13.0      62.0       4.0   \n",
       "13      Finland         98.0            12.0       20.0      64.0      10.0   \n",
       "14        Spain         70.0            40.0        3.0      62.0       2.0   \n",
       "\n",
       "    Potatoes  Apples  Oranges  Tinned fruit  Garlic  Olive oil  \n",
       "0       21.0    81.0     75.0          44.0    22.0       74.0  \n",
       "1        2.0    67.0     71.0           9.0    80.0       94.0  \n",
       "2       23.0    87.0     84.0          40.0    88.0       36.0  \n",
       "3        7.0    83.0     89.0          61.0     NaN       13.0  \n",
       "4        9.0    76.0     76.0          42.0     NaN       83.0  \n",
       "5        7.0    85.0     94.0          83.0    91.0       84.0  \n",
       "6       17.0    76.0     68.0          89.0    11.0       57.0  \n",
       "7       17.0     NaN     51.0           8.0    54.0       57.0  \n",
       "8       17.0     NaN     42.0          14.0    51.0       57.0  \n",
       "9       11.0     NaN     70.0          46.0    64.0       57.0  \n",
       "10      11.0     NaN     78.0          53.0     9.0       48.0  \n",
       "11      11.0    81.0     72.0          50.0    11.0       30.0  \n",
       "12      17.0    61.0     72.0          34.0    11.0       28.0  \n",
       "13       8.0    50.0     57.0          22.0    15.0       17.0  \n",
       "14      14.0    59.0     77.0          30.0    80.0       91.0  "
      ],
      "text/html": "<div>\n<style scoped>\n    .dataframe tbody tr th:only-of-type {\n        vertical-align: middle;\n    }\n\n    .dataframe tbody tr th {\n        vertical-align: top;\n    }\n\n    .dataframe thead th {\n        text-align: right;\n    }\n</style>\n<table border=\"1\" class=\"dataframe\">\n  <thead>\n    <tr style=\"text-align: right;\">\n      <th></th>\n      <th>Country</th>\n      <th>Real coffee</th>\n      <th>Instant coffee</th>\n      <th>Sweetener</th>\n      <th>Biscuits</th>\n      <th>Tin soup</th>\n      <th>Potatoes</th>\n      <th>Apples</th>\n      <th>Oranges</th>\n      <th>Tinned fruit</th>\n      <th>Garlic</th>\n      <th>Olive oil</th>\n    </tr>\n  </thead>\n  <tbody>\n    <tr>\n      <th>0</th>\n      <td>Germany</td>\n      <td>90.0</td>\n      <td>49.0</td>\n      <td>19.0</td>\n      <td>57.0</td>\n      <td>19.0</td>\n      <td>21.0</td>\n      <td>81.0</td>\n      <td>75.0</td>\n      <td>44.0</td>\n      <td>22.0</td>\n      <td>74.0</td>\n    </tr>\n    <tr>\n      <th>1</th>\n      <td>Italy</td>\n      <td>82.0</td>\n      <td>10.0</td>\n      <td>2.0</td>\n      <td>55.0</td>\n      <td>3.0</td>\n      <td>2.0</td>\n      <td>67.0</td>\n      <td>71.0</td>\n      <td>9.0</td>\n      <td>80.0</td>\n      <td>94.0</td>\n    </tr>\n    <tr>\n      <th>2</th>\n      <td>France</td>\n      <td>88.0</td>\n      <td>42.0</td>\n      <td>4.0</td>\n      <td>76.0</td>\n      <td>11.0</td>\n      <td>23.0</td>\n      <td>87.0</td>\n      <td>84.0</td>\n      <td>40.0</td>\n      <td>88.0</td>\n      <td>36.0</td>\n    </tr>\n    <tr>\n      <th>3</th>\n      <td>Holland</td>\n      <td>96.0</td>\n      <td>62.0</td>\n      <td>32.0</td>\n      <td>NaN</td>\n      <td>43.0</td>\n      <td>7.0</td>\n      <td>83.0</td>\n      <td>89.0</td>\n      <td>61.0</td>\n      <td>NaN</td>\n      <td>13.0</td>\n    </tr>\n    <tr>\n      <th>4</th>\n      <td>Belgium</td>\n      <td>94.0</td>\n      <td>38.0</td>\n      <td>11.0</td>\n      <td>NaN</td>\n      <td>23.0</td>\n      <td>9.0</td>\n      <td>76.0</td>\n      <td>76.0</td>\n      <td>42.0</td>\n      <td>NaN</td>\n      <td>83.0</td>\n    </tr>\n    <tr>\n      <th>5</th>\n      <td>Luxembourg</td>\n      <td>97.0</td>\n      <td>61.0</td>\n      <td>28.0</td>\n      <td>NaN</td>\n      <td>12.0</td>\n      <td>7.0</td>\n      <td>85.0</td>\n      <td>94.0</td>\n      <td>83.0</td>\n      <td>91.0</td>\n      <td>84.0</td>\n    </tr>\n    <tr>\n      <th>6</th>\n      <td>England</td>\n      <td>27.0</td>\n      <td>86.0</td>\n      <td>22.0</td>\n      <td>91.0</td>\n      <td>76.0</td>\n      <td>17.0</td>\n      <td>76.0</td>\n      <td>68.0</td>\n      <td>89.0</td>\n      <td>11.0</td>\n      <td>57.0</td>\n    </tr>\n    <tr>\n      <th>7</th>\n      <td>Portugal</td>\n      <td>72.0</td>\n      <td>26.0</td>\n      <td>2.0</td>\n      <td>22.0</td>\n      <td>1.0</td>\n      <td>17.0</td>\n      <td>NaN</td>\n      <td>51.0</td>\n      <td>8.0</td>\n      <td>54.0</td>\n      <td>57.0</td>\n    </tr>\n    <tr>\n      <th>8</th>\n      <td>Austria</td>\n      <td>55.0</td>\n      <td>31.0</td>\n      <td>8.0</td>\n      <td>29.0</td>\n      <td>12.0</td>\n      <td>17.0</td>\n      <td>NaN</td>\n      <td>42.0</td>\n      <td>14.0</td>\n      <td>51.0</td>\n      <td>57.0</td>\n    </tr>\n    <tr>\n      <th>9</th>\n      <td>Switzerland</td>\n      <td>73.0</td>\n      <td>72.0</td>\n      <td>25.0</td>\n      <td>31.0</td>\n      <td>12.0</td>\n      <td>11.0</td>\n      <td>NaN</td>\n      <td>70.0</td>\n      <td>46.0</td>\n      <td>64.0</td>\n      <td>57.0</td>\n    </tr>\n    <tr>\n      <th>10</th>\n      <td>Sweden</td>\n      <td>97.0</td>\n      <td>13.0</td>\n      <td>31.0</td>\n      <td>9.0</td>\n      <td>43.0</td>\n      <td>11.0</td>\n      <td>NaN</td>\n      <td>78.0</td>\n      <td>53.0</td>\n      <td>9.0</td>\n      <td>48.0</td>\n    </tr>\n    <tr>\n      <th>11</th>\n      <td>Denmark</td>\n      <td>96.0</td>\n      <td>17.0</td>\n      <td>35.0</td>\n      <td>66.0</td>\n      <td>17.0</td>\n      <td>11.0</td>\n      <td>81.0</td>\n      <td>72.0</td>\n      <td>50.0</td>\n      <td>11.0</td>\n      <td>30.0</td>\n    </tr>\n    <tr>\n      <th>12</th>\n      <td>Norway</td>\n      <td>92.0</td>\n      <td>17.0</td>\n      <td>13.0</td>\n      <td>62.0</td>\n      <td>4.0</td>\n      <td>17.0</td>\n      <td>61.0</td>\n      <td>72.0</td>\n      <td>34.0</td>\n      <td>11.0</td>\n      <td>28.0</td>\n    </tr>\n    <tr>\n      <th>13</th>\n      <td>Finland</td>\n      <td>98.0</td>\n      <td>12.0</td>\n      <td>20.0</td>\n      <td>64.0</td>\n      <td>10.0</td>\n      <td>8.0</td>\n      <td>50.0</td>\n      <td>57.0</td>\n      <td>22.0</td>\n      <td>15.0</td>\n      <td>17.0</td>\n    </tr>\n    <tr>\n      <th>14</th>\n      <td>Spain</td>\n      <td>70.0</td>\n      <td>40.0</td>\n      <td>3.0</td>\n      <td>62.0</td>\n      <td>2.0</td>\n      <td>14.0</td>\n      <td>59.0</td>\n      <td>77.0</td>\n      <td>30.0</td>\n      <td>80.0</td>\n      <td>91.0</td>\n    </tr>\n  </tbody>\n</table>\n</div>"
     },
     "metadata": {},
     "execution_count": 14
    }
   ],
   "source": [
    "df.dropna(thresh= 10) # 10 not null values should the present  "
   ]
  },
  {
   "cell_type": "code",
   "execution_count": 15,
   "metadata": {},
   "outputs": [
    {
     "output_type": "execute_result",
     "data": {
      "text/plain": [
       "        Country  Real coffee  Instant coffee  Sweetener  Biscuits  Tin soup  \\\n",
       "0       Germany         90.0            49.0       19.0      57.0      19.0   \n",
       "1         Italy         82.0            10.0        2.0      55.0       3.0   \n",
       "2        France         88.0            42.0        4.0      76.0      11.0   \n",
       "3       Holland         96.0            62.0       32.0       NaN      43.0   \n",
       "4       Belgium         94.0            38.0       11.0       NaN      23.0   \n",
       "5    Luxembourg         97.0            61.0       28.0       NaN      12.0   \n",
       "6       England         27.0            86.0       22.0      91.0      76.0   \n",
       "7      Portugal         72.0            26.0        2.0      22.0       1.0   \n",
       "8       Austria         55.0            31.0        8.0      29.0      12.0   \n",
       "9   Switzerland         73.0            72.0       25.0      31.0      12.0   \n",
       "10       Sweden         97.0            13.0       31.0       9.0      43.0   \n",
       "11      Denmark         96.0            17.0       35.0      66.0      17.0   \n",
       "12       Norway         92.0            17.0       13.0      62.0       4.0   \n",
       "13      Finland         98.0            12.0       20.0      64.0      10.0   \n",
       "14        Spain         70.0            40.0        3.0      62.0       2.0   \n",
       "15          NaN          NaN             NaN        NaN       NaN       NaN   \n",
       "\n",
       "    Potatoes  Apples  Oranges  Tinned fruit  Garlic  Olive oil  \n",
       "0       21.0    81.0     75.0          44.0    22.0       74.0  \n",
       "1        2.0    67.0     71.0           9.0    80.0       94.0  \n",
       "2       23.0    87.0     84.0          40.0    88.0       36.0  \n",
       "3        7.0    83.0     89.0          61.0     NaN       13.0  \n",
       "4        9.0    76.0     76.0          42.0     NaN       83.0  \n",
       "5        7.0    85.0     94.0          83.0    91.0       84.0  \n",
       "6       17.0    76.0     68.0          89.0    11.0       57.0  \n",
       "7       17.0     NaN     51.0           8.0    54.0       57.0  \n",
       "8       17.0     NaN     42.0          14.0    51.0       57.0  \n",
       "9       11.0     NaN     70.0          46.0    64.0       57.0  \n",
       "10      11.0     NaN     78.0          53.0     9.0       48.0  \n",
       "11      11.0    81.0     72.0          50.0    11.0       30.0  \n",
       "12      17.0    61.0     72.0          34.0    11.0       28.0  \n",
       "13       8.0    50.0     57.0          22.0    15.0       17.0  \n",
       "14      14.0    59.0     77.0          30.0    80.0       91.0  \n",
       "15       NaN     NaN      NaN           NaN     NaN        NaN  "
      ],
      "text/html": "<div>\n<style scoped>\n    .dataframe tbody tr th:only-of-type {\n        vertical-align: middle;\n    }\n\n    .dataframe tbody tr th {\n        vertical-align: top;\n    }\n\n    .dataframe thead th {\n        text-align: right;\n    }\n</style>\n<table border=\"1\" class=\"dataframe\">\n  <thead>\n    <tr style=\"text-align: right;\">\n      <th></th>\n      <th>Country</th>\n      <th>Real coffee</th>\n      <th>Instant coffee</th>\n      <th>Sweetener</th>\n      <th>Biscuits</th>\n      <th>Tin soup</th>\n      <th>Potatoes</th>\n      <th>Apples</th>\n      <th>Oranges</th>\n      <th>Tinned fruit</th>\n      <th>Garlic</th>\n      <th>Olive oil</th>\n    </tr>\n  </thead>\n  <tbody>\n    <tr>\n      <th>0</th>\n      <td>Germany</td>\n      <td>90.0</td>\n      <td>49.0</td>\n      <td>19.0</td>\n      <td>57.0</td>\n      <td>19.0</td>\n      <td>21.0</td>\n      <td>81.0</td>\n      <td>75.0</td>\n      <td>44.0</td>\n      <td>22.0</td>\n      <td>74.0</td>\n    </tr>\n    <tr>\n      <th>1</th>\n      <td>Italy</td>\n      <td>82.0</td>\n      <td>10.0</td>\n      <td>2.0</td>\n      <td>55.0</td>\n      <td>3.0</td>\n      <td>2.0</td>\n      <td>67.0</td>\n      <td>71.0</td>\n      <td>9.0</td>\n      <td>80.0</td>\n      <td>94.0</td>\n    </tr>\n    <tr>\n      <th>2</th>\n      <td>France</td>\n      <td>88.0</td>\n      <td>42.0</td>\n      <td>4.0</td>\n      <td>76.0</td>\n      <td>11.0</td>\n      <td>23.0</td>\n      <td>87.0</td>\n      <td>84.0</td>\n      <td>40.0</td>\n      <td>88.0</td>\n      <td>36.0</td>\n    </tr>\n    <tr>\n      <th>3</th>\n      <td>Holland</td>\n      <td>96.0</td>\n      <td>62.0</td>\n      <td>32.0</td>\n      <td>NaN</td>\n      <td>43.0</td>\n      <td>7.0</td>\n      <td>83.0</td>\n      <td>89.0</td>\n      <td>61.0</td>\n      <td>NaN</td>\n      <td>13.0</td>\n    </tr>\n    <tr>\n      <th>4</th>\n      <td>Belgium</td>\n      <td>94.0</td>\n      <td>38.0</td>\n      <td>11.0</td>\n      <td>NaN</td>\n      <td>23.0</td>\n      <td>9.0</td>\n      <td>76.0</td>\n      <td>76.0</td>\n      <td>42.0</td>\n      <td>NaN</td>\n      <td>83.0</td>\n    </tr>\n    <tr>\n      <th>5</th>\n      <td>Luxembourg</td>\n      <td>97.0</td>\n      <td>61.0</td>\n      <td>28.0</td>\n      <td>NaN</td>\n      <td>12.0</td>\n      <td>7.0</td>\n      <td>85.0</td>\n      <td>94.0</td>\n      <td>83.0</td>\n      <td>91.0</td>\n      <td>84.0</td>\n    </tr>\n    <tr>\n      <th>6</th>\n      <td>England</td>\n      <td>27.0</td>\n      <td>86.0</td>\n      <td>22.0</td>\n      <td>91.0</td>\n      <td>76.0</td>\n      <td>17.0</td>\n      <td>76.0</td>\n      <td>68.0</td>\n      <td>89.0</td>\n      <td>11.0</td>\n      <td>57.0</td>\n    </tr>\n    <tr>\n      <th>7</th>\n      <td>Portugal</td>\n      <td>72.0</td>\n      <td>26.0</td>\n      <td>2.0</td>\n      <td>22.0</td>\n      <td>1.0</td>\n      <td>17.0</td>\n      <td>NaN</td>\n      <td>51.0</td>\n      <td>8.0</td>\n      <td>54.0</td>\n      <td>57.0</td>\n    </tr>\n    <tr>\n      <th>8</th>\n      <td>Austria</td>\n      <td>55.0</td>\n      <td>31.0</td>\n      <td>8.0</td>\n      <td>29.0</td>\n      <td>12.0</td>\n      <td>17.0</td>\n      <td>NaN</td>\n      <td>42.0</td>\n      <td>14.0</td>\n      <td>51.0</td>\n      <td>57.0</td>\n    </tr>\n    <tr>\n      <th>9</th>\n      <td>Switzerland</td>\n      <td>73.0</td>\n      <td>72.0</td>\n      <td>25.0</td>\n      <td>31.0</td>\n      <td>12.0</td>\n      <td>11.0</td>\n      <td>NaN</td>\n      <td>70.0</td>\n      <td>46.0</td>\n      <td>64.0</td>\n      <td>57.0</td>\n    </tr>\n    <tr>\n      <th>10</th>\n      <td>Sweden</td>\n      <td>97.0</td>\n      <td>13.0</td>\n      <td>31.0</td>\n      <td>9.0</td>\n      <td>43.0</td>\n      <td>11.0</td>\n      <td>NaN</td>\n      <td>78.0</td>\n      <td>53.0</td>\n      <td>9.0</td>\n      <td>48.0</td>\n    </tr>\n    <tr>\n      <th>11</th>\n      <td>Denmark</td>\n      <td>96.0</td>\n      <td>17.0</td>\n      <td>35.0</td>\n      <td>66.0</td>\n      <td>17.0</td>\n      <td>11.0</td>\n      <td>81.0</td>\n      <td>72.0</td>\n      <td>50.0</td>\n      <td>11.0</td>\n      <td>30.0</td>\n    </tr>\n    <tr>\n      <th>12</th>\n      <td>Norway</td>\n      <td>92.0</td>\n      <td>17.0</td>\n      <td>13.0</td>\n      <td>62.0</td>\n      <td>4.0</td>\n      <td>17.0</td>\n      <td>61.0</td>\n      <td>72.0</td>\n      <td>34.0</td>\n      <td>11.0</td>\n      <td>28.0</td>\n    </tr>\n    <tr>\n      <th>13</th>\n      <td>Finland</td>\n      <td>98.0</td>\n      <td>12.0</td>\n      <td>20.0</td>\n      <td>64.0</td>\n      <td>10.0</td>\n      <td>8.0</td>\n      <td>50.0</td>\n      <td>57.0</td>\n      <td>22.0</td>\n      <td>15.0</td>\n      <td>17.0</td>\n    </tr>\n    <tr>\n      <th>14</th>\n      <td>Spain</td>\n      <td>70.0</td>\n      <td>40.0</td>\n      <td>3.0</td>\n      <td>62.0</td>\n      <td>2.0</td>\n      <td>14.0</td>\n      <td>59.0</td>\n      <td>77.0</td>\n      <td>30.0</td>\n      <td>80.0</td>\n      <td>91.0</td>\n    </tr>\n    <tr>\n      <th>15</th>\n      <td>NaN</td>\n      <td>NaN</td>\n      <td>NaN</td>\n      <td>NaN</td>\n      <td>NaN</td>\n      <td>NaN</td>\n      <td>NaN</td>\n      <td>NaN</td>\n      <td>NaN</td>\n      <td>NaN</td>\n      <td>NaN</td>\n      <td>NaN</td>\n    </tr>\n  </tbody>\n</table>\n</div>"
     },
     "metadata": {},
     "execution_count": 15
    }
   ],
   "source": [
    "df = pd.read_csv(\"E:\\\\ML\\\\ML\\\\Pandas\\\\food consumption.csv\")\n",
    "df"
   ]
  },
  {
   "cell_type": "code",
   "execution_count": 16,
   "metadata": {},
   "outputs": [
    {
     "output_type": "execute_result",
     "data": {
      "text/plain": [
       "        Country  Real coffee  Instant coffee  Sweetener  Biscuits  Tin soup  \\\n",
       "0       Germany         90.0            49.0       19.0      57.0      19.0   \n",
       "1         Italy         82.0            10.0        2.0      55.0       3.0   \n",
       "2        France         88.0            42.0        4.0      76.0      11.0   \n",
       "3       Holland         96.0            62.0       32.0       NaN      43.0   \n",
       "4       Belgium         94.0            38.0       11.0       NaN      23.0   \n",
       "5    Luxembourg         97.0            61.0       28.0       NaN      12.0   \n",
       "6       England         27.0            86.0       22.0      91.0      76.0   \n",
       "7      Portugal         72.0            26.0        2.0      22.0       1.0   \n",
       "8       Austria         55.0            31.0        8.0      29.0      12.0   \n",
       "9   Switzerland         73.0            72.0       25.0      31.0      12.0   \n",
       "10       Sweden         97.0            13.0       31.0       9.0      43.0   \n",
       "11      Denmark         96.0            17.0       35.0      66.0      17.0   \n",
       "12       Norway         92.0            17.0       13.0      62.0       4.0   \n",
       "13      Finland         98.0            12.0       20.0      64.0      10.0   \n",
       "14        Spain         70.0            40.0        3.0      62.0       2.0   \n",
       "\n",
       "    Potatoes  Apples  Oranges  Tinned fruit  Garlic  Olive oil  \n",
       "0       21.0    81.0     75.0          44.0    22.0       74.0  \n",
       "1        2.0    67.0     71.0           9.0    80.0       94.0  \n",
       "2       23.0    87.0     84.0          40.0    88.0       36.0  \n",
       "3        7.0    83.0     89.0          61.0     NaN       13.0  \n",
       "4        9.0    76.0     76.0          42.0     NaN       83.0  \n",
       "5        7.0    85.0     94.0          83.0    91.0       84.0  \n",
       "6       17.0    76.0     68.0          89.0    11.0       57.0  \n",
       "7       17.0     NaN     51.0           8.0    54.0       57.0  \n",
       "8       17.0     NaN     42.0          14.0    51.0       57.0  \n",
       "9       11.0     NaN     70.0          46.0    64.0       57.0  \n",
       "10      11.0     NaN     78.0          53.0     9.0       48.0  \n",
       "11      11.0    81.0     72.0          50.0    11.0       30.0  \n",
       "12      17.0    61.0     72.0          34.0    11.0       28.0  \n",
       "13       8.0    50.0     57.0          22.0    15.0       17.0  \n",
       "14      14.0    59.0     77.0          30.0    80.0       91.0  "
      ],
      "text/html": "<div>\n<style scoped>\n    .dataframe tbody tr th:only-of-type {\n        vertical-align: middle;\n    }\n\n    .dataframe tbody tr th {\n        vertical-align: top;\n    }\n\n    .dataframe thead th {\n        text-align: right;\n    }\n</style>\n<table border=\"1\" class=\"dataframe\">\n  <thead>\n    <tr style=\"text-align: right;\">\n      <th></th>\n      <th>Country</th>\n      <th>Real coffee</th>\n      <th>Instant coffee</th>\n      <th>Sweetener</th>\n      <th>Biscuits</th>\n      <th>Tin soup</th>\n      <th>Potatoes</th>\n      <th>Apples</th>\n      <th>Oranges</th>\n      <th>Tinned fruit</th>\n      <th>Garlic</th>\n      <th>Olive oil</th>\n    </tr>\n  </thead>\n  <tbody>\n    <tr>\n      <th>0</th>\n      <td>Germany</td>\n      <td>90.0</td>\n      <td>49.0</td>\n      <td>19.0</td>\n      <td>57.0</td>\n      <td>19.0</td>\n      <td>21.0</td>\n      <td>81.0</td>\n      <td>75.0</td>\n      <td>44.0</td>\n      <td>22.0</td>\n      <td>74.0</td>\n    </tr>\n    <tr>\n      <th>1</th>\n      <td>Italy</td>\n      <td>82.0</td>\n      <td>10.0</td>\n      <td>2.0</td>\n      <td>55.0</td>\n      <td>3.0</td>\n      <td>2.0</td>\n      <td>67.0</td>\n      <td>71.0</td>\n      <td>9.0</td>\n      <td>80.0</td>\n      <td>94.0</td>\n    </tr>\n    <tr>\n      <th>2</th>\n      <td>France</td>\n      <td>88.0</td>\n      <td>42.0</td>\n      <td>4.0</td>\n      <td>76.0</td>\n      <td>11.0</td>\n      <td>23.0</td>\n      <td>87.0</td>\n      <td>84.0</td>\n      <td>40.0</td>\n      <td>88.0</td>\n      <td>36.0</td>\n    </tr>\n    <tr>\n      <th>3</th>\n      <td>Holland</td>\n      <td>96.0</td>\n      <td>62.0</td>\n      <td>32.0</td>\n      <td>NaN</td>\n      <td>43.0</td>\n      <td>7.0</td>\n      <td>83.0</td>\n      <td>89.0</td>\n      <td>61.0</td>\n      <td>NaN</td>\n      <td>13.0</td>\n    </tr>\n    <tr>\n      <th>4</th>\n      <td>Belgium</td>\n      <td>94.0</td>\n      <td>38.0</td>\n      <td>11.0</td>\n      <td>NaN</td>\n      <td>23.0</td>\n      <td>9.0</td>\n      <td>76.0</td>\n      <td>76.0</td>\n      <td>42.0</td>\n      <td>NaN</td>\n      <td>83.0</td>\n    </tr>\n    <tr>\n      <th>5</th>\n      <td>Luxembourg</td>\n      <td>97.0</td>\n      <td>61.0</td>\n      <td>28.0</td>\n      <td>NaN</td>\n      <td>12.0</td>\n      <td>7.0</td>\n      <td>85.0</td>\n      <td>94.0</td>\n      <td>83.0</td>\n      <td>91.0</td>\n      <td>84.0</td>\n    </tr>\n    <tr>\n      <th>6</th>\n      <td>England</td>\n      <td>27.0</td>\n      <td>86.0</td>\n      <td>22.0</td>\n      <td>91.0</td>\n      <td>76.0</td>\n      <td>17.0</td>\n      <td>76.0</td>\n      <td>68.0</td>\n      <td>89.0</td>\n      <td>11.0</td>\n      <td>57.0</td>\n    </tr>\n    <tr>\n      <th>7</th>\n      <td>Portugal</td>\n      <td>72.0</td>\n      <td>26.0</td>\n      <td>2.0</td>\n      <td>22.0</td>\n      <td>1.0</td>\n      <td>17.0</td>\n      <td>NaN</td>\n      <td>51.0</td>\n      <td>8.0</td>\n      <td>54.0</td>\n      <td>57.0</td>\n    </tr>\n    <tr>\n      <th>8</th>\n      <td>Austria</td>\n      <td>55.0</td>\n      <td>31.0</td>\n      <td>8.0</td>\n      <td>29.0</td>\n      <td>12.0</td>\n      <td>17.0</td>\n      <td>NaN</td>\n      <td>42.0</td>\n      <td>14.0</td>\n      <td>51.0</td>\n      <td>57.0</td>\n    </tr>\n    <tr>\n      <th>9</th>\n      <td>Switzerland</td>\n      <td>73.0</td>\n      <td>72.0</td>\n      <td>25.0</td>\n      <td>31.0</td>\n      <td>12.0</td>\n      <td>11.0</td>\n      <td>NaN</td>\n      <td>70.0</td>\n      <td>46.0</td>\n      <td>64.0</td>\n      <td>57.0</td>\n    </tr>\n    <tr>\n      <th>10</th>\n      <td>Sweden</td>\n      <td>97.0</td>\n      <td>13.0</td>\n      <td>31.0</td>\n      <td>9.0</td>\n      <td>43.0</td>\n      <td>11.0</td>\n      <td>NaN</td>\n      <td>78.0</td>\n      <td>53.0</td>\n      <td>9.0</td>\n      <td>48.0</td>\n    </tr>\n    <tr>\n      <th>11</th>\n      <td>Denmark</td>\n      <td>96.0</td>\n      <td>17.0</td>\n      <td>35.0</td>\n      <td>66.0</td>\n      <td>17.0</td>\n      <td>11.0</td>\n      <td>81.0</td>\n      <td>72.0</td>\n      <td>50.0</td>\n      <td>11.0</td>\n      <td>30.0</td>\n    </tr>\n    <tr>\n      <th>12</th>\n      <td>Norway</td>\n      <td>92.0</td>\n      <td>17.0</td>\n      <td>13.0</td>\n      <td>62.0</td>\n      <td>4.0</td>\n      <td>17.0</td>\n      <td>61.0</td>\n      <td>72.0</td>\n      <td>34.0</td>\n      <td>11.0</td>\n      <td>28.0</td>\n    </tr>\n    <tr>\n      <th>13</th>\n      <td>Finland</td>\n      <td>98.0</td>\n      <td>12.0</td>\n      <td>20.0</td>\n      <td>64.0</td>\n      <td>10.0</td>\n      <td>8.0</td>\n      <td>50.0</td>\n      <td>57.0</td>\n      <td>22.0</td>\n      <td>15.0</td>\n      <td>17.0</td>\n    </tr>\n    <tr>\n      <th>14</th>\n      <td>Spain</td>\n      <td>70.0</td>\n      <td>40.0</td>\n      <td>3.0</td>\n      <td>62.0</td>\n      <td>2.0</td>\n      <td>14.0</td>\n      <td>59.0</td>\n      <td>77.0</td>\n      <td>30.0</td>\n      <td>80.0</td>\n      <td>91.0</td>\n    </tr>\n  </tbody>\n</table>\n</div>"
     },
     "metadata": {},
     "execution_count": 16
    }
   ],
   "source": [
    "df.dropna(subset=[\"Country\"])# It will drop the row  in the coloum \"Country\" where null value will be present  "
   ]
  },
  {
   "cell_type": "code",
   "execution_count": 20,
   "metadata": {},
   "outputs": [
    {
     "output_type": "execute_result",
     "data": {
      "text/plain": [
       "    Country  Real coffee  Instant coffee  Sweetener  Biscuits  Tin soup  \\\n",
       "0   Germany         90.0            49.0       19.0      57.0      19.0   \n",
       "1     Italy         82.0            10.0        2.0      55.0       3.0   \n",
       "2    France         88.0            42.0        4.0      76.0      11.0   \n",
       "6   England         27.0            86.0       22.0      91.0      76.0   \n",
       "11  Denmark         96.0            17.0       35.0      66.0      17.0   \n",
       "12   Norway         92.0            17.0       13.0      62.0       4.0   \n",
       "13  Finland         98.0            12.0       20.0      64.0      10.0   \n",
       "14    Spain         70.0            40.0        3.0      62.0       2.0   \n",
       "\n",
       "    Potatoes  Apples  Oranges  Tinned fruit  Garlic  Olive oil  \n",
       "0       21.0    81.0     75.0          44.0    22.0       74.0  \n",
       "1        2.0    67.0     71.0           9.0    80.0       94.0  \n",
       "2       23.0    87.0     84.0          40.0    88.0       36.0  \n",
       "6       17.0    76.0     68.0          89.0    11.0       57.0  \n",
       "11      11.0    81.0     72.0          50.0    11.0       30.0  \n",
       "12      17.0    61.0     72.0          34.0    11.0       28.0  \n",
       "13       8.0    50.0     57.0          22.0    15.0       17.0  \n",
       "14      14.0    59.0     77.0          30.0    80.0       91.0  "
      ],
      "text/html": "<div>\n<style scoped>\n    .dataframe tbody tr th:only-of-type {\n        vertical-align: middle;\n    }\n\n    .dataframe tbody tr th {\n        vertical-align: top;\n    }\n\n    .dataframe thead th {\n        text-align: right;\n    }\n</style>\n<table border=\"1\" class=\"dataframe\">\n  <thead>\n    <tr style=\"text-align: right;\">\n      <th></th>\n      <th>Country</th>\n      <th>Real coffee</th>\n      <th>Instant coffee</th>\n      <th>Sweetener</th>\n      <th>Biscuits</th>\n      <th>Tin soup</th>\n      <th>Potatoes</th>\n      <th>Apples</th>\n      <th>Oranges</th>\n      <th>Tinned fruit</th>\n      <th>Garlic</th>\n      <th>Olive oil</th>\n    </tr>\n  </thead>\n  <tbody>\n    <tr>\n      <th>0</th>\n      <td>Germany</td>\n      <td>90.0</td>\n      <td>49.0</td>\n      <td>19.0</td>\n      <td>57.0</td>\n      <td>19.0</td>\n      <td>21.0</td>\n      <td>81.0</td>\n      <td>75.0</td>\n      <td>44.0</td>\n      <td>22.0</td>\n      <td>74.0</td>\n    </tr>\n    <tr>\n      <th>1</th>\n      <td>Italy</td>\n      <td>82.0</td>\n      <td>10.0</td>\n      <td>2.0</td>\n      <td>55.0</td>\n      <td>3.0</td>\n      <td>2.0</td>\n      <td>67.0</td>\n      <td>71.0</td>\n      <td>9.0</td>\n      <td>80.0</td>\n      <td>94.0</td>\n    </tr>\n    <tr>\n      <th>2</th>\n      <td>France</td>\n      <td>88.0</td>\n      <td>42.0</td>\n      <td>4.0</td>\n      <td>76.0</td>\n      <td>11.0</td>\n      <td>23.0</td>\n      <td>87.0</td>\n      <td>84.0</td>\n      <td>40.0</td>\n      <td>88.0</td>\n      <td>36.0</td>\n    </tr>\n    <tr>\n      <th>6</th>\n      <td>England</td>\n      <td>27.0</td>\n      <td>86.0</td>\n      <td>22.0</td>\n      <td>91.0</td>\n      <td>76.0</td>\n      <td>17.0</td>\n      <td>76.0</td>\n      <td>68.0</td>\n      <td>89.0</td>\n      <td>11.0</td>\n      <td>57.0</td>\n    </tr>\n    <tr>\n      <th>11</th>\n      <td>Denmark</td>\n      <td>96.0</td>\n      <td>17.0</td>\n      <td>35.0</td>\n      <td>66.0</td>\n      <td>17.0</td>\n      <td>11.0</td>\n      <td>81.0</td>\n      <td>72.0</td>\n      <td>50.0</td>\n      <td>11.0</td>\n      <td>30.0</td>\n    </tr>\n    <tr>\n      <th>12</th>\n      <td>Norway</td>\n      <td>92.0</td>\n      <td>17.0</td>\n      <td>13.0</td>\n      <td>62.0</td>\n      <td>4.0</td>\n      <td>17.0</td>\n      <td>61.0</td>\n      <td>72.0</td>\n      <td>34.0</td>\n      <td>11.0</td>\n      <td>28.0</td>\n    </tr>\n    <tr>\n      <th>13</th>\n      <td>Finland</td>\n      <td>98.0</td>\n      <td>12.0</td>\n      <td>20.0</td>\n      <td>64.0</td>\n      <td>10.0</td>\n      <td>8.0</td>\n      <td>50.0</td>\n      <td>57.0</td>\n      <td>22.0</td>\n      <td>15.0</td>\n      <td>17.0</td>\n    </tr>\n    <tr>\n      <th>14</th>\n      <td>Spain</td>\n      <td>70.0</td>\n      <td>40.0</td>\n      <td>3.0</td>\n      <td>62.0</td>\n      <td>2.0</td>\n      <td>14.0</td>\n      <td>59.0</td>\n      <td>77.0</td>\n      <td>30.0</td>\n      <td>80.0</td>\n      <td>91.0</td>\n    </tr>\n  </tbody>\n</table>\n</div>"
     },
     "metadata": {},
     "execution_count": 20
    }
   ],
   "source": [
    "df.dropna(inplace= True) # IT will show where all not null values is present\n",
    "df"
   ]
  },
  {
   "cell_type": "code",
   "execution_count": null,
   "metadata": {},
   "outputs": [],
   "source": []
  }
 ]
}