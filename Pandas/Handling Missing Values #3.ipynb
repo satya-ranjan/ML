{
 "metadata": {
  "language_info": {
   "codemirror_mode": {
    "name": "ipython",
    "version": 3
   },
   "file_extension": ".py",
   "mimetype": "text/x-python",
   "name": "python",
   "nbconvert_exporter": "python",
   "pygments_lexer": "ipython3",
   "version": "3.9.5"
  },
  "orig_nbformat": 4,
  "kernelspec": {
   "name": "python3",
   "display_name": "Python 3.9.5 64-bit"
  },
  "interpreter": {
   "hash": "a12d694c3ccac42055183a0ad11e659c6a2db5c6555ad2c8919d5814fd4e404f"
  }
 },
 "nbformat": 4,
 "nbformat_minor": 2,
 "cells": [
  {
   "source": [
    "# Handling Missing Values #3"
   ],
   "cell_type": "markdown",
   "metadata": {}
  },
  {
   "cell_type": "code",
   "execution_count": 4,
   "metadata": {},
   "outputs": [],
   "source": [
    "import pandas as pd"
   ]
  },
  {
   "cell_type": "code",
   "execution_count": 5,
   "metadata": {},
   "outputs": [
    {
     "output_type": "execute_result",
     "data": {
      "text/plain": [
       "        Country  Real coffee  Instant coffee  Sweetener  Biscuits  Tin soup  \\\n",
       "0       Germany           90              49         19      57.0        19   \n",
       "1         Italy           82              10          2      55.0         3   \n",
       "2        France           88              42          4      76.0        11   \n",
       "3       Holland           96              62         32       NaN        43   \n",
       "4       Belgium           94              38         11       NaN        23   \n",
       "5    Luxembourg           97              61         28       NaN        12   \n",
       "6       England           27              86         22      91.0        76   \n",
       "7      Portugal           72              26          2      22.0         1   \n",
       "8       Austria           55              31          8      29.0        12   \n",
       "9   Switzerland           73              72         25      31.0        12   \n",
       "10       Sweden           97              13         31       9.0        43   \n",
       "11      Denmark           96              17         35      66.0        17   \n",
       "12       Norway           92              17         13      62.0         4   \n",
       "13      Finland           98              12         20      64.0        10   \n",
       "14        Spain           70              40          3      62.0         2   \n",
       "15      Ireland           30              52         11      80.0        18   \n",
       "\n",
       "    Potatoes  Apples  Oranges  Tinned fruit  Garlic  Olive oil  \n",
       "0         21    81.0       75            44    22.0         74  \n",
       "1          2    67.0       71             9    80.0         94  \n",
       "2         23    87.0       84            40    88.0         36  \n",
       "3          7    83.0       89            61     NaN         13  \n",
       "4          9    76.0       76            42     NaN         83  \n",
       "5          7    85.0       94            83    91.0         84  \n",
       "6         17    76.0       68            89    11.0         57  \n",
       "7         17     NaN       51             8    54.0         57  \n",
       "8         17     NaN       42            14    51.0         57  \n",
       "9         11     NaN       70            46    64.0         57  \n",
       "10        11     NaN       78            53     9.0         48  \n",
       "11        11    81.0       72            50    11.0         30  \n",
       "12        17    61.0       72            34    11.0         28  \n",
       "13         8    50.0       57            22    15.0         17  \n",
       "14        14    59.0       77            30    80.0         91  \n",
       "15         2    57.0       52            46     5.0         31  "
      ],
      "text/html": "<div>\n<style scoped>\n    .dataframe tbody tr th:only-of-type {\n        vertical-align: middle;\n    }\n\n    .dataframe tbody tr th {\n        vertical-align: top;\n    }\n\n    .dataframe thead th {\n        text-align: right;\n    }\n</style>\n<table border=\"1\" class=\"dataframe\">\n  <thead>\n    <tr style=\"text-align: right;\">\n      <th></th>\n      <th>Country</th>\n      <th>Real coffee</th>\n      <th>Instant coffee</th>\n      <th>Sweetener</th>\n      <th>Biscuits</th>\n      <th>Tin soup</th>\n      <th>Potatoes</th>\n      <th>Apples</th>\n      <th>Oranges</th>\n      <th>Tinned fruit</th>\n      <th>Garlic</th>\n      <th>Olive oil</th>\n    </tr>\n  </thead>\n  <tbody>\n    <tr>\n      <th>0</th>\n      <td>Germany</td>\n      <td>90</td>\n      <td>49</td>\n      <td>19</td>\n      <td>57.0</td>\n      <td>19</td>\n      <td>21</td>\n      <td>81.0</td>\n      <td>75</td>\n      <td>44</td>\n      <td>22.0</td>\n      <td>74</td>\n    </tr>\n    <tr>\n      <th>1</th>\n      <td>Italy</td>\n      <td>82</td>\n      <td>10</td>\n      <td>2</td>\n      <td>55.0</td>\n      <td>3</td>\n      <td>2</td>\n      <td>67.0</td>\n      <td>71</td>\n      <td>9</td>\n      <td>80.0</td>\n      <td>94</td>\n    </tr>\n    <tr>\n      <th>2</th>\n      <td>France</td>\n      <td>88</td>\n      <td>42</td>\n      <td>4</td>\n      <td>76.0</td>\n      <td>11</td>\n      <td>23</td>\n      <td>87.0</td>\n      <td>84</td>\n      <td>40</td>\n      <td>88.0</td>\n      <td>36</td>\n    </tr>\n    <tr>\n      <th>3</th>\n      <td>Holland</td>\n      <td>96</td>\n      <td>62</td>\n      <td>32</td>\n      <td>NaN</td>\n      <td>43</td>\n      <td>7</td>\n      <td>83.0</td>\n      <td>89</td>\n      <td>61</td>\n      <td>NaN</td>\n      <td>13</td>\n    </tr>\n    <tr>\n      <th>4</th>\n      <td>Belgium</td>\n      <td>94</td>\n      <td>38</td>\n      <td>11</td>\n      <td>NaN</td>\n      <td>23</td>\n      <td>9</td>\n      <td>76.0</td>\n      <td>76</td>\n      <td>42</td>\n      <td>NaN</td>\n      <td>83</td>\n    </tr>\n    <tr>\n      <th>5</th>\n      <td>Luxembourg</td>\n      <td>97</td>\n      <td>61</td>\n      <td>28</td>\n      <td>NaN</td>\n      <td>12</td>\n      <td>7</td>\n      <td>85.0</td>\n      <td>94</td>\n      <td>83</td>\n      <td>91.0</td>\n      <td>84</td>\n    </tr>\n    <tr>\n      <th>6</th>\n      <td>England</td>\n      <td>27</td>\n      <td>86</td>\n      <td>22</td>\n      <td>91.0</td>\n      <td>76</td>\n      <td>17</td>\n      <td>76.0</td>\n      <td>68</td>\n      <td>89</td>\n      <td>11.0</td>\n      <td>57</td>\n    </tr>\n    <tr>\n      <th>7</th>\n      <td>Portugal</td>\n      <td>72</td>\n      <td>26</td>\n      <td>2</td>\n      <td>22.0</td>\n      <td>1</td>\n      <td>17</td>\n      <td>NaN</td>\n      <td>51</td>\n      <td>8</td>\n      <td>54.0</td>\n      <td>57</td>\n    </tr>\n    <tr>\n      <th>8</th>\n      <td>Austria</td>\n      <td>55</td>\n      <td>31</td>\n      <td>8</td>\n      <td>29.0</td>\n      <td>12</td>\n      <td>17</td>\n      <td>NaN</td>\n      <td>42</td>\n      <td>14</td>\n      <td>51.0</td>\n      <td>57</td>\n    </tr>\n    <tr>\n      <th>9</th>\n      <td>Switzerland</td>\n      <td>73</td>\n      <td>72</td>\n      <td>25</td>\n      <td>31.0</td>\n      <td>12</td>\n      <td>11</td>\n      <td>NaN</td>\n      <td>70</td>\n      <td>46</td>\n      <td>64.0</td>\n      <td>57</td>\n    </tr>\n    <tr>\n      <th>10</th>\n      <td>Sweden</td>\n      <td>97</td>\n      <td>13</td>\n      <td>31</td>\n      <td>9.0</td>\n      <td>43</td>\n      <td>11</td>\n      <td>NaN</td>\n      <td>78</td>\n      <td>53</td>\n      <td>9.0</td>\n      <td>48</td>\n    </tr>\n    <tr>\n      <th>11</th>\n      <td>Denmark</td>\n      <td>96</td>\n      <td>17</td>\n      <td>35</td>\n      <td>66.0</td>\n      <td>17</td>\n      <td>11</td>\n      <td>81.0</td>\n      <td>72</td>\n      <td>50</td>\n      <td>11.0</td>\n      <td>30</td>\n    </tr>\n    <tr>\n      <th>12</th>\n      <td>Norway</td>\n      <td>92</td>\n      <td>17</td>\n      <td>13</td>\n      <td>62.0</td>\n      <td>4</td>\n      <td>17</td>\n      <td>61.0</td>\n      <td>72</td>\n      <td>34</td>\n      <td>11.0</td>\n      <td>28</td>\n    </tr>\n    <tr>\n      <th>13</th>\n      <td>Finland</td>\n      <td>98</td>\n      <td>12</td>\n      <td>20</td>\n      <td>64.0</td>\n      <td>10</td>\n      <td>8</td>\n      <td>50.0</td>\n      <td>57</td>\n      <td>22</td>\n      <td>15.0</td>\n      <td>17</td>\n    </tr>\n    <tr>\n      <th>14</th>\n      <td>Spain</td>\n      <td>70</td>\n      <td>40</td>\n      <td>3</td>\n      <td>62.0</td>\n      <td>2</td>\n      <td>14</td>\n      <td>59.0</td>\n      <td>77</td>\n      <td>30</td>\n      <td>80.0</td>\n      <td>91</td>\n    </tr>\n    <tr>\n      <th>15</th>\n      <td>Ireland</td>\n      <td>30</td>\n      <td>52</td>\n      <td>11</td>\n      <td>80.0</td>\n      <td>18</td>\n      <td>2</td>\n      <td>57.0</td>\n      <td>52</td>\n      <td>46</td>\n      <td>5.0</td>\n      <td>31</td>\n    </tr>\n  </tbody>\n</table>\n</div>"
     },
     "metadata": {},
     "execution_count": 5
    }
   ],
   "source": [
    "df = pd.read_csv(\"E:\\\\ML\\\\ML\\\\Pandas\\\\food consumption.csv\")\n",
    "df"
   ]
  },
  {
   "cell_type": "code",
   "execution_count": 7,
   "metadata": {},
   "outputs": [
    {
     "output_type": "execute_result",
     "data": {
      "text/plain": [
       "    Country  Real coffee  Instant coffee  Sweetener  Biscuits  Tin soup  \\\n",
       "0   Germany           90              49         19      57.0        19   \n",
       "1     Italy           82              10          2      55.0         3   \n",
       "2    France           88              42          4      76.0        11   \n",
       "6   England           27              86         22      91.0        76   \n",
       "11  Denmark           96              17         35      66.0        17   \n",
       "12   Norway           92              17         13      62.0         4   \n",
       "13  Finland           98              12         20      64.0        10   \n",
       "14    Spain           70              40          3      62.0         2   \n",
       "15  Ireland           30              52         11      80.0        18   \n",
       "\n",
       "    Potatoes  Apples  Oranges  Tinned fruit  Garlic  Olive oil  \n",
       "0         21    81.0       75            44    22.0         74  \n",
       "1          2    67.0       71             9    80.0         94  \n",
       "2         23    87.0       84            40    88.0         36  \n",
       "6         17    76.0       68            89    11.0         57  \n",
       "11        11    81.0       72            50    11.0         30  \n",
       "12        17    61.0       72            34    11.0         28  \n",
       "13         8    50.0       57            22    15.0         17  \n",
       "14        14    59.0       77            30    80.0         91  \n",
       "15         2    57.0       52            46     5.0         31  "
      ],
      "text/html": "<div>\n<style scoped>\n    .dataframe tbody tr th:only-of-type {\n        vertical-align: middle;\n    }\n\n    .dataframe tbody tr th {\n        vertical-align: top;\n    }\n\n    .dataframe thead th {\n        text-align: right;\n    }\n</style>\n<table border=\"1\" class=\"dataframe\">\n  <thead>\n    <tr style=\"text-align: right;\">\n      <th></th>\n      <th>Country</th>\n      <th>Real coffee</th>\n      <th>Instant coffee</th>\n      <th>Sweetener</th>\n      <th>Biscuits</th>\n      <th>Tin soup</th>\n      <th>Potatoes</th>\n      <th>Apples</th>\n      <th>Oranges</th>\n      <th>Tinned fruit</th>\n      <th>Garlic</th>\n      <th>Olive oil</th>\n    </tr>\n  </thead>\n  <tbody>\n    <tr>\n      <th>0</th>\n      <td>Germany</td>\n      <td>90</td>\n      <td>49</td>\n      <td>19</td>\n      <td>57.0</td>\n      <td>19</td>\n      <td>21</td>\n      <td>81.0</td>\n      <td>75</td>\n      <td>44</td>\n      <td>22.0</td>\n      <td>74</td>\n    </tr>\n    <tr>\n      <th>1</th>\n      <td>Italy</td>\n      <td>82</td>\n      <td>10</td>\n      <td>2</td>\n      <td>55.0</td>\n      <td>3</td>\n      <td>2</td>\n      <td>67.0</td>\n      <td>71</td>\n      <td>9</td>\n      <td>80.0</td>\n      <td>94</td>\n    </tr>\n    <tr>\n      <th>2</th>\n      <td>France</td>\n      <td>88</td>\n      <td>42</td>\n      <td>4</td>\n      <td>76.0</td>\n      <td>11</td>\n      <td>23</td>\n      <td>87.0</td>\n      <td>84</td>\n      <td>40</td>\n      <td>88.0</td>\n      <td>36</td>\n    </tr>\n    <tr>\n      <th>6</th>\n      <td>England</td>\n      <td>27</td>\n      <td>86</td>\n      <td>22</td>\n      <td>91.0</td>\n      <td>76</td>\n      <td>17</td>\n      <td>76.0</td>\n      <td>68</td>\n      <td>89</td>\n      <td>11.0</td>\n      <td>57</td>\n    </tr>\n    <tr>\n      <th>11</th>\n      <td>Denmark</td>\n      <td>96</td>\n      <td>17</td>\n      <td>35</td>\n      <td>66.0</td>\n      <td>17</td>\n      <td>11</td>\n      <td>81.0</td>\n      <td>72</td>\n      <td>50</td>\n      <td>11.0</td>\n      <td>30</td>\n    </tr>\n    <tr>\n      <th>12</th>\n      <td>Norway</td>\n      <td>92</td>\n      <td>17</td>\n      <td>13</td>\n      <td>62.0</td>\n      <td>4</td>\n      <td>17</td>\n      <td>61.0</td>\n      <td>72</td>\n      <td>34</td>\n      <td>11.0</td>\n      <td>28</td>\n    </tr>\n    <tr>\n      <th>13</th>\n      <td>Finland</td>\n      <td>98</td>\n      <td>12</td>\n      <td>20</td>\n      <td>64.0</td>\n      <td>10</td>\n      <td>8</td>\n      <td>50.0</td>\n      <td>57</td>\n      <td>22</td>\n      <td>15.0</td>\n      <td>17</td>\n    </tr>\n    <tr>\n      <th>14</th>\n      <td>Spain</td>\n      <td>70</td>\n      <td>40</td>\n      <td>3</td>\n      <td>62.0</td>\n      <td>2</td>\n      <td>14</td>\n      <td>59.0</td>\n      <td>77</td>\n      <td>30</td>\n      <td>80.0</td>\n      <td>91</td>\n    </tr>\n    <tr>\n      <th>15</th>\n      <td>Ireland</td>\n      <td>30</td>\n      <td>52</td>\n      <td>11</td>\n      <td>80.0</td>\n      <td>18</td>\n      <td>2</td>\n      <td>57.0</td>\n      <td>52</td>\n      <td>46</td>\n      <td>5.0</td>\n      <td>31</td>\n    </tr>\n  </tbody>\n</table>\n</div>"
     },
     "metadata": {},
     "execution_count": 7
    }
   ],
   "source": [
    "df.dropna() # It will drope all NAN values"
   ]
  },
  {
   "cell_type": "code",
   "execution_count": 9,
   "metadata": {},
   "outputs": [
    {
     "output_type": "execute_result",
     "data": {
      "text/plain": [
       "        Country  Real coffee  Instant coffee  Sweetener  Tin soup  Potatoes  \\\n",
       "0       Germany           90              49         19        19        21   \n",
       "1         Italy           82              10          2         3         2   \n",
       "2        France           88              42          4        11        23   \n",
       "3       Holland           96              62         32        43         7   \n",
       "4       Belgium           94              38         11        23         9   \n",
       "5    Luxembourg           97              61         28        12         7   \n",
       "6       England           27              86         22        76        17   \n",
       "7      Portugal           72              26          2         1        17   \n",
       "8       Austria           55              31          8        12        17   \n",
       "9   Switzerland           73              72         25        12        11   \n",
       "10       Sweden           97              13         31        43        11   \n",
       "11      Denmark           96              17         35        17        11   \n",
       "12       Norway           92              17         13         4        17   \n",
       "13      Finland           98              12         20        10         8   \n",
       "14        Spain           70              40          3         2        14   \n",
       "15      Ireland           30              52         11        18         2   \n",
       "\n",
       "    Oranges  Tinned fruit  Olive oil  \n",
       "0        75            44         74  \n",
       "1        71             9         94  \n",
       "2        84            40         36  \n",
       "3        89            61         13  \n",
       "4        76            42         83  \n",
       "5        94            83         84  \n",
       "6        68            89         57  \n",
       "7        51             8         57  \n",
       "8        42            14         57  \n",
       "9        70            46         57  \n",
       "10       78            53         48  \n",
       "11       72            50         30  \n",
       "12       72            34         28  \n",
       "13       57            22         17  \n",
       "14       77            30         91  \n",
       "15       52            46         31  "
      ],
      "text/html": "<div>\n<style scoped>\n    .dataframe tbody tr th:only-of-type {\n        vertical-align: middle;\n    }\n\n    .dataframe tbody tr th {\n        vertical-align: top;\n    }\n\n    .dataframe thead th {\n        text-align: right;\n    }\n</style>\n<table border=\"1\" class=\"dataframe\">\n  <thead>\n    <tr style=\"text-align: right;\">\n      <th></th>\n      <th>Country</th>\n      <th>Real coffee</th>\n      <th>Instant coffee</th>\n      <th>Sweetener</th>\n      <th>Tin soup</th>\n      <th>Potatoes</th>\n      <th>Oranges</th>\n      <th>Tinned fruit</th>\n      <th>Olive oil</th>\n    </tr>\n  </thead>\n  <tbody>\n    <tr>\n      <th>0</th>\n      <td>Germany</td>\n      <td>90</td>\n      <td>49</td>\n      <td>19</td>\n      <td>19</td>\n      <td>21</td>\n      <td>75</td>\n      <td>44</td>\n      <td>74</td>\n    </tr>\n    <tr>\n      <th>1</th>\n      <td>Italy</td>\n      <td>82</td>\n      <td>10</td>\n      <td>2</td>\n      <td>3</td>\n      <td>2</td>\n      <td>71</td>\n      <td>9</td>\n      <td>94</td>\n    </tr>\n    <tr>\n      <th>2</th>\n      <td>France</td>\n      <td>88</td>\n      <td>42</td>\n      <td>4</td>\n      <td>11</td>\n      <td>23</td>\n      <td>84</td>\n      <td>40</td>\n      <td>36</td>\n    </tr>\n    <tr>\n      <th>3</th>\n      <td>Holland</td>\n      <td>96</td>\n      <td>62</td>\n      <td>32</td>\n      <td>43</td>\n      <td>7</td>\n      <td>89</td>\n      <td>61</td>\n      <td>13</td>\n    </tr>\n    <tr>\n      <th>4</th>\n      <td>Belgium</td>\n      <td>94</td>\n      <td>38</td>\n      <td>11</td>\n      <td>23</td>\n      <td>9</td>\n      <td>76</td>\n      <td>42</td>\n      <td>83</td>\n    </tr>\n    <tr>\n      <th>5</th>\n      <td>Luxembourg</td>\n      <td>97</td>\n      <td>61</td>\n      <td>28</td>\n      <td>12</td>\n      <td>7</td>\n      <td>94</td>\n      <td>83</td>\n      <td>84</td>\n    </tr>\n    <tr>\n      <th>6</th>\n      <td>England</td>\n      <td>27</td>\n      <td>86</td>\n      <td>22</td>\n      <td>76</td>\n      <td>17</td>\n      <td>68</td>\n      <td>89</td>\n      <td>57</td>\n    </tr>\n    <tr>\n      <th>7</th>\n      <td>Portugal</td>\n      <td>72</td>\n      <td>26</td>\n      <td>2</td>\n      <td>1</td>\n      <td>17</td>\n      <td>51</td>\n      <td>8</td>\n      <td>57</td>\n    </tr>\n    <tr>\n      <th>8</th>\n      <td>Austria</td>\n      <td>55</td>\n      <td>31</td>\n      <td>8</td>\n      <td>12</td>\n      <td>17</td>\n      <td>42</td>\n      <td>14</td>\n      <td>57</td>\n    </tr>\n    <tr>\n      <th>9</th>\n      <td>Switzerland</td>\n      <td>73</td>\n      <td>72</td>\n      <td>25</td>\n      <td>12</td>\n      <td>11</td>\n      <td>70</td>\n      <td>46</td>\n      <td>57</td>\n    </tr>\n    <tr>\n      <th>10</th>\n      <td>Sweden</td>\n      <td>97</td>\n      <td>13</td>\n      <td>31</td>\n      <td>43</td>\n      <td>11</td>\n      <td>78</td>\n      <td>53</td>\n      <td>48</td>\n    </tr>\n    <tr>\n      <th>11</th>\n      <td>Denmark</td>\n      <td>96</td>\n      <td>17</td>\n      <td>35</td>\n      <td>17</td>\n      <td>11</td>\n      <td>72</td>\n      <td>50</td>\n      <td>30</td>\n    </tr>\n    <tr>\n      <th>12</th>\n      <td>Norway</td>\n      <td>92</td>\n      <td>17</td>\n      <td>13</td>\n      <td>4</td>\n      <td>17</td>\n      <td>72</td>\n      <td>34</td>\n      <td>28</td>\n    </tr>\n    <tr>\n      <th>13</th>\n      <td>Finland</td>\n      <td>98</td>\n      <td>12</td>\n      <td>20</td>\n      <td>10</td>\n      <td>8</td>\n      <td>57</td>\n      <td>22</td>\n      <td>17</td>\n    </tr>\n    <tr>\n      <th>14</th>\n      <td>Spain</td>\n      <td>70</td>\n      <td>40</td>\n      <td>3</td>\n      <td>2</td>\n      <td>14</td>\n      <td>77</td>\n      <td>30</td>\n      <td>91</td>\n    </tr>\n    <tr>\n      <th>15</th>\n      <td>Ireland</td>\n      <td>30</td>\n      <td>52</td>\n      <td>11</td>\n      <td>18</td>\n      <td>2</td>\n      <td>52</td>\n      <td>46</td>\n      <td>31</td>\n    </tr>\n  </tbody>\n</table>\n</div>"
     },
     "metadata": {},
     "execution_count": 9
    }
   ],
   "source": [
    "df.dropna(axis=1) # it will drop all the colomns where \"NAN\" values will be there "
   ]
  },
  {
   "cell_type": "code",
   "execution_count": 12,
   "metadata": {},
   "outputs": [
    {
     "output_type": "execute_result",
     "data": {
      "text/plain": [
       "    Country  Real coffee  Instant coffee  Sweetener  Biscuits  Tin soup  \\\n",
       "0   Germany           90              49         19      57.0        19   \n",
       "1     Italy           82              10          2      55.0         3   \n",
       "2    France           88              42          4      76.0        11   \n",
       "6   England           27              86         22      91.0        76   \n",
       "11  Denmark           96              17         35      66.0        17   \n",
       "12   Norway           92              17         13      62.0         4   \n",
       "13  Finland           98              12         20      64.0        10   \n",
       "14    Spain           70              40          3      62.0         2   \n",
       "15  Ireland           30              52         11      80.0        18   \n",
       "\n",
       "    Potatoes  Apples  Oranges  Tinned fruit  Garlic  Olive oil  \n",
       "0         21    81.0       75            44    22.0         74  \n",
       "1          2    67.0       71             9    80.0         94  \n",
       "2         23    87.0       84            40    88.0         36  \n",
       "6         17    76.0       68            89    11.0         57  \n",
       "11        11    81.0       72            50    11.0         30  \n",
       "12        17    61.0       72            34    11.0         28  \n",
       "13         8    50.0       57            22    15.0         17  \n",
       "14        14    59.0       77            30    80.0         91  \n",
       "15         2    57.0       52            46     5.0         31  "
      ],
      "text/html": "<div>\n<style scoped>\n    .dataframe tbody tr th:only-of-type {\n        vertical-align: middle;\n    }\n\n    .dataframe tbody tr th {\n        vertical-align: top;\n    }\n\n    .dataframe thead th {\n        text-align: right;\n    }\n</style>\n<table border=\"1\" class=\"dataframe\">\n  <thead>\n    <tr style=\"text-align: right;\">\n      <th></th>\n      <th>Country</th>\n      <th>Real coffee</th>\n      <th>Instant coffee</th>\n      <th>Sweetener</th>\n      <th>Biscuits</th>\n      <th>Tin soup</th>\n      <th>Potatoes</th>\n      <th>Apples</th>\n      <th>Oranges</th>\n      <th>Tinned fruit</th>\n      <th>Garlic</th>\n      <th>Olive oil</th>\n    </tr>\n  </thead>\n  <tbody>\n    <tr>\n      <th>0</th>\n      <td>Germany</td>\n      <td>90</td>\n      <td>49</td>\n      <td>19</td>\n      <td>57.0</td>\n      <td>19</td>\n      <td>21</td>\n      <td>81.0</td>\n      <td>75</td>\n      <td>44</td>\n      <td>22.0</td>\n      <td>74</td>\n    </tr>\n    <tr>\n      <th>1</th>\n      <td>Italy</td>\n      <td>82</td>\n      <td>10</td>\n      <td>2</td>\n      <td>55.0</td>\n      <td>3</td>\n      <td>2</td>\n      <td>67.0</td>\n      <td>71</td>\n      <td>9</td>\n      <td>80.0</td>\n      <td>94</td>\n    </tr>\n    <tr>\n      <th>2</th>\n      <td>France</td>\n      <td>88</td>\n      <td>42</td>\n      <td>4</td>\n      <td>76.0</td>\n      <td>11</td>\n      <td>23</td>\n      <td>87.0</td>\n      <td>84</td>\n      <td>40</td>\n      <td>88.0</td>\n      <td>36</td>\n    </tr>\n    <tr>\n      <th>6</th>\n      <td>England</td>\n      <td>27</td>\n      <td>86</td>\n      <td>22</td>\n      <td>91.0</td>\n      <td>76</td>\n      <td>17</td>\n      <td>76.0</td>\n      <td>68</td>\n      <td>89</td>\n      <td>11.0</td>\n      <td>57</td>\n    </tr>\n    <tr>\n      <th>11</th>\n      <td>Denmark</td>\n      <td>96</td>\n      <td>17</td>\n      <td>35</td>\n      <td>66.0</td>\n      <td>17</td>\n      <td>11</td>\n      <td>81.0</td>\n      <td>72</td>\n      <td>50</td>\n      <td>11.0</td>\n      <td>30</td>\n    </tr>\n    <tr>\n      <th>12</th>\n      <td>Norway</td>\n      <td>92</td>\n      <td>17</td>\n      <td>13</td>\n      <td>62.0</td>\n      <td>4</td>\n      <td>17</td>\n      <td>61.0</td>\n      <td>72</td>\n      <td>34</td>\n      <td>11.0</td>\n      <td>28</td>\n    </tr>\n    <tr>\n      <th>13</th>\n      <td>Finland</td>\n      <td>98</td>\n      <td>12</td>\n      <td>20</td>\n      <td>64.0</td>\n      <td>10</td>\n      <td>8</td>\n      <td>50.0</td>\n      <td>57</td>\n      <td>22</td>\n      <td>15.0</td>\n      <td>17</td>\n    </tr>\n    <tr>\n      <th>14</th>\n      <td>Spain</td>\n      <td>70</td>\n      <td>40</td>\n      <td>3</td>\n      <td>62.0</td>\n      <td>2</td>\n      <td>14</td>\n      <td>59.0</td>\n      <td>77</td>\n      <td>30</td>\n      <td>80.0</td>\n      <td>91</td>\n    </tr>\n    <tr>\n      <th>15</th>\n      <td>Ireland</td>\n      <td>30</td>\n      <td>52</td>\n      <td>11</td>\n      <td>80.0</td>\n      <td>18</td>\n      <td>2</td>\n      <td>57.0</td>\n      <td>52</td>\n      <td>46</td>\n      <td>5.0</td>\n      <td>31</td>\n    </tr>\n  </tbody>\n</table>\n</div>"
     },
     "metadata": {},
     "execution_count": 12
    }
   ],
   "source": [
    "df.dropna(how=\"any\") # ROW It will drop all the ROW where there null values "
   ]
  },
  {
   "cell_type": "code",
   "execution_count": 17,
   "metadata": {},
   "outputs": [
    {
     "output_type": "execute_result",
     "data": {
      "text/plain": [
       "        Country  Real coffee  Instant coffee  Sweetener  Tin soup  Potatoes  \\\n",
       "0       Germany           90              49         19        19        21   \n",
       "1         Italy           82              10          2         3         2   \n",
       "2        France           88              42          4        11        23   \n",
       "3       Holland           96              62         32        43         7   \n",
       "4       Belgium           94              38         11        23         9   \n",
       "5    Luxembourg           97              61         28        12         7   \n",
       "6       England           27              86         22        76        17   \n",
       "7      Portugal           72              26          2         1        17   \n",
       "8       Austria           55              31          8        12        17   \n",
       "9   Switzerland           73              72         25        12        11   \n",
       "10       Sweden           97              13         31        43        11   \n",
       "11      Denmark           96              17         35        17        11   \n",
       "12       Norway           92              17         13         4        17   \n",
       "13      Finland           98              12         20        10         8   \n",
       "14        Spain           70              40          3         2        14   \n",
       "15      Ireland           30              52         11        18         2   \n",
       "\n",
       "    Oranges  Tinned fruit  Olive oil  \n",
       "0        75            44         74  \n",
       "1        71             9         94  \n",
       "2        84            40         36  \n",
       "3        89            61         13  \n",
       "4        76            42         83  \n",
       "5        94            83         84  \n",
       "6        68            89         57  \n",
       "7        51             8         57  \n",
       "8        42            14         57  \n",
       "9        70            46         57  \n",
       "10       78            53         48  \n",
       "11       72            50         30  \n",
       "12       72            34         28  \n",
       "13       57            22         17  \n",
       "14       77            30         91  \n",
       "15       52            46         31  "
      ],
      "text/html": "<div>\n<style scoped>\n    .dataframe tbody tr th:only-of-type {\n        vertical-align: middle;\n    }\n\n    .dataframe tbody tr th {\n        vertical-align: top;\n    }\n\n    .dataframe thead th {\n        text-align: right;\n    }\n</style>\n<table border=\"1\" class=\"dataframe\">\n  <thead>\n    <tr style=\"text-align: right;\">\n      <th></th>\n      <th>Country</th>\n      <th>Real coffee</th>\n      <th>Instant coffee</th>\n      <th>Sweetener</th>\n      <th>Tin soup</th>\n      <th>Potatoes</th>\n      <th>Oranges</th>\n      <th>Tinned fruit</th>\n      <th>Olive oil</th>\n    </tr>\n  </thead>\n  <tbody>\n    <tr>\n      <th>0</th>\n      <td>Germany</td>\n      <td>90</td>\n      <td>49</td>\n      <td>19</td>\n      <td>19</td>\n      <td>21</td>\n      <td>75</td>\n      <td>44</td>\n      <td>74</td>\n    </tr>\n    <tr>\n      <th>1</th>\n      <td>Italy</td>\n      <td>82</td>\n      <td>10</td>\n      <td>2</td>\n      <td>3</td>\n      <td>2</td>\n      <td>71</td>\n      <td>9</td>\n      <td>94</td>\n    </tr>\n    <tr>\n      <th>2</th>\n      <td>France</td>\n      <td>88</td>\n      <td>42</td>\n      <td>4</td>\n      <td>11</td>\n      <td>23</td>\n      <td>84</td>\n      <td>40</td>\n      <td>36</td>\n    </tr>\n    <tr>\n      <th>3</th>\n      <td>Holland</td>\n      <td>96</td>\n      <td>62</td>\n      <td>32</td>\n      <td>43</td>\n      <td>7</td>\n      <td>89</td>\n      <td>61</td>\n      <td>13</td>\n    </tr>\n    <tr>\n      <th>4</th>\n      <td>Belgium</td>\n      <td>94</td>\n      <td>38</td>\n      <td>11</td>\n      <td>23</td>\n      <td>9</td>\n      <td>76</td>\n      <td>42</td>\n      <td>83</td>\n    </tr>\n    <tr>\n      <th>5</th>\n      <td>Luxembourg</td>\n      <td>97</td>\n      <td>61</td>\n      <td>28</td>\n      <td>12</td>\n      <td>7</td>\n      <td>94</td>\n      <td>83</td>\n      <td>84</td>\n    </tr>\n    <tr>\n      <th>6</th>\n      <td>England</td>\n      <td>27</td>\n      <td>86</td>\n      <td>22</td>\n      <td>76</td>\n      <td>17</td>\n      <td>68</td>\n      <td>89</td>\n      <td>57</td>\n    </tr>\n    <tr>\n      <th>7</th>\n      <td>Portugal</td>\n      <td>72</td>\n      <td>26</td>\n      <td>2</td>\n      <td>1</td>\n      <td>17</td>\n      <td>51</td>\n      <td>8</td>\n      <td>57</td>\n    </tr>\n    <tr>\n      <th>8</th>\n      <td>Austria</td>\n      <td>55</td>\n      <td>31</td>\n      <td>8</td>\n      <td>12</td>\n      <td>17</td>\n      <td>42</td>\n      <td>14</td>\n      <td>57</td>\n    </tr>\n    <tr>\n      <th>9</th>\n      <td>Switzerland</td>\n      <td>73</td>\n      <td>72</td>\n      <td>25</td>\n      <td>12</td>\n      <td>11</td>\n      <td>70</td>\n      <td>46</td>\n      <td>57</td>\n    </tr>\n    <tr>\n      <th>10</th>\n      <td>Sweden</td>\n      <td>97</td>\n      <td>13</td>\n      <td>31</td>\n      <td>43</td>\n      <td>11</td>\n      <td>78</td>\n      <td>53</td>\n      <td>48</td>\n    </tr>\n    <tr>\n      <th>11</th>\n      <td>Denmark</td>\n      <td>96</td>\n      <td>17</td>\n      <td>35</td>\n      <td>17</td>\n      <td>11</td>\n      <td>72</td>\n      <td>50</td>\n      <td>30</td>\n    </tr>\n    <tr>\n      <th>12</th>\n      <td>Norway</td>\n      <td>92</td>\n      <td>17</td>\n      <td>13</td>\n      <td>4</td>\n      <td>17</td>\n      <td>72</td>\n      <td>34</td>\n      <td>28</td>\n    </tr>\n    <tr>\n      <th>13</th>\n      <td>Finland</td>\n      <td>98</td>\n      <td>12</td>\n      <td>20</td>\n      <td>10</td>\n      <td>8</td>\n      <td>57</td>\n      <td>22</td>\n      <td>17</td>\n    </tr>\n    <tr>\n      <th>14</th>\n      <td>Spain</td>\n      <td>70</td>\n      <td>40</td>\n      <td>3</td>\n      <td>2</td>\n      <td>14</td>\n      <td>77</td>\n      <td>30</td>\n      <td>91</td>\n    </tr>\n    <tr>\n      <th>15</th>\n      <td>Ireland</td>\n      <td>30</td>\n      <td>52</td>\n      <td>11</td>\n      <td>18</td>\n      <td>2</td>\n      <td>52</td>\n      <td>46</td>\n      <td>31</td>\n    </tr>\n  </tbody>\n</table>\n</div>"
     },
     "metadata": {},
     "execution_count": 17
    }
   ],
   "source": [
    "df.dropna(axis = 1 , how=\"any\") # It will drop NULL coloums "
   ]
  },
  {
   "cell_type": "code",
   "execution_count": 18,
   "metadata": {},
   "outputs": [
    {
     "output_type": "execute_result",
     "data": {
      "text/plain": [
       "        Country  Real coffee  Instant coffee  Sweetener  Biscuits  Tin soup  \\\n",
       "0       Germany           90              49         19      57.0        19   \n",
       "1         Italy           82              10          2      55.0         3   \n",
       "2        France           88              42          4      76.0        11   \n",
       "3       Holland           96              62         32       NaN        43   \n",
       "4       Belgium           94              38         11       NaN        23   \n",
       "5    Luxembourg           97              61         28       NaN        12   \n",
       "6       England           27              86         22      91.0        76   \n",
       "7      Portugal           72              26          2      22.0         1   \n",
       "8       Austria           55              31          8      29.0        12   \n",
       "9   Switzerland           73              72         25      31.0        12   \n",
       "10       Sweden           97              13         31       9.0        43   \n",
       "11      Denmark           96              17         35      66.0        17   \n",
       "12       Norway           92              17         13      62.0         4   \n",
       "13      Finland           98              12         20      64.0        10   \n",
       "14        Spain           70              40          3      62.0         2   \n",
       "15      Ireland           30              52         11      80.0        18   \n",
       "\n",
       "    Potatoes  Apples  Oranges  Tinned fruit  Garlic  Olive oil  \n",
       "0         21    81.0       75            44    22.0         74  \n",
       "1          2    67.0       71             9    80.0         94  \n",
       "2         23    87.0       84            40    88.0         36  \n",
       "3          7    83.0       89            61     NaN         13  \n",
       "4          9    76.0       76            42     NaN         83  \n",
       "5          7    85.0       94            83    91.0         84  \n",
       "6         17    76.0       68            89    11.0         57  \n",
       "7         17     NaN       51             8    54.0         57  \n",
       "8         17     NaN       42            14    51.0         57  \n",
       "9         11     NaN       70            46    64.0         57  \n",
       "10        11     NaN       78            53     9.0         48  \n",
       "11        11    81.0       72            50    11.0         30  \n",
       "12        17    61.0       72            34    11.0         28  \n",
       "13         8    50.0       57            22    15.0         17  \n",
       "14        14    59.0       77            30    80.0         91  \n",
       "15         2    57.0       52            46     5.0         31  "
      ],
      "text/html": "<div>\n<style scoped>\n    .dataframe tbody tr th:only-of-type {\n        vertical-align: middle;\n    }\n\n    .dataframe tbody tr th {\n        vertical-align: top;\n    }\n\n    .dataframe thead th {\n        text-align: right;\n    }\n</style>\n<table border=\"1\" class=\"dataframe\">\n  <thead>\n    <tr style=\"text-align: right;\">\n      <th></th>\n      <th>Country</th>\n      <th>Real coffee</th>\n      <th>Instant coffee</th>\n      <th>Sweetener</th>\n      <th>Biscuits</th>\n      <th>Tin soup</th>\n      <th>Potatoes</th>\n      <th>Apples</th>\n      <th>Oranges</th>\n      <th>Tinned fruit</th>\n      <th>Garlic</th>\n      <th>Olive oil</th>\n    </tr>\n  </thead>\n  <tbody>\n    <tr>\n      <th>0</th>\n      <td>Germany</td>\n      <td>90</td>\n      <td>49</td>\n      <td>19</td>\n      <td>57.0</td>\n      <td>19</td>\n      <td>21</td>\n      <td>81.0</td>\n      <td>75</td>\n      <td>44</td>\n      <td>22.0</td>\n      <td>74</td>\n    </tr>\n    <tr>\n      <th>1</th>\n      <td>Italy</td>\n      <td>82</td>\n      <td>10</td>\n      <td>2</td>\n      <td>55.0</td>\n      <td>3</td>\n      <td>2</td>\n      <td>67.0</td>\n      <td>71</td>\n      <td>9</td>\n      <td>80.0</td>\n      <td>94</td>\n    </tr>\n    <tr>\n      <th>2</th>\n      <td>France</td>\n      <td>88</td>\n      <td>42</td>\n      <td>4</td>\n      <td>76.0</td>\n      <td>11</td>\n      <td>23</td>\n      <td>87.0</td>\n      <td>84</td>\n      <td>40</td>\n      <td>88.0</td>\n      <td>36</td>\n    </tr>\n    <tr>\n      <th>3</th>\n      <td>Holland</td>\n      <td>96</td>\n      <td>62</td>\n      <td>32</td>\n      <td>NaN</td>\n      <td>43</td>\n      <td>7</td>\n      <td>83.0</td>\n      <td>89</td>\n      <td>61</td>\n      <td>NaN</td>\n      <td>13</td>\n    </tr>\n    <tr>\n      <th>4</th>\n      <td>Belgium</td>\n      <td>94</td>\n      <td>38</td>\n      <td>11</td>\n      <td>NaN</td>\n      <td>23</td>\n      <td>9</td>\n      <td>76.0</td>\n      <td>76</td>\n      <td>42</td>\n      <td>NaN</td>\n      <td>83</td>\n    </tr>\n    <tr>\n      <th>5</th>\n      <td>Luxembourg</td>\n      <td>97</td>\n      <td>61</td>\n      <td>28</td>\n      <td>NaN</td>\n      <td>12</td>\n      <td>7</td>\n      <td>85.0</td>\n      <td>94</td>\n      <td>83</td>\n      <td>91.0</td>\n      <td>84</td>\n    </tr>\n    <tr>\n      <th>6</th>\n      <td>England</td>\n      <td>27</td>\n      <td>86</td>\n      <td>22</td>\n      <td>91.0</td>\n      <td>76</td>\n      <td>17</td>\n      <td>76.0</td>\n      <td>68</td>\n      <td>89</td>\n      <td>11.0</td>\n      <td>57</td>\n    </tr>\n    <tr>\n      <th>7</th>\n      <td>Portugal</td>\n      <td>72</td>\n      <td>26</td>\n      <td>2</td>\n      <td>22.0</td>\n      <td>1</td>\n      <td>17</td>\n      <td>NaN</td>\n      <td>51</td>\n      <td>8</td>\n      <td>54.0</td>\n      <td>57</td>\n    </tr>\n    <tr>\n      <th>8</th>\n      <td>Austria</td>\n      <td>55</td>\n      <td>31</td>\n      <td>8</td>\n      <td>29.0</td>\n      <td>12</td>\n      <td>17</td>\n      <td>NaN</td>\n      <td>42</td>\n      <td>14</td>\n      <td>51.0</td>\n      <td>57</td>\n    </tr>\n    <tr>\n      <th>9</th>\n      <td>Switzerland</td>\n      <td>73</td>\n      <td>72</td>\n      <td>25</td>\n      <td>31.0</td>\n      <td>12</td>\n      <td>11</td>\n      <td>NaN</td>\n      <td>70</td>\n      <td>46</td>\n      <td>64.0</td>\n      <td>57</td>\n    </tr>\n    <tr>\n      <th>10</th>\n      <td>Sweden</td>\n      <td>97</td>\n      <td>13</td>\n      <td>31</td>\n      <td>9.0</td>\n      <td>43</td>\n      <td>11</td>\n      <td>NaN</td>\n      <td>78</td>\n      <td>53</td>\n      <td>9.0</td>\n      <td>48</td>\n    </tr>\n    <tr>\n      <th>11</th>\n      <td>Denmark</td>\n      <td>96</td>\n      <td>17</td>\n      <td>35</td>\n      <td>66.0</td>\n      <td>17</td>\n      <td>11</td>\n      <td>81.0</td>\n      <td>72</td>\n      <td>50</td>\n      <td>11.0</td>\n      <td>30</td>\n    </tr>\n    <tr>\n      <th>12</th>\n      <td>Norway</td>\n      <td>92</td>\n      <td>17</td>\n      <td>13</td>\n      <td>62.0</td>\n      <td>4</td>\n      <td>17</td>\n      <td>61.0</td>\n      <td>72</td>\n      <td>34</td>\n      <td>11.0</td>\n      <td>28</td>\n    </tr>\n    <tr>\n      <th>13</th>\n      <td>Finland</td>\n      <td>98</td>\n      <td>12</td>\n      <td>20</td>\n      <td>64.0</td>\n      <td>10</td>\n      <td>8</td>\n      <td>50.0</td>\n      <td>57</td>\n      <td>22</td>\n      <td>15.0</td>\n      <td>17</td>\n    </tr>\n    <tr>\n      <th>14</th>\n      <td>Spain</td>\n      <td>70</td>\n      <td>40</td>\n      <td>3</td>\n      <td>62.0</td>\n      <td>2</td>\n      <td>14</td>\n      <td>59.0</td>\n      <td>77</td>\n      <td>30</td>\n      <td>80.0</td>\n      <td>91</td>\n    </tr>\n    <tr>\n      <th>15</th>\n      <td>Ireland</td>\n      <td>30</td>\n      <td>52</td>\n      <td>11</td>\n      <td>80.0</td>\n      <td>18</td>\n      <td>2</td>\n      <td>57.0</td>\n      <td>52</td>\n      <td>46</td>\n      <td>5.0</td>\n      <td>31</td>\n    </tr>\n  </tbody>\n</table>\n</div>"
     },
     "metadata": {},
     "execution_count": 18
    }
   ],
   "source": [
    "df.dropna(how=\"all\") "
   ]
  },
  {
   "cell_type": "code",
   "execution_count": 23,
   "metadata": {},
   "outputs": [
    {
     "output_type": "execute_result",
     "data": {
      "text/plain": [
       "        Country  Real coffee  Instant coffee  Sweetener  Biscuits  Tin soup  \\\n",
       "0       Germany         90.0            49.0       19.0      57.0      19.0   \n",
       "1         Italy         82.0            10.0        2.0      55.0       3.0   \n",
       "2        France         88.0            42.0        4.0      76.0      11.0   \n",
       "3       Holland         96.0            62.0       32.0       NaN      43.0   \n",
       "4       Belgium         94.0            38.0       11.0       NaN      23.0   \n",
       "5    Luxembourg         97.0            61.0       28.0       NaN      12.0   \n",
       "6       England         27.0            86.0       22.0      91.0      76.0   \n",
       "7      Portugal         72.0            26.0        2.0      22.0       1.0   \n",
       "8       Austria         55.0            31.0        8.0      29.0      12.0   \n",
       "9   Switzerland         73.0            72.0       25.0      31.0      12.0   \n",
       "10       Sweden         97.0            13.0       31.0       9.0      43.0   \n",
       "11      Denmark         96.0            17.0       35.0      66.0      17.0   \n",
       "12       Norway         92.0            17.0       13.0      62.0       4.0   \n",
       "13      Finland         98.0            12.0       20.0      64.0      10.0   \n",
       "14        Spain         70.0            40.0        3.0      62.0       2.0   \n",
       "15          NaN          NaN             NaN        NaN       NaN       NaN   \n",
       "\n",
       "    Potatoes  Apples  Oranges  Tinned fruit  Garlic  Olive oil  \n",
       "0       21.0    81.0     75.0          44.0    22.0       74.0  \n",
       "1        2.0    67.0     71.0           9.0    80.0       94.0  \n",
       "2       23.0    87.0     84.0          40.0    88.0       36.0  \n",
       "3        7.0    83.0     89.0          61.0     NaN       13.0  \n",
       "4        9.0    76.0     76.0          42.0     NaN       83.0  \n",
       "5        7.0    85.0     94.0          83.0    91.0       84.0  \n",
       "6       17.0    76.0     68.0          89.0    11.0       57.0  \n",
       "7       17.0     NaN     51.0           8.0    54.0       57.0  \n",
       "8       17.0     NaN     42.0          14.0    51.0       57.0  \n",
       "9       11.0     NaN     70.0          46.0    64.0       57.0  \n",
       "10      11.0     NaN     78.0          53.0     9.0       48.0  \n",
       "11      11.0    81.0     72.0          50.0    11.0       30.0  \n",
       "12      17.0    61.0     72.0          34.0    11.0       28.0  \n",
       "13       8.0    50.0     57.0          22.0    15.0       17.0  \n",
       "14      14.0    59.0     77.0          30.0    80.0       91.0  \n",
       "15       NaN     NaN      NaN           NaN     NaN        NaN  "
      ],
      "text/html": "<div>\n<style scoped>\n    .dataframe tbody tr th:only-of-type {\n        vertical-align: middle;\n    }\n\n    .dataframe tbody tr th {\n        vertical-align: top;\n    }\n\n    .dataframe thead th {\n        text-align: right;\n    }\n</style>\n<table border=\"1\" class=\"dataframe\">\n  <thead>\n    <tr style=\"text-align: right;\">\n      <th></th>\n      <th>Country</th>\n      <th>Real coffee</th>\n      <th>Instant coffee</th>\n      <th>Sweetener</th>\n      <th>Biscuits</th>\n      <th>Tin soup</th>\n      <th>Potatoes</th>\n      <th>Apples</th>\n      <th>Oranges</th>\n      <th>Tinned fruit</th>\n      <th>Garlic</th>\n      <th>Olive oil</th>\n    </tr>\n  </thead>\n  <tbody>\n    <tr>\n      <th>0</th>\n      <td>Germany</td>\n      <td>90.0</td>\n      <td>49.0</td>\n      <td>19.0</td>\n      <td>57.0</td>\n      <td>19.0</td>\n      <td>21.0</td>\n      <td>81.0</td>\n      <td>75.0</td>\n      <td>44.0</td>\n      <td>22.0</td>\n      <td>74.0</td>\n    </tr>\n    <tr>\n      <th>1</th>\n      <td>Italy</td>\n      <td>82.0</td>\n      <td>10.0</td>\n      <td>2.0</td>\n      <td>55.0</td>\n      <td>3.0</td>\n      <td>2.0</td>\n      <td>67.0</td>\n      <td>71.0</td>\n      <td>9.0</td>\n      <td>80.0</td>\n      <td>94.0</td>\n    </tr>\n    <tr>\n      <th>2</th>\n      <td>France</td>\n      <td>88.0</td>\n      <td>42.0</td>\n      <td>4.0</td>\n      <td>76.0</td>\n      <td>11.0</td>\n      <td>23.0</td>\n      <td>87.0</td>\n      <td>84.0</td>\n      <td>40.0</td>\n      <td>88.0</td>\n      <td>36.0</td>\n    </tr>\n    <tr>\n      <th>3</th>\n      <td>Holland</td>\n      <td>96.0</td>\n      <td>62.0</td>\n      <td>32.0</td>\n      <td>NaN</td>\n      <td>43.0</td>\n      <td>7.0</td>\n      <td>83.0</td>\n      <td>89.0</td>\n      <td>61.0</td>\n      <td>NaN</td>\n      <td>13.0</td>\n    </tr>\n    <tr>\n      <th>4</th>\n      <td>Belgium</td>\n      <td>94.0</td>\n      <td>38.0</td>\n      <td>11.0</td>\n      <td>NaN</td>\n      <td>23.0</td>\n      <td>9.0</td>\n      <td>76.0</td>\n      <td>76.0</td>\n      <td>42.0</td>\n      <td>NaN</td>\n      <td>83.0</td>\n    </tr>\n    <tr>\n      <th>5</th>\n      <td>Luxembourg</td>\n      <td>97.0</td>\n      <td>61.0</td>\n      <td>28.0</td>\n      <td>NaN</td>\n      <td>12.0</td>\n      <td>7.0</td>\n      <td>85.0</td>\n      <td>94.0</td>\n      <td>83.0</td>\n      <td>91.0</td>\n      <td>84.0</td>\n    </tr>\n    <tr>\n      <th>6</th>\n      <td>England</td>\n      <td>27.0</td>\n      <td>86.0</td>\n      <td>22.0</td>\n      <td>91.0</td>\n      <td>76.0</td>\n      <td>17.0</td>\n      <td>76.0</td>\n      <td>68.0</td>\n      <td>89.0</td>\n      <td>11.0</td>\n      <td>57.0</td>\n    </tr>\n    <tr>\n      <th>7</th>\n      <td>Portugal</td>\n      <td>72.0</td>\n      <td>26.0</td>\n      <td>2.0</td>\n      <td>22.0</td>\n      <td>1.0</td>\n      <td>17.0</td>\n      <td>NaN</td>\n      <td>51.0</td>\n      <td>8.0</td>\n      <td>54.0</td>\n      <td>57.0</td>\n    </tr>\n    <tr>\n      <th>8</th>\n      <td>Austria</td>\n      <td>55.0</td>\n      <td>31.0</td>\n      <td>8.0</td>\n      <td>29.0</td>\n      <td>12.0</td>\n      <td>17.0</td>\n      <td>NaN</td>\n      <td>42.0</td>\n      <td>14.0</td>\n      <td>51.0</td>\n      <td>57.0</td>\n    </tr>\n    <tr>\n      <th>9</th>\n      <td>Switzerland</td>\n      <td>73.0</td>\n      <td>72.0</td>\n      <td>25.0</td>\n      <td>31.0</td>\n      <td>12.0</td>\n      <td>11.0</td>\n      <td>NaN</td>\n      <td>70.0</td>\n      <td>46.0</td>\n      <td>64.0</td>\n      <td>57.0</td>\n    </tr>\n    <tr>\n      <th>10</th>\n      <td>Sweden</td>\n      <td>97.0</td>\n      <td>13.0</td>\n      <td>31.0</td>\n      <td>9.0</td>\n      <td>43.0</td>\n      <td>11.0</td>\n      <td>NaN</td>\n      <td>78.0</td>\n      <td>53.0</td>\n      <td>9.0</td>\n      <td>48.0</td>\n    </tr>\n    <tr>\n      <th>11</th>\n      <td>Denmark</td>\n      <td>96.0</td>\n      <td>17.0</td>\n      <td>35.0</td>\n      <td>66.0</td>\n      <td>17.0</td>\n      <td>11.0</td>\n      <td>81.0</td>\n      <td>72.0</td>\n      <td>50.0</td>\n      <td>11.0</td>\n      <td>30.0</td>\n    </tr>\n    <tr>\n      <th>12</th>\n      <td>Norway</td>\n      <td>92.0</td>\n      <td>17.0</td>\n      <td>13.0</td>\n      <td>62.0</td>\n      <td>4.0</td>\n      <td>17.0</td>\n      <td>61.0</td>\n      <td>72.0</td>\n      <td>34.0</td>\n      <td>11.0</td>\n      <td>28.0</td>\n    </tr>\n    <tr>\n      <th>13</th>\n      <td>Finland</td>\n      <td>98.0</td>\n      <td>12.0</td>\n      <td>20.0</td>\n      <td>64.0</td>\n      <td>10.0</td>\n      <td>8.0</td>\n      <td>50.0</td>\n      <td>57.0</td>\n      <td>22.0</td>\n      <td>15.0</td>\n      <td>17.0</td>\n    </tr>\n    <tr>\n      <th>14</th>\n      <td>Spain</td>\n      <td>70.0</td>\n      <td>40.0</td>\n      <td>3.0</td>\n      <td>62.0</td>\n      <td>2.0</td>\n      <td>14.0</td>\n      <td>59.0</td>\n      <td>77.0</td>\n      <td>30.0</td>\n      <td>80.0</td>\n      <td>91.0</td>\n    </tr>\n    <tr>\n      <th>15</th>\n      <td>NaN</td>\n      <td>NaN</td>\n      <td>NaN</td>\n      <td>NaN</td>\n      <td>NaN</td>\n      <td>NaN</td>\n      <td>NaN</td>\n      <td>NaN</td>\n      <td>NaN</td>\n      <td>NaN</td>\n      <td>NaN</td>\n      <td>NaN</td>\n    </tr>\n  </tbody>\n</table>\n</div>"
     },
     "metadata": {},
     "execution_count": 23
    }
   ],
   "source": [
    "df = pd.read_csv(\"E:\\\\ML\\\\ML\\\\Pandas\\\\food consumption.csv\")\n",
    "df"
   ]
  },
  {
   "cell_type": "code",
   "execution_count": 25,
   "metadata": {},
   "outputs": [
    {
     "output_type": "execute_result",
     "data": {
      "text/plain": [
       "        Country  Real coffee  Instant coffee  Sweetener  Biscuits  Tin soup  \\\n",
       "0       Germany         90.0            49.0       19.0      57.0      19.0   \n",
       "1         Italy         82.0            10.0        2.0      55.0       3.0   \n",
       "2        France         88.0            42.0        4.0      76.0      11.0   \n",
       "3       Holland         96.0            62.0       32.0       NaN      43.0   \n",
       "4       Belgium         94.0            38.0       11.0       NaN      23.0   \n",
       "5    Luxembourg         97.0            61.0       28.0       NaN      12.0   \n",
       "6       England         27.0            86.0       22.0      91.0      76.0   \n",
       "7      Portugal         72.0            26.0        2.0      22.0       1.0   \n",
       "8       Austria         55.0            31.0        8.0      29.0      12.0   \n",
       "9   Switzerland         73.0            72.0       25.0      31.0      12.0   \n",
       "10       Sweden         97.0            13.0       31.0       9.0      43.0   \n",
       "11      Denmark         96.0            17.0       35.0      66.0      17.0   \n",
       "12       Norway         92.0            17.0       13.0      62.0       4.0   \n",
       "13      Finland         98.0            12.0       20.0      64.0      10.0   \n",
       "14        Spain         70.0            40.0        3.0      62.0       2.0   \n",
       "\n",
       "    Potatoes  Apples  Oranges  Tinned fruit  Garlic  Olive oil  \n",
       "0       21.0    81.0     75.0          44.0    22.0       74.0  \n",
       "1        2.0    67.0     71.0           9.0    80.0       94.0  \n",
       "2       23.0    87.0     84.0          40.0    88.0       36.0  \n",
       "3        7.0    83.0     89.0          61.0     NaN       13.0  \n",
       "4        9.0    76.0     76.0          42.0     NaN       83.0  \n",
       "5        7.0    85.0     94.0          83.0    91.0       84.0  \n",
       "6       17.0    76.0     68.0          89.0    11.0       57.0  \n",
       "7       17.0     NaN     51.0           8.0    54.0       57.0  \n",
       "8       17.0     NaN     42.0          14.0    51.0       57.0  \n",
       "9       11.0     NaN     70.0          46.0    64.0       57.0  \n",
       "10      11.0     NaN     78.0          53.0     9.0       48.0  \n",
       "11      11.0    81.0     72.0          50.0    11.0       30.0  \n",
       "12      17.0    61.0     72.0          34.0    11.0       28.0  \n",
       "13       8.0    50.0     57.0          22.0    15.0       17.0  \n",
       "14      14.0    59.0     77.0          30.0    80.0       91.0  "
      ],
      "text/html": "<div>\n<style scoped>\n    .dataframe tbody tr th:only-of-type {\n        vertical-align: middle;\n    }\n\n    .dataframe tbody tr th {\n        vertical-align: top;\n    }\n\n    .dataframe thead th {\n        text-align: right;\n    }\n</style>\n<table border=\"1\" class=\"dataframe\">\n  <thead>\n    <tr style=\"text-align: right;\">\n      <th></th>\n      <th>Country</th>\n      <th>Real coffee</th>\n      <th>Instant coffee</th>\n      <th>Sweetener</th>\n      <th>Biscuits</th>\n      <th>Tin soup</th>\n      <th>Potatoes</th>\n      <th>Apples</th>\n      <th>Oranges</th>\n      <th>Tinned fruit</th>\n      <th>Garlic</th>\n      <th>Olive oil</th>\n    </tr>\n  </thead>\n  <tbody>\n    <tr>\n      <th>0</th>\n      <td>Germany</td>\n      <td>90.0</td>\n      <td>49.0</td>\n      <td>19.0</td>\n      <td>57.0</td>\n      <td>19.0</td>\n      <td>21.0</td>\n      <td>81.0</td>\n      <td>75.0</td>\n      <td>44.0</td>\n      <td>22.0</td>\n      <td>74.0</td>\n    </tr>\n    <tr>\n      <th>1</th>\n      <td>Italy</td>\n      <td>82.0</td>\n      <td>10.0</td>\n      <td>2.0</td>\n      <td>55.0</td>\n      <td>3.0</td>\n      <td>2.0</td>\n      <td>67.0</td>\n      <td>71.0</td>\n      <td>9.0</td>\n      <td>80.0</td>\n      <td>94.0</td>\n    </tr>\n    <tr>\n      <th>2</th>\n      <td>France</td>\n      <td>88.0</td>\n      <td>42.0</td>\n      <td>4.0</td>\n      <td>76.0</td>\n      <td>11.0</td>\n      <td>23.0</td>\n      <td>87.0</td>\n      <td>84.0</td>\n      <td>40.0</td>\n      <td>88.0</td>\n      <td>36.0</td>\n    </tr>\n    <tr>\n      <th>3</th>\n      <td>Holland</td>\n      <td>96.0</td>\n      <td>62.0</td>\n      <td>32.0</td>\n      <td>NaN</td>\n      <td>43.0</td>\n      <td>7.0</td>\n      <td>83.0</td>\n      <td>89.0</td>\n      <td>61.0</td>\n      <td>NaN</td>\n      <td>13.0</td>\n    </tr>\n    <tr>\n      <th>4</th>\n      <td>Belgium</td>\n      <td>94.0</td>\n      <td>38.0</td>\n      <td>11.0</td>\n      <td>NaN</td>\n      <td>23.0</td>\n      <td>9.0</td>\n      <td>76.0</td>\n      <td>76.0</td>\n      <td>42.0</td>\n      <td>NaN</td>\n      <td>83.0</td>\n    </tr>\n    <tr>\n      <th>5</th>\n      <td>Luxembourg</td>\n      <td>97.0</td>\n      <td>61.0</td>\n      <td>28.0</td>\n      <td>NaN</td>\n      <td>12.0</td>\n      <td>7.0</td>\n      <td>85.0</td>\n      <td>94.0</td>\n      <td>83.0</td>\n      <td>91.0</td>\n      <td>84.0</td>\n    </tr>\n    <tr>\n      <th>6</th>\n      <td>England</td>\n      <td>27.0</td>\n      <td>86.0</td>\n      <td>22.0</td>\n      <td>91.0</td>\n      <td>76.0</td>\n      <td>17.0</td>\n      <td>76.0</td>\n      <td>68.0</td>\n      <td>89.0</td>\n      <td>11.0</td>\n      <td>57.0</td>\n    </tr>\n    <tr>\n      <th>7</th>\n      <td>Portugal</td>\n      <td>72.0</td>\n      <td>26.0</td>\n      <td>2.0</td>\n      <td>22.0</td>\n      <td>1.0</td>\n      <td>17.0</td>\n      <td>NaN</td>\n      <td>51.0</td>\n      <td>8.0</td>\n      <td>54.0</td>\n      <td>57.0</td>\n    </tr>\n    <tr>\n      <th>8</th>\n      <td>Austria</td>\n      <td>55.0</td>\n      <td>31.0</td>\n      <td>8.0</td>\n      <td>29.0</td>\n      <td>12.0</td>\n      <td>17.0</td>\n      <td>NaN</td>\n      <td>42.0</td>\n      <td>14.0</td>\n      <td>51.0</td>\n      <td>57.0</td>\n    </tr>\n    <tr>\n      <th>9</th>\n      <td>Switzerland</td>\n      <td>73.0</td>\n      <td>72.0</td>\n      <td>25.0</td>\n      <td>31.0</td>\n      <td>12.0</td>\n      <td>11.0</td>\n      <td>NaN</td>\n      <td>70.0</td>\n      <td>46.0</td>\n      <td>64.0</td>\n      <td>57.0</td>\n    </tr>\n    <tr>\n      <th>10</th>\n      <td>Sweden</td>\n      <td>97.0</td>\n      <td>13.0</td>\n      <td>31.0</td>\n      <td>9.0</td>\n      <td>43.0</td>\n      <td>11.0</td>\n      <td>NaN</td>\n      <td>78.0</td>\n      <td>53.0</td>\n      <td>9.0</td>\n      <td>48.0</td>\n    </tr>\n    <tr>\n      <th>11</th>\n      <td>Denmark</td>\n      <td>96.0</td>\n      <td>17.0</td>\n      <td>35.0</td>\n      <td>66.0</td>\n      <td>17.0</td>\n      <td>11.0</td>\n      <td>81.0</td>\n      <td>72.0</td>\n      <td>50.0</td>\n      <td>11.0</td>\n      <td>30.0</td>\n    </tr>\n    <tr>\n      <th>12</th>\n      <td>Norway</td>\n      <td>92.0</td>\n      <td>17.0</td>\n      <td>13.0</td>\n      <td>62.0</td>\n      <td>4.0</td>\n      <td>17.0</td>\n      <td>61.0</td>\n      <td>72.0</td>\n      <td>34.0</td>\n      <td>11.0</td>\n      <td>28.0</td>\n    </tr>\n    <tr>\n      <th>13</th>\n      <td>Finland</td>\n      <td>98.0</td>\n      <td>12.0</td>\n      <td>20.0</td>\n      <td>64.0</td>\n      <td>10.0</td>\n      <td>8.0</td>\n      <td>50.0</td>\n      <td>57.0</td>\n      <td>22.0</td>\n      <td>15.0</td>\n      <td>17.0</td>\n    </tr>\n    <tr>\n      <th>14</th>\n      <td>Spain</td>\n      <td>70.0</td>\n      <td>40.0</td>\n      <td>3.0</td>\n      <td>62.0</td>\n      <td>2.0</td>\n      <td>14.0</td>\n      <td>59.0</td>\n      <td>77.0</td>\n      <td>30.0</td>\n      <td>80.0</td>\n      <td>91.0</td>\n    </tr>\n  </tbody>\n</table>\n</div>"
     },
     "metadata": {},
     "execution_count": 25
    }
   ],
   "source": [
    "df.dropna(how= \"all\") # It will drop 15 row as it has all NaN values"
   ]
  },
  {
   "cell_type": "code",
   "execution_count": 27,
   "metadata": {},
   "outputs": [
    {
     "output_type": "execute_result",
     "data": {
      "text/plain": [
       "        Country  Real coffee  Instant coffee  Sweetener  Biscuits  Tin soup  \\\n",
       "0       Germany         90.0            49.0       19.0      57.0      19.0   \n",
       "1         Italy         82.0            10.0        2.0      55.0       3.0   \n",
       "2        France         88.0            42.0        4.0      76.0      11.0   \n",
       "3       Holland         96.0            62.0       32.0       NaN      43.0   \n",
       "4       Belgium         94.0            38.0       11.0       NaN      23.0   \n",
       "5    Luxembourg         97.0            61.0       28.0       NaN      12.0   \n",
       "6       England         27.0            86.0       22.0      91.0      76.0   \n",
       "7      Portugal         72.0            26.0        2.0      22.0       1.0   \n",
       "8       Austria         55.0            31.0        8.0      29.0      12.0   \n",
       "9   Switzerland         73.0            72.0       25.0      31.0      12.0   \n",
       "10       Sweden         97.0            13.0       31.0       9.0      43.0   \n",
       "11      Denmark         96.0            17.0       35.0      66.0      17.0   \n",
       "12       Norway         92.0            17.0       13.0      62.0       4.0   \n",
       "13      Finland         98.0            12.0       20.0      64.0      10.0   \n",
       "14        Spain         70.0            40.0        3.0      62.0       2.0   \n",
       "\n",
       "    Potatoes  Apples  Oranges  Tinned fruit  Garlic  Olive oil  \n",
       "0       21.0    81.0     75.0          44.0    22.0       74.0  \n",
       "1        2.0    67.0     71.0           9.0    80.0       94.0  \n",
       "2       23.0    87.0     84.0          40.0    88.0       36.0  \n",
       "3        7.0    83.0     89.0          61.0     NaN       13.0  \n",
       "4        9.0    76.0     76.0          42.0     NaN       83.0  \n",
       "5        7.0    85.0     94.0          83.0    91.0       84.0  \n",
       "6       17.0    76.0     68.0          89.0    11.0       57.0  \n",
       "7       17.0     NaN     51.0           8.0    54.0       57.0  \n",
       "8       17.0     NaN     42.0          14.0    51.0       57.0  \n",
       "9       11.0     NaN     70.0          46.0    64.0       57.0  \n",
       "10      11.0     NaN     78.0          53.0     9.0       48.0  \n",
       "11      11.0    81.0     72.0          50.0    11.0       30.0  \n",
       "12      17.0    61.0     72.0          34.0    11.0       28.0  \n",
       "13       8.0    50.0     57.0          22.0    15.0       17.0  \n",
       "14      14.0    59.0     77.0          30.0    80.0       91.0  "
      ],
      "text/html": "<div>\n<style scoped>\n    .dataframe tbody tr th:only-of-type {\n        vertical-align: middle;\n    }\n\n    .dataframe tbody tr th {\n        vertical-align: top;\n    }\n\n    .dataframe thead th {\n        text-align: right;\n    }\n</style>\n<table border=\"1\" class=\"dataframe\">\n  <thead>\n    <tr style=\"text-align: right;\">\n      <th></th>\n      <th>Country</th>\n      <th>Real coffee</th>\n      <th>Instant coffee</th>\n      <th>Sweetener</th>\n      <th>Biscuits</th>\n      <th>Tin soup</th>\n      <th>Potatoes</th>\n      <th>Apples</th>\n      <th>Oranges</th>\n      <th>Tinned fruit</th>\n      <th>Garlic</th>\n      <th>Olive oil</th>\n    </tr>\n  </thead>\n  <tbody>\n    <tr>\n      <th>0</th>\n      <td>Germany</td>\n      <td>90.0</td>\n      <td>49.0</td>\n      <td>19.0</td>\n      <td>57.0</td>\n      <td>19.0</td>\n      <td>21.0</td>\n      <td>81.0</td>\n      <td>75.0</td>\n      <td>44.0</td>\n      <td>22.0</td>\n      <td>74.0</td>\n    </tr>\n    <tr>\n      <th>1</th>\n      <td>Italy</td>\n      <td>82.0</td>\n      <td>10.0</td>\n      <td>2.0</td>\n      <td>55.0</td>\n      <td>3.0</td>\n      <td>2.0</td>\n      <td>67.0</td>\n      <td>71.0</td>\n      <td>9.0</td>\n      <td>80.0</td>\n      <td>94.0</td>\n    </tr>\n    <tr>\n      <th>2</th>\n      <td>France</td>\n      <td>88.0</td>\n      <td>42.0</td>\n      <td>4.0</td>\n      <td>76.0</td>\n      <td>11.0</td>\n      <td>23.0</td>\n      <td>87.0</td>\n      <td>84.0</td>\n      <td>40.0</td>\n      <td>88.0</td>\n      <td>36.0</td>\n    </tr>\n    <tr>\n      <th>3</th>\n      <td>Holland</td>\n      <td>96.0</td>\n      <td>62.0</td>\n      <td>32.0</td>\n      <td>NaN</td>\n      <td>43.0</td>\n      <td>7.0</td>\n      <td>83.0</td>\n      <td>89.0</td>\n      <td>61.0</td>\n      <td>NaN</td>\n      <td>13.0</td>\n    </tr>\n    <tr>\n      <th>4</th>\n      <td>Belgium</td>\n      <td>94.0</td>\n      <td>38.0</td>\n      <td>11.0</td>\n      <td>NaN</td>\n      <td>23.0</td>\n      <td>9.0</td>\n      <td>76.0</td>\n      <td>76.0</td>\n      <td>42.0</td>\n      <td>NaN</td>\n      <td>83.0</td>\n    </tr>\n    <tr>\n      <th>5</th>\n      <td>Luxembourg</td>\n      <td>97.0</td>\n      <td>61.0</td>\n      <td>28.0</td>\n      <td>NaN</td>\n      <td>12.0</td>\n      <td>7.0</td>\n      <td>85.0</td>\n      <td>94.0</td>\n      <td>83.0</td>\n      <td>91.0</td>\n      <td>84.0</td>\n    </tr>\n    <tr>\n      <th>6</th>\n      <td>England</td>\n      <td>27.0</td>\n      <td>86.0</td>\n      <td>22.0</td>\n      <td>91.0</td>\n      <td>76.0</td>\n      <td>17.0</td>\n      <td>76.0</td>\n      <td>68.0</td>\n      <td>89.0</td>\n      <td>11.0</td>\n      <td>57.0</td>\n    </tr>\n    <tr>\n      <th>7</th>\n      <td>Portugal</td>\n      <td>72.0</td>\n      <td>26.0</td>\n      <td>2.0</td>\n      <td>22.0</td>\n      <td>1.0</td>\n      <td>17.0</td>\n      <td>NaN</td>\n      <td>51.0</td>\n      <td>8.0</td>\n      <td>54.0</td>\n      <td>57.0</td>\n    </tr>\n    <tr>\n      <th>8</th>\n      <td>Austria</td>\n      <td>55.0</td>\n      <td>31.0</td>\n      <td>8.0</td>\n      <td>29.0</td>\n      <td>12.0</td>\n      <td>17.0</td>\n      <td>NaN</td>\n      <td>42.0</td>\n      <td>14.0</td>\n      <td>51.0</td>\n      <td>57.0</td>\n    </tr>\n    <tr>\n      <th>9</th>\n      <td>Switzerland</td>\n      <td>73.0</td>\n      <td>72.0</td>\n      <td>25.0</td>\n      <td>31.0</td>\n      <td>12.0</td>\n      <td>11.0</td>\n      <td>NaN</td>\n      <td>70.0</td>\n      <td>46.0</td>\n      <td>64.0</td>\n      <td>57.0</td>\n    </tr>\n    <tr>\n      <th>10</th>\n      <td>Sweden</td>\n      <td>97.0</td>\n      <td>13.0</td>\n      <td>31.0</td>\n      <td>9.0</td>\n      <td>43.0</td>\n      <td>11.0</td>\n      <td>NaN</td>\n      <td>78.0</td>\n      <td>53.0</td>\n      <td>9.0</td>\n      <td>48.0</td>\n    </tr>\n    <tr>\n      <th>11</th>\n      <td>Denmark</td>\n      <td>96.0</td>\n      <td>17.0</td>\n      <td>35.0</td>\n      <td>66.0</td>\n      <td>17.0</td>\n      <td>11.0</td>\n      <td>81.0</td>\n      <td>72.0</td>\n      <td>50.0</td>\n      <td>11.0</td>\n      <td>30.0</td>\n    </tr>\n    <tr>\n      <th>12</th>\n      <td>Norway</td>\n      <td>92.0</td>\n      <td>17.0</td>\n      <td>13.0</td>\n      <td>62.0</td>\n      <td>4.0</td>\n      <td>17.0</td>\n      <td>61.0</td>\n      <td>72.0</td>\n      <td>34.0</td>\n      <td>11.0</td>\n      <td>28.0</td>\n    </tr>\n    <tr>\n      <th>13</th>\n      <td>Finland</td>\n      <td>98.0</td>\n      <td>12.0</td>\n      <td>20.0</td>\n      <td>64.0</td>\n      <td>10.0</td>\n      <td>8.0</td>\n      <td>50.0</td>\n      <td>57.0</td>\n      <td>22.0</td>\n      <td>15.0</td>\n      <td>17.0</td>\n    </tr>\n    <tr>\n      <th>14</th>\n      <td>Spain</td>\n      <td>70.0</td>\n      <td>40.0</td>\n      <td>3.0</td>\n      <td>62.0</td>\n      <td>2.0</td>\n      <td>14.0</td>\n      <td>59.0</td>\n      <td>77.0</td>\n      <td>30.0</td>\n      <td>80.0</td>\n      <td>91.0</td>\n    </tr>\n  </tbody>\n</table>\n</div>"
     },
     "metadata": {},
     "execution_count": 27
    }
   ],
   "source": [
    "df.dropna(thresh=1 ) # It will print all which have atlist 1 not null values"
   ]
  },
  {
   "cell_type": "code",
   "execution_count": 30,
   "metadata": {},
   "outputs": [
    {
     "output_type": "execute_result",
     "data": {
      "text/plain": [
       "        Country  Real coffee  Instant coffee  Sweetener  Biscuits  Tin soup  \\\n",
       "0       Germany         90.0            49.0       19.0      57.0      19.0   \n",
       "1         Italy         82.0            10.0        2.0      55.0       3.0   \n",
       "2        France         88.0            42.0        4.0      76.0      11.0   \n",
       "3       Holland         96.0            62.0       32.0       NaN      43.0   \n",
       "4       Belgium         94.0            38.0       11.0       NaN      23.0   \n",
       "5    Luxembourg         97.0            61.0       28.0       NaN      12.0   \n",
       "6       England         27.0            86.0       22.0      91.0      76.0   \n",
       "7      Portugal         72.0            26.0        2.0      22.0       1.0   \n",
       "8       Austria         55.0            31.0        8.0      29.0      12.0   \n",
       "9   Switzerland         73.0            72.0       25.0      31.0      12.0   \n",
       "10       Sweden         97.0            13.0       31.0       9.0      43.0   \n",
       "11      Denmark         96.0            17.0       35.0      66.0      17.0   \n",
       "12       Norway         92.0            17.0       13.0      62.0       4.0   \n",
       "13      Finland         98.0            12.0       20.0      64.0      10.0   \n",
       "14        Spain         70.0            40.0        3.0      62.0       2.0   \n",
       "\n",
       "    Potatoes  Apples  Oranges  Tinned fruit  Garlic  Olive oil  \n",
       "0       21.0    81.0     75.0          44.0    22.0       74.0  \n",
       "1        2.0    67.0     71.0           9.0    80.0       94.0  \n",
       "2       23.0    87.0     84.0          40.0    88.0       36.0  \n",
       "3        7.0    83.0     89.0          61.0     NaN       13.0  \n",
       "4        9.0    76.0     76.0          42.0     NaN       83.0  \n",
       "5        7.0    85.0     94.0          83.0    91.0       84.0  \n",
       "6       17.0    76.0     68.0          89.0    11.0       57.0  \n",
       "7       17.0     NaN     51.0           8.0    54.0       57.0  \n",
       "8       17.0     NaN     42.0          14.0    51.0       57.0  \n",
       "9       11.0     NaN     70.0          46.0    64.0       57.0  \n",
       "10      11.0     NaN     78.0          53.0     9.0       48.0  \n",
       "11      11.0    81.0     72.0          50.0    11.0       30.0  \n",
       "12      17.0    61.0     72.0          34.0    11.0       28.0  \n",
       "13       8.0    50.0     57.0          22.0    15.0       17.0  \n",
       "14      14.0    59.0     77.0          30.0    80.0       91.0  "
      ],
      "text/html": "<div>\n<style scoped>\n    .dataframe tbody tr th:only-of-type {\n        vertical-align: middle;\n    }\n\n    .dataframe tbody tr th {\n        vertical-align: top;\n    }\n\n    .dataframe thead th {\n        text-align: right;\n    }\n</style>\n<table border=\"1\" class=\"dataframe\">\n  <thead>\n    <tr style=\"text-align: right;\">\n      <th></th>\n      <th>Country</th>\n      <th>Real coffee</th>\n      <th>Instant coffee</th>\n      <th>Sweetener</th>\n      <th>Biscuits</th>\n      <th>Tin soup</th>\n      <th>Potatoes</th>\n      <th>Apples</th>\n      <th>Oranges</th>\n      <th>Tinned fruit</th>\n      <th>Garlic</th>\n      <th>Olive oil</th>\n    </tr>\n  </thead>\n  <tbody>\n    <tr>\n      <th>0</th>\n      <td>Germany</td>\n      <td>90.0</td>\n      <td>49.0</td>\n      <td>19.0</td>\n      <td>57.0</td>\n      <td>19.0</td>\n      <td>21.0</td>\n      <td>81.0</td>\n      <td>75.0</td>\n      <td>44.0</td>\n      <td>22.0</td>\n      <td>74.0</td>\n    </tr>\n    <tr>\n      <th>1</th>\n      <td>Italy</td>\n      <td>82.0</td>\n      <td>10.0</td>\n      <td>2.0</td>\n      <td>55.0</td>\n      <td>3.0</td>\n      <td>2.0</td>\n      <td>67.0</td>\n      <td>71.0</td>\n      <td>9.0</td>\n      <td>80.0</td>\n      <td>94.0</td>\n    </tr>\n    <tr>\n      <th>2</th>\n      <td>France</td>\n      <td>88.0</td>\n      <td>42.0</td>\n      <td>4.0</td>\n      <td>76.0</td>\n      <td>11.0</td>\n      <td>23.0</td>\n      <td>87.0</td>\n      <td>84.0</td>\n      <td>40.0</td>\n      <td>88.0</td>\n      <td>36.0</td>\n    </tr>\n    <tr>\n      <th>3</th>\n      <td>Holland</td>\n      <td>96.0</td>\n      <td>62.0</td>\n      <td>32.0</td>\n      <td>NaN</td>\n      <td>43.0</td>\n      <td>7.0</td>\n      <td>83.0</td>\n      <td>89.0</td>\n      <td>61.0</td>\n      <td>NaN</td>\n      <td>13.0</td>\n    </tr>\n    <tr>\n      <th>4</th>\n      <td>Belgium</td>\n      <td>94.0</td>\n      <td>38.0</td>\n      <td>11.0</td>\n      <td>NaN</td>\n      <td>23.0</td>\n      <td>9.0</td>\n      <td>76.0</td>\n      <td>76.0</td>\n      <td>42.0</td>\n      <td>NaN</td>\n      <td>83.0</td>\n    </tr>\n    <tr>\n      <th>5</th>\n      <td>Luxembourg</td>\n      <td>97.0</td>\n      <td>61.0</td>\n      <td>28.0</td>\n      <td>NaN</td>\n      <td>12.0</td>\n      <td>7.0</td>\n      <td>85.0</td>\n      <td>94.0</td>\n      <td>83.0</td>\n      <td>91.0</td>\n      <td>84.0</td>\n    </tr>\n    <tr>\n      <th>6</th>\n      <td>England</td>\n      <td>27.0</td>\n      <td>86.0</td>\n      <td>22.0</td>\n      <td>91.0</td>\n      <td>76.0</td>\n      <td>17.0</td>\n      <td>76.0</td>\n      <td>68.0</td>\n      <td>89.0</td>\n      <td>11.0</td>\n      <td>57.0</td>\n    </tr>\n    <tr>\n      <th>7</th>\n      <td>Portugal</td>\n      <td>72.0</td>\n      <td>26.0</td>\n      <td>2.0</td>\n      <td>22.0</td>\n      <td>1.0</td>\n      <td>17.0</td>\n      <td>NaN</td>\n      <td>51.0</td>\n      <td>8.0</td>\n      <td>54.0</td>\n      <td>57.0</td>\n    </tr>\n    <tr>\n      <th>8</th>\n      <td>Austria</td>\n      <td>55.0</td>\n      <td>31.0</td>\n      <td>8.0</td>\n      <td>29.0</td>\n      <td>12.0</td>\n      <td>17.0</td>\n      <td>NaN</td>\n      <td>42.0</td>\n      <td>14.0</td>\n      <td>51.0</td>\n      <td>57.0</td>\n    </tr>\n    <tr>\n      <th>9</th>\n      <td>Switzerland</td>\n      <td>73.0</td>\n      <td>72.0</td>\n      <td>25.0</td>\n      <td>31.0</td>\n      <td>12.0</td>\n      <td>11.0</td>\n      <td>NaN</td>\n      <td>70.0</td>\n      <td>46.0</td>\n      <td>64.0</td>\n      <td>57.0</td>\n    </tr>\n    <tr>\n      <th>10</th>\n      <td>Sweden</td>\n      <td>97.0</td>\n      <td>13.0</td>\n      <td>31.0</td>\n      <td>9.0</td>\n      <td>43.0</td>\n      <td>11.0</td>\n      <td>NaN</td>\n      <td>78.0</td>\n      <td>53.0</td>\n      <td>9.0</td>\n      <td>48.0</td>\n    </tr>\n    <tr>\n      <th>11</th>\n      <td>Denmark</td>\n      <td>96.0</td>\n      <td>17.0</td>\n      <td>35.0</td>\n      <td>66.0</td>\n      <td>17.0</td>\n      <td>11.0</td>\n      <td>81.0</td>\n      <td>72.0</td>\n      <td>50.0</td>\n      <td>11.0</td>\n      <td>30.0</td>\n    </tr>\n    <tr>\n      <th>12</th>\n      <td>Norway</td>\n      <td>92.0</td>\n      <td>17.0</td>\n      <td>13.0</td>\n      <td>62.0</td>\n      <td>4.0</td>\n      <td>17.0</td>\n      <td>61.0</td>\n      <td>72.0</td>\n      <td>34.0</td>\n      <td>11.0</td>\n      <td>28.0</td>\n    </tr>\n    <tr>\n      <th>13</th>\n      <td>Finland</td>\n      <td>98.0</td>\n      <td>12.0</td>\n      <td>20.0</td>\n      <td>64.0</td>\n      <td>10.0</td>\n      <td>8.0</td>\n      <td>50.0</td>\n      <td>57.0</td>\n      <td>22.0</td>\n      <td>15.0</td>\n      <td>17.0</td>\n    </tr>\n    <tr>\n      <th>14</th>\n      <td>Spain</td>\n      <td>70.0</td>\n      <td>40.0</td>\n      <td>3.0</td>\n      <td>62.0</td>\n      <td>2.0</td>\n      <td>14.0</td>\n      <td>59.0</td>\n      <td>77.0</td>\n      <td>30.0</td>\n      <td>80.0</td>\n      <td>91.0</td>\n    </tr>\n  </tbody>\n</table>\n</div>"
     },
     "metadata": {},
     "execution_count": 30
    }
   ],
   "source": [
    "df.dropna(thresh= 10) # 10 not null values should the present  "
   ]
  },
  {
   "cell_type": "code",
   "execution_count": 31,
   "metadata": {},
   "outputs": [
    {
     "output_type": "execute_result",
     "data": {
      "text/plain": [
       "        Country  Real coffee  Instant coffee  Sweetener  Biscuits  Tin soup  \\\n",
       "0       Germany         90.0            49.0       19.0      57.0      19.0   \n",
       "1         Italy         82.0            10.0        2.0      55.0       3.0   \n",
       "2        France         88.0            42.0        4.0      76.0      11.0   \n",
       "3       Holland         96.0            62.0       32.0       NaN      43.0   \n",
       "4       Belgium         94.0            38.0       11.0       NaN      23.0   \n",
       "5    Luxembourg         97.0            61.0       28.0       NaN      12.0   \n",
       "6       England         27.0            86.0       22.0      91.0      76.0   \n",
       "7      Portugal         72.0            26.0        2.0      22.0       1.0   \n",
       "8       Austria         55.0            31.0        8.0      29.0      12.0   \n",
       "9   Switzerland         73.0            72.0       25.0      31.0      12.0   \n",
       "10       Sweden         97.0            13.0       31.0       9.0      43.0   \n",
       "11      Denmark         96.0            17.0       35.0      66.0      17.0   \n",
       "12       Norway         92.0            17.0       13.0      62.0       4.0   \n",
       "13      Finland         98.0            12.0       20.0      64.0      10.0   \n",
       "14        Spain         70.0            40.0        3.0      62.0       2.0   \n",
       "15          NaN          NaN             NaN        NaN       NaN       NaN   \n",
       "\n",
       "    Potatoes  Apples  Oranges  Tinned fruit  Garlic  Olive oil  \n",
       "0       21.0    81.0     75.0          44.0    22.0       74.0  \n",
       "1        2.0    67.0     71.0           9.0    80.0       94.0  \n",
       "2       23.0    87.0     84.0          40.0    88.0       36.0  \n",
       "3        7.0    83.0     89.0          61.0     NaN       13.0  \n",
       "4        9.0    76.0     76.0          42.0     NaN       83.0  \n",
       "5        7.0    85.0     94.0          83.0    91.0       84.0  \n",
       "6       17.0    76.0     68.0          89.0    11.0       57.0  \n",
       "7       17.0     NaN     51.0           8.0    54.0       57.0  \n",
       "8       17.0     NaN     42.0          14.0    51.0       57.0  \n",
       "9       11.0     NaN     70.0          46.0    64.0       57.0  \n",
       "10      11.0     NaN     78.0          53.0     9.0       48.0  \n",
       "11      11.0    81.0     72.0          50.0    11.0       30.0  \n",
       "12      17.0    61.0     72.0          34.0    11.0       28.0  \n",
       "13       8.0    50.0     57.0          22.0    15.0       17.0  \n",
       "14      14.0    59.0     77.0          30.0    80.0       91.0  \n",
       "15       NaN     NaN      NaN           NaN     NaN        NaN  "
      ],
      "text/html": "<div>\n<style scoped>\n    .dataframe tbody tr th:only-of-type {\n        vertical-align: middle;\n    }\n\n    .dataframe tbody tr th {\n        vertical-align: top;\n    }\n\n    .dataframe thead th {\n        text-align: right;\n    }\n</style>\n<table border=\"1\" class=\"dataframe\">\n  <thead>\n    <tr style=\"text-align: right;\">\n      <th></th>\n      <th>Country</th>\n      <th>Real coffee</th>\n      <th>Instant coffee</th>\n      <th>Sweetener</th>\n      <th>Biscuits</th>\n      <th>Tin soup</th>\n      <th>Potatoes</th>\n      <th>Apples</th>\n      <th>Oranges</th>\n      <th>Tinned fruit</th>\n      <th>Garlic</th>\n      <th>Olive oil</th>\n    </tr>\n  </thead>\n  <tbody>\n    <tr>\n      <th>0</th>\n      <td>Germany</td>\n      <td>90.0</td>\n      <td>49.0</td>\n      <td>19.0</td>\n      <td>57.0</td>\n      <td>19.0</td>\n      <td>21.0</td>\n      <td>81.0</td>\n      <td>75.0</td>\n      <td>44.0</td>\n      <td>22.0</td>\n      <td>74.0</td>\n    </tr>\n    <tr>\n      <th>1</th>\n      <td>Italy</td>\n      <td>82.0</td>\n      <td>10.0</td>\n      <td>2.0</td>\n      <td>55.0</td>\n      <td>3.0</td>\n      <td>2.0</td>\n      <td>67.0</td>\n      <td>71.0</td>\n      <td>9.0</td>\n      <td>80.0</td>\n      <td>94.0</td>\n    </tr>\n    <tr>\n      <th>2</th>\n      <td>France</td>\n      <td>88.0</td>\n      <td>42.0</td>\n      <td>4.0</td>\n      <td>76.0</td>\n      <td>11.0</td>\n      <td>23.0</td>\n      <td>87.0</td>\n      <td>84.0</td>\n      <td>40.0</td>\n      <td>88.0</td>\n      <td>36.0</td>\n    </tr>\n    <tr>\n      <th>3</th>\n      <td>Holland</td>\n      <td>96.0</td>\n      <td>62.0</td>\n      <td>32.0</td>\n      <td>NaN</td>\n      <td>43.0</td>\n      <td>7.0</td>\n      <td>83.0</td>\n      <td>89.0</td>\n      <td>61.0</td>\n      <td>NaN</td>\n      <td>13.0</td>\n    </tr>\n    <tr>\n      <th>4</th>\n      <td>Belgium</td>\n      <td>94.0</td>\n      <td>38.0</td>\n      <td>11.0</td>\n      <td>NaN</td>\n      <td>23.0</td>\n      <td>9.0</td>\n      <td>76.0</td>\n      <td>76.0</td>\n      <td>42.0</td>\n      <td>NaN</td>\n      <td>83.0</td>\n    </tr>\n    <tr>\n      <th>5</th>\n      <td>Luxembourg</td>\n      <td>97.0</td>\n      <td>61.0</td>\n      <td>28.0</td>\n      <td>NaN</td>\n      <td>12.0</td>\n      <td>7.0</td>\n      <td>85.0</td>\n      <td>94.0</td>\n      <td>83.0</td>\n      <td>91.0</td>\n      <td>84.0</td>\n    </tr>\n    <tr>\n      <th>6</th>\n      <td>England</td>\n      <td>27.0</td>\n      <td>86.0</td>\n      <td>22.0</td>\n      <td>91.0</td>\n      <td>76.0</td>\n      <td>17.0</td>\n      <td>76.0</td>\n      <td>68.0</td>\n      <td>89.0</td>\n      <td>11.0</td>\n      <td>57.0</td>\n    </tr>\n    <tr>\n      <th>7</th>\n      <td>Portugal</td>\n      <td>72.0</td>\n      <td>26.0</td>\n      <td>2.0</td>\n      <td>22.0</td>\n      <td>1.0</td>\n      <td>17.0</td>\n      <td>NaN</td>\n      <td>51.0</td>\n      <td>8.0</td>\n      <td>54.0</td>\n      <td>57.0</td>\n    </tr>\n    <tr>\n      <th>8</th>\n      <td>Austria</td>\n      <td>55.0</td>\n      <td>31.0</td>\n      <td>8.0</td>\n      <td>29.0</td>\n      <td>12.0</td>\n      <td>17.0</td>\n      <td>NaN</td>\n      <td>42.0</td>\n      <td>14.0</td>\n      <td>51.0</td>\n      <td>57.0</td>\n    </tr>\n    <tr>\n      <th>9</th>\n      <td>Switzerland</td>\n      <td>73.0</td>\n      <td>72.0</td>\n      <td>25.0</td>\n      <td>31.0</td>\n      <td>12.0</td>\n      <td>11.0</td>\n      <td>NaN</td>\n      <td>70.0</td>\n      <td>46.0</td>\n      <td>64.0</td>\n      <td>57.0</td>\n    </tr>\n    <tr>\n      <th>10</th>\n      <td>Sweden</td>\n      <td>97.0</td>\n      <td>13.0</td>\n      <td>31.0</td>\n      <td>9.0</td>\n      <td>43.0</td>\n      <td>11.0</td>\n      <td>NaN</td>\n      <td>78.0</td>\n      <td>53.0</td>\n      <td>9.0</td>\n      <td>48.0</td>\n    </tr>\n    <tr>\n      <th>11</th>\n      <td>Denmark</td>\n      <td>96.0</td>\n      <td>17.0</td>\n      <td>35.0</td>\n      <td>66.0</td>\n      <td>17.0</td>\n      <td>11.0</td>\n      <td>81.0</td>\n      <td>72.0</td>\n      <td>50.0</td>\n      <td>11.0</td>\n      <td>30.0</td>\n    </tr>\n    <tr>\n      <th>12</th>\n      <td>Norway</td>\n      <td>92.0</td>\n      <td>17.0</td>\n      <td>13.0</td>\n      <td>62.0</td>\n      <td>4.0</td>\n      <td>17.0</td>\n      <td>61.0</td>\n      <td>72.0</td>\n      <td>34.0</td>\n      <td>11.0</td>\n      <td>28.0</td>\n    </tr>\n    <tr>\n      <th>13</th>\n      <td>Finland</td>\n      <td>98.0</td>\n      <td>12.0</td>\n      <td>20.0</td>\n      <td>64.0</td>\n      <td>10.0</td>\n      <td>8.0</td>\n      <td>50.0</td>\n      <td>57.0</td>\n      <td>22.0</td>\n      <td>15.0</td>\n      <td>17.0</td>\n    </tr>\n    <tr>\n      <th>14</th>\n      <td>Spain</td>\n      <td>70.0</td>\n      <td>40.0</td>\n      <td>3.0</td>\n      <td>62.0</td>\n      <td>2.0</td>\n      <td>14.0</td>\n      <td>59.0</td>\n      <td>77.0</td>\n      <td>30.0</td>\n      <td>80.0</td>\n      <td>91.0</td>\n    </tr>\n    <tr>\n      <th>15</th>\n      <td>NaN</td>\n      <td>NaN</td>\n      <td>NaN</td>\n      <td>NaN</td>\n      <td>NaN</td>\n      <td>NaN</td>\n      <td>NaN</td>\n      <td>NaN</td>\n      <td>NaN</td>\n      <td>NaN</td>\n      <td>NaN</td>\n      <td>NaN</td>\n    </tr>\n  </tbody>\n</table>\n</div>"
     },
     "metadata": {},
     "execution_count": 31
    }
   ],
   "source": [
    "df = pd.read_csv(\"E:\\\\ML\\\\ML\\\\Pandas\\\\food consumption.csv\")\n",
    "df"
   ]
  },
  {
   "cell_type": "code",
   "execution_count": 34,
   "metadata": {},
   "outputs": [
    {
     "output_type": "execute_result",
     "data": {
      "text/plain": [
       "        Country  Real coffee  Instant coffee  Sweetener  Biscuits  Tin soup  \\\n",
       "0       Germany         90.0            49.0       19.0      57.0      19.0   \n",
       "1         Italy         82.0            10.0        2.0      55.0       3.0   \n",
       "2        France         88.0            42.0        4.0      76.0      11.0   \n",
       "3       Holland         96.0            62.0       32.0       NaN      43.0   \n",
       "4       Belgium         94.0            38.0       11.0       NaN      23.0   \n",
       "5    Luxembourg         97.0            61.0       28.0       NaN      12.0   \n",
       "6       England         27.0            86.0       22.0      91.0      76.0   \n",
       "7      Portugal         72.0            26.0        2.0      22.0       1.0   \n",
       "8       Austria         55.0            31.0        8.0      29.0      12.0   \n",
       "9   Switzerland         73.0            72.0       25.0      31.0      12.0   \n",
       "10       Sweden         97.0            13.0       31.0       9.0      43.0   \n",
       "11      Denmark         96.0            17.0       35.0      66.0      17.0   \n",
       "12       Norway         92.0            17.0       13.0      62.0       4.0   \n",
       "13      Finland         98.0            12.0       20.0      64.0      10.0   \n",
       "14        Spain         70.0            40.0        3.0      62.0       2.0   \n",
       "\n",
       "    Potatoes  Apples  Oranges  Tinned fruit  Garlic  Olive oil  \n",
       "0       21.0    81.0     75.0          44.0    22.0       74.0  \n",
       "1        2.0    67.0     71.0           9.0    80.0       94.0  \n",
       "2       23.0    87.0     84.0          40.0    88.0       36.0  \n",
       "3        7.0    83.0     89.0          61.0     NaN       13.0  \n",
       "4        9.0    76.0     76.0          42.0     NaN       83.0  \n",
       "5        7.0    85.0     94.0          83.0    91.0       84.0  \n",
       "6       17.0    76.0     68.0          89.0    11.0       57.0  \n",
       "7       17.0     NaN     51.0           8.0    54.0       57.0  \n",
       "8       17.0     NaN     42.0          14.0    51.0       57.0  \n",
       "9       11.0     NaN     70.0          46.0    64.0       57.0  \n",
       "10      11.0     NaN     78.0          53.0     9.0       48.0  \n",
       "11      11.0    81.0     72.0          50.0    11.0       30.0  \n",
       "12      17.0    61.0     72.0          34.0    11.0       28.0  \n",
       "13       8.0    50.0     57.0          22.0    15.0       17.0  \n",
       "14      14.0    59.0     77.0          30.0    80.0       91.0  "
      ],
      "text/html": "<div>\n<style scoped>\n    .dataframe tbody tr th:only-of-type {\n        vertical-align: middle;\n    }\n\n    .dataframe tbody tr th {\n        vertical-align: top;\n    }\n\n    .dataframe thead th {\n        text-align: right;\n    }\n</style>\n<table border=\"1\" class=\"dataframe\">\n  <thead>\n    <tr style=\"text-align: right;\">\n      <th></th>\n      <th>Country</th>\n      <th>Real coffee</th>\n      <th>Instant coffee</th>\n      <th>Sweetener</th>\n      <th>Biscuits</th>\n      <th>Tin soup</th>\n      <th>Potatoes</th>\n      <th>Apples</th>\n      <th>Oranges</th>\n      <th>Tinned fruit</th>\n      <th>Garlic</th>\n      <th>Olive oil</th>\n    </tr>\n  </thead>\n  <tbody>\n    <tr>\n      <th>0</th>\n      <td>Germany</td>\n      <td>90.0</td>\n      <td>49.0</td>\n      <td>19.0</td>\n      <td>57.0</td>\n      <td>19.0</td>\n      <td>21.0</td>\n      <td>81.0</td>\n      <td>75.0</td>\n      <td>44.0</td>\n      <td>22.0</td>\n      <td>74.0</td>\n    </tr>\n    <tr>\n      <th>1</th>\n      <td>Italy</td>\n      <td>82.0</td>\n      <td>10.0</td>\n      <td>2.0</td>\n      <td>55.0</td>\n      <td>3.0</td>\n      <td>2.0</td>\n      <td>67.0</td>\n      <td>71.0</td>\n      <td>9.0</td>\n      <td>80.0</td>\n      <td>94.0</td>\n    </tr>\n    <tr>\n      <th>2</th>\n      <td>France</td>\n      <td>88.0</td>\n      <td>42.0</td>\n      <td>4.0</td>\n      <td>76.0</td>\n      <td>11.0</td>\n      <td>23.0</td>\n      <td>87.0</td>\n      <td>84.0</td>\n      <td>40.0</td>\n      <td>88.0</td>\n      <td>36.0</td>\n    </tr>\n    <tr>\n      <th>3</th>\n      <td>Holland</td>\n      <td>96.0</td>\n      <td>62.0</td>\n      <td>32.0</td>\n      <td>NaN</td>\n      <td>43.0</td>\n      <td>7.0</td>\n      <td>83.0</td>\n      <td>89.0</td>\n      <td>61.0</td>\n      <td>NaN</td>\n      <td>13.0</td>\n    </tr>\n    <tr>\n      <th>4</th>\n      <td>Belgium</td>\n      <td>94.0</td>\n      <td>38.0</td>\n      <td>11.0</td>\n      <td>NaN</td>\n      <td>23.0</td>\n      <td>9.0</td>\n      <td>76.0</td>\n      <td>76.0</td>\n      <td>42.0</td>\n      <td>NaN</td>\n      <td>83.0</td>\n    </tr>\n    <tr>\n      <th>5</th>\n      <td>Luxembourg</td>\n      <td>97.0</td>\n      <td>61.0</td>\n      <td>28.0</td>\n      <td>NaN</td>\n      <td>12.0</td>\n      <td>7.0</td>\n      <td>85.0</td>\n      <td>94.0</td>\n      <td>83.0</td>\n      <td>91.0</td>\n      <td>84.0</td>\n    </tr>\n    <tr>\n      <th>6</th>\n      <td>England</td>\n      <td>27.0</td>\n      <td>86.0</td>\n      <td>22.0</td>\n      <td>91.0</td>\n      <td>76.0</td>\n      <td>17.0</td>\n      <td>76.0</td>\n      <td>68.0</td>\n      <td>89.0</td>\n      <td>11.0</td>\n      <td>57.0</td>\n    </tr>\n    <tr>\n      <th>7</th>\n      <td>Portugal</td>\n      <td>72.0</td>\n      <td>26.0</td>\n      <td>2.0</td>\n      <td>22.0</td>\n      <td>1.0</td>\n      <td>17.0</td>\n      <td>NaN</td>\n      <td>51.0</td>\n      <td>8.0</td>\n      <td>54.0</td>\n      <td>57.0</td>\n    </tr>\n    <tr>\n      <th>8</th>\n      <td>Austria</td>\n      <td>55.0</td>\n      <td>31.0</td>\n      <td>8.0</td>\n      <td>29.0</td>\n      <td>12.0</td>\n      <td>17.0</td>\n      <td>NaN</td>\n      <td>42.0</td>\n      <td>14.0</td>\n      <td>51.0</td>\n      <td>57.0</td>\n    </tr>\n    <tr>\n      <th>9</th>\n      <td>Switzerland</td>\n      <td>73.0</td>\n      <td>72.0</td>\n      <td>25.0</td>\n      <td>31.0</td>\n      <td>12.0</td>\n      <td>11.0</td>\n      <td>NaN</td>\n      <td>70.0</td>\n      <td>46.0</td>\n      <td>64.0</td>\n      <td>57.0</td>\n    </tr>\n    <tr>\n      <th>10</th>\n      <td>Sweden</td>\n      <td>97.0</td>\n      <td>13.0</td>\n      <td>31.0</td>\n      <td>9.0</td>\n      <td>43.0</td>\n      <td>11.0</td>\n      <td>NaN</td>\n      <td>78.0</td>\n      <td>53.0</td>\n      <td>9.0</td>\n      <td>48.0</td>\n    </tr>\n    <tr>\n      <th>11</th>\n      <td>Denmark</td>\n      <td>96.0</td>\n      <td>17.0</td>\n      <td>35.0</td>\n      <td>66.0</td>\n      <td>17.0</td>\n      <td>11.0</td>\n      <td>81.0</td>\n      <td>72.0</td>\n      <td>50.0</td>\n      <td>11.0</td>\n      <td>30.0</td>\n    </tr>\n    <tr>\n      <th>12</th>\n      <td>Norway</td>\n      <td>92.0</td>\n      <td>17.0</td>\n      <td>13.0</td>\n      <td>62.0</td>\n      <td>4.0</td>\n      <td>17.0</td>\n      <td>61.0</td>\n      <td>72.0</td>\n      <td>34.0</td>\n      <td>11.0</td>\n      <td>28.0</td>\n    </tr>\n    <tr>\n      <th>13</th>\n      <td>Finland</td>\n      <td>98.0</td>\n      <td>12.0</td>\n      <td>20.0</td>\n      <td>64.0</td>\n      <td>10.0</td>\n      <td>8.0</td>\n      <td>50.0</td>\n      <td>57.0</td>\n      <td>22.0</td>\n      <td>15.0</td>\n      <td>17.0</td>\n    </tr>\n    <tr>\n      <th>14</th>\n      <td>Spain</td>\n      <td>70.0</td>\n      <td>40.0</td>\n      <td>3.0</td>\n      <td>62.0</td>\n      <td>2.0</td>\n      <td>14.0</td>\n      <td>59.0</td>\n      <td>77.0</td>\n      <td>30.0</td>\n      <td>80.0</td>\n      <td>91.0</td>\n    </tr>\n  </tbody>\n</table>\n</div>"
     },
     "metadata": {},
     "execution_count": 34
    }
   ],
   "source": [
    "df.dropna(subset=[\"Country\"])# It will drop the row  in the coloum \"Country\" where null value will be present  "
   ]
  },
  {
   "cell_type": "code",
   "execution_count": null,
   "metadata": {},
   "outputs": [],
   "source": []
  }
 ]
}