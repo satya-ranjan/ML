{
 "metadata": {
  "language_info": {
   "codemirror_mode": {
    "name": "ipython",
    "version": 3
   },
   "file_extension": ".py",
   "mimetype": "text/x-python",
   "name": "python",
   "nbconvert_exporter": "python",
   "pygments_lexer": "ipython3",
   "version": "3.9.5"
  },
  "orig_nbformat": 4,
  "kernelspec": {
   "name": "python3",
   "display_name": "Python 3.9.5 64-bit"
  },
  "interpreter": {
   "hash": "a12d694c3ccac42055183a0ad11e659c6a2db5c6555ad2c8919d5814fd4e404f"
  }
 },
 "nbformat": 4,
 "nbformat_minor": 2,
 "cells": [
  {
   "source": [
    "# Handling Missing Values #2"
   ],
   "cell_type": "markdown",
   "metadata": {}
  },
  {
   "cell_type": "code",
   "execution_count": 2,
   "metadata": {},
   "outputs": [],
   "source": [
    "import pandas as pd "
   ]
  },
  {
   "cell_type": "code",
   "execution_count": 10,
   "metadata": {},
   "outputs": [
    {
     "output_type": "execute_result",
     "data": {
      "text/plain": [
       "        Country  Real coffee  Instant coffee  Sweetener  Biscuits  Tin soup  \\\n",
       "0       Germany           90              49         19      57.0        19   \n",
       "1         Italy           82              10          2      55.0         3   \n",
       "2        France           88              42          4      76.0        11   \n",
       "3       Holland           96              62         32       NaN        43   \n",
       "4       Belgium           94              38         11       NaN        23   \n",
       "5    Luxembourg           97              61         28       NaN        12   \n",
       "6       England           27              86         22      91.0        76   \n",
       "7      Portugal           72              26          2      22.0         1   \n",
       "8       Austria           55              31          8      29.0        12   \n",
       "9   Switzerland           73              72         25      31.0        12   \n",
       "10       Sweden           97              13         31       9.0        43   \n",
       "11      Denmark           96              17         35      66.0        17   \n",
       "12       Norway           92              17         13      62.0         4   \n",
       "13      Finland           98              12         20      64.0        10   \n",
       "14        Spain           70              40          3      62.0         2   \n",
       "15      Ireland           30              52         11      80.0        18   \n",
       "\n",
       "    Potatoes  Apples  Oranges  Tinned fruit  Garlic  Olive oil  \n",
       "0         21    81.0       75            44    22.0         74  \n",
       "1          2    67.0       71             9    80.0         94  \n",
       "2         23    87.0       84            40    88.0         36  \n",
       "3          7    83.0       89            61     NaN         13  \n",
       "4          9    76.0       76            42     NaN         83  \n",
       "5          7    85.0       94            83    91.0         84  \n",
       "6         17    76.0       68            89    11.0         57  \n",
       "7         17     NaN       51             8    54.0         57  \n",
       "8         17     NaN       42            14    51.0         57  \n",
       "9         11     NaN       70            46    64.0         57  \n",
       "10        11     NaN       78            53     9.0         48  \n",
       "11        11    81.0       72            50    11.0         30  \n",
       "12        17    61.0       72            34    11.0         28  \n",
       "13         8    50.0       57            22    15.0         17  \n",
       "14        14    59.0       77            30    80.0         91  \n",
       "15         2    57.0       52            46     5.0         31  "
      ],
      "text/html": "<div>\n<style scoped>\n    .dataframe tbody tr th:only-of-type {\n        vertical-align: middle;\n    }\n\n    .dataframe tbody tr th {\n        vertical-align: top;\n    }\n\n    .dataframe thead th {\n        text-align: right;\n    }\n</style>\n<table border=\"1\" class=\"dataframe\">\n  <thead>\n    <tr style=\"text-align: right;\">\n      <th></th>\n      <th>Country</th>\n      <th>Real coffee</th>\n      <th>Instant coffee</th>\n      <th>Sweetener</th>\n      <th>Biscuits</th>\n      <th>Tin soup</th>\n      <th>Potatoes</th>\n      <th>Apples</th>\n      <th>Oranges</th>\n      <th>Tinned fruit</th>\n      <th>Garlic</th>\n      <th>Olive oil</th>\n    </tr>\n  </thead>\n  <tbody>\n    <tr>\n      <th>0</th>\n      <td>Germany</td>\n      <td>90</td>\n      <td>49</td>\n      <td>19</td>\n      <td>57.0</td>\n      <td>19</td>\n      <td>21</td>\n      <td>81.0</td>\n      <td>75</td>\n      <td>44</td>\n      <td>22.0</td>\n      <td>74</td>\n    </tr>\n    <tr>\n      <th>1</th>\n      <td>Italy</td>\n      <td>82</td>\n      <td>10</td>\n      <td>2</td>\n      <td>55.0</td>\n      <td>3</td>\n      <td>2</td>\n      <td>67.0</td>\n      <td>71</td>\n      <td>9</td>\n      <td>80.0</td>\n      <td>94</td>\n    </tr>\n    <tr>\n      <th>2</th>\n      <td>France</td>\n      <td>88</td>\n      <td>42</td>\n      <td>4</td>\n      <td>76.0</td>\n      <td>11</td>\n      <td>23</td>\n      <td>87.0</td>\n      <td>84</td>\n      <td>40</td>\n      <td>88.0</td>\n      <td>36</td>\n    </tr>\n    <tr>\n      <th>3</th>\n      <td>Holland</td>\n      <td>96</td>\n      <td>62</td>\n      <td>32</td>\n      <td>NaN</td>\n      <td>43</td>\n      <td>7</td>\n      <td>83.0</td>\n      <td>89</td>\n      <td>61</td>\n      <td>NaN</td>\n      <td>13</td>\n    </tr>\n    <tr>\n      <th>4</th>\n      <td>Belgium</td>\n      <td>94</td>\n      <td>38</td>\n      <td>11</td>\n      <td>NaN</td>\n      <td>23</td>\n      <td>9</td>\n      <td>76.0</td>\n      <td>76</td>\n      <td>42</td>\n      <td>NaN</td>\n      <td>83</td>\n    </tr>\n    <tr>\n      <th>5</th>\n      <td>Luxembourg</td>\n      <td>97</td>\n      <td>61</td>\n      <td>28</td>\n      <td>NaN</td>\n      <td>12</td>\n      <td>7</td>\n      <td>85.0</td>\n      <td>94</td>\n      <td>83</td>\n      <td>91.0</td>\n      <td>84</td>\n    </tr>\n    <tr>\n      <th>6</th>\n      <td>England</td>\n      <td>27</td>\n      <td>86</td>\n      <td>22</td>\n      <td>91.0</td>\n      <td>76</td>\n      <td>17</td>\n      <td>76.0</td>\n      <td>68</td>\n      <td>89</td>\n      <td>11.0</td>\n      <td>57</td>\n    </tr>\n    <tr>\n      <th>7</th>\n      <td>Portugal</td>\n      <td>72</td>\n      <td>26</td>\n      <td>2</td>\n      <td>22.0</td>\n      <td>1</td>\n      <td>17</td>\n      <td>NaN</td>\n      <td>51</td>\n      <td>8</td>\n      <td>54.0</td>\n      <td>57</td>\n    </tr>\n    <tr>\n      <th>8</th>\n      <td>Austria</td>\n      <td>55</td>\n      <td>31</td>\n      <td>8</td>\n      <td>29.0</td>\n      <td>12</td>\n      <td>17</td>\n      <td>NaN</td>\n      <td>42</td>\n      <td>14</td>\n      <td>51.0</td>\n      <td>57</td>\n    </tr>\n    <tr>\n      <th>9</th>\n      <td>Switzerland</td>\n      <td>73</td>\n      <td>72</td>\n      <td>25</td>\n      <td>31.0</td>\n      <td>12</td>\n      <td>11</td>\n      <td>NaN</td>\n      <td>70</td>\n      <td>46</td>\n      <td>64.0</td>\n      <td>57</td>\n    </tr>\n    <tr>\n      <th>10</th>\n      <td>Sweden</td>\n      <td>97</td>\n      <td>13</td>\n      <td>31</td>\n      <td>9.0</td>\n      <td>43</td>\n      <td>11</td>\n      <td>NaN</td>\n      <td>78</td>\n      <td>53</td>\n      <td>9.0</td>\n      <td>48</td>\n    </tr>\n    <tr>\n      <th>11</th>\n      <td>Denmark</td>\n      <td>96</td>\n      <td>17</td>\n      <td>35</td>\n      <td>66.0</td>\n      <td>17</td>\n      <td>11</td>\n      <td>81.0</td>\n      <td>72</td>\n      <td>50</td>\n      <td>11.0</td>\n      <td>30</td>\n    </tr>\n    <tr>\n      <th>12</th>\n      <td>Norway</td>\n      <td>92</td>\n      <td>17</td>\n      <td>13</td>\n      <td>62.0</td>\n      <td>4</td>\n      <td>17</td>\n      <td>61.0</td>\n      <td>72</td>\n      <td>34</td>\n      <td>11.0</td>\n      <td>28</td>\n    </tr>\n    <tr>\n      <th>13</th>\n      <td>Finland</td>\n      <td>98</td>\n      <td>12</td>\n      <td>20</td>\n      <td>64.0</td>\n      <td>10</td>\n      <td>8</td>\n      <td>50.0</td>\n      <td>57</td>\n      <td>22</td>\n      <td>15.0</td>\n      <td>17</td>\n    </tr>\n    <tr>\n      <th>14</th>\n      <td>Spain</td>\n      <td>70</td>\n      <td>40</td>\n      <td>3</td>\n      <td>62.0</td>\n      <td>2</td>\n      <td>14</td>\n      <td>59.0</td>\n      <td>77</td>\n      <td>30</td>\n      <td>80.0</td>\n      <td>91</td>\n    </tr>\n    <tr>\n      <th>15</th>\n      <td>Ireland</td>\n      <td>30</td>\n      <td>52</td>\n      <td>11</td>\n      <td>80.0</td>\n      <td>18</td>\n      <td>2</td>\n      <td>57.0</td>\n      <td>52</td>\n      <td>46</td>\n      <td>5.0</td>\n      <td>31</td>\n    </tr>\n  </tbody>\n</table>\n</div>"
     },
     "metadata": {},
     "execution_count": 10
    }
   ],
   "source": [
    "df = pd.read_csv(\"E:\\\\ML\\\\ML\\\\Pandas\\\\food consumption.csv\")\n",
    "df"
   ]
  },
  {
   "cell_type": "code",
   "execution_count": 11,
   "metadata": {},
   "outputs": [
    {
     "output_type": "execute_result",
     "data": {
      "text/plain": [
       "    Country  Real coffee  Instant coffee  Sweetener  Biscuits  Tin soup  \\\n",
       "0     False        False           False      False     False     False   \n",
       "1     False        False           False      False     False     False   \n",
       "2     False        False           False      False     False     False   \n",
       "3     False        False           False      False      True     False   \n",
       "4     False        False           False      False      True     False   \n",
       "5     False        False           False      False      True     False   \n",
       "6     False        False           False      False     False     False   \n",
       "7     False        False           False      False     False     False   \n",
       "8     False        False           False      False     False     False   \n",
       "9     False        False           False      False     False     False   \n",
       "10    False        False           False      False     False     False   \n",
       "11    False        False           False      False     False     False   \n",
       "12    False        False           False      False     False     False   \n",
       "13    False        False           False      False     False     False   \n",
       "14    False        False           False      False     False     False   \n",
       "15    False        False           False      False     False     False   \n",
       "\n",
       "    Potatoes  Apples  Oranges  Tinned fruit  Garlic  Olive oil  \n",
       "0      False   False    False         False   False      False  \n",
       "1      False   False    False         False   False      False  \n",
       "2      False   False    False         False   False      False  \n",
       "3      False   False    False         False    True      False  \n",
       "4      False   False    False         False    True      False  \n",
       "5      False   False    False         False   False      False  \n",
       "6      False   False    False         False   False      False  \n",
       "7      False    True    False         False   False      False  \n",
       "8      False    True    False         False   False      False  \n",
       "9      False    True    False         False   False      False  \n",
       "10     False    True    False         False   False      False  \n",
       "11     False   False    False         False   False      False  \n",
       "12     False   False    False         False   False      False  \n",
       "13     False   False    False         False   False      False  \n",
       "14     False   False    False         False   False      False  \n",
       "15     False   False    False         False   False      False  "
      ],
      "text/html": "<div>\n<style scoped>\n    .dataframe tbody tr th:only-of-type {\n        vertical-align: middle;\n    }\n\n    .dataframe tbody tr th {\n        vertical-align: top;\n    }\n\n    .dataframe thead th {\n        text-align: right;\n    }\n</style>\n<table border=\"1\" class=\"dataframe\">\n  <thead>\n    <tr style=\"text-align: right;\">\n      <th></th>\n      <th>Country</th>\n      <th>Real coffee</th>\n      <th>Instant coffee</th>\n      <th>Sweetener</th>\n      <th>Biscuits</th>\n      <th>Tin soup</th>\n      <th>Potatoes</th>\n      <th>Apples</th>\n      <th>Oranges</th>\n      <th>Tinned fruit</th>\n      <th>Garlic</th>\n      <th>Olive oil</th>\n    </tr>\n  </thead>\n  <tbody>\n    <tr>\n      <th>0</th>\n      <td>False</td>\n      <td>False</td>\n      <td>False</td>\n      <td>False</td>\n      <td>False</td>\n      <td>False</td>\n      <td>False</td>\n      <td>False</td>\n      <td>False</td>\n      <td>False</td>\n      <td>False</td>\n      <td>False</td>\n    </tr>\n    <tr>\n      <th>1</th>\n      <td>False</td>\n      <td>False</td>\n      <td>False</td>\n      <td>False</td>\n      <td>False</td>\n      <td>False</td>\n      <td>False</td>\n      <td>False</td>\n      <td>False</td>\n      <td>False</td>\n      <td>False</td>\n      <td>False</td>\n    </tr>\n    <tr>\n      <th>2</th>\n      <td>False</td>\n      <td>False</td>\n      <td>False</td>\n      <td>False</td>\n      <td>False</td>\n      <td>False</td>\n      <td>False</td>\n      <td>False</td>\n      <td>False</td>\n      <td>False</td>\n      <td>False</td>\n      <td>False</td>\n    </tr>\n    <tr>\n      <th>3</th>\n      <td>False</td>\n      <td>False</td>\n      <td>False</td>\n      <td>False</td>\n      <td>True</td>\n      <td>False</td>\n      <td>False</td>\n      <td>False</td>\n      <td>False</td>\n      <td>False</td>\n      <td>True</td>\n      <td>False</td>\n    </tr>\n    <tr>\n      <th>4</th>\n      <td>False</td>\n      <td>False</td>\n      <td>False</td>\n      <td>False</td>\n      <td>True</td>\n      <td>False</td>\n      <td>False</td>\n      <td>False</td>\n      <td>False</td>\n      <td>False</td>\n      <td>True</td>\n      <td>False</td>\n    </tr>\n    <tr>\n      <th>5</th>\n      <td>False</td>\n      <td>False</td>\n      <td>False</td>\n      <td>False</td>\n      <td>True</td>\n      <td>False</td>\n      <td>False</td>\n      <td>False</td>\n      <td>False</td>\n      <td>False</td>\n      <td>False</td>\n      <td>False</td>\n    </tr>\n    <tr>\n      <th>6</th>\n      <td>False</td>\n      <td>False</td>\n      <td>False</td>\n      <td>False</td>\n      <td>False</td>\n      <td>False</td>\n      <td>False</td>\n      <td>False</td>\n      <td>False</td>\n      <td>False</td>\n      <td>False</td>\n      <td>False</td>\n    </tr>\n    <tr>\n      <th>7</th>\n      <td>False</td>\n      <td>False</td>\n      <td>False</td>\n      <td>False</td>\n      <td>False</td>\n      <td>False</td>\n      <td>False</td>\n      <td>True</td>\n      <td>False</td>\n      <td>False</td>\n      <td>False</td>\n      <td>False</td>\n    </tr>\n    <tr>\n      <th>8</th>\n      <td>False</td>\n      <td>False</td>\n      <td>False</td>\n      <td>False</td>\n      <td>False</td>\n      <td>False</td>\n      <td>False</td>\n      <td>True</td>\n      <td>False</td>\n      <td>False</td>\n      <td>False</td>\n      <td>False</td>\n    </tr>\n    <tr>\n      <th>9</th>\n      <td>False</td>\n      <td>False</td>\n      <td>False</td>\n      <td>False</td>\n      <td>False</td>\n      <td>False</td>\n      <td>False</td>\n      <td>True</td>\n      <td>False</td>\n      <td>False</td>\n      <td>False</td>\n      <td>False</td>\n    </tr>\n    <tr>\n      <th>10</th>\n      <td>False</td>\n      <td>False</td>\n      <td>False</td>\n      <td>False</td>\n      <td>False</td>\n      <td>False</td>\n      <td>False</td>\n      <td>True</td>\n      <td>False</td>\n      <td>False</td>\n      <td>False</td>\n      <td>False</td>\n    </tr>\n    <tr>\n      <th>11</th>\n      <td>False</td>\n      <td>False</td>\n      <td>False</td>\n      <td>False</td>\n      <td>False</td>\n      <td>False</td>\n      <td>False</td>\n      <td>False</td>\n      <td>False</td>\n      <td>False</td>\n      <td>False</td>\n      <td>False</td>\n    </tr>\n    <tr>\n      <th>12</th>\n      <td>False</td>\n      <td>False</td>\n      <td>False</td>\n      <td>False</td>\n      <td>False</td>\n      <td>False</td>\n      <td>False</td>\n      <td>False</td>\n      <td>False</td>\n      <td>False</td>\n      <td>False</td>\n      <td>False</td>\n    </tr>\n    <tr>\n      <th>13</th>\n      <td>False</td>\n      <td>False</td>\n      <td>False</td>\n      <td>False</td>\n      <td>False</td>\n      <td>False</td>\n      <td>False</td>\n      <td>False</td>\n      <td>False</td>\n      <td>False</td>\n      <td>False</td>\n      <td>False</td>\n    </tr>\n    <tr>\n      <th>14</th>\n      <td>False</td>\n      <td>False</td>\n      <td>False</td>\n      <td>False</td>\n      <td>False</td>\n      <td>False</td>\n      <td>False</td>\n      <td>False</td>\n      <td>False</td>\n      <td>False</td>\n      <td>False</td>\n      <td>False</td>\n    </tr>\n    <tr>\n      <th>15</th>\n      <td>False</td>\n      <td>False</td>\n      <td>False</td>\n      <td>False</td>\n      <td>False</td>\n      <td>False</td>\n      <td>False</td>\n      <td>False</td>\n      <td>False</td>\n      <td>False</td>\n      <td>False</td>\n      <td>False</td>\n    </tr>\n  </tbody>\n</table>\n</div>"
     },
     "metadata": {},
     "execution_count": 11
    }
   ],
   "source": [
    "df.isnull() # To check null value"
   ]
  },
  {
   "cell_type": "code",
   "execution_count": 14,
   "metadata": {},
   "outputs": [
    {
     "output_type": "execute_result",
     "data": {
      "text/plain": [
       "Country           0\n",
       "Real coffee       0\n",
       "Instant coffee    0\n",
       "Sweetener         0\n",
       "Biscuits          3\n",
       "Tin soup          0\n",
       "Potatoes          0\n",
       "Apples            4\n",
       "Oranges           0\n",
       "Tinned fruit      0\n",
       "Garlic            2\n",
       "Olive oil         0\n",
       "dtype: int64"
      ]
     },
     "metadata": {},
     "execution_count": 14
    }
   ],
   "source": [
    "df.isnull().sum() # To check the how many \"NULL\" value are there in each row "
   ]
  },
  {
   "cell_type": "code",
   "execution_count": 16,
   "metadata": {},
   "outputs": [
    {
     "output_type": "execute_result",
     "data": {
      "text/plain": [
       "9"
      ]
     },
     "metadata": {},
     "execution_count": 16
    }
   ],
   "source": [
    "df.isnull().sum().sum() # To find Total null values"
   ]
  },
  {
   "cell_type": "code",
   "execution_count": 17,
   "metadata": {},
   "outputs": [
    {
     "output_type": "execute_result",
     "data": {
      "text/plain": [
       "        Country  Real coffee  Instant coffee  Sweetener  Biscuits  Tin soup  \\\n",
       "0       Germany           90              49         19      57.0        19   \n",
       "1         Italy           82              10          2      55.0         3   \n",
       "2        France           88              42          4      76.0        11   \n",
       "3       Holland           96              62         32       NaN        43   \n",
       "4       Belgium           94              38         11       NaN        23   \n",
       "5    Luxembourg           97              61         28       NaN        12   \n",
       "6       England           27              86         22      91.0        76   \n",
       "7      Portugal           72              26          2      22.0         1   \n",
       "8       Austria           55              31          8      29.0        12   \n",
       "9   Switzerland           73              72         25      31.0        12   \n",
       "10       Sweden           97              13         31       9.0        43   \n",
       "11      Denmark           96              17         35      66.0        17   \n",
       "12       Norway           92              17         13      62.0         4   \n",
       "13      Finland           98              12         20      64.0        10   \n",
       "14        Spain           70              40          3      62.0         2   \n",
       "15      Ireland           30              52         11      80.0        18   \n",
       "\n",
       "    Potatoes  Apples  Oranges  Tinned fruit  Garlic  Olive oil  \n",
       "0         21    81.0       75            44    22.0         74  \n",
       "1          2    67.0       71             9    80.0         94  \n",
       "2         23    87.0       84            40    88.0         36  \n",
       "3          7    83.0       89            61     NaN         13  \n",
       "4          9    76.0       76            42     NaN         83  \n",
       "5          7    85.0       94            83    91.0         84  \n",
       "6         17    76.0       68            89    11.0         57  \n",
       "7         17     NaN       51             8    54.0         57  \n",
       "8         17     NaN       42            14    51.0         57  \n",
       "9         11     NaN       70            46    64.0         57  \n",
       "10        11     NaN       78            53     9.0         48  \n",
       "11        11    81.0       72            50    11.0         30  \n",
       "12        17    61.0       72            34    11.0         28  \n",
       "13         8    50.0       57            22    15.0         17  \n",
       "14        14    59.0       77            30    80.0         91  \n",
       "15         2    57.0       52            46     5.0         31  "
      ],
      "text/html": "<div>\n<style scoped>\n    .dataframe tbody tr th:only-of-type {\n        vertical-align: middle;\n    }\n\n    .dataframe tbody tr th {\n        vertical-align: top;\n    }\n\n    .dataframe thead th {\n        text-align: right;\n    }\n</style>\n<table border=\"1\" class=\"dataframe\">\n  <thead>\n    <tr style=\"text-align: right;\">\n      <th></th>\n      <th>Country</th>\n      <th>Real coffee</th>\n      <th>Instant coffee</th>\n      <th>Sweetener</th>\n      <th>Biscuits</th>\n      <th>Tin soup</th>\n      <th>Potatoes</th>\n      <th>Apples</th>\n      <th>Oranges</th>\n      <th>Tinned fruit</th>\n      <th>Garlic</th>\n      <th>Olive oil</th>\n    </tr>\n  </thead>\n  <tbody>\n    <tr>\n      <th>0</th>\n      <td>Germany</td>\n      <td>90</td>\n      <td>49</td>\n      <td>19</td>\n      <td>57.0</td>\n      <td>19</td>\n      <td>21</td>\n      <td>81.0</td>\n      <td>75</td>\n      <td>44</td>\n      <td>22.0</td>\n      <td>74</td>\n    </tr>\n    <tr>\n      <th>1</th>\n      <td>Italy</td>\n      <td>82</td>\n      <td>10</td>\n      <td>2</td>\n      <td>55.0</td>\n      <td>3</td>\n      <td>2</td>\n      <td>67.0</td>\n      <td>71</td>\n      <td>9</td>\n      <td>80.0</td>\n      <td>94</td>\n    </tr>\n    <tr>\n      <th>2</th>\n      <td>France</td>\n      <td>88</td>\n      <td>42</td>\n      <td>4</td>\n      <td>76.0</td>\n      <td>11</td>\n      <td>23</td>\n      <td>87.0</td>\n      <td>84</td>\n      <td>40</td>\n      <td>88.0</td>\n      <td>36</td>\n    </tr>\n    <tr>\n      <th>3</th>\n      <td>Holland</td>\n      <td>96</td>\n      <td>62</td>\n      <td>32</td>\n      <td>NaN</td>\n      <td>43</td>\n      <td>7</td>\n      <td>83.0</td>\n      <td>89</td>\n      <td>61</td>\n      <td>NaN</td>\n      <td>13</td>\n    </tr>\n    <tr>\n      <th>4</th>\n      <td>Belgium</td>\n      <td>94</td>\n      <td>38</td>\n      <td>11</td>\n      <td>NaN</td>\n      <td>23</td>\n      <td>9</td>\n      <td>76.0</td>\n      <td>76</td>\n      <td>42</td>\n      <td>NaN</td>\n      <td>83</td>\n    </tr>\n    <tr>\n      <th>5</th>\n      <td>Luxembourg</td>\n      <td>97</td>\n      <td>61</td>\n      <td>28</td>\n      <td>NaN</td>\n      <td>12</td>\n      <td>7</td>\n      <td>85.0</td>\n      <td>94</td>\n      <td>83</td>\n      <td>91.0</td>\n      <td>84</td>\n    </tr>\n    <tr>\n      <th>6</th>\n      <td>England</td>\n      <td>27</td>\n      <td>86</td>\n      <td>22</td>\n      <td>91.0</td>\n      <td>76</td>\n      <td>17</td>\n      <td>76.0</td>\n      <td>68</td>\n      <td>89</td>\n      <td>11.0</td>\n      <td>57</td>\n    </tr>\n    <tr>\n      <th>7</th>\n      <td>Portugal</td>\n      <td>72</td>\n      <td>26</td>\n      <td>2</td>\n      <td>22.0</td>\n      <td>1</td>\n      <td>17</td>\n      <td>NaN</td>\n      <td>51</td>\n      <td>8</td>\n      <td>54.0</td>\n      <td>57</td>\n    </tr>\n    <tr>\n      <th>8</th>\n      <td>Austria</td>\n      <td>55</td>\n      <td>31</td>\n      <td>8</td>\n      <td>29.0</td>\n      <td>12</td>\n      <td>17</td>\n      <td>NaN</td>\n      <td>42</td>\n      <td>14</td>\n      <td>51.0</td>\n      <td>57</td>\n    </tr>\n    <tr>\n      <th>9</th>\n      <td>Switzerland</td>\n      <td>73</td>\n      <td>72</td>\n      <td>25</td>\n      <td>31.0</td>\n      <td>12</td>\n      <td>11</td>\n      <td>NaN</td>\n      <td>70</td>\n      <td>46</td>\n      <td>64.0</td>\n      <td>57</td>\n    </tr>\n    <tr>\n      <th>10</th>\n      <td>Sweden</td>\n      <td>97</td>\n      <td>13</td>\n      <td>31</td>\n      <td>9.0</td>\n      <td>43</td>\n      <td>11</td>\n      <td>NaN</td>\n      <td>78</td>\n      <td>53</td>\n      <td>9.0</td>\n      <td>48</td>\n    </tr>\n    <tr>\n      <th>11</th>\n      <td>Denmark</td>\n      <td>96</td>\n      <td>17</td>\n      <td>35</td>\n      <td>66.0</td>\n      <td>17</td>\n      <td>11</td>\n      <td>81.0</td>\n      <td>72</td>\n      <td>50</td>\n      <td>11.0</td>\n      <td>30</td>\n    </tr>\n    <tr>\n      <th>12</th>\n      <td>Norway</td>\n      <td>92</td>\n      <td>17</td>\n      <td>13</td>\n      <td>62.0</td>\n      <td>4</td>\n      <td>17</td>\n      <td>61.0</td>\n      <td>72</td>\n      <td>34</td>\n      <td>11.0</td>\n      <td>28</td>\n    </tr>\n    <tr>\n      <th>13</th>\n      <td>Finland</td>\n      <td>98</td>\n      <td>12</td>\n      <td>20</td>\n      <td>64.0</td>\n      <td>10</td>\n      <td>8</td>\n      <td>50.0</td>\n      <td>57</td>\n      <td>22</td>\n      <td>15.0</td>\n      <td>17</td>\n    </tr>\n    <tr>\n      <th>14</th>\n      <td>Spain</td>\n      <td>70</td>\n      <td>40</td>\n      <td>3</td>\n      <td>62.0</td>\n      <td>2</td>\n      <td>14</td>\n      <td>59.0</td>\n      <td>77</td>\n      <td>30</td>\n      <td>80.0</td>\n      <td>91</td>\n    </tr>\n    <tr>\n      <th>15</th>\n      <td>Ireland</td>\n      <td>30</td>\n      <td>52</td>\n      <td>11</td>\n      <td>80.0</td>\n      <td>18</td>\n      <td>2</td>\n      <td>57.0</td>\n      <td>52</td>\n      <td>46</td>\n      <td>5.0</td>\n      <td>31</td>\n    </tr>\n  </tbody>\n</table>\n</div>"
     },
     "metadata": {},
     "execution_count": 17
    }
   ],
   "source": [
    "df = pd.read_csv(\"E:\\\\ML\\\\ML\\\\Pandas\\\\food consumption.csv\")\n",
    "df"
   ]
  },
  {
   "cell_type": "code",
   "execution_count": 22,
   "metadata": {},
   "outputs": [
    {
     "output_type": "execute_result",
     "data": {
      "text/plain": [
       "    Country  Real coffee  Instant coffee  Sweetener  Biscuits  Tin soup  \\\n",
       "0      True         True            True       True      True      True   \n",
       "1      True         True            True       True      True      True   \n",
       "2      True         True            True       True      True      True   \n",
       "3      True         True            True       True     False      True   \n",
       "4      True         True            True       True     False      True   \n",
       "5      True         True            True       True     False      True   \n",
       "6      True         True            True       True      True      True   \n",
       "7      True         True            True       True      True      True   \n",
       "8      True         True            True       True      True      True   \n",
       "9      True         True            True       True      True      True   \n",
       "10     True         True            True       True      True      True   \n",
       "11     True         True            True       True      True      True   \n",
       "12     True         True            True       True      True      True   \n",
       "13     True         True            True       True      True      True   \n",
       "14     True         True            True       True      True      True   \n",
       "15     True         True            True       True      True      True   \n",
       "\n",
       "    Potatoes  Apples  Oranges  Tinned fruit  Garlic  Olive oil  \n",
       "0       True    True     True          True    True       True  \n",
       "1       True    True     True          True    True       True  \n",
       "2       True    True     True          True    True       True  \n",
       "3       True    True     True          True   False       True  \n",
       "4       True    True     True          True   False       True  \n",
       "5       True    True     True          True    True       True  \n",
       "6       True    True     True          True    True       True  \n",
       "7       True   False     True          True    True       True  \n",
       "8       True   False     True          True    True       True  \n",
       "9       True   False     True          True    True       True  \n",
       "10      True   False     True          True    True       True  \n",
       "11      True    True     True          True    True       True  \n",
       "12      True    True     True          True    True       True  \n",
       "13      True    True     True          True    True       True  \n",
       "14      True    True     True          True    True       True  \n",
       "15      True    True     True          True    True       True  "
      ],
      "text/html": "<div>\n<style scoped>\n    .dataframe tbody tr th:only-of-type {\n        vertical-align: middle;\n    }\n\n    .dataframe tbody tr th {\n        vertical-align: top;\n    }\n\n    .dataframe thead th {\n        text-align: right;\n    }\n</style>\n<table border=\"1\" class=\"dataframe\">\n  <thead>\n    <tr style=\"text-align: right;\">\n      <th></th>\n      <th>Country</th>\n      <th>Real coffee</th>\n      <th>Instant coffee</th>\n      <th>Sweetener</th>\n      <th>Biscuits</th>\n      <th>Tin soup</th>\n      <th>Potatoes</th>\n      <th>Apples</th>\n      <th>Oranges</th>\n      <th>Tinned fruit</th>\n      <th>Garlic</th>\n      <th>Olive oil</th>\n    </tr>\n  </thead>\n  <tbody>\n    <tr>\n      <th>0</th>\n      <td>True</td>\n      <td>True</td>\n      <td>True</td>\n      <td>True</td>\n      <td>True</td>\n      <td>True</td>\n      <td>True</td>\n      <td>True</td>\n      <td>True</td>\n      <td>True</td>\n      <td>True</td>\n      <td>True</td>\n    </tr>\n    <tr>\n      <th>1</th>\n      <td>True</td>\n      <td>True</td>\n      <td>True</td>\n      <td>True</td>\n      <td>True</td>\n      <td>True</td>\n      <td>True</td>\n      <td>True</td>\n      <td>True</td>\n      <td>True</td>\n      <td>True</td>\n      <td>True</td>\n    </tr>\n    <tr>\n      <th>2</th>\n      <td>True</td>\n      <td>True</td>\n      <td>True</td>\n      <td>True</td>\n      <td>True</td>\n      <td>True</td>\n      <td>True</td>\n      <td>True</td>\n      <td>True</td>\n      <td>True</td>\n      <td>True</td>\n      <td>True</td>\n    </tr>\n    <tr>\n      <th>3</th>\n      <td>True</td>\n      <td>True</td>\n      <td>True</td>\n      <td>True</td>\n      <td>False</td>\n      <td>True</td>\n      <td>True</td>\n      <td>True</td>\n      <td>True</td>\n      <td>True</td>\n      <td>False</td>\n      <td>True</td>\n    </tr>\n    <tr>\n      <th>4</th>\n      <td>True</td>\n      <td>True</td>\n      <td>True</td>\n      <td>True</td>\n      <td>False</td>\n      <td>True</td>\n      <td>True</td>\n      <td>True</td>\n      <td>True</td>\n      <td>True</td>\n      <td>False</td>\n      <td>True</td>\n    </tr>\n    <tr>\n      <th>5</th>\n      <td>True</td>\n      <td>True</td>\n      <td>True</td>\n      <td>True</td>\n      <td>False</td>\n      <td>True</td>\n      <td>True</td>\n      <td>True</td>\n      <td>True</td>\n      <td>True</td>\n      <td>True</td>\n      <td>True</td>\n    </tr>\n    <tr>\n      <th>6</th>\n      <td>True</td>\n      <td>True</td>\n      <td>True</td>\n      <td>True</td>\n      <td>True</td>\n      <td>True</td>\n      <td>True</td>\n      <td>True</td>\n      <td>True</td>\n      <td>True</td>\n      <td>True</td>\n      <td>True</td>\n    </tr>\n    <tr>\n      <th>7</th>\n      <td>True</td>\n      <td>True</td>\n      <td>True</td>\n      <td>True</td>\n      <td>True</td>\n      <td>True</td>\n      <td>True</td>\n      <td>False</td>\n      <td>True</td>\n      <td>True</td>\n      <td>True</td>\n      <td>True</td>\n    </tr>\n    <tr>\n      <th>8</th>\n      <td>True</td>\n      <td>True</td>\n      <td>True</td>\n      <td>True</td>\n      <td>True</td>\n      <td>True</td>\n      <td>True</td>\n      <td>False</td>\n      <td>True</td>\n      <td>True</td>\n      <td>True</td>\n      <td>True</td>\n    </tr>\n    <tr>\n      <th>9</th>\n      <td>True</td>\n      <td>True</td>\n      <td>True</td>\n      <td>True</td>\n      <td>True</td>\n      <td>True</td>\n      <td>True</td>\n      <td>False</td>\n      <td>True</td>\n      <td>True</td>\n      <td>True</td>\n      <td>True</td>\n    </tr>\n    <tr>\n      <th>10</th>\n      <td>True</td>\n      <td>True</td>\n      <td>True</td>\n      <td>True</td>\n      <td>True</td>\n      <td>True</td>\n      <td>True</td>\n      <td>False</td>\n      <td>True</td>\n      <td>True</td>\n      <td>True</td>\n      <td>True</td>\n    </tr>\n    <tr>\n      <th>11</th>\n      <td>True</td>\n      <td>True</td>\n      <td>True</td>\n      <td>True</td>\n      <td>True</td>\n      <td>True</td>\n      <td>True</td>\n      <td>True</td>\n      <td>True</td>\n      <td>True</td>\n      <td>True</td>\n      <td>True</td>\n    </tr>\n    <tr>\n      <th>12</th>\n      <td>True</td>\n      <td>True</td>\n      <td>True</td>\n      <td>True</td>\n      <td>True</td>\n      <td>True</td>\n      <td>True</td>\n      <td>True</td>\n      <td>True</td>\n      <td>True</td>\n      <td>True</td>\n      <td>True</td>\n    </tr>\n    <tr>\n      <th>13</th>\n      <td>True</td>\n      <td>True</td>\n      <td>True</td>\n      <td>True</td>\n      <td>True</td>\n      <td>True</td>\n      <td>True</td>\n      <td>True</td>\n      <td>True</td>\n      <td>True</td>\n      <td>True</td>\n      <td>True</td>\n    </tr>\n    <tr>\n      <th>14</th>\n      <td>True</td>\n      <td>True</td>\n      <td>True</td>\n      <td>True</td>\n      <td>True</td>\n      <td>True</td>\n      <td>True</td>\n      <td>True</td>\n      <td>True</td>\n      <td>True</td>\n      <td>True</td>\n      <td>True</td>\n    </tr>\n    <tr>\n      <th>15</th>\n      <td>True</td>\n      <td>True</td>\n      <td>True</td>\n      <td>True</td>\n      <td>True</td>\n      <td>True</td>\n      <td>True</td>\n      <td>True</td>\n      <td>True</td>\n      <td>True</td>\n      <td>True</td>\n      <td>True</td>\n    </tr>\n  </tbody>\n</table>\n</div>"
     },
     "metadata": {},
     "execution_count": 22
    }
   ],
   "source": [
    "df.notnull() # To find Notnull value"
   ]
  },
  {
   "cell_type": "code",
   "execution_count": 20,
   "metadata": {},
   "outputs": [
    {
     "output_type": "execute_result",
     "data": {
      "text/plain": [
       "Country           16\n",
       "Real coffee       16\n",
       "Instant coffee    16\n",
       "Sweetener         16\n",
       "Biscuits          13\n",
       "Tin soup          16\n",
       "Potatoes          16\n",
       "Apples            12\n",
       "Oranges           16\n",
       "Tinned fruit      16\n",
       "Garlic            14\n",
       "Olive oil         16\n",
       "dtype: int64"
      ]
     },
     "metadata": {},
     "execution_count": 20
    }
   ],
   "source": [
    "df.notnull().sum() # To find total number "
   ]
  },
  {
   "cell_type": "code",
   "execution_count": 21,
   "metadata": {},
   "outputs": [
    {
     "output_type": "execute_result",
     "data": {
      "text/plain": [
       "183"
      ]
     },
     "metadata": {},
     "execution_count": 21
    }
   ],
   "source": [
    "df.notnull().sum().sum() # to find total no of not null"
   ]
  },
  {
   "cell_type": "code",
   "execution_count": 27,
   "metadata": {},
   "outputs": [
    {
     "output_type": "execute_result",
     "data": {
      "text/plain": [
       "0    1.0\n",
       "1    2.0\n",
       "2    3.0\n",
       "3    NaN\n",
       "4    4.0\n",
       "5    NaN\n",
       "dtype: float64"
      ]
     },
     "metadata": {},
     "execution_count": 27
    }
   ],
   "source": [
    "#Series\n",
    "import numpy as np\n",
    "sr = pd.Series([1,2,3,np.nan,4,np.NAN])\n",
    "sr"
   ]
  },
  {
   "cell_type": "code",
   "execution_count": 28,
   "metadata": {},
   "outputs": [
    {
     "output_type": "execute_result",
     "data": {
      "text/plain": [
       "0    False\n",
       "1    False\n",
       "2    False\n",
       "3     True\n",
       "4    False\n",
       "5     True\n",
       "dtype: bool"
      ]
     },
     "metadata": {},
     "execution_count": 28
    }
   ],
   "source": [
    "sr.isnull()"
   ]
  },
  {
   "cell_type": "code",
   "execution_count": 29,
   "metadata": {},
   "outputs": [
    {
     "output_type": "execute_result",
     "data": {
      "text/plain": [
       "2"
      ]
     },
     "metadata": {},
     "execution_count": 29
    }
   ],
   "source": [
    "sr.isnull().sum()"
   ]
  }
 ]
}