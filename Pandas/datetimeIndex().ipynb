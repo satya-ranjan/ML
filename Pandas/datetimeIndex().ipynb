{
 "cells": [
  {
   "cell_type": "markdown",
   "source": [
    "# Pandas DatetimeIndex Functionality"
   ],
   "metadata": {}
  },
  {
   "cell_type": "code",
   "execution_count": 1,
   "source": [
    "import pandas as pd"
   ],
   "outputs": [],
   "metadata": {}
  },
  {
   "cell_type": "code",
   "execution_count": 2,
   "source": [
    "df = pd.read_csv(\"E:\\ML\\ML\\Pandas\\Vc_Statup_1.csv\")\r\n",
    "df"
   ],
   "outputs": [
    {
     "output_type": "execute_result",
     "data": {
      "text/plain": [
       "          Date  R&D Spend  Marketing Spend  Profit\n",
       "0   01-07-2019     125349            13687  192261\n",
       "1   02-07-2019     122848           151377  192261\n",
       "2   03-07-2019     153441           327468  192261\n",
       "3   04-07-2019     144372            63338  192261\n",
       "4   05-07-2019     142107            91391  192261\n",
       "5   06-07-2019     131876            99814  192261\n",
       "6   07-07-2019     134615           147198  192261\n",
       "7   08-07-2019     130298           145530  192261\n",
       "8   09-07-2019     134615             1471  192261\n",
       "9   10-07-2019     130298           145530  192261\n",
       "10  11-07-2019     120542           148718  192261\n",
       "11  12-07-2019     123334           108679  192261"
      ],
      "text/html": [
       "<div>\n",
       "<style scoped>\n",
       "    .dataframe tbody tr th:only-of-type {\n",
       "        vertical-align: middle;\n",
       "    }\n",
       "\n",
       "    .dataframe tbody tr th {\n",
       "        vertical-align: top;\n",
       "    }\n",
       "\n",
       "    .dataframe thead th {\n",
       "        text-align: right;\n",
       "    }\n",
       "</style>\n",
       "<table border=\"1\" class=\"dataframe\">\n",
       "  <thead>\n",
       "    <tr style=\"text-align: right;\">\n",
       "      <th></th>\n",
       "      <th>Date</th>\n",
       "      <th>R&amp;D Spend</th>\n",
       "      <th>Marketing Spend</th>\n",
       "      <th>Profit</th>\n",
       "    </tr>\n",
       "  </thead>\n",
       "  <tbody>\n",
       "    <tr>\n",
       "      <th>0</th>\n",
       "      <td>01-07-2019</td>\n",
       "      <td>125349</td>\n",
       "      <td>13687</td>\n",
       "      <td>192261</td>\n",
       "    </tr>\n",
       "    <tr>\n",
       "      <th>1</th>\n",
       "      <td>02-07-2019</td>\n",
       "      <td>122848</td>\n",
       "      <td>151377</td>\n",
       "      <td>192261</td>\n",
       "    </tr>\n",
       "    <tr>\n",
       "      <th>2</th>\n",
       "      <td>03-07-2019</td>\n",
       "      <td>153441</td>\n",
       "      <td>327468</td>\n",
       "      <td>192261</td>\n",
       "    </tr>\n",
       "    <tr>\n",
       "      <th>3</th>\n",
       "      <td>04-07-2019</td>\n",
       "      <td>144372</td>\n",
       "      <td>63338</td>\n",
       "      <td>192261</td>\n",
       "    </tr>\n",
       "    <tr>\n",
       "      <th>4</th>\n",
       "      <td>05-07-2019</td>\n",
       "      <td>142107</td>\n",
       "      <td>91391</td>\n",
       "      <td>192261</td>\n",
       "    </tr>\n",
       "    <tr>\n",
       "      <th>5</th>\n",
       "      <td>06-07-2019</td>\n",
       "      <td>131876</td>\n",
       "      <td>99814</td>\n",
       "      <td>192261</td>\n",
       "    </tr>\n",
       "    <tr>\n",
       "      <th>6</th>\n",
       "      <td>07-07-2019</td>\n",
       "      <td>134615</td>\n",
       "      <td>147198</td>\n",
       "      <td>192261</td>\n",
       "    </tr>\n",
       "    <tr>\n",
       "      <th>7</th>\n",
       "      <td>08-07-2019</td>\n",
       "      <td>130298</td>\n",
       "      <td>145530</td>\n",
       "      <td>192261</td>\n",
       "    </tr>\n",
       "    <tr>\n",
       "      <th>8</th>\n",
       "      <td>09-07-2019</td>\n",
       "      <td>134615</td>\n",
       "      <td>1471</td>\n",
       "      <td>192261</td>\n",
       "    </tr>\n",
       "    <tr>\n",
       "      <th>9</th>\n",
       "      <td>10-07-2019</td>\n",
       "      <td>130298</td>\n",
       "      <td>145530</td>\n",
       "      <td>192261</td>\n",
       "    </tr>\n",
       "    <tr>\n",
       "      <th>10</th>\n",
       "      <td>11-07-2019</td>\n",
       "      <td>120542</td>\n",
       "      <td>148718</td>\n",
       "      <td>192261</td>\n",
       "    </tr>\n",
       "    <tr>\n",
       "      <th>11</th>\n",
       "      <td>12-07-2019</td>\n",
       "      <td>123334</td>\n",
       "      <td>108679</td>\n",
       "      <td>192261</td>\n",
       "    </tr>\n",
       "  </tbody>\n",
       "</table>\n",
       "</div>"
      ]
     },
     "metadata": {},
     "execution_count": 2
    }
   ],
   "metadata": {}
  },
  {
   "cell_type": "code",
   "execution_count": 4,
   "source": [
    "df.dtypes # to check thhe data type of all the row"
   ],
   "outputs": [
    {
     "output_type": "execute_result",
     "data": {
      "text/plain": [
       "Date               object\n",
       "R&D Spend           int64\n",
       "Marketing Spend     int64\n",
       "Profit              int64\n",
       "dtype: object"
      ]
     },
     "metadata": {},
     "execution_count": 4
    }
   ],
   "metadata": {}
  },
  {
   "cell_type": "code",
   "execution_count": 5,
   "source": [
    "type(df.Date[0])#To see the data type of date columns"
   ],
   "outputs": [
    {
     "output_type": "execute_result",
     "data": {
      "text/plain": [
       "str"
      ]
     },
     "metadata": {},
     "execution_count": 5
    }
   ],
   "metadata": {}
  },
  {
   "cell_type": "code",
   "execution_count": 6,
   "source": [
    "df = pd.read_csv(\"E:\\ML\\ML\\Pandas\\Vc_Statup_1.csv\",parse_dates=[\"Date\"]) # to change the data type of Date coloums\r\n",
    "df"
   ],
   "outputs": [
    {
     "output_type": "execute_result",
     "data": {
      "text/plain": [
       "         Date  R&D Spend  Marketing Spend  Profit\n",
       "0  2019-01-07     125349            13687  192261\n",
       "1  2019-02-07     122848           151377  192261\n",
       "2  2019-03-07     153441           327468  192261\n",
       "3  2019-04-07     144372            63338  192261\n",
       "4  2019-05-07     142107            91391  192261\n",
       "5  2019-06-07     131876            99814  192261\n",
       "6  2019-07-07     134615           147198  192261\n",
       "7  2019-08-07     130298           145530  192261\n",
       "8  2019-09-07     134615             1471  192261\n",
       "9  2019-10-07     130298           145530  192261\n",
       "10 2019-11-07     120542           148718  192261\n",
       "11 2019-12-07     123334           108679  192261"
      ],
      "text/html": [
       "<div>\n",
       "<style scoped>\n",
       "    .dataframe tbody tr th:only-of-type {\n",
       "        vertical-align: middle;\n",
       "    }\n",
       "\n",
       "    .dataframe tbody tr th {\n",
       "        vertical-align: top;\n",
       "    }\n",
       "\n",
       "    .dataframe thead th {\n",
       "        text-align: right;\n",
       "    }\n",
       "</style>\n",
       "<table border=\"1\" class=\"dataframe\">\n",
       "  <thead>\n",
       "    <tr style=\"text-align: right;\">\n",
       "      <th></th>\n",
       "      <th>Date</th>\n",
       "      <th>R&amp;D Spend</th>\n",
       "      <th>Marketing Spend</th>\n",
       "      <th>Profit</th>\n",
       "    </tr>\n",
       "  </thead>\n",
       "  <tbody>\n",
       "    <tr>\n",
       "      <th>0</th>\n",
       "      <td>2019-01-07</td>\n",
       "      <td>125349</td>\n",
       "      <td>13687</td>\n",
       "      <td>192261</td>\n",
       "    </tr>\n",
       "    <tr>\n",
       "      <th>1</th>\n",
       "      <td>2019-02-07</td>\n",
       "      <td>122848</td>\n",
       "      <td>151377</td>\n",
       "      <td>192261</td>\n",
       "    </tr>\n",
       "    <tr>\n",
       "      <th>2</th>\n",
       "      <td>2019-03-07</td>\n",
       "      <td>153441</td>\n",
       "      <td>327468</td>\n",
       "      <td>192261</td>\n",
       "    </tr>\n",
       "    <tr>\n",
       "      <th>3</th>\n",
       "      <td>2019-04-07</td>\n",
       "      <td>144372</td>\n",
       "      <td>63338</td>\n",
       "      <td>192261</td>\n",
       "    </tr>\n",
       "    <tr>\n",
       "      <th>4</th>\n",
       "      <td>2019-05-07</td>\n",
       "      <td>142107</td>\n",
       "      <td>91391</td>\n",
       "      <td>192261</td>\n",
       "    </tr>\n",
       "    <tr>\n",
       "      <th>5</th>\n",
       "      <td>2019-06-07</td>\n",
       "      <td>131876</td>\n",
       "      <td>99814</td>\n",
       "      <td>192261</td>\n",
       "    </tr>\n",
       "    <tr>\n",
       "      <th>6</th>\n",
       "      <td>2019-07-07</td>\n",
       "      <td>134615</td>\n",
       "      <td>147198</td>\n",
       "      <td>192261</td>\n",
       "    </tr>\n",
       "    <tr>\n",
       "      <th>7</th>\n",
       "      <td>2019-08-07</td>\n",
       "      <td>130298</td>\n",
       "      <td>145530</td>\n",
       "      <td>192261</td>\n",
       "    </tr>\n",
       "    <tr>\n",
       "      <th>8</th>\n",
       "      <td>2019-09-07</td>\n",
       "      <td>134615</td>\n",
       "      <td>1471</td>\n",
       "      <td>192261</td>\n",
       "    </tr>\n",
       "    <tr>\n",
       "      <th>9</th>\n",
       "      <td>2019-10-07</td>\n",
       "      <td>130298</td>\n",
       "      <td>145530</td>\n",
       "      <td>192261</td>\n",
       "    </tr>\n",
       "    <tr>\n",
       "      <th>10</th>\n",
       "      <td>2019-11-07</td>\n",
       "      <td>120542</td>\n",
       "      <td>148718</td>\n",
       "      <td>192261</td>\n",
       "    </tr>\n",
       "    <tr>\n",
       "      <th>11</th>\n",
       "      <td>2019-12-07</td>\n",
       "      <td>123334</td>\n",
       "      <td>108679</td>\n",
       "      <td>192261</td>\n",
       "    </tr>\n",
       "  </tbody>\n",
       "</table>\n",
       "</div>"
      ]
     },
     "metadata": {},
     "execution_count": 6
    }
   ],
   "metadata": {}
  },
  {
   "cell_type": "code",
   "execution_count": 7,
   "source": [
    "df.dtypes"
   ],
   "outputs": [
    {
     "output_type": "execute_result",
     "data": {
      "text/plain": [
       "Date               datetime64[ns]\n",
       "R&D Spend                   int64\n",
       "Marketing Spend             int64\n",
       "Profit                      int64\n",
       "dtype: object"
      ]
     },
     "metadata": {},
     "execution_count": 7
    }
   ],
   "metadata": {}
  },
  {
   "cell_type": "code",
   "execution_count": null,
   "source": [],
   "outputs": [],
   "metadata": {}
  }
 ],
 "metadata": {
  "orig_nbformat": 4,
  "language_info": {
   "name": "python",
   "version": "3.9.5",
   "mimetype": "text/x-python",
   "codemirror_mode": {
    "name": "ipython",
    "version": 3
   },
   "pygments_lexer": "ipython3",
   "nbconvert_exporter": "python",
   "file_extension": ".py"
  },
  "kernelspec": {
   "name": "python3",
   "display_name": "Python 3.9.5 64-bit"
  },
  "interpreter": {
   "hash": "a12d694c3ccac42055183a0ad11e659c6a2db5c6555ad2c8919d5814fd4e404f"
  }
 },
 "nbformat": 4,
 "nbformat_minor": 2
}