{
 "metadata": {
  "language_info": {
   "codemirror_mode": {
    "name": "ipython",
    "version": 3
   },
   "file_extension": ".py",
   "mimetype": "text/x-python",
   "name": "python",
   "nbconvert_exporter": "python",
   "pygments_lexer": "ipython3",
   "version": "3.9.5"
  },
  "orig_nbformat": 4,
  "kernelspec": {
   "name": "python3",
   "display_name": "Python 3.9.5 64-bit"
  },
  "interpreter": {
   "hash": "a12d694c3ccac42055183a0ad11e659c6a2db5c6555ad2c8919d5814fd4e404f"
  }
 },
 "nbformat": 4,
 "nbformat_minor": 2,
 "cells": [
  {
   "source": [
    "# Write CSV file in pandas"
   ],
   "cell_type": "markdown",
   "metadata": {}
  },
  {
   "cell_type": "code",
   "execution_count": 2,
   "metadata": {},
   "outputs": [],
   "source": [
    "import pandas as pd"
   ]
  },
  {
   "cell_type": "code",
   "execution_count": 8,
   "metadata": {},
   "outputs": [
    {
     "output_type": "execute_result",
     "data": {
      "text/plain": [
       "   Rank               Title                           Website  Employees  \\\n",
       "0     1             Walmart            http://www.walmart.com    2300000   \n",
       "1     2  Berkshire Hathaway  http://www.berkshirehathaway.com     367700   \n",
       "2     3               Apple              http://www.apple.com     116000   \n",
       "3     4         Exxon Mobil         http://www.exxonmobil.com      72700   \n",
       "4     5            McKesson           http://www.mckesson.com      68000   \n",
       "5     6  UnitedHealth Group  http://www.unitedhealthgroup.com     230000   \n",
       "6     7          CVS Health          http://www.cvshealth.com     204000   \n",
       "7     8      General Motors                 http://www.gm.com     225000   \n",
       "8     9                AT&T                http://www.att.com     268540   \n",
       "9    10          Ford Motor               http://www.ford.com     201000   \n",
       "\n",
       "                   Sector                                  Industry  \\\n",
       "0               Retailing                     General Merchandisers   \n",
       "1              Financials  Insurance: Property and Casualty (Stock)   \n",
       "2              Technology               Computers, Office Equipment   \n",
       "3                  Energy                        Petroleum Refining   \n",
       "4             Wholesalers                  Wholesalers: Health Care   \n",
       "5             Health Care   Health Care: Insurance and Managed Care   \n",
       "6             Health Care  Health Care: Pharmacy and Other Services   \n",
       "7  Motor Vehicles & Parts                  Motor Vehicles and Parts   \n",
       "8      Telecommunications                        Telecommunications   \n",
       "9  Motor Vehicles & Parts                  Motor Vehicles and Parts   \n",
       "\n",
       "          Hqlocation                  Hqaddr         Hqcity Hqstate  ...  \\\n",
       "0    Bentonville, AR     702 S.W. Eighth St.    Bentonville      AR  ...   \n",
       "1          Omaha, NE         3555 Farnam St.          Omaha      NE  ...   \n",
       "2      Cupertino, CA         1 Infinite Loop      Cupertino      CA  ...   \n",
       "3         Irving, TX  5959 Las Colinas Blvd.         Irving      TX  ...   \n",
       "4  San Francisco, CA              1 Post St.  San Francisco      CA  ...   \n",
       "5     Minnetonka, MN        9900 Bren Rd. E.     Minnetonka      MN  ...   \n",
       "6     Woonsocket, RI               1 CVS Dr.     Woonsocket      RI  ...   \n",
       "7        Detroit, MI  300 Renaissance Center        Detroit      MI  ...   \n",
       "8         Dallas, TX        208 S. Akard St.         Dallas      TX  ...   \n",
       "9       Dearborn, MI          1 American Rd.       Dearborn      MI  ...   \n",
       "\n",
       "                                       Ceo-title  \\\n",
       "0  President, Chief Executive Officer & Director   \n",
       "1             Chairman & Chief Executive Officer   \n",
       "2             Chief Executive Officer & Director   \n",
       "3             Chairman & Chief Executive Officer   \n",
       "4  Chairman, President & Chief Executive Officer   \n",
       "5             Chief Executive Officer & Director   \n",
       "6  President, Chief Executive Officer & Director   \n",
       "7             Chairman & Chief Executive Officer   \n",
       "8  Chairman, President & Chief Executive Officer   \n",
       "9  President, Chief Executive Officer & Director   \n",
       "\n",
       "                                      Address Ticker  \\\n",
       "0  702 S.W. Eighth St., Bentonville, AR 72716    WMT   \n",
       "1            3555 Farnam St., Omaha, NE 68131   BRKA   \n",
       "2        1 Infinite Loop, Cupertino, CA 95014   AAPL   \n",
       "3    5959 Las Colinas Blvd., Irving, TX 75039    XOM   \n",
       "4         1 Post St., San Francisco, CA 94104    MCK   \n",
       "5      9900 Bren Rd. E., Minnetonka, MN 55343    UNH   \n",
       "6             1 CVS Dr., Woonsocket, RI 02895    CVS   \n",
       "7   300 Renaissance Center, Detroit, MI 48265     GM   \n",
       "8          208 S. Akard St., Dallas, TX 75202      T   \n",
       "9          1 American Rd., Dearborn, MI 48126      F   \n",
       "\n",
       "                          Fullname Revenues Revchange Profits  Prftchange  \\\n",
       "0            Wal-Mart Stores, Inc.   485873       0.8   13643        -7.2   \n",
       "1          Berkshire Hathaway Inc.   223604       6.1   24074         0.0   \n",
       "2                      Apple, Inc.   215639      -7.7   45687       -14.4   \n",
       "3          Exxon Mobil Corporation   205004     -16.7    7840       -51.5   \n",
       "4             McKesson Corporation   192487       6.2    2258        53.0   \n",
       "5  UnitedHealth Group Incorporated   184840      17.7    7017        20.7   \n",
       "6           CVS Health Corporation   177526      15.8    5317         1.5   \n",
       "7           General Motors Company   166380       9.2    9427        -2.7   \n",
       "8                        AT&T Inc.   163786      11.6   12976        -2.8   \n",
       "9               Ford Motor Company   151800       1.5    4596       -37.7   \n",
       "\n",
       "   Assets  Totshequity  \n",
       "0  198825        77798  \n",
       "1  620854       283001  \n",
       "2  321686       128249  \n",
       "3  330314       167325  \n",
       "4   56563         8924  \n",
       "5  122810        38274  \n",
       "6   94462        36830  \n",
       "7  221690        43836  \n",
       "8  403821       123135  \n",
       "9  237951        29170  \n",
       "\n",
       "[10 rows x 23 columns]"
      ],
      "text/html": "<div>\n<style scoped>\n    .dataframe tbody tr th:only-of-type {\n        vertical-align: middle;\n    }\n\n    .dataframe tbody tr th {\n        vertical-align: top;\n    }\n\n    .dataframe thead th {\n        text-align: right;\n    }\n</style>\n<table border=\"1\" class=\"dataframe\">\n  <thead>\n    <tr style=\"text-align: right;\">\n      <th></th>\n      <th>Rank</th>\n      <th>Title</th>\n      <th>Website</th>\n      <th>Employees</th>\n      <th>Sector</th>\n      <th>Industry</th>\n      <th>Hqlocation</th>\n      <th>Hqaddr</th>\n      <th>Hqcity</th>\n      <th>Hqstate</th>\n      <th>...</th>\n      <th>Ceo-title</th>\n      <th>Address</th>\n      <th>Ticker</th>\n      <th>Fullname</th>\n      <th>Revenues</th>\n      <th>Revchange</th>\n      <th>Profits</th>\n      <th>Prftchange</th>\n      <th>Assets</th>\n      <th>Totshequity</th>\n    </tr>\n  </thead>\n  <tbody>\n    <tr>\n      <th>0</th>\n      <td>1</td>\n      <td>Walmart</td>\n      <td>http://www.walmart.com</td>\n      <td>2300000</td>\n      <td>Retailing</td>\n      <td>General Merchandisers</td>\n      <td>Bentonville, AR</td>\n      <td>702 S.W. Eighth St.</td>\n      <td>Bentonville</td>\n      <td>AR</td>\n      <td>...</td>\n      <td>President, Chief Executive Officer &amp; Director</td>\n      <td>702 S.W. Eighth St., Bentonville, AR 72716</td>\n      <td>WMT</td>\n      <td>Wal-Mart Stores, Inc.</td>\n      <td>485873</td>\n      <td>0.8</td>\n      <td>13643</td>\n      <td>-7.2</td>\n      <td>198825</td>\n      <td>77798</td>\n    </tr>\n    <tr>\n      <th>1</th>\n      <td>2</td>\n      <td>Berkshire Hathaway</td>\n      <td>http://www.berkshirehathaway.com</td>\n      <td>367700</td>\n      <td>Financials</td>\n      <td>Insurance: Property and Casualty (Stock)</td>\n      <td>Omaha, NE</td>\n      <td>3555 Farnam St.</td>\n      <td>Omaha</td>\n      <td>NE</td>\n      <td>...</td>\n      <td>Chairman &amp; Chief Executive Officer</td>\n      <td>3555 Farnam St., Omaha, NE 68131</td>\n      <td>BRKA</td>\n      <td>Berkshire Hathaway Inc.</td>\n      <td>223604</td>\n      <td>6.1</td>\n      <td>24074</td>\n      <td>0.0</td>\n      <td>620854</td>\n      <td>283001</td>\n    </tr>\n    <tr>\n      <th>2</th>\n      <td>3</td>\n      <td>Apple</td>\n      <td>http://www.apple.com</td>\n      <td>116000</td>\n      <td>Technology</td>\n      <td>Computers, Office Equipment</td>\n      <td>Cupertino, CA</td>\n      <td>1 Infinite Loop</td>\n      <td>Cupertino</td>\n      <td>CA</td>\n      <td>...</td>\n      <td>Chief Executive Officer &amp; Director</td>\n      <td>1 Infinite Loop, Cupertino, CA 95014</td>\n      <td>AAPL</td>\n      <td>Apple, Inc.</td>\n      <td>215639</td>\n      <td>-7.7</td>\n      <td>45687</td>\n      <td>-14.4</td>\n      <td>321686</td>\n      <td>128249</td>\n    </tr>\n    <tr>\n      <th>3</th>\n      <td>4</td>\n      <td>Exxon Mobil</td>\n      <td>http://www.exxonmobil.com</td>\n      <td>72700</td>\n      <td>Energy</td>\n      <td>Petroleum Refining</td>\n      <td>Irving, TX</td>\n      <td>5959 Las Colinas Blvd.</td>\n      <td>Irving</td>\n      <td>TX</td>\n      <td>...</td>\n      <td>Chairman &amp; Chief Executive Officer</td>\n      <td>5959 Las Colinas Blvd., Irving, TX 75039</td>\n      <td>XOM</td>\n      <td>Exxon Mobil Corporation</td>\n      <td>205004</td>\n      <td>-16.7</td>\n      <td>7840</td>\n      <td>-51.5</td>\n      <td>330314</td>\n      <td>167325</td>\n    </tr>\n    <tr>\n      <th>4</th>\n      <td>5</td>\n      <td>McKesson</td>\n      <td>http://www.mckesson.com</td>\n      <td>68000</td>\n      <td>Wholesalers</td>\n      <td>Wholesalers: Health Care</td>\n      <td>San Francisco, CA</td>\n      <td>1 Post St.</td>\n      <td>San Francisco</td>\n      <td>CA</td>\n      <td>...</td>\n      <td>Chairman, President &amp; Chief Executive Officer</td>\n      <td>1 Post St., San Francisco, CA 94104</td>\n      <td>MCK</td>\n      <td>McKesson Corporation</td>\n      <td>192487</td>\n      <td>6.2</td>\n      <td>2258</td>\n      <td>53.0</td>\n      <td>56563</td>\n      <td>8924</td>\n    </tr>\n    <tr>\n      <th>5</th>\n      <td>6</td>\n      <td>UnitedHealth Group</td>\n      <td>http://www.unitedhealthgroup.com</td>\n      <td>230000</td>\n      <td>Health Care</td>\n      <td>Health Care: Insurance and Managed Care</td>\n      <td>Minnetonka, MN</td>\n      <td>9900 Bren Rd. E.</td>\n      <td>Minnetonka</td>\n      <td>MN</td>\n      <td>...</td>\n      <td>Chief Executive Officer &amp; Director</td>\n      <td>9900 Bren Rd. E., Minnetonka, MN 55343</td>\n      <td>UNH</td>\n      <td>UnitedHealth Group Incorporated</td>\n      <td>184840</td>\n      <td>17.7</td>\n      <td>7017</td>\n      <td>20.7</td>\n      <td>122810</td>\n      <td>38274</td>\n    </tr>\n    <tr>\n      <th>6</th>\n      <td>7</td>\n      <td>CVS Health</td>\n      <td>http://www.cvshealth.com</td>\n      <td>204000</td>\n      <td>Health Care</td>\n      <td>Health Care: Pharmacy and Other Services</td>\n      <td>Woonsocket, RI</td>\n      <td>1 CVS Dr.</td>\n      <td>Woonsocket</td>\n      <td>RI</td>\n      <td>...</td>\n      <td>President, Chief Executive Officer &amp; Director</td>\n      <td>1 CVS Dr., Woonsocket, RI 02895</td>\n      <td>CVS</td>\n      <td>CVS Health Corporation</td>\n      <td>177526</td>\n      <td>15.8</td>\n      <td>5317</td>\n      <td>1.5</td>\n      <td>94462</td>\n      <td>36830</td>\n    </tr>\n    <tr>\n      <th>7</th>\n      <td>8</td>\n      <td>General Motors</td>\n      <td>http://www.gm.com</td>\n      <td>225000</td>\n      <td>Motor Vehicles &amp; Parts</td>\n      <td>Motor Vehicles and Parts</td>\n      <td>Detroit, MI</td>\n      <td>300 Renaissance Center</td>\n      <td>Detroit</td>\n      <td>MI</td>\n      <td>...</td>\n      <td>Chairman &amp; Chief Executive Officer</td>\n      <td>300 Renaissance Center, Detroit, MI 48265</td>\n      <td>GM</td>\n      <td>General Motors Company</td>\n      <td>166380</td>\n      <td>9.2</td>\n      <td>9427</td>\n      <td>-2.7</td>\n      <td>221690</td>\n      <td>43836</td>\n    </tr>\n    <tr>\n      <th>8</th>\n      <td>9</td>\n      <td>AT&amp;T</td>\n      <td>http://www.att.com</td>\n      <td>268540</td>\n      <td>Telecommunications</td>\n      <td>Telecommunications</td>\n      <td>Dallas, TX</td>\n      <td>208 S. Akard St.</td>\n      <td>Dallas</td>\n      <td>TX</td>\n      <td>...</td>\n      <td>Chairman, President &amp; Chief Executive Officer</td>\n      <td>208 S. Akard St., Dallas, TX 75202</td>\n      <td>T</td>\n      <td>AT&amp;T Inc.</td>\n      <td>163786</td>\n      <td>11.6</td>\n      <td>12976</td>\n      <td>-2.8</td>\n      <td>403821</td>\n      <td>123135</td>\n    </tr>\n    <tr>\n      <th>9</th>\n      <td>10</td>\n      <td>Ford Motor</td>\n      <td>http://www.ford.com</td>\n      <td>201000</td>\n      <td>Motor Vehicles &amp; Parts</td>\n      <td>Motor Vehicles and Parts</td>\n      <td>Dearborn, MI</td>\n      <td>1 American Rd.</td>\n      <td>Dearborn</td>\n      <td>MI</td>\n      <td>...</td>\n      <td>President, Chief Executive Officer &amp; Director</td>\n      <td>1 American Rd., Dearborn, MI 48126</td>\n      <td>F</td>\n      <td>Ford Motor Company</td>\n      <td>151800</td>\n      <td>1.5</td>\n      <td>4596</td>\n      <td>-37.7</td>\n      <td>237951</td>\n      <td>29170</td>\n    </tr>\n  </tbody>\n</table>\n<p>10 rows × 23 columns</p>\n</div>"
     },
     "metadata": {},
     "execution_count": 8
    }
   ],
   "source": [
    "df = pd.read_csv(\"E:\\\\ML\\\\ML\\\\Pandas\\\\Fortune 500 2017 - Fortune 500.csv\")\n",
    "df"
   ]
  },
  {
   "cell_type": "code",
   "execution_count": 11,
   "metadata": {},
   "outputs": [
    {
     "output_type": "execute_result",
     "data": {
      "text/plain": [
       "pandas.core.frame.DataFrame"
      ]
     },
     "metadata": {},
     "execution_count": 11
    }
   ],
   "source": [
    "type(df)    # TO know which size it is present"
   ]
  },
  {
   "cell_type": "code",
   "execution_count": 13,
   "metadata": {},
   "outputs": [
    {
     "output_type": "execute_result",
     "data": {
      "text/plain": [
       "Index(['Rank', 'Title', 'Website', 'Employees', 'Sector', 'Industry',\n",
       "       'Hqlocation', 'Hqaddr', 'Hqcity', 'Hqstate', 'Hqzip', 'Hqtel', 'Ceo',\n",
       "       'Ceo-title', 'Address', 'Ticker', 'Fullname', 'Revenues', 'Revchange',\n",
       "       'Profits', 'Prftchange', 'Assets', 'Totshequity'],\n",
       "      dtype='object')"
      ]
     },
     "metadata": {},
     "execution_count": 13
    }
   ],
   "source": [
    "df.columns # to know the columns"
   ]
  },
  {
   "cell_type": "code",
   "execution_count": 15,
   "metadata": {},
   "outputs": [
    {
     "output_type": "execute_result",
     "data": {
      "text/plain": [
       "   Rank    Title                 Website  Employees     Sector  \\\n",
       "0     1  Walmart  http://www.walmart.com    2300000  Retailing   \n",
       "\n",
       "                Industry       Hqlocation               Hqaddr       Hqcity  \\\n",
       "0  General Merchandisers  Bentonville, AR  702 S.W. Eighth St.  Bentonville   \n",
       "\n",
       "  Hqstate  ...                                      Ceo-title  \\\n",
       "0      AR  ...  President, Chief Executive Officer & Director   \n",
       "\n",
       "                                      Address Ticker               Fullname  \\\n",
       "0  702 S.W. Eighth St., Bentonville, AR 72716    WMT  Wal-Mart Stores, Inc.   \n",
       "\n",
       "  Revenues Revchange Profits  Prftchange  Assets  Totshequity  \n",
       "0   485873       0.8   13643        -7.2  198825        77798  \n",
       "\n",
       "[1 rows x 23 columns]"
      ],
      "text/html": "<div>\n<style scoped>\n    .dataframe tbody tr th:only-of-type {\n        vertical-align: middle;\n    }\n\n    .dataframe tbody tr th {\n        vertical-align: top;\n    }\n\n    .dataframe thead th {\n        text-align: right;\n    }\n</style>\n<table border=\"1\" class=\"dataframe\">\n  <thead>\n    <tr style=\"text-align: right;\">\n      <th></th>\n      <th>Rank</th>\n      <th>Title</th>\n      <th>Website</th>\n      <th>Employees</th>\n      <th>Sector</th>\n      <th>Industry</th>\n      <th>Hqlocation</th>\n      <th>Hqaddr</th>\n      <th>Hqcity</th>\n      <th>Hqstate</th>\n      <th>...</th>\n      <th>Ceo-title</th>\n      <th>Address</th>\n      <th>Ticker</th>\n      <th>Fullname</th>\n      <th>Revenues</th>\n      <th>Revchange</th>\n      <th>Profits</th>\n      <th>Prftchange</th>\n      <th>Assets</th>\n      <th>Totshequity</th>\n    </tr>\n  </thead>\n  <tbody>\n    <tr>\n      <th>0</th>\n      <td>1</td>\n      <td>Walmart</td>\n      <td>http://www.walmart.com</td>\n      <td>2300000</td>\n      <td>Retailing</td>\n      <td>General Merchandisers</td>\n      <td>Bentonville, AR</td>\n      <td>702 S.W. Eighth St.</td>\n      <td>Bentonville</td>\n      <td>AR</td>\n      <td>...</td>\n      <td>President, Chief Executive Officer &amp; Director</td>\n      <td>702 S.W. Eighth St., Bentonville, AR 72716</td>\n      <td>WMT</td>\n      <td>Wal-Mart Stores, Inc.</td>\n      <td>485873</td>\n      <td>0.8</td>\n      <td>13643</td>\n      <td>-7.2</td>\n      <td>198825</td>\n      <td>77798</td>\n    </tr>\n  </tbody>\n</table>\n<p>1 rows × 23 columns</p>\n</div>"
     },
     "metadata": {},
     "execution_count": 15
    }
   ],
   "source": [
    "df = pd.read_csv(\"E:\\\\ML\\\\ML\\\\Pandas\\\\Fortune 500 2017 - Fortune 500.csv\" , nrows= 1)  # TO read 1 rows\n",
    "df"
   ]
  },
  {
   "cell_type": "code",
   "execution_count": 17,
   "metadata": {},
   "outputs": [
    {
     "output_type": "execute_result",
     "data": {
      "text/plain": [
       "   Rank               Title                           Website  Employees  \\\n",
       "0     1             Walmart            http://www.walmart.com    2300000   \n",
       "1     2  Berkshire Hathaway  http://www.berkshirehathaway.com     367700   \n",
       "2     3               Apple              http://www.apple.com     116000   \n",
       "3     4         Exxon Mobil         http://www.exxonmobil.com      72700   \n",
       "4     5            McKesson           http://www.mckesson.com      68000   \n",
       "\n",
       "        Sector                                  Industry         Hqlocation  \\\n",
       "0    Retailing                     General Merchandisers    Bentonville, AR   \n",
       "1   Financials  Insurance: Property and Casualty (Stock)          Omaha, NE   \n",
       "2   Technology               Computers, Office Equipment      Cupertino, CA   \n",
       "3       Energy                        Petroleum Refining         Irving, TX   \n",
       "4  Wholesalers                  Wholesalers: Health Care  San Francisco, CA   \n",
       "\n",
       "                   Hqaddr         Hqcity Hqstate  ...  \\\n",
       "0     702 S.W. Eighth St.    Bentonville      AR  ...   \n",
       "1         3555 Farnam St.          Omaha      NE  ...   \n",
       "2         1 Infinite Loop      Cupertino      CA  ...   \n",
       "3  5959 Las Colinas Blvd.         Irving      TX  ...   \n",
       "4              1 Post St.  San Francisco      CA  ...   \n",
       "\n",
       "                                       Ceo-title  \\\n",
       "0  President, Chief Executive Officer & Director   \n",
       "1             Chairman & Chief Executive Officer   \n",
       "2             Chief Executive Officer & Director   \n",
       "3             Chairman & Chief Executive Officer   \n",
       "4  Chairman, President & Chief Executive Officer   \n",
       "\n",
       "                                      Address Ticker                 Fullname  \\\n",
       "0  702 S.W. Eighth St., Bentonville, AR 72716    WMT    Wal-Mart Stores, Inc.   \n",
       "1            3555 Farnam St., Omaha, NE 68131   BRKA  Berkshire Hathaway Inc.   \n",
       "2        1 Infinite Loop, Cupertino, CA 95014   AAPL              Apple, Inc.   \n",
       "3    5959 Las Colinas Blvd., Irving, TX 75039    XOM  Exxon Mobil Corporation   \n",
       "4         1 Post St., San Francisco, CA 94104    MCK     McKesson Corporation   \n",
       "\n",
       "  Revenues Revchange Profits  Prftchange  Assets  Totshequity  \n",
       "0   485873       0.8   13643        -7.2  198825        77798  \n",
       "1   223604       6.1   24074         0.0  620854       283001  \n",
       "2   215639      -7.7   45687       -14.4  321686       128249  \n",
       "3   205004     -16.7    7840       -51.5  330314       167325  \n",
       "4   192487       6.2    2258        53.0   56563         8924  \n",
       "\n",
       "[5 rows x 23 columns]"
      ],
      "text/html": "<div>\n<style scoped>\n    .dataframe tbody tr th:only-of-type {\n        vertical-align: middle;\n    }\n\n    .dataframe tbody tr th {\n        vertical-align: top;\n    }\n\n    .dataframe thead th {\n        text-align: right;\n    }\n</style>\n<table border=\"1\" class=\"dataframe\">\n  <thead>\n    <tr style=\"text-align: right;\">\n      <th></th>\n      <th>Rank</th>\n      <th>Title</th>\n      <th>Website</th>\n      <th>Employees</th>\n      <th>Sector</th>\n      <th>Industry</th>\n      <th>Hqlocation</th>\n      <th>Hqaddr</th>\n      <th>Hqcity</th>\n      <th>Hqstate</th>\n      <th>...</th>\n      <th>Ceo-title</th>\n      <th>Address</th>\n      <th>Ticker</th>\n      <th>Fullname</th>\n      <th>Revenues</th>\n      <th>Revchange</th>\n      <th>Profits</th>\n      <th>Prftchange</th>\n      <th>Assets</th>\n      <th>Totshequity</th>\n    </tr>\n  </thead>\n  <tbody>\n    <tr>\n      <th>0</th>\n      <td>1</td>\n      <td>Walmart</td>\n      <td>http://www.walmart.com</td>\n      <td>2300000</td>\n      <td>Retailing</td>\n      <td>General Merchandisers</td>\n      <td>Bentonville, AR</td>\n      <td>702 S.W. Eighth St.</td>\n      <td>Bentonville</td>\n      <td>AR</td>\n      <td>...</td>\n      <td>President, Chief Executive Officer &amp; Director</td>\n      <td>702 S.W. Eighth St., Bentonville, AR 72716</td>\n      <td>WMT</td>\n      <td>Wal-Mart Stores, Inc.</td>\n      <td>485873</td>\n      <td>0.8</td>\n      <td>13643</td>\n      <td>-7.2</td>\n      <td>198825</td>\n      <td>77798</td>\n    </tr>\n    <tr>\n      <th>1</th>\n      <td>2</td>\n      <td>Berkshire Hathaway</td>\n      <td>http://www.berkshirehathaway.com</td>\n      <td>367700</td>\n      <td>Financials</td>\n      <td>Insurance: Property and Casualty (Stock)</td>\n      <td>Omaha, NE</td>\n      <td>3555 Farnam St.</td>\n      <td>Omaha</td>\n      <td>NE</td>\n      <td>...</td>\n      <td>Chairman &amp; Chief Executive Officer</td>\n      <td>3555 Farnam St., Omaha, NE 68131</td>\n      <td>BRKA</td>\n      <td>Berkshire Hathaway Inc.</td>\n      <td>223604</td>\n      <td>6.1</td>\n      <td>24074</td>\n      <td>0.0</td>\n      <td>620854</td>\n      <td>283001</td>\n    </tr>\n    <tr>\n      <th>2</th>\n      <td>3</td>\n      <td>Apple</td>\n      <td>http://www.apple.com</td>\n      <td>116000</td>\n      <td>Technology</td>\n      <td>Computers, Office Equipment</td>\n      <td>Cupertino, CA</td>\n      <td>1 Infinite Loop</td>\n      <td>Cupertino</td>\n      <td>CA</td>\n      <td>...</td>\n      <td>Chief Executive Officer &amp; Director</td>\n      <td>1 Infinite Loop, Cupertino, CA 95014</td>\n      <td>AAPL</td>\n      <td>Apple, Inc.</td>\n      <td>215639</td>\n      <td>-7.7</td>\n      <td>45687</td>\n      <td>-14.4</td>\n      <td>321686</td>\n      <td>128249</td>\n    </tr>\n    <tr>\n      <th>3</th>\n      <td>4</td>\n      <td>Exxon Mobil</td>\n      <td>http://www.exxonmobil.com</td>\n      <td>72700</td>\n      <td>Energy</td>\n      <td>Petroleum Refining</td>\n      <td>Irving, TX</td>\n      <td>5959 Las Colinas Blvd.</td>\n      <td>Irving</td>\n      <td>TX</td>\n      <td>...</td>\n      <td>Chairman &amp; Chief Executive Officer</td>\n      <td>5959 Las Colinas Blvd., Irving, TX 75039</td>\n      <td>XOM</td>\n      <td>Exxon Mobil Corporation</td>\n      <td>205004</td>\n      <td>-16.7</td>\n      <td>7840</td>\n      <td>-51.5</td>\n      <td>330314</td>\n      <td>167325</td>\n    </tr>\n    <tr>\n      <th>4</th>\n      <td>5</td>\n      <td>McKesson</td>\n      <td>http://www.mckesson.com</td>\n      <td>68000</td>\n      <td>Wholesalers</td>\n      <td>Wholesalers: Health Care</td>\n      <td>San Francisco, CA</td>\n      <td>1 Post St.</td>\n      <td>San Francisco</td>\n      <td>CA</td>\n      <td>...</td>\n      <td>Chairman, President &amp; Chief Executive Officer</td>\n      <td>1 Post St., San Francisco, CA 94104</td>\n      <td>MCK</td>\n      <td>McKesson Corporation</td>\n      <td>192487</td>\n      <td>6.2</td>\n      <td>2258</td>\n      <td>53.0</td>\n      <td>56563</td>\n      <td>8924</td>\n    </tr>\n  </tbody>\n</table>\n<p>5 rows × 23 columns</p>\n</div>"
     },
     "metadata": {},
     "execution_count": 17
    }
   ],
   "source": [
    "df = pd.read_csv(\"E:\\\\ML\\\\ML\\\\Pandas\\\\Fortune 500 2017 - Fortune 500.csv\" , nrows= 5)  # To print 5 Rows\n",
    "df"
   ]
  },
  {
   "cell_type": "code",
   "execution_count": 19,
   "metadata": {},
   "outputs": [
    {
     "output_type": "execute_result",
     "data": {
      "text/plain": [
       "   Rank\n",
       "0     1\n",
       "1     2\n",
       "2     3\n",
       "3     4\n",
       "4     5\n",
       "5     6\n",
       "6     7\n",
       "7     8\n",
       "8     9\n",
       "9    10"
      ],
      "text/html": "<div>\n<style scoped>\n    .dataframe tbody tr th:only-of-type {\n        vertical-align: middle;\n    }\n\n    .dataframe tbody tr th {\n        vertical-align: top;\n    }\n\n    .dataframe thead th {\n        text-align: right;\n    }\n</style>\n<table border=\"1\" class=\"dataframe\">\n  <thead>\n    <tr style=\"text-align: right;\">\n      <th></th>\n      <th>Rank</th>\n    </tr>\n  </thead>\n  <tbody>\n    <tr>\n      <th>0</th>\n      <td>1</td>\n    </tr>\n    <tr>\n      <th>1</th>\n      <td>2</td>\n    </tr>\n    <tr>\n      <th>2</th>\n      <td>3</td>\n    </tr>\n    <tr>\n      <th>3</th>\n      <td>4</td>\n    </tr>\n    <tr>\n      <th>4</th>\n      <td>5</td>\n    </tr>\n    <tr>\n      <th>5</th>\n      <td>6</td>\n    </tr>\n    <tr>\n      <th>6</th>\n      <td>7</td>\n    </tr>\n    <tr>\n      <th>7</th>\n      <td>8</td>\n    </tr>\n    <tr>\n      <th>8</th>\n      <td>9</td>\n    </tr>\n    <tr>\n      <th>9</th>\n      <td>10</td>\n    </tr>\n  </tbody>\n</table>\n</div>"
     },
     "metadata": {},
     "execution_count": 19
    }
   ],
   "source": [
    "df = pd.read_csv(\"E:\\\\ML\\\\ML\\\\Pandas\\\\Fortune 500 2017 - Fortune 500.csv\", usecols= [0]) #To print Nth columns \n",
    "df                                                                #we have to give \"INdex\" value of the columns"
   ]
  },
  {
   "cell_type": "code",
   "execution_count": 20,
   "metadata": {},
   "outputs": [
    {
     "output_type": "execute_result",
     "data": {
      "text/plain": [
       "   Rank               Title\n",
       "0     1             Walmart\n",
       "1     2  Berkshire Hathaway\n",
       "2     3               Apple\n",
       "3     4         Exxon Mobil\n",
       "4     5            McKesson\n",
       "5     6  UnitedHealth Group\n",
       "6     7          CVS Health\n",
       "7     8      General Motors\n",
       "8     9                AT&T\n",
       "9    10          Ford Motor"
      ],
      "text/html": "<div>\n<style scoped>\n    .dataframe tbody tr th:only-of-type {\n        vertical-align: middle;\n    }\n\n    .dataframe tbody tr th {\n        vertical-align: top;\n    }\n\n    .dataframe thead th {\n        text-align: right;\n    }\n</style>\n<table border=\"1\" class=\"dataframe\">\n  <thead>\n    <tr style=\"text-align: right;\">\n      <th></th>\n      <th>Rank</th>\n      <th>Title</th>\n    </tr>\n  </thead>\n  <tbody>\n    <tr>\n      <th>0</th>\n      <td>1</td>\n      <td>Walmart</td>\n    </tr>\n    <tr>\n      <th>1</th>\n      <td>2</td>\n      <td>Berkshire Hathaway</td>\n    </tr>\n    <tr>\n      <th>2</th>\n      <td>3</td>\n      <td>Apple</td>\n    </tr>\n    <tr>\n      <th>3</th>\n      <td>4</td>\n      <td>Exxon Mobil</td>\n    </tr>\n    <tr>\n      <th>4</th>\n      <td>5</td>\n      <td>McKesson</td>\n    </tr>\n    <tr>\n      <th>5</th>\n      <td>6</td>\n      <td>UnitedHealth Group</td>\n    </tr>\n    <tr>\n      <th>6</th>\n      <td>7</td>\n      <td>CVS Health</td>\n    </tr>\n    <tr>\n      <th>7</th>\n      <td>8</td>\n      <td>General Motors</td>\n    </tr>\n    <tr>\n      <th>8</th>\n      <td>9</td>\n      <td>AT&amp;T</td>\n    </tr>\n    <tr>\n      <th>9</th>\n      <td>10</td>\n      <td>Ford Motor</td>\n    </tr>\n  </tbody>\n</table>\n</div>"
     },
     "metadata": {},
     "execution_count": 20
    }
   ],
   "source": [
    "df = pd.read_csv(\"E:\\\\ML\\\\ML\\\\Pandas\\\\Fortune 500 2017 - Fortune 500.csv\", usecols= [0,1]) #To print Two columns \n",
    "df                                                                #we have to give \"INdex\" value of the columns"
   ]
  },
  {
   "cell_type": "code",
   "execution_count": 22,
   "metadata": {},
   "outputs": [
    {
     "output_type": "execute_result",
     "data": {
      "text/plain": [
       "    1             Walmart            http://www.walmart.com  2300000  \\\n",
       "0   2  Berkshire Hathaway  http://www.berkshirehathaway.com   367700   \n",
       "1   3               Apple              http://www.apple.com   116000   \n",
       "2   4         Exxon Mobil         http://www.exxonmobil.com    72700   \n",
       "3   5            McKesson           http://www.mckesson.com    68000   \n",
       "4   6  UnitedHealth Group  http://www.unitedhealthgroup.com   230000   \n",
       "5   7          CVS Health          http://www.cvshealth.com   204000   \n",
       "6   8      General Motors                 http://www.gm.com   225000   \n",
       "7   9                AT&T                http://www.att.com   268540   \n",
       "8  10          Ford Motor               http://www.ford.com   201000   \n",
       "\n",
       "                Retailing                     General Merchandisers  \\\n",
       "0              Financials  Insurance: Property and Casualty (Stock)   \n",
       "1              Technology               Computers, Office Equipment   \n",
       "2                  Energy                        Petroleum Refining   \n",
       "3             Wholesalers                  Wholesalers: Health Care   \n",
       "4             Health Care   Health Care: Insurance and Managed Care   \n",
       "5             Health Care  Health Care: Pharmacy and Other Services   \n",
       "6  Motor Vehicles & Parts                  Motor Vehicles and Parts   \n",
       "7      Telecommunications                        Telecommunications   \n",
       "8  Motor Vehicles & Parts                  Motor Vehicles and Parts   \n",
       "\n",
       "     Bentonville, AR     702 S.W. Eighth St.    Bentonville  AR  ...  \\\n",
       "0          Omaha, NE         3555 Farnam St.          Omaha  NE  ...   \n",
       "1      Cupertino, CA         1 Infinite Loop      Cupertino  CA  ...   \n",
       "2         Irving, TX  5959 Las Colinas Blvd.         Irving  TX  ...   \n",
       "3  San Francisco, CA              1 Post St.  San Francisco  CA  ...   \n",
       "4     Minnetonka, MN        9900 Bren Rd. E.     Minnetonka  MN  ...   \n",
       "5     Woonsocket, RI               1 CVS Dr.     Woonsocket  RI  ...   \n",
       "6        Detroit, MI  300 Renaissance Center        Detroit  MI  ...   \n",
       "7         Dallas, TX        208 S. Akard St.         Dallas  TX  ...   \n",
       "8       Dearborn, MI          1 American Rd.       Dearborn  MI  ...   \n",
       "\n",
       "   President, Chief Executive Officer & Director  \\\n",
       "0             Chairman & Chief Executive Officer   \n",
       "1             Chief Executive Officer & Director   \n",
       "2             Chairman & Chief Executive Officer   \n",
       "3  Chairman, President & Chief Executive Officer   \n",
       "4             Chief Executive Officer & Director   \n",
       "5  President, Chief Executive Officer & Director   \n",
       "6             Chairman & Chief Executive Officer   \n",
       "7  Chairman, President & Chief Executive Officer   \n",
       "8  President, Chief Executive Officer & Director   \n",
       "\n",
       "  702 S.W. Eighth St., Bentonville, AR 72716   WMT  \\\n",
       "0           3555 Farnam St., Omaha, NE 68131  BRKA   \n",
       "1       1 Infinite Loop, Cupertino, CA 95014  AAPL   \n",
       "2   5959 Las Colinas Blvd., Irving, TX 75039   XOM   \n",
       "3        1 Post St., San Francisco, CA 94104   MCK   \n",
       "4     9900 Bren Rd. E., Minnetonka, MN 55343   UNH   \n",
       "5            1 CVS Dr., Woonsocket, RI 02895   CVS   \n",
       "6  300 Renaissance Center, Detroit, MI 48265    GM   \n",
       "7         208 S. Akard St., Dallas, TX 75202     T   \n",
       "8         1 American Rd., Dearborn, MI 48126     F   \n",
       "\n",
       "             Wal-Mart Stores, Inc.  485873   0.8  13643  -7.2  198825   77798  \n",
       "0          Berkshire Hathaway Inc.  223604   6.1  24074   0.0  620854  283001  \n",
       "1                      Apple, Inc.  215639  -7.7  45687 -14.4  321686  128249  \n",
       "2          Exxon Mobil Corporation  205004 -16.7   7840 -51.5  330314  167325  \n",
       "3             McKesson Corporation  192487   6.2   2258  53.0   56563    8924  \n",
       "4  UnitedHealth Group Incorporated  184840  17.7   7017  20.7  122810   38274  \n",
       "5           CVS Health Corporation  177526  15.8   5317   1.5   94462   36830  \n",
       "6           General Motors Company  166380   9.2   9427  -2.7  221690   43836  \n",
       "7                        AT&T Inc.  163786  11.6  12976  -2.8  403821  123135  \n",
       "8               Ford Motor Company  151800   1.5   4596 -37.7  237951   29170  \n",
       "\n",
       "[9 rows x 23 columns]"
      ],
      "text/html": "<div>\n<style scoped>\n    .dataframe tbody tr th:only-of-type {\n        vertical-align: middle;\n    }\n\n    .dataframe tbody tr th {\n        vertical-align: top;\n    }\n\n    .dataframe thead th {\n        text-align: right;\n    }\n</style>\n<table border=\"1\" class=\"dataframe\">\n  <thead>\n    <tr style=\"text-align: right;\">\n      <th></th>\n      <th>1</th>\n      <th>Walmart</th>\n      <th>http://www.walmart.com</th>\n      <th>2300000</th>\n      <th>Retailing</th>\n      <th>General Merchandisers</th>\n      <th>Bentonville, AR</th>\n      <th>702 S.W. Eighth St.</th>\n      <th>Bentonville</th>\n      <th>AR</th>\n      <th>...</th>\n      <th>President, Chief Executive Officer &amp; Director</th>\n      <th>702 S.W. Eighth St., Bentonville, AR 72716</th>\n      <th>WMT</th>\n      <th>Wal-Mart Stores, Inc.</th>\n      <th>485873</th>\n      <th>0.8</th>\n      <th>13643</th>\n      <th>-7.2</th>\n      <th>198825</th>\n      <th>77798</th>\n    </tr>\n  </thead>\n  <tbody>\n    <tr>\n      <th>0</th>\n      <td>2</td>\n      <td>Berkshire Hathaway</td>\n      <td>http://www.berkshirehathaway.com</td>\n      <td>367700</td>\n      <td>Financials</td>\n      <td>Insurance: Property and Casualty (Stock)</td>\n      <td>Omaha, NE</td>\n      <td>3555 Farnam St.</td>\n      <td>Omaha</td>\n      <td>NE</td>\n      <td>...</td>\n      <td>Chairman &amp; Chief Executive Officer</td>\n      <td>3555 Farnam St., Omaha, NE 68131</td>\n      <td>BRKA</td>\n      <td>Berkshire Hathaway Inc.</td>\n      <td>223604</td>\n      <td>6.1</td>\n      <td>24074</td>\n      <td>0.0</td>\n      <td>620854</td>\n      <td>283001</td>\n    </tr>\n    <tr>\n      <th>1</th>\n      <td>3</td>\n      <td>Apple</td>\n      <td>http://www.apple.com</td>\n      <td>116000</td>\n      <td>Technology</td>\n      <td>Computers, Office Equipment</td>\n      <td>Cupertino, CA</td>\n      <td>1 Infinite Loop</td>\n      <td>Cupertino</td>\n      <td>CA</td>\n      <td>...</td>\n      <td>Chief Executive Officer &amp; Director</td>\n      <td>1 Infinite Loop, Cupertino, CA 95014</td>\n      <td>AAPL</td>\n      <td>Apple, Inc.</td>\n      <td>215639</td>\n      <td>-7.7</td>\n      <td>45687</td>\n      <td>-14.4</td>\n      <td>321686</td>\n      <td>128249</td>\n    </tr>\n    <tr>\n      <th>2</th>\n      <td>4</td>\n      <td>Exxon Mobil</td>\n      <td>http://www.exxonmobil.com</td>\n      <td>72700</td>\n      <td>Energy</td>\n      <td>Petroleum Refining</td>\n      <td>Irving, TX</td>\n      <td>5959 Las Colinas Blvd.</td>\n      <td>Irving</td>\n      <td>TX</td>\n      <td>...</td>\n      <td>Chairman &amp; Chief Executive Officer</td>\n      <td>5959 Las Colinas Blvd., Irving, TX 75039</td>\n      <td>XOM</td>\n      <td>Exxon Mobil Corporation</td>\n      <td>205004</td>\n      <td>-16.7</td>\n      <td>7840</td>\n      <td>-51.5</td>\n      <td>330314</td>\n      <td>167325</td>\n    </tr>\n    <tr>\n      <th>3</th>\n      <td>5</td>\n      <td>McKesson</td>\n      <td>http://www.mckesson.com</td>\n      <td>68000</td>\n      <td>Wholesalers</td>\n      <td>Wholesalers: Health Care</td>\n      <td>San Francisco, CA</td>\n      <td>1 Post St.</td>\n      <td>San Francisco</td>\n      <td>CA</td>\n      <td>...</td>\n      <td>Chairman, President &amp; Chief Executive Officer</td>\n      <td>1 Post St., San Francisco, CA 94104</td>\n      <td>MCK</td>\n      <td>McKesson Corporation</td>\n      <td>192487</td>\n      <td>6.2</td>\n      <td>2258</td>\n      <td>53.0</td>\n      <td>56563</td>\n      <td>8924</td>\n    </tr>\n    <tr>\n      <th>4</th>\n      <td>6</td>\n      <td>UnitedHealth Group</td>\n      <td>http://www.unitedhealthgroup.com</td>\n      <td>230000</td>\n      <td>Health Care</td>\n      <td>Health Care: Insurance and Managed Care</td>\n      <td>Minnetonka, MN</td>\n      <td>9900 Bren Rd. E.</td>\n      <td>Minnetonka</td>\n      <td>MN</td>\n      <td>...</td>\n      <td>Chief Executive Officer &amp; Director</td>\n      <td>9900 Bren Rd. E., Minnetonka, MN 55343</td>\n      <td>UNH</td>\n      <td>UnitedHealth Group Incorporated</td>\n      <td>184840</td>\n      <td>17.7</td>\n      <td>7017</td>\n      <td>20.7</td>\n      <td>122810</td>\n      <td>38274</td>\n    </tr>\n    <tr>\n      <th>5</th>\n      <td>7</td>\n      <td>CVS Health</td>\n      <td>http://www.cvshealth.com</td>\n      <td>204000</td>\n      <td>Health Care</td>\n      <td>Health Care: Pharmacy and Other Services</td>\n      <td>Woonsocket, RI</td>\n      <td>1 CVS Dr.</td>\n      <td>Woonsocket</td>\n      <td>RI</td>\n      <td>...</td>\n      <td>President, Chief Executive Officer &amp; Director</td>\n      <td>1 CVS Dr., Woonsocket, RI 02895</td>\n      <td>CVS</td>\n      <td>CVS Health Corporation</td>\n      <td>177526</td>\n      <td>15.8</td>\n      <td>5317</td>\n      <td>1.5</td>\n      <td>94462</td>\n      <td>36830</td>\n    </tr>\n    <tr>\n      <th>6</th>\n      <td>8</td>\n      <td>General Motors</td>\n      <td>http://www.gm.com</td>\n      <td>225000</td>\n      <td>Motor Vehicles &amp; Parts</td>\n      <td>Motor Vehicles and Parts</td>\n      <td>Detroit, MI</td>\n      <td>300 Renaissance Center</td>\n      <td>Detroit</td>\n      <td>MI</td>\n      <td>...</td>\n      <td>Chairman &amp; Chief Executive Officer</td>\n      <td>300 Renaissance Center, Detroit, MI 48265</td>\n      <td>GM</td>\n      <td>General Motors Company</td>\n      <td>166380</td>\n      <td>9.2</td>\n      <td>9427</td>\n      <td>-2.7</td>\n      <td>221690</td>\n      <td>43836</td>\n    </tr>\n    <tr>\n      <th>7</th>\n      <td>9</td>\n      <td>AT&amp;T</td>\n      <td>http://www.att.com</td>\n      <td>268540</td>\n      <td>Telecommunications</td>\n      <td>Telecommunications</td>\n      <td>Dallas, TX</td>\n      <td>208 S. Akard St.</td>\n      <td>Dallas</td>\n      <td>TX</td>\n      <td>...</td>\n      <td>Chairman, President &amp; Chief Executive Officer</td>\n      <td>208 S. Akard St., Dallas, TX 75202</td>\n      <td>T</td>\n      <td>AT&amp;T Inc.</td>\n      <td>163786</td>\n      <td>11.6</td>\n      <td>12976</td>\n      <td>-2.8</td>\n      <td>403821</td>\n      <td>123135</td>\n    </tr>\n    <tr>\n      <th>8</th>\n      <td>10</td>\n      <td>Ford Motor</td>\n      <td>http://www.ford.com</td>\n      <td>201000</td>\n      <td>Motor Vehicles &amp; Parts</td>\n      <td>Motor Vehicles and Parts</td>\n      <td>Dearborn, MI</td>\n      <td>1 American Rd.</td>\n      <td>Dearborn</td>\n      <td>MI</td>\n      <td>...</td>\n      <td>President, Chief Executive Officer &amp; Director</td>\n      <td>1 American Rd., Dearborn, MI 48126</td>\n      <td>F</td>\n      <td>Ford Motor Company</td>\n      <td>151800</td>\n      <td>1.5</td>\n      <td>4596</td>\n      <td>-37.7</td>\n      <td>237951</td>\n      <td>29170</td>\n    </tr>\n  </tbody>\n</table>\n<p>9 rows × 23 columns</p>\n</div>"
     },
     "metadata": {},
     "execution_count": 22
    }
   ],
   "source": [
    "df = pd.read_csv(\"E:\\\\ML\\\\ML\\\\Pandas\\\\Fortune 500 2017 - Fortune 500.csv\", skiprows=1) # it will  one Skip row\n",
    "df                                                                "
   ]
  },
  {
   "cell_type": "code",
   "execution_count": 23,
   "metadata": {},
   "outputs": [
    {
     "output_type": "execute_result",
     "data": {
      "text/plain": [
       "    2  Berkshire Hathaway  http://www.berkshirehathaway.com  367700  \\\n",
       "0   3               Apple              http://www.apple.com  116000   \n",
       "1   4         Exxon Mobil         http://www.exxonmobil.com   72700   \n",
       "2   5            McKesson           http://www.mckesson.com   68000   \n",
       "3   6  UnitedHealth Group  http://www.unitedhealthgroup.com  230000   \n",
       "4   7          CVS Health          http://www.cvshealth.com  204000   \n",
       "5   8      General Motors                 http://www.gm.com  225000   \n",
       "6   9                AT&T                http://www.att.com  268540   \n",
       "7  10          Ford Motor               http://www.ford.com  201000   \n",
       "\n",
       "               Financials  Insurance: Property and Casualty (Stock)  \\\n",
       "0              Technology               Computers, Office Equipment   \n",
       "1                  Energy                        Petroleum Refining   \n",
       "2             Wholesalers                  Wholesalers: Health Care   \n",
       "3             Health Care   Health Care: Insurance and Managed Care   \n",
       "4             Health Care  Health Care: Pharmacy and Other Services   \n",
       "5  Motor Vehicles & Parts                  Motor Vehicles and Parts   \n",
       "6      Telecommunications                        Telecommunications   \n",
       "7  Motor Vehicles & Parts                  Motor Vehicles and Parts   \n",
       "\n",
       "           Omaha, NE         3555 Farnam St.          Omaha  NE  ...  \\\n",
       "0      Cupertino, CA         1 Infinite Loop      Cupertino  CA  ...   \n",
       "1         Irving, TX  5959 Las Colinas Blvd.         Irving  TX  ...   \n",
       "2  San Francisco, CA              1 Post St.  San Francisco  CA  ...   \n",
       "3     Minnetonka, MN        9900 Bren Rd. E.     Minnetonka  MN  ...   \n",
       "4     Woonsocket, RI               1 CVS Dr.     Woonsocket  RI  ...   \n",
       "5        Detroit, MI  300 Renaissance Center        Detroit  MI  ...   \n",
       "6         Dallas, TX        208 S. Akard St.         Dallas  TX  ...   \n",
       "7       Dearborn, MI          1 American Rd.       Dearborn  MI  ...   \n",
       "\n",
       "              Chairman & Chief Executive Officer  \\\n",
       "0             Chief Executive Officer & Director   \n",
       "1             Chairman & Chief Executive Officer   \n",
       "2  Chairman, President & Chief Executive Officer   \n",
       "3             Chief Executive Officer & Director   \n",
       "4  President, Chief Executive Officer & Director   \n",
       "5             Chairman & Chief Executive Officer   \n",
       "6  Chairman, President & Chief Executive Officer   \n",
       "7  President, Chief Executive Officer & Director   \n",
       "\n",
       "            3555 Farnam St., Omaha, NE 68131  BRKA  \\\n",
       "0       1 Infinite Loop, Cupertino, CA 95014  AAPL   \n",
       "1   5959 Las Colinas Blvd., Irving, TX 75039   XOM   \n",
       "2        1 Post St., San Francisco, CA 94104   MCK   \n",
       "3     9900 Bren Rd. E., Minnetonka, MN 55343   UNH   \n",
       "4            1 CVS Dr., Woonsocket, RI 02895   CVS   \n",
       "5  300 Renaissance Center, Detroit, MI 48265    GM   \n",
       "6         208 S. Akard St., Dallas, TX 75202     T   \n",
       "7         1 American Rd., Dearborn, MI 48126     F   \n",
       "\n",
       "           Berkshire Hathaway Inc.  223604   6.1  24074     0  620854  283001  \n",
       "0                      Apple, Inc.  215639  -7.7  45687 -14.4  321686  128249  \n",
       "1          Exxon Mobil Corporation  205004 -16.7   7840 -51.5  330314  167325  \n",
       "2             McKesson Corporation  192487   6.2   2258  53.0   56563    8924  \n",
       "3  UnitedHealth Group Incorporated  184840  17.7   7017  20.7  122810   38274  \n",
       "4           CVS Health Corporation  177526  15.8   5317   1.5   94462   36830  \n",
       "5           General Motors Company  166380   9.2   9427  -2.7  221690   43836  \n",
       "6                        AT&T Inc.  163786  11.6  12976  -2.8  403821  123135  \n",
       "7               Ford Motor Company  151800   1.5   4596 -37.7  237951   29170  \n",
       "\n",
       "[8 rows x 23 columns]"
      ],
      "text/html": "<div>\n<style scoped>\n    .dataframe tbody tr th:only-of-type {\n        vertical-align: middle;\n    }\n\n    .dataframe tbody tr th {\n        vertical-align: top;\n    }\n\n    .dataframe thead th {\n        text-align: right;\n    }\n</style>\n<table border=\"1\" class=\"dataframe\">\n  <thead>\n    <tr style=\"text-align: right;\">\n      <th></th>\n      <th>2</th>\n      <th>Berkshire Hathaway</th>\n      <th>http://www.berkshirehathaway.com</th>\n      <th>367700</th>\n      <th>Financials</th>\n      <th>Insurance: Property and Casualty (Stock)</th>\n      <th>Omaha, NE</th>\n      <th>3555 Farnam St.</th>\n      <th>Omaha</th>\n      <th>NE</th>\n      <th>...</th>\n      <th>Chairman &amp; Chief Executive Officer</th>\n      <th>3555 Farnam St., Omaha, NE 68131</th>\n      <th>BRKA</th>\n      <th>Berkshire Hathaway Inc.</th>\n      <th>223604</th>\n      <th>6.1</th>\n      <th>24074</th>\n      <th>0</th>\n      <th>620854</th>\n      <th>283001</th>\n    </tr>\n  </thead>\n  <tbody>\n    <tr>\n      <th>0</th>\n      <td>3</td>\n      <td>Apple</td>\n      <td>http://www.apple.com</td>\n      <td>116000</td>\n      <td>Technology</td>\n      <td>Computers, Office Equipment</td>\n      <td>Cupertino, CA</td>\n      <td>1 Infinite Loop</td>\n      <td>Cupertino</td>\n      <td>CA</td>\n      <td>...</td>\n      <td>Chief Executive Officer &amp; Director</td>\n      <td>1 Infinite Loop, Cupertino, CA 95014</td>\n      <td>AAPL</td>\n      <td>Apple, Inc.</td>\n      <td>215639</td>\n      <td>-7.7</td>\n      <td>45687</td>\n      <td>-14.4</td>\n      <td>321686</td>\n      <td>128249</td>\n    </tr>\n    <tr>\n      <th>1</th>\n      <td>4</td>\n      <td>Exxon Mobil</td>\n      <td>http://www.exxonmobil.com</td>\n      <td>72700</td>\n      <td>Energy</td>\n      <td>Petroleum Refining</td>\n      <td>Irving, TX</td>\n      <td>5959 Las Colinas Blvd.</td>\n      <td>Irving</td>\n      <td>TX</td>\n      <td>...</td>\n      <td>Chairman &amp; Chief Executive Officer</td>\n      <td>5959 Las Colinas Blvd., Irving, TX 75039</td>\n      <td>XOM</td>\n      <td>Exxon Mobil Corporation</td>\n      <td>205004</td>\n      <td>-16.7</td>\n      <td>7840</td>\n      <td>-51.5</td>\n      <td>330314</td>\n      <td>167325</td>\n    </tr>\n    <tr>\n      <th>2</th>\n      <td>5</td>\n      <td>McKesson</td>\n      <td>http://www.mckesson.com</td>\n      <td>68000</td>\n      <td>Wholesalers</td>\n      <td>Wholesalers: Health Care</td>\n      <td>San Francisco, CA</td>\n      <td>1 Post St.</td>\n      <td>San Francisco</td>\n      <td>CA</td>\n      <td>...</td>\n      <td>Chairman, President &amp; Chief Executive Officer</td>\n      <td>1 Post St., San Francisco, CA 94104</td>\n      <td>MCK</td>\n      <td>McKesson Corporation</td>\n      <td>192487</td>\n      <td>6.2</td>\n      <td>2258</td>\n      <td>53.0</td>\n      <td>56563</td>\n      <td>8924</td>\n    </tr>\n    <tr>\n      <th>3</th>\n      <td>6</td>\n      <td>UnitedHealth Group</td>\n      <td>http://www.unitedhealthgroup.com</td>\n      <td>230000</td>\n      <td>Health Care</td>\n      <td>Health Care: Insurance and Managed Care</td>\n      <td>Minnetonka, MN</td>\n      <td>9900 Bren Rd. E.</td>\n      <td>Minnetonka</td>\n      <td>MN</td>\n      <td>...</td>\n      <td>Chief Executive Officer &amp; Director</td>\n      <td>9900 Bren Rd. E., Minnetonka, MN 55343</td>\n      <td>UNH</td>\n      <td>UnitedHealth Group Incorporated</td>\n      <td>184840</td>\n      <td>17.7</td>\n      <td>7017</td>\n      <td>20.7</td>\n      <td>122810</td>\n      <td>38274</td>\n    </tr>\n    <tr>\n      <th>4</th>\n      <td>7</td>\n      <td>CVS Health</td>\n      <td>http://www.cvshealth.com</td>\n      <td>204000</td>\n      <td>Health Care</td>\n      <td>Health Care: Pharmacy and Other Services</td>\n      <td>Woonsocket, RI</td>\n      <td>1 CVS Dr.</td>\n      <td>Woonsocket</td>\n      <td>RI</td>\n      <td>...</td>\n      <td>President, Chief Executive Officer &amp; Director</td>\n      <td>1 CVS Dr., Woonsocket, RI 02895</td>\n      <td>CVS</td>\n      <td>CVS Health Corporation</td>\n      <td>177526</td>\n      <td>15.8</td>\n      <td>5317</td>\n      <td>1.5</td>\n      <td>94462</td>\n      <td>36830</td>\n    </tr>\n    <tr>\n      <th>5</th>\n      <td>8</td>\n      <td>General Motors</td>\n      <td>http://www.gm.com</td>\n      <td>225000</td>\n      <td>Motor Vehicles &amp; Parts</td>\n      <td>Motor Vehicles and Parts</td>\n      <td>Detroit, MI</td>\n      <td>300 Renaissance Center</td>\n      <td>Detroit</td>\n      <td>MI</td>\n      <td>...</td>\n      <td>Chairman &amp; Chief Executive Officer</td>\n      <td>300 Renaissance Center, Detroit, MI 48265</td>\n      <td>GM</td>\n      <td>General Motors Company</td>\n      <td>166380</td>\n      <td>9.2</td>\n      <td>9427</td>\n      <td>-2.7</td>\n      <td>221690</td>\n      <td>43836</td>\n    </tr>\n    <tr>\n      <th>6</th>\n      <td>9</td>\n      <td>AT&amp;T</td>\n      <td>http://www.att.com</td>\n      <td>268540</td>\n      <td>Telecommunications</td>\n      <td>Telecommunications</td>\n      <td>Dallas, TX</td>\n      <td>208 S. Akard St.</td>\n      <td>Dallas</td>\n      <td>TX</td>\n      <td>...</td>\n      <td>Chairman, President &amp; Chief Executive Officer</td>\n      <td>208 S. Akard St., Dallas, TX 75202</td>\n      <td>T</td>\n      <td>AT&amp;T Inc.</td>\n      <td>163786</td>\n      <td>11.6</td>\n      <td>12976</td>\n      <td>-2.8</td>\n      <td>403821</td>\n      <td>123135</td>\n    </tr>\n    <tr>\n      <th>7</th>\n      <td>10</td>\n      <td>Ford Motor</td>\n      <td>http://www.ford.com</td>\n      <td>201000</td>\n      <td>Motor Vehicles &amp; Parts</td>\n      <td>Motor Vehicles and Parts</td>\n      <td>Dearborn, MI</td>\n      <td>1 American Rd.</td>\n      <td>Dearborn</td>\n      <td>MI</td>\n      <td>...</td>\n      <td>President, Chief Executive Officer &amp; Director</td>\n      <td>1 American Rd., Dearborn, MI 48126</td>\n      <td>F</td>\n      <td>Ford Motor Company</td>\n      <td>151800</td>\n      <td>1.5</td>\n      <td>4596</td>\n      <td>-37.7</td>\n      <td>237951</td>\n      <td>29170</td>\n    </tr>\n  </tbody>\n</table>\n<p>8 rows × 23 columns</p>\n</div>"
     },
     "metadata": {},
     "execution_count": 23
    }
   ],
   "source": [
    "df = pd.read_csv(\"E:\\\\ML\\\\ML\\\\Pandas\\\\Fortune 500 2017 - Fortune 500.csv\", skiprows=2) # it will  Two Skip row\n",
    "df                                                                "
   ]
  },
  {
   "cell_type": "code",
   "execution_count": 24,
   "metadata": {},
   "outputs": [
    {
     "output_type": "execute_result",
     "data": {
      "text/plain": [
       "    1             Walmart            http://www.walmart.com  2300000  \\\n",
       "0   2  Berkshire Hathaway  http://www.berkshirehathaway.com   367700   \n",
       "1   3               Apple              http://www.apple.com   116000   \n",
       "2   4         Exxon Mobil         http://www.exxonmobil.com    72700   \n",
       "3   5            McKesson           http://www.mckesson.com    68000   \n",
       "4   6  UnitedHealth Group  http://www.unitedhealthgroup.com   230000   \n",
       "5   7          CVS Health          http://www.cvshealth.com   204000   \n",
       "6   8      General Motors                 http://www.gm.com   225000   \n",
       "7   9                AT&T                http://www.att.com   268540   \n",
       "8  10          Ford Motor               http://www.ford.com   201000   \n",
       "\n",
       "                Retailing                     General Merchandisers  \\\n",
       "0              Financials  Insurance: Property and Casualty (Stock)   \n",
       "1              Technology               Computers, Office Equipment   \n",
       "2                  Energy                        Petroleum Refining   \n",
       "3             Wholesalers                  Wholesalers: Health Care   \n",
       "4             Health Care   Health Care: Insurance and Managed Care   \n",
       "5             Health Care  Health Care: Pharmacy and Other Services   \n",
       "6  Motor Vehicles & Parts                  Motor Vehicles and Parts   \n",
       "7      Telecommunications                        Telecommunications   \n",
       "8  Motor Vehicles & Parts                  Motor Vehicles and Parts   \n",
       "\n",
       "     Bentonville, AR     702 S.W. Eighth St.    Bentonville  AR  ...  \\\n",
       "0          Omaha, NE         3555 Farnam St.          Omaha  NE  ...   \n",
       "1      Cupertino, CA         1 Infinite Loop      Cupertino  CA  ...   \n",
       "2         Irving, TX  5959 Las Colinas Blvd.         Irving  TX  ...   \n",
       "3  San Francisco, CA              1 Post St.  San Francisco  CA  ...   \n",
       "4     Minnetonka, MN        9900 Bren Rd. E.     Minnetonka  MN  ...   \n",
       "5     Woonsocket, RI               1 CVS Dr.     Woonsocket  RI  ...   \n",
       "6        Detroit, MI  300 Renaissance Center        Detroit  MI  ...   \n",
       "7         Dallas, TX        208 S. Akard St.         Dallas  TX  ...   \n",
       "8       Dearborn, MI          1 American Rd.       Dearborn  MI  ...   \n",
       "\n",
       "   President, Chief Executive Officer & Director  \\\n",
       "0             Chairman & Chief Executive Officer   \n",
       "1             Chief Executive Officer & Director   \n",
       "2             Chairman & Chief Executive Officer   \n",
       "3  Chairman, President & Chief Executive Officer   \n",
       "4             Chief Executive Officer & Director   \n",
       "5  President, Chief Executive Officer & Director   \n",
       "6             Chairman & Chief Executive Officer   \n",
       "7  Chairman, President & Chief Executive Officer   \n",
       "8  President, Chief Executive Officer & Director   \n",
       "\n",
       "  702 S.W. Eighth St., Bentonville, AR 72716   WMT  \\\n",
       "0           3555 Farnam St., Omaha, NE 68131  BRKA   \n",
       "1       1 Infinite Loop, Cupertino, CA 95014  AAPL   \n",
       "2   5959 Las Colinas Blvd., Irving, TX 75039   XOM   \n",
       "3        1 Post St., San Francisco, CA 94104   MCK   \n",
       "4     9900 Bren Rd. E., Minnetonka, MN 55343   UNH   \n",
       "5            1 CVS Dr., Woonsocket, RI 02895   CVS   \n",
       "6  300 Renaissance Center, Detroit, MI 48265    GM   \n",
       "7         208 S. Akard St., Dallas, TX 75202     T   \n",
       "8         1 American Rd., Dearborn, MI 48126     F   \n",
       "\n",
       "             Wal-Mart Stores, Inc.  485873   0.8  13643  -7.2  198825   77798  \n",
       "0          Berkshire Hathaway Inc.  223604   6.1  24074   0.0  620854  283001  \n",
       "1                      Apple, Inc.  215639  -7.7  45687 -14.4  321686  128249  \n",
       "2          Exxon Mobil Corporation  205004 -16.7   7840 -51.5  330314  167325  \n",
       "3             McKesson Corporation  192487   6.2   2258  53.0   56563    8924  \n",
       "4  UnitedHealth Group Incorporated  184840  17.7   7017  20.7  122810   38274  \n",
       "5           CVS Health Corporation  177526  15.8   5317   1.5   94462   36830  \n",
       "6           General Motors Company  166380   9.2   9427  -2.7  221690   43836  \n",
       "7                        AT&T Inc.  163786  11.6  12976  -2.8  403821  123135  \n",
       "8               Ford Motor Company  151800   1.5   4596 -37.7  237951   29170  \n",
       "\n",
       "[9 rows x 23 columns]"
      ],
      "text/html": "<div>\n<style scoped>\n    .dataframe tbody tr th:only-of-type {\n        vertical-align: middle;\n    }\n\n    .dataframe tbody tr th {\n        vertical-align: top;\n    }\n\n    .dataframe thead th {\n        text-align: right;\n    }\n</style>\n<table border=\"1\" class=\"dataframe\">\n  <thead>\n    <tr style=\"text-align: right;\">\n      <th></th>\n      <th>1</th>\n      <th>Walmart</th>\n      <th>http://www.walmart.com</th>\n      <th>2300000</th>\n      <th>Retailing</th>\n      <th>General Merchandisers</th>\n      <th>Bentonville, AR</th>\n      <th>702 S.W. Eighth St.</th>\n      <th>Bentonville</th>\n      <th>AR</th>\n      <th>...</th>\n      <th>President, Chief Executive Officer &amp; Director</th>\n      <th>702 S.W. Eighth St., Bentonville, AR 72716</th>\n      <th>WMT</th>\n      <th>Wal-Mart Stores, Inc.</th>\n      <th>485873</th>\n      <th>0.8</th>\n      <th>13643</th>\n      <th>-7.2</th>\n      <th>198825</th>\n      <th>77798</th>\n    </tr>\n  </thead>\n  <tbody>\n    <tr>\n      <th>0</th>\n      <td>2</td>\n      <td>Berkshire Hathaway</td>\n      <td>http://www.berkshirehathaway.com</td>\n      <td>367700</td>\n      <td>Financials</td>\n      <td>Insurance: Property and Casualty (Stock)</td>\n      <td>Omaha, NE</td>\n      <td>3555 Farnam St.</td>\n      <td>Omaha</td>\n      <td>NE</td>\n      <td>...</td>\n      <td>Chairman &amp; Chief Executive Officer</td>\n      <td>3555 Farnam St., Omaha, NE 68131</td>\n      <td>BRKA</td>\n      <td>Berkshire Hathaway Inc.</td>\n      <td>223604</td>\n      <td>6.1</td>\n      <td>24074</td>\n      <td>0.0</td>\n      <td>620854</td>\n      <td>283001</td>\n    </tr>\n    <tr>\n      <th>1</th>\n      <td>3</td>\n      <td>Apple</td>\n      <td>http://www.apple.com</td>\n      <td>116000</td>\n      <td>Technology</td>\n      <td>Computers, Office Equipment</td>\n      <td>Cupertino, CA</td>\n      <td>1 Infinite Loop</td>\n      <td>Cupertino</td>\n      <td>CA</td>\n      <td>...</td>\n      <td>Chief Executive Officer &amp; Director</td>\n      <td>1 Infinite Loop, Cupertino, CA 95014</td>\n      <td>AAPL</td>\n      <td>Apple, Inc.</td>\n      <td>215639</td>\n      <td>-7.7</td>\n      <td>45687</td>\n      <td>-14.4</td>\n      <td>321686</td>\n      <td>128249</td>\n    </tr>\n    <tr>\n      <th>2</th>\n      <td>4</td>\n      <td>Exxon Mobil</td>\n      <td>http://www.exxonmobil.com</td>\n      <td>72700</td>\n      <td>Energy</td>\n      <td>Petroleum Refining</td>\n      <td>Irving, TX</td>\n      <td>5959 Las Colinas Blvd.</td>\n      <td>Irving</td>\n      <td>TX</td>\n      <td>...</td>\n      <td>Chairman &amp; Chief Executive Officer</td>\n      <td>5959 Las Colinas Blvd., Irving, TX 75039</td>\n      <td>XOM</td>\n      <td>Exxon Mobil Corporation</td>\n      <td>205004</td>\n      <td>-16.7</td>\n      <td>7840</td>\n      <td>-51.5</td>\n      <td>330314</td>\n      <td>167325</td>\n    </tr>\n    <tr>\n      <th>3</th>\n      <td>5</td>\n      <td>McKesson</td>\n      <td>http://www.mckesson.com</td>\n      <td>68000</td>\n      <td>Wholesalers</td>\n      <td>Wholesalers: Health Care</td>\n      <td>San Francisco, CA</td>\n      <td>1 Post St.</td>\n      <td>San Francisco</td>\n      <td>CA</td>\n      <td>...</td>\n      <td>Chairman, President &amp; Chief Executive Officer</td>\n      <td>1 Post St., San Francisco, CA 94104</td>\n      <td>MCK</td>\n      <td>McKesson Corporation</td>\n      <td>192487</td>\n      <td>6.2</td>\n      <td>2258</td>\n      <td>53.0</td>\n      <td>56563</td>\n      <td>8924</td>\n    </tr>\n    <tr>\n      <th>4</th>\n      <td>6</td>\n      <td>UnitedHealth Group</td>\n      <td>http://www.unitedhealthgroup.com</td>\n      <td>230000</td>\n      <td>Health Care</td>\n      <td>Health Care: Insurance and Managed Care</td>\n      <td>Minnetonka, MN</td>\n      <td>9900 Bren Rd. E.</td>\n      <td>Minnetonka</td>\n      <td>MN</td>\n      <td>...</td>\n      <td>Chief Executive Officer &amp; Director</td>\n      <td>9900 Bren Rd. E., Minnetonka, MN 55343</td>\n      <td>UNH</td>\n      <td>UnitedHealth Group Incorporated</td>\n      <td>184840</td>\n      <td>17.7</td>\n      <td>7017</td>\n      <td>20.7</td>\n      <td>122810</td>\n      <td>38274</td>\n    </tr>\n    <tr>\n      <th>5</th>\n      <td>7</td>\n      <td>CVS Health</td>\n      <td>http://www.cvshealth.com</td>\n      <td>204000</td>\n      <td>Health Care</td>\n      <td>Health Care: Pharmacy and Other Services</td>\n      <td>Woonsocket, RI</td>\n      <td>1 CVS Dr.</td>\n      <td>Woonsocket</td>\n      <td>RI</td>\n      <td>...</td>\n      <td>President, Chief Executive Officer &amp; Director</td>\n      <td>1 CVS Dr., Woonsocket, RI 02895</td>\n      <td>CVS</td>\n      <td>CVS Health Corporation</td>\n      <td>177526</td>\n      <td>15.8</td>\n      <td>5317</td>\n      <td>1.5</td>\n      <td>94462</td>\n      <td>36830</td>\n    </tr>\n    <tr>\n      <th>6</th>\n      <td>8</td>\n      <td>General Motors</td>\n      <td>http://www.gm.com</td>\n      <td>225000</td>\n      <td>Motor Vehicles &amp; Parts</td>\n      <td>Motor Vehicles and Parts</td>\n      <td>Detroit, MI</td>\n      <td>300 Renaissance Center</td>\n      <td>Detroit</td>\n      <td>MI</td>\n      <td>...</td>\n      <td>Chairman &amp; Chief Executive Officer</td>\n      <td>300 Renaissance Center, Detroit, MI 48265</td>\n      <td>GM</td>\n      <td>General Motors Company</td>\n      <td>166380</td>\n      <td>9.2</td>\n      <td>9427</td>\n      <td>-2.7</td>\n      <td>221690</td>\n      <td>43836</td>\n    </tr>\n    <tr>\n      <th>7</th>\n      <td>9</td>\n      <td>AT&amp;T</td>\n      <td>http://www.att.com</td>\n      <td>268540</td>\n      <td>Telecommunications</td>\n      <td>Telecommunications</td>\n      <td>Dallas, TX</td>\n      <td>208 S. Akard St.</td>\n      <td>Dallas</td>\n      <td>TX</td>\n      <td>...</td>\n      <td>Chairman, President &amp; Chief Executive Officer</td>\n      <td>208 S. Akard St., Dallas, TX 75202</td>\n      <td>T</td>\n      <td>AT&amp;T Inc.</td>\n      <td>163786</td>\n      <td>11.6</td>\n      <td>12976</td>\n      <td>-2.8</td>\n      <td>403821</td>\n      <td>123135</td>\n    </tr>\n    <tr>\n      <th>8</th>\n      <td>10</td>\n      <td>Ford Motor</td>\n      <td>http://www.ford.com</td>\n      <td>201000</td>\n      <td>Motor Vehicles &amp; Parts</td>\n      <td>Motor Vehicles and Parts</td>\n      <td>Dearborn, MI</td>\n      <td>1 American Rd.</td>\n      <td>Dearborn</td>\n      <td>MI</td>\n      <td>...</td>\n      <td>President, Chief Executive Officer &amp; Director</td>\n      <td>1 American Rd., Dearborn, MI 48126</td>\n      <td>F</td>\n      <td>Ford Motor Company</td>\n      <td>151800</td>\n      <td>1.5</td>\n      <td>4596</td>\n      <td>-37.7</td>\n      <td>237951</td>\n      <td>29170</td>\n    </tr>\n  </tbody>\n</table>\n<p>9 rows × 23 columns</p>\n</div>"
     },
     "metadata": {},
     "execution_count": 24
    }
   ],
   "source": [
    "df = pd.read_csv(\"E:\\\\ML\\\\ML\\\\Pandas\\\\Fortune 500 2017 - Fortune 500.csv\", skiprows= [0]) #it will Spacific Skip row\n",
    "df                                                                "
   ]
  },
  {
   "cell_type": "code",
   "execution_count": 26,
   "metadata": {},
   "outputs": [
    {
     "output_type": "execute_result",
     "data": {
      "text/plain": [
       "    1             Walmart            http://www.walmart.com  2300000  \\\n",
       "0   2  Berkshire Hathaway  http://www.berkshirehathaway.com   367700   \n",
       "1   3               Apple              http://www.apple.com   116000   \n",
       "2   5            McKesson           http://www.mckesson.com    68000   \n",
       "3   7          CVS Health          http://www.cvshealth.com   204000   \n",
       "4   8      General Motors                 http://www.gm.com   225000   \n",
       "5   9                AT&T                http://www.att.com   268540   \n",
       "6  10          Ford Motor               http://www.ford.com   201000   \n",
       "\n",
       "                Retailing                     General Merchandisers  \\\n",
       "0              Financials  Insurance: Property and Casualty (Stock)   \n",
       "1              Technology               Computers, Office Equipment   \n",
       "2             Wholesalers                  Wholesalers: Health Care   \n",
       "3             Health Care  Health Care: Pharmacy and Other Services   \n",
       "4  Motor Vehicles & Parts                  Motor Vehicles and Parts   \n",
       "5      Telecommunications                        Telecommunications   \n",
       "6  Motor Vehicles & Parts                  Motor Vehicles and Parts   \n",
       "\n",
       "     Bentonville, AR     702 S.W. Eighth St.    Bentonville  AR  ...  \\\n",
       "0          Omaha, NE         3555 Farnam St.          Omaha  NE  ...   \n",
       "1      Cupertino, CA         1 Infinite Loop      Cupertino  CA  ...   \n",
       "2  San Francisco, CA              1 Post St.  San Francisco  CA  ...   \n",
       "3     Woonsocket, RI               1 CVS Dr.     Woonsocket  RI  ...   \n",
       "4        Detroit, MI  300 Renaissance Center        Detroit  MI  ...   \n",
       "5         Dallas, TX        208 S. Akard St.         Dallas  TX  ...   \n",
       "6       Dearborn, MI          1 American Rd.       Dearborn  MI  ...   \n",
       "\n",
       "   President, Chief Executive Officer & Director  \\\n",
       "0             Chairman & Chief Executive Officer   \n",
       "1             Chief Executive Officer & Director   \n",
       "2  Chairman, President & Chief Executive Officer   \n",
       "3  President, Chief Executive Officer & Director   \n",
       "4             Chairman & Chief Executive Officer   \n",
       "5  Chairman, President & Chief Executive Officer   \n",
       "6  President, Chief Executive Officer & Director   \n",
       "\n",
       "  702 S.W. Eighth St., Bentonville, AR 72716   WMT    Wal-Mart Stores, Inc.  \\\n",
       "0           3555 Farnam St., Omaha, NE 68131  BRKA  Berkshire Hathaway Inc.   \n",
       "1       1 Infinite Loop, Cupertino, CA 95014  AAPL              Apple, Inc.   \n",
       "2        1 Post St., San Francisco, CA 94104   MCK     McKesson Corporation   \n",
       "3            1 CVS Dr., Woonsocket, RI 02895   CVS   CVS Health Corporation   \n",
       "4  300 Renaissance Center, Detroit, MI 48265    GM   General Motors Company   \n",
       "5         208 S. Akard St., Dallas, TX 75202     T                AT&T Inc.   \n",
       "6         1 American Rd., Dearborn, MI 48126     F       Ford Motor Company   \n",
       "\n",
       "   485873   0.8  13643  -7.2  198825   77798  \n",
       "0  223604   6.1  24074   0.0  620854  283001  \n",
       "1  215639  -7.7  45687 -14.4  321686  128249  \n",
       "2  192487   6.2   2258  53.0   56563    8924  \n",
       "3  177526  15.8   5317   1.5   94462   36830  \n",
       "4  166380   9.2   9427  -2.7  221690   43836  \n",
       "5  163786  11.6  12976  -2.8  403821  123135  \n",
       "6  151800   1.5   4596 -37.7  237951   29170  \n",
       "\n",
       "[7 rows x 23 columns]"
      ],
      "text/html": "<div>\n<style scoped>\n    .dataframe tbody tr th:only-of-type {\n        vertical-align: middle;\n    }\n\n    .dataframe tbody tr th {\n        vertical-align: top;\n    }\n\n    .dataframe thead th {\n        text-align: right;\n    }\n</style>\n<table border=\"1\" class=\"dataframe\">\n  <thead>\n    <tr style=\"text-align: right;\">\n      <th></th>\n      <th>1</th>\n      <th>Walmart</th>\n      <th>http://www.walmart.com</th>\n      <th>2300000</th>\n      <th>Retailing</th>\n      <th>General Merchandisers</th>\n      <th>Bentonville, AR</th>\n      <th>702 S.W. Eighth St.</th>\n      <th>Bentonville</th>\n      <th>AR</th>\n      <th>...</th>\n      <th>President, Chief Executive Officer &amp; Director</th>\n      <th>702 S.W. Eighth St., Bentonville, AR 72716</th>\n      <th>WMT</th>\n      <th>Wal-Mart Stores, Inc.</th>\n      <th>485873</th>\n      <th>0.8</th>\n      <th>13643</th>\n      <th>-7.2</th>\n      <th>198825</th>\n      <th>77798</th>\n    </tr>\n  </thead>\n  <tbody>\n    <tr>\n      <th>0</th>\n      <td>2</td>\n      <td>Berkshire Hathaway</td>\n      <td>http://www.berkshirehathaway.com</td>\n      <td>367700</td>\n      <td>Financials</td>\n      <td>Insurance: Property and Casualty (Stock)</td>\n      <td>Omaha, NE</td>\n      <td>3555 Farnam St.</td>\n      <td>Omaha</td>\n      <td>NE</td>\n      <td>...</td>\n      <td>Chairman &amp; Chief Executive Officer</td>\n      <td>3555 Farnam St., Omaha, NE 68131</td>\n      <td>BRKA</td>\n      <td>Berkshire Hathaway Inc.</td>\n      <td>223604</td>\n      <td>6.1</td>\n      <td>24074</td>\n      <td>0.0</td>\n      <td>620854</td>\n      <td>283001</td>\n    </tr>\n    <tr>\n      <th>1</th>\n      <td>3</td>\n      <td>Apple</td>\n      <td>http://www.apple.com</td>\n      <td>116000</td>\n      <td>Technology</td>\n      <td>Computers, Office Equipment</td>\n      <td>Cupertino, CA</td>\n      <td>1 Infinite Loop</td>\n      <td>Cupertino</td>\n      <td>CA</td>\n      <td>...</td>\n      <td>Chief Executive Officer &amp; Director</td>\n      <td>1 Infinite Loop, Cupertino, CA 95014</td>\n      <td>AAPL</td>\n      <td>Apple, Inc.</td>\n      <td>215639</td>\n      <td>-7.7</td>\n      <td>45687</td>\n      <td>-14.4</td>\n      <td>321686</td>\n      <td>128249</td>\n    </tr>\n    <tr>\n      <th>2</th>\n      <td>5</td>\n      <td>McKesson</td>\n      <td>http://www.mckesson.com</td>\n      <td>68000</td>\n      <td>Wholesalers</td>\n      <td>Wholesalers: Health Care</td>\n      <td>San Francisco, CA</td>\n      <td>1 Post St.</td>\n      <td>San Francisco</td>\n      <td>CA</td>\n      <td>...</td>\n      <td>Chairman, President &amp; Chief Executive Officer</td>\n      <td>1 Post St., San Francisco, CA 94104</td>\n      <td>MCK</td>\n      <td>McKesson Corporation</td>\n      <td>192487</td>\n      <td>6.2</td>\n      <td>2258</td>\n      <td>53.0</td>\n      <td>56563</td>\n      <td>8924</td>\n    </tr>\n    <tr>\n      <th>3</th>\n      <td>7</td>\n      <td>CVS Health</td>\n      <td>http://www.cvshealth.com</td>\n      <td>204000</td>\n      <td>Health Care</td>\n      <td>Health Care: Pharmacy and Other Services</td>\n      <td>Woonsocket, RI</td>\n      <td>1 CVS Dr.</td>\n      <td>Woonsocket</td>\n      <td>RI</td>\n      <td>...</td>\n      <td>President, Chief Executive Officer &amp; Director</td>\n      <td>1 CVS Dr., Woonsocket, RI 02895</td>\n      <td>CVS</td>\n      <td>CVS Health Corporation</td>\n      <td>177526</td>\n      <td>15.8</td>\n      <td>5317</td>\n      <td>1.5</td>\n      <td>94462</td>\n      <td>36830</td>\n    </tr>\n    <tr>\n      <th>4</th>\n      <td>8</td>\n      <td>General Motors</td>\n      <td>http://www.gm.com</td>\n      <td>225000</td>\n      <td>Motor Vehicles &amp; Parts</td>\n      <td>Motor Vehicles and Parts</td>\n      <td>Detroit, MI</td>\n      <td>300 Renaissance Center</td>\n      <td>Detroit</td>\n      <td>MI</td>\n      <td>...</td>\n      <td>Chairman &amp; Chief Executive Officer</td>\n      <td>300 Renaissance Center, Detroit, MI 48265</td>\n      <td>GM</td>\n      <td>General Motors Company</td>\n      <td>166380</td>\n      <td>9.2</td>\n      <td>9427</td>\n      <td>-2.7</td>\n      <td>221690</td>\n      <td>43836</td>\n    </tr>\n    <tr>\n      <th>5</th>\n      <td>9</td>\n      <td>AT&amp;T</td>\n      <td>http://www.att.com</td>\n      <td>268540</td>\n      <td>Telecommunications</td>\n      <td>Telecommunications</td>\n      <td>Dallas, TX</td>\n      <td>208 S. Akard St.</td>\n      <td>Dallas</td>\n      <td>TX</td>\n      <td>...</td>\n      <td>Chairman, President &amp; Chief Executive Officer</td>\n      <td>208 S. Akard St., Dallas, TX 75202</td>\n      <td>T</td>\n      <td>AT&amp;T Inc.</td>\n      <td>163786</td>\n      <td>11.6</td>\n      <td>12976</td>\n      <td>-2.8</td>\n      <td>403821</td>\n      <td>123135</td>\n    </tr>\n    <tr>\n      <th>6</th>\n      <td>10</td>\n      <td>Ford Motor</td>\n      <td>http://www.ford.com</td>\n      <td>201000</td>\n      <td>Motor Vehicles &amp; Parts</td>\n      <td>Motor Vehicles and Parts</td>\n      <td>Dearborn, MI</td>\n      <td>1 American Rd.</td>\n      <td>Dearborn</td>\n      <td>MI</td>\n      <td>...</td>\n      <td>President, Chief Executive Officer &amp; Director</td>\n      <td>1 American Rd., Dearborn, MI 48126</td>\n      <td>F</td>\n      <td>Ford Motor Company</td>\n      <td>151800</td>\n      <td>1.5</td>\n      <td>4596</td>\n      <td>-37.7</td>\n      <td>237951</td>\n      <td>29170</td>\n    </tr>\n  </tbody>\n</table>\n<p>7 rows × 23 columns</p>\n</div>"
     },
     "metadata": {},
     "execution_count": 26
    }
   ],
   "source": [
    "df = pd.read_csv(\"E:\\\\ML\\\\ML\\\\Pandas\\\\Fortune 500 2017 - Fortune 500.csv\", skiprows= [0,4,6]) #it will skip Spacific Nth row\n",
    "df                                                                "
   ]
  },
  {
   "cell_type": "code",
   "execution_count": 28,
   "metadata": {},
   "outputs": [
    {
     "output_type": "execute_result",
     "data": {
      "text/plain": [
       "                   Title                           Website  Employees  \\\n",
       "Rank                                                                    \n",
       "1                Walmart            http://www.walmart.com    2300000   \n",
       "2     Berkshire Hathaway  http://www.berkshirehathaway.com     367700   \n",
       "3                  Apple              http://www.apple.com     116000   \n",
       "4            Exxon Mobil         http://www.exxonmobil.com      72700   \n",
       "5               McKesson           http://www.mckesson.com      68000   \n",
       "6     UnitedHealth Group  http://www.unitedhealthgroup.com     230000   \n",
       "7             CVS Health          http://www.cvshealth.com     204000   \n",
       "8         General Motors                 http://www.gm.com     225000   \n",
       "9                   AT&T                http://www.att.com     268540   \n",
       "10            Ford Motor               http://www.ford.com     201000   \n",
       "\n",
       "                      Sector                                  Industry  \\\n",
       "Rank                                                                     \n",
       "1                  Retailing                     General Merchandisers   \n",
       "2                 Financials  Insurance: Property and Casualty (Stock)   \n",
       "3                 Technology               Computers, Office Equipment   \n",
       "4                     Energy                        Petroleum Refining   \n",
       "5                Wholesalers                  Wholesalers: Health Care   \n",
       "6                Health Care   Health Care: Insurance and Managed Care   \n",
       "7                Health Care  Health Care: Pharmacy and Other Services   \n",
       "8     Motor Vehicles & Parts                  Motor Vehicles and Parts   \n",
       "9         Telecommunications                        Telecommunications   \n",
       "10    Motor Vehicles & Parts                  Motor Vehicles and Parts   \n",
       "\n",
       "             Hqlocation                  Hqaddr         Hqcity Hqstate  Hqzip  \\\n",
       "Rank                                                                            \n",
       "1       Bentonville, AR     702 S.W. Eighth St.    Bentonville      AR  72716   \n",
       "2             Omaha, NE         3555 Farnam St.          Omaha      NE  68131   \n",
       "3         Cupertino, CA         1 Infinite Loop      Cupertino      CA  95014   \n",
       "4            Irving, TX  5959 Las Colinas Blvd.         Irving      TX  75039   \n",
       "5     San Francisco, CA              1 Post St.  San Francisco      CA  94104   \n",
       "6        Minnetonka, MN        9900 Bren Rd. E.     Minnetonka      MN  55343   \n",
       "7        Woonsocket, RI               1 CVS Dr.     Woonsocket      RI   2895   \n",
       "8           Detroit, MI  300 Renaissance Center        Detroit      MI  48265   \n",
       "9            Dallas, TX        208 S. Akard St.         Dallas      TX  75202   \n",
       "10         Dearborn, MI          1 American Rd.       Dearborn      MI  48126   \n",
       "\n",
       "      ...                                      Ceo-title  \\\n",
       "Rank  ...                                                  \n",
       "1     ...  President, Chief Executive Officer & Director   \n",
       "2     ...             Chairman & Chief Executive Officer   \n",
       "3     ...             Chief Executive Officer & Director   \n",
       "4     ...             Chairman & Chief Executive Officer   \n",
       "5     ...  Chairman, President & Chief Executive Officer   \n",
       "6     ...             Chief Executive Officer & Director   \n",
       "7     ...  President, Chief Executive Officer & Director   \n",
       "8     ...             Chairman & Chief Executive Officer   \n",
       "9     ...  Chairman, President & Chief Executive Officer   \n",
       "10    ...  President, Chief Executive Officer & Director   \n",
       "\n",
       "                                         Address Ticker  \\\n",
       "Rank                                                      \n",
       "1     702 S.W. Eighth St., Bentonville, AR 72716    WMT   \n",
       "2               3555 Farnam St., Omaha, NE 68131   BRKA   \n",
       "3           1 Infinite Loop, Cupertino, CA 95014   AAPL   \n",
       "4       5959 Las Colinas Blvd., Irving, TX 75039    XOM   \n",
       "5            1 Post St., San Francisco, CA 94104    MCK   \n",
       "6         9900 Bren Rd. E., Minnetonka, MN 55343    UNH   \n",
       "7                1 CVS Dr., Woonsocket, RI 02895    CVS   \n",
       "8      300 Renaissance Center, Detroit, MI 48265     GM   \n",
       "9             208 S. Akard St., Dallas, TX 75202      T   \n",
       "10            1 American Rd., Dearborn, MI 48126      F   \n",
       "\n",
       "                             Fullname Revenues Revchange  Profits  Prftchange  \\\n",
       "Rank                                                                            \n",
       "1               Wal-Mart Stores, Inc.   485873       0.8    13643        -7.2   \n",
       "2             Berkshire Hathaway Inc.   223604       6.1    24074         0.0   \n",
       "3                         Apple, Inc.   215639      -7.7    45687       -14.4   \n",
       "4             Exxon Mobil Corporation   205004     -16.7     7840       -51.5   \n",
       "5                McKesson Corporation   192487       6.2     2258        53.0   \n",
       "6     UnitedHealth Group Incorporated   184840      17.7     7017        20.7   \n",
       "7              CVS Health Corporation   177526      15.8     5317         1.5   \n",
       "8              General Motors Company   166380       9.2     9427        -2.7   \n",
       "9                           AT&T Inc.   163786      11.6    12976        -2.8   \n",
       "10                 Ford Motor Company   151800       1.5     4596       -37.7   \n",
       "\n",
       "      Assets  Totshequity  \n",
       "Rank                       \n",
       "1     198825        77798  \n",
       "2     620854       283001  \n",
       "3     321686       128249  \n",
       "4     330314       167325  \n",
       "5      56563         8924  \n",
       "6     122810        38274  \n",
       "7      94462        36830  \n",
       "8     221690        43836  \n",
       "9     403821       123135  \n",
       "10    237951        29170  \n",
       "\n",
       "[10 rows x 22 columns]"
      ],
      "text/html": "<div>\n<style scoped>\n    .dataframe tbody tr th:only-of-type {\n        vertical-align: middle;\n    }\n\n    .dataframe tbody tr th {\n        vertical-align: top;\n    }\n\n    .dataframe thead th {\n        text-align: right;\n    }\n</style>\n<table border=\"1\" class=\"dataframe\">\n  <thead>\n    <tr style=\"text-align: right;\">\n      <th></th>\n      <th>Title</th>\n      <th>Website</th>\n      <th>Employees</th>\n      <th>Sector</th>\n      <th>Industry</th>\n      <th>Hqlocation</th>\n      <th>Hqaddr</th>\n      <th>Hqcity</th>\n      <th>Hqstate</th>\n      <th>Hqzip</th>\n      <th>...</th>\n      <th>Ceo-title</th>\n      <th>Address</th>\n      <th>Ticker</th>\n      <th>Fullname</th>\n      <th>Revenues</th>\n      <th>Revchange</th>\n      <th>Profits</th>\n      <th>Prftchange</th>\n      <th>Assets</th>\n      <th>Totshequity</th>\n    </tr>\n    <tr>\n      <th>Rank</th>\n      <th></th>\n      <th></th>\n      <th></th>\n      <th></th>\n      <th></th>\n      <th></th>\n      <th></th>\n      <th></th>\n      <th></th>\n      <th></th>\n      <th></th>\n      <th></th>\n      <th></th>\n      <th></th>\n      <th></th>\n      <th></th>\n      <th></th>\n      <th></th>\n      <th></th>\n      <th></th>\n      <th></th>\n    </tr>\n  </thead>\n  <tbody>\n    <tr>\n      <th>1</th>\n      <td>Walmart</td>\n      <td>http://www.walmart.com</td>\n      <td>2300000</td>\n      <td>Retailing</td>\n      <td>General Merchandisers</td>\n      <td>Bentonville, AR</td>\n      <td>702 S.W. Eighth St.</td>\n      <td>Bentonville</td>\n      <td>AR</td>\n      <td>72716</td>\n      <td>...</td>\n      <td>President, Chief Executive Officer &amp; Director</td>\n      <td>702 S.W. Eighth St., Bentonville, AR 72716</td>\n      <td>WMT</td>\n      <td>Wal-Mart Stores, Inc.</td>\n      <td>485873</td>\n      <td>0.8</td>\n      <td>13643</td>\n      <td>-7.2</td>\n      <td>198825</td>\n      <td>77798</td>\n    </tr>\n    <tr>\n      <th>2</th>\n      <td>Berkshire Hathaway</td>\n      <td>http://www.berkshirehathaway.com</td>\n      <td>367700</td>\n      <td>Financials</td>\n      <td>Insurance: Property and Casualty (Stock)</td>\n      <td>Omaha, NE</td>\n      <td>3555 Farnam St.</td>\n      <td>Omaha</td>\n      <td>NE</td>\n      <td>68131</td>\n      <td>...</td>\n      <td>Chairman &amp; Chief Executive Officer</td>\n      <td>3555 Farnam St., Omaha, NE 68131</td>\n      <td>BRKA</td>\n      <td>Berkshire Hathaway Inc.</td>\n      <td>223604</td>\n      <td>6.1</td>\n      <td>24074</td>\n      <td>0.0</td>\n      <td>620854</td>\n      <td>283001</td>\n    </tr>\n    <tr>\n      <th>3</th>\n      <td>Apple</td>\n      <td>http://www.apple.com</td>\n      <td>116000</td>\n      <td>Technology</td>\n      <td>Computers, Office Equipment</td>\n      <td>Cupertino, CA</td>\n      <td>1 Infinite Loop</td>\n      <td>Cupertino</td>\n      <td>CA</td>\n      <td>95014</td>\n      <td>...</td>\n      <td>Chief Executive Officer &amp; Director</td>\n      <td>1 Infinite Loop, Cupertino, CA 95014</td>\n      <td>AAPL</td>\n      <td>Apple, Inc.</td>\n      <td>215639</td>\n      <td>-7.7</td>\n      <td>45687</td>\n      <td>-14.4</td>\n      <td>321686</td>\n      <td>128249</td>\n    </tr>\n    <tr>\n      <th>4</th>\n      <td>Exxon Mobil</td>\n      <td>http://www.exxonmobil.com</td>\n      <td>72700</td>\n      <td>Energy</td>\n      <td>Petroleum Refining</td>\n      <td>Irving, TX</td>\n      <td>5959 Las Colinas Blvd.</td>\n      <td>Irving</td>\n      <td>TX</td>\n      <td>75039</td>\n      <td>...</td>\n      <td>Chairman &amp; Chief Executive Officer</td>\n      <td>5959 Las Colinas Blvd., Irving, TX 75039</td>\n      <td>XOM</td>\n      <td>Exxon Mobil Corporation</td>\n      <td>205004</td>\n      <td>-16.7</td>\n      <td>7840</td>\n      <td>-51.5</td>\n      <td>330314</td>\n      <td>167325</td>\n    </tr>\n    <tr>\n      <th>5</th>\n      <td>McKesson</td>\n      <td>http://www.mckesson.com</td>\n      <td>68000</td>\n      <td>Wholesalers</td>\n      <td>Wholesalers: Health Care</td>\n      <td>San Francisco, CA</td>\n      <td>1 Post St.</td>\n      <td>San Francisco</td>\n      <td>CA</td>\n      <td>94104</td>\n      <td>...</td>\n      <td>Chairman, President &amp; Chief Executive Officer</td>\n      <td>1 Post St., San Francisco, CA 94104</td>\n      <td>MCK</td>\n      <td>McKesson Corporation</td>\n      <td>192487</td>\n      <td>6.2</td>\n      <td>2258</td>\n      <td>53.0</td>\n      <td>56563</td>\n      <td>8924</td>\n    </tr>\n    <tr>\n      <th>6</th>\n      <td>UnitedHealth Group</td>\n      <td>http://www.unitedhealthgroup.com</td>\n      <td>230000</td>\n      <td>Health Care</td>\n      <td>Health Care: Insurance and Managed Care</td>\n      <td>Minnetonka, MN</td>\n      <td>9900 Bren Rd. E.</td>\n      <td>Minnetonka</td>\n      <td>MN</td>\n      <td>55343</td>\n      <td>...</td>\n      <td>Chief Executive Officer &amp; Director</td>\n      <td>9900 Bren Rd. E., Minnetonka, MN 55343</td>\n      <td>UNH</td>\n      <td>UnitedHealth Group Incorporated</td>\n      <td>184840</td>\n      <td>17.7</td>\n      <td>7017</td>\n      <td>20.7</td>\n      <td>122810</td>\n      <td>38274</td>\n    </tr>\n    <tr>\n      <th>7</th>\n      <td>CVS Health</td>\n      <td>http://www.cvshealth.com</td>\n      <td>204000</td>\n      <td>Health Care</td>\n      <td>Health Care: Pharmacy and Other Services</td>\n      <td>Woonsocket, RI</td>\n      <td>1 CVS Dr.</td>\n      <td>Woonsocket</td>\n      <td>RI</td>\n      <td>2895</td>\n      <td>...</td>\n      <td>President, Chief Executive Officer &amp; Director</td>\n      <td>1 CVS Dr., Woonsocket, RI 02895</td>\n      <td>CVS</td>\n      <td>CVS Health Corporation</td>\n      <td>177526</td>\n      <td>15.8</td>\n      <td>5317</td>\n      <td>1.5</td>\n      <td>94462</td>\n      <td>36830</td>\n    </tr>\n    <tr>\n      <th>8</th>\n      <td>General Motors</td>\n      <td>http://www.gm.com</td>\n      <td>225000</td>\n      <td>Motor Vehicles &amp; Parts</td>\n      <td>Motor Vehicles and Parts</td>\n      <td>Detroit, MI</td>\n      <td>300 Renaissance Center</td>\n      <td>Detroit</td>\n      <td>MI</td>\n      <td>48265</td>\n      <td>...</td>\n      <td>Chairman &amp; Chief Executive Officer</td>\n      <td>300 Renaissance Center, Detroit, MI 48265</td>\n      <td>GM</td>\n      <td>General Motors Company</td>\n      <td>166380</td>\n      <td>9.2</td>\n      <td>9427</td>\n      <td>-2.7</td>\n      <td>221690</td>\n      <td>43836</td>\n    </tr>\n    <tr>\n      <th>9</th>\n      <td>AT&amp;T</td>\n      <td>http://www.att.com</td>\n      <td>268540</td>\n      <td>Telecommunications</td>\n      <td>Telecommunications</td>\n      <td>Dallas, TX</td>\n      <td>208 S. Akard St.</td>\n      <td>Dallas</td>\n      <td>TX</td>\n      <td>75202</td>\n      <td>...</td>\n      <td>Chairman, President &amp; Chief Executive Officer</td>\n      <td>208 S. Akard St., Dallas, TX 75202</td>\n      <td>T</td>\n      <td>AT&amp;T Inc.</td>\n      <td>163786</td>\n      <td>11.6</td>\n      <td>12976</td>\n      <td>-2.8</td>\n      <td>403821</td>\n      <td>123135</td>\n    </tr>\n    <tr>\n      <th>10</th>\n      <td>Ford Motor</td>\n      <td>http://www.ford.com</td>\n      <td>201000</td>\n      <td>Motor Vehicles &amp; Parts</td>\n      <td>Motor Vehicles and Parts</td>\n      <td>Dearborn, MI</td>\n      <td>1 American Rd.</td>\n      <td>Dearborn</td>\n      <td>MI</td>\n      <td>48126</td>\n      <td>...</td>\n      <td>President, Chief Executive Officer &amp; Director</td>\n      <td>1 American Rd., Dearborn, MI 48126</td>\n      <td>F</td>\n      <td>Ford Motor Company</td>\n      <td>151800</td>\n      <td>1.5</td>\n      <td>4596</td>\n      <td>-37.7</td>\n      <td>237951</td>\n      <td>29170</td>\n    </tr>\n  </tbody>\n</table>\n<p>10 rows × 22 columns</p>\n</div>"
     },
     "metadata": {},
     "execution_count": 28
    }
   ],
   "source": [
    "df = pd.read_csv(\"E:\\\\ML\\\\ML\\\\Pandas\\\\Fortune 500 2017 - Fortune 500.csv\", index_col=  \"Rank\")\n",
    "df                                                                         # it will change the leftside \"index\""
   ]
  },
  {
   "cell_type": "code",
   "execution_count": null,
   "metadata": {},
   "outputs": [],
   "source": []
  }
 ]
}