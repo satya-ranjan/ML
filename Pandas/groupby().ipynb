{
 "metadata": {
  "language_info": {
   "codemirror_mode": {
    "name": "ipython",
    "version": 3
   },
   "file_extension": ".py",
   "mimetype": "text/x-python",
   "name": "python",
   "nbconvert_exporter": "python",
   "pygments_lexer": "ipython3",
   "version": "3.9.5"
  },
  "orig_nbformat": 4,
  "kernelspec": {
   "name": "python3",
   "display_name": "Python 3.9.5 64-bit"
  },
  "interpreter": {
   "hash": "a12d694c3ccac42055183a0ad11e659c6a2db5c6555ad2c8919d5814fd4e404f"
  }
 },
 "nbformat": 4,
 "nbformat_minor": 2,
 "cells": [
  {
   "source": [
    "# Pandas groupby Function?\n",
    "\n",
    "Pandas groupby fuction is used to split the data into group based on some criteria\n",
    "\n",
    "Syntax : Dataframe.groupby()\n",
    "\n",
    "any groupby operation involes one of the folling operations on the original object:\n",
    "\n",
    "-splitting the object,\n",
    "-Applying a function,\n",
    "-Combining the result"
   ],
   "cell_type": "markdown",
   "metadata": {}
  },
  {
   "source": [
    "# groupby()"
   ],
   "cell_type": "markdown",
   "metadata": {}
  },
  {
   "cell_type": "code",
   "execution_count": 3,
   "metadata": {},
   "outputs": [],
   "source": [
    "import pandas as pd "
   ]
  },
  {
   "cell_type": "code",
   "execution_count": 5,
   "metadata": {},
   "outputs": [
    {
     "output_type": "execute_result",
     "data": {
      "text/plain": [
       "   Student ID Section  Class  Study hrs  Social Media usage hrs  Percentage\n",
       "0        1001       A     10          2                       2          50\n",
       "1        1002       B     10          6                       2          60\n",
       "2        1003       A     10          3                       2          60\n",
       "3        1004       C     11          0                       1          45\n",
       "4        1005       C     12          5                       2          75"
      ],
      "text/html": "<div>\n<style scoped>\n    .dataframe tbody tr th:only-of-type {\n        vertical-align: middle;\n    }\n\n    .dataframe tbody tr th {\n        vertical-align: top;\n    }\n\n    .dataframe thead th {\n        text-align: right;\n    }\n</style>\n<table border=\"1\" class=\"dataframe\">\n  <thead>\n    <tr style=\"text-align: right;\">\n      <th></th>\n      <th>Student ID</th>\n      <th>Section</th>\n      <th>Class</th>\n      <th>Study hrs</th>\n      <th>Social Media usage hrs</th>\n      <th>Percentage</th>\n    </tr>\n  </thead>\n  <tbody>\n    <tr>\n      <th>0</th>\n      <td>1001</td>\n      <td>A</td>\n      <td>10</td>\n      <td>2</td>\n      <td>2</td>\n      <td>50</td>\n    </tr>\n    <tr>\n      <th>1</th>\n      <td>1002</td>\n      <td>B</td>\n      <td>10</td>\n      <td>6</td>\n      <td>2</td>\n      <td>60</td>\n    </tr>\n    <tr>\n      <th>2</th>\n      <td>1003</td>\n      <td>A</td>\n      <td>10</td>\n      <td>3</td>\n      <td>2</td>\n      <td>60</td>\n    </tr>\n    <tr>\n      <th>3</th>\n      <td>1004</td>\n      <td>C</td>\n      <td>11</td>\n      <td>0</td>\n      <td>1</td>\n      <td>45</td>\n    </tr>\n    <tr>\n      <th>4</th>\n      <td>1005</td>\n      <td>C</td>\n      <td>12</td>\n      <td>5</td>\n      <td>2</td>\n      <td>75</td>\n    </tr>\n  </tbody>\n</table>\n</div>"
     },
     "metadata": {},
     "execution_count": 5
    }
   ],
   "source": [
    "df = pd.read_csv(\"E:\\\\ML\\\\ML\\\\Pandas\\\\student_result.csv\")\n",
    "df"
   ]
  },
  {
   "cell_type": "code",
   "execution_count": 6,
   "metadata": {},
   "outputs": [
    {
     "output_type": "execute_result",
     "data": {
      "text/plain": [
       "<pandas.core.groupby.generic.DataFrameGroupBy object at 0x000001FF9902DF70>"
      ]
     },
     "metadata": {},
     "execution_count": 6
    }
   ],
   "source": [
    "gp1 = df.groupby( by = \"Section\") # it will show which type it will return It says                                                             DataFramegroup by object\n",
    "gp1"
   ]
  },
  {
   "cell_type": "code",
   "execution_count": 7,
   "metadata": {},
   "outputs": [
    {
     "output_type": "execute_result",
     "data": {
      "text/plain": [
       "{'A': [0, 2], 'B': [1], 'C': [3, 4]}"
      ]
     },
     "metadata": {},
     "execution_count": 7
    }
   ],
   "source": [
    "gp1.groups"
   ]
  },
  {
   "cell_type": "code",
   "execution_count": 9,
   "metadata": {},
   "outputs": [
    {
     "output_type": "execute_result",
     "data": {
      "text/plain": [
       "{('A', 10): [0, 2], ('B', 10): [1], ('C', 11): [3], ('C', 12): [4]}"
      ]
     },
     "metadata": {},
     "execution_count": 9
    }
   ],
   "source": [
    "df.groupby([\"Section\", \"Class\"]).groups"
   ]
  },
  {
   "cell_type": "code",
   "execution_count": 12,
   "metadata": {},
   "outputs": [
    {
     "output_type": "stream",
     "name": "stdout",
     "text": [
      "A\n   Student ID Section  Class  Study hrs  Social Media usage hrs  Percentage\n0        1001       A     10          2                       2          50\n2        1003       A     10          3                       2          60\nB\n   Student ID Section  Class  Study hrs  Social Media usage hrs  Percentage\n1        1002       B     10          6                       2          60\nC\n   Student ID Section  Class  Study hrs  Social Media usage hrs  Percentage\n3        1004       C     11          0                       1          45\n4        1005       C     12          5                       2          75\n"
     ]
    }
   ],
   "source": [
    "for Section, df_1 in gp1: # It will show the table in group by fuction \n",
    "    print(Section)          #->It will have Section as A B C\n",
    "    print(df_1)"
   ]
  },
  {
   "cell_type": "code",
   "execution_count": 13,
   "metadata": {},
   "outputs": [
    {
     "output_type": "execute_result",
     "data": {
      "text/plain": [
       "[('A',\n",
       "     Student ID Section  Class  Study hrs  Social Media usage hrs  Percentage\n",
       "  0        1001       A     10          2                       2          50\n",
       "  2        1003       A     10          3                       2          60),\n",
       " ('B',\n",
       "     Student ID Section  Class  Study hrs  Social Media usage hrs  Percentage\n",
       "  1        1002       B     10          6                       2          60),\n",
       " ('C',\n",
       "     Student ID Section  Class  Study hrs  Social Media usage hrs  Percentage\n",
       "  3        1004       C     11          0                       1          45\n",
       "  4        1005       C     12          5                       2          75)]"
      ]
     },
     "metadata": {},
     "execution_count": 13
    }
   ],
   "source": [
    "list(gp1)  # IT will convert it in to list"
   ]
  },
  {
   "cell_type": "code",
   "execution_count": 16,
   "metadata": {},
   "outputs": [
    {
     "output_type": "execute_result",
     "data": {
      "text/plain": [
       "{'A':    Student ID Section  Class  Study hrs  Social Media usage hrs  Percentage\n",
       " 0        1001       A     10          2                       2          50\n",
       " 2        1003       A     10          3                       2          60,\n",
       " 'B':    Student ID Section  Class  Study hrs  Social Media usage hrs  Percentage\n",
       " 1        1002       B     10          6                       2          60,\n",
       " 'C':    Student ID Section  Class  Study hrs  Social Media usage hrs  Percentage\n",
       " 3        1004       C     11          0                       1          45\n",
       " 4        1005       C     12          5                       2          75}"
      ]
     },
     "metadata": {},
     "execution_count": 16
    }
   ],
   "source": [
    "dict(list(gp1)) # It will show it as dict "
   ]
  },
  {
   "cell_type": "code",
   "execution_count": 18,
   "metadata": {},
   "outputs": [
    {
     "output_type": "execute_result",
     "data": {
      "text/plain": [
       "   Student ID Section  Class  Study hrs  Social Media usage hrs  Percentage\n",
       "0        1001       A     10          2                       2          50\n",
       "1        1002       B     10          6                       2          60\n",
       "2        1003       A     10          3                       2          60"
      ],
      "text/html": "<div>\n<style scoped>\n    .dataframe tbody tr th:only-of-type {\n        vertical-align: middle;\n    }\n\n    .dataframe tbody tr th {\n        vertical-align: top;\n    }\n\n    .dataframe thead th {\n        text-align: right;\n    }\n</style>\n<table border=\"1\" class=\"dataframe\">\n  <thead>\n    <tr style=\"text-align: right;\">\n      <th></th>\n      <th>Student ID</th>\n      <th>Section</th>\n      <th>Class</th>\n      <th>Study hrs</th>\n      <th>Social Media usage hrs</th>\n      <th>Percentage</th>\n    </tr>\n  </thead>\n  <tbody>\n    <tr>\n      <th>0</th>\n      <td>1001</td>\n      <td>A</td>\n      <td>10</td>\n      <td>2</td>\n      <td>2</td>\n      <td>50</td>\n    </tr>\n    <tr>\n      <th>1</th>\n      <td>1002</td>\n      <td>B</td>\n      <td>10</td>\n      <td>6</td>\n      <td>2</td>\n      <td>60</td>\n    </tr>\n    <tr>\n      <th>2</th>\n      <td>1003</td>\n      <td>A</td>\n      <td>10</td>\n      <td>3</td>\n      <td>2</td>\n      <td>60</td>\n    </tr>\n  </tbody>\n</table>\n</div>"
     },
     "metadata": {},
     "execution_count": 18
    }
   ],
   "source": [
    "gr3 = df.groupby(\"Class\").get_group(10) #To select one group we have to use get_group\n",
    "gr3                                         # we will do group according to the class\n",
    "                                                # we have to give one value of class section"
   ]
  },
  {
   "cell_type": "code",
   "execution_count": 20,
   "metadata": {},
   "outputs": [
    {
     "output_type": "execute_result",
     "data": {
      "text/plain": [
       "   Student ID Section  Class  Study hrs  Social Media usage hrs  Percentage\n",
       "0        1001       A     10          2                       2          50\n",
       "2        1003       A     10          3                       2          60"
      ],
      "text/html": "<div>\n<style scoped>\n    .dataframe tbody tr th:only-of-type {\n        vertical-align: middle;\n    }\n\n    .dataframe tbody tr th {\n        vertical-align: top;\n    }\n\n    .dataframe thead th {\n        text-align: right;\n    }\n</style>\n<table border=\"1\" class=\"dataframe\">\n  <thead>\n    <tr style=\"text-align: right;\">\n      <th></th>\n      <th>Student ID</th>\n      <th>Section</th>\n      <th>Class</th>\n      <th>Study hrs</th>\n      <th>Social Media usage hrs</th>\n      <th>Percentage</th>\n    </tr>\n  </thead>\n  <tbody>\n    <tr>\n      <th>0</th>\n      <td>1001</td>\n      <td>A</td>\n      <td>10</td>\n      <td>2</td>\n      <td>2</td>\n      <td>50</td>\n    </tr>\n    <tr>\n      <th>2</th>\n      <td>1003</td>\n      <td>A</td>\n      <td>10</td>\n      <td>3</td>\n      <td>2</td>\n      <td>60</td>\n    </tr>\n  </tbody>\n</table>\n</div>"
     },
     "metadata": {},
     "execution_count": 20
    }
   ],
   "source": [
    "gr3 = df.groupby(\"Section\").get_group(\"A\")\n",
    "gr3"
   ]
  },
  {
   "source": [
    "# Appling function to a group"
   ],
   "cell_type": "markdown",
   "metadata": {}
  },
  {
   "cell_type": "code",
   "execution_count": 24,
   "metadata": {},
   "outputs": [
    {
     "output_type": "execute_result",
     "data": {
      "text/plain": [
       "         Student ID  Class  Study hrs  Social Media usage hrs  Percentage\n",
       "Section                                                                  \n",
       "A              2004     20          5                       4         110\n",
       "B              1002     10          6                       2          60\n",
       "C              2009     23          5                       3         120"
      ],
      "text/html": "<div>\n<style scoped>\n    .dataframe tbody tr th:only-of-type {\n        vertical-align: middle;\n    }\n\n    .dataframe tbody tr th {\n        vertical-align: top;\n    }\n\n    .dataframe thead th {\n        text-align: right;\n    }\n</style>\n<table border=\"1\" class=\"dataframe\">\n  <thead>\n    <tr style=\"text-align: right;\">\n      <th></th>\n      <th>Student ID</th>\n      <th>Class</th>\n      <th>Study hrs</th>\n      <th>Social Media usage hrs</th>\n      <th>Percentage</th>\n    </tr>\n    <tr>\n      <th>Section</th>\n      <th></th>\n      <th></th>\n      <th></th>\n      <th></th>\n      <th></th>\n    </tr>\n  </thead>\n  <tbody>\n    <tr>\n      <th>A</th>\n      <td>2004</td>\n      <td>20</td>\n      <td>5</td>\n      <td>4</td>\n      <td>110</td>\n    </tr>\n    <tr>\n      <th>B</th>\n      <td>1002</td>\n      <td>10</td>\n      <td>6</td>\n      <td>2</td>\n      <td>60</td>\n    </tr>\n    <tr>\n      <th>C</th>\n      <td>2009</td>\n      <td>23</td>\n      <td>5</td>\n      <td>3</td>\n      <td>120</td>\n    </tr>\n  </tbody>\n</table>\n</div>"
     },
     "metadata": {},
     "execution_count": 24
    }
   ],
   "source": [
    "gp1.sum() # It will add the function which have same section"
   ]
  },
  {
   "cell_type": "code",
   "execution_count": 25,
   "metadata": {},
   "outputs": [
    {
     "output_type": "execute_result",
     "data": {
      "text/plain": [
       "         Student ID  Class  Study hrs  Social Media usage hrs  Percentage\n",
       "Section                                                                  \n",
       "A            1002.0   10.0        2.5                     2.0        55.0\n",
       "B            1002.0   10.0        6.0                     2.0        60.0\n",
       "C            1004.5   11.5        2.5                     1.5        60.0"
      ],
      "text/html": "<div>\n<style scoped>\n    .dataframe tbody tr th:only-of-type {\n        vertical-align: middle;\n    }\n\n    .dataframe tbody tr th {\n        vertical-align: top;\n    }\n\n    .dataframe thead th {\n        text-align: right;\n    }\n</style>\n<table border=\"1\" class=\"dataframe\">\n  <thead>\n    <tr style=\"text-align: right;\">\n      <th></th>\n      <th>Student ID</th>\n      <th>Class</th>\n      <th>Study hrs</th>\n      <th>Social Media usage hrs</th>\n      <th>Percentage</th>\n    </tr>\n    <tr>\n      <th>Section</th>\n      <th></th>\n      <th></th>\n      <th></th>\n      <th></th>\n      <th></th>\n    </tr>\n  </thead>\n  <tbody>\n    <tr>\n      <th>A</th>\n      <td>1002.0</td>\n      <td>10.0</td>\n      <td>2.5</td>\n      <td>2.0</td>\n      <td>55.0</td>\n    </tr>\n    <tr>\n      <th>B</th>\n      <td>1002.0</td>\n      <td>10.0</td>\n      <td>6.0</td>\n      <td>2.0</td>\n      <td>60.0</td>\n    </tr>\n    <tr>\n      <th>C</th>\n      <td>1004.5</td>\n      <td>11.5</td>\n      <td>2.5</td>\n      <td>1.5</td>\n      <td>60.0</td>\n    </tr>\n  </tbody>\n</table>\n</div>"
     },
     "metadata": {},
     "execution_count": 25
    }
   ],
   "source": [
    "gp1.mean()"
   ]
  },
  {
   "cell_type": "code",
   "execution_count": 26,
   "metadata": {},
   "outputs": [
    {
     "output_type": "execute_result",
     "data": {
      "text/plain": [
       "        Student ID                                                      \\\n",
       "             count    mean       std     min      25%     50%      75%   \n",
       "Section                                                                  \n",
       "A              2.0  1002.0  1.414214  1001.0  1001.50  1002.0  1002.50   \n",
       "B              1.0  1002.0       NaN  1002.0  1002.00  1002.0  1002.00   \n",
       "C              2.0  1004.5  0.707107  1004.0  1004.25  1004.5  1004.75   \n",
       "\n",
       "                Class        ... Social Media usage hrs      Percentage        \\\n",
       "            max count  mean  ...                    75%  max      count  mean   \n",
       "Section                      ...                                                \n",
       "A        1003.0   2.0  10.0  ...                   2.00  2.0        2.0  55.0   \n",
       "B        1002.0   1.0  10.0  ...                   2.00  2.0        1.0  60.0   \n",
       "C        1005.0   2.0  11.5  ...                   1.75  2.0        2.0  60.0   \n",
       "\n",
       "                                                  \n",
       "               std   min   25%   50%   75%   max  \n",
       "Section                                           \n",
       "A         7.071068  50.0  52.5  55.0  57.5  60.0  \n",
       "B              NaN  60.0  60.0  60.0  60.0  60.0  \n",
       "C        21.213203  45.0  52.5  60.0  67.5  75.0  \n",
       "\n",
       "[3 rows x 40 columns]"
      ],
      "text/html": "<div>\n<style scoped>\n    .dataframe tbody tr th:only-of-type {\n        vertical-align: middle;\n    }\n\n    .dataframe tbody tr th {\n        vertical-align: top;\n    }\n\n    .dataframe thead tr th {\n        text-align: left;\n    }\n\n    .dataframe thead tr:last-of-type th {\n        text-align: right;\n    }\n</style>\n<table border=\"1\" class=\"dataframe\">\n  <thead>\n    <tr>\n      <th></th>\n      <th colspan=\"8\" halign=\"left\">Student ID</th>\n      <th colspan=\"2\" halign=\"left\">Class</th>\n      <th>...</th>\n      <th colspan=\"2\" halign=\"left\">Social Media usage hrs</th>\n      <th colspan=\"8\" halign=\"left\">Percentage</th>\n    </tr>\n    <tr>\n      <th></th>\n      <th>count</th>\n      <th>mean</th>\n      <th>std</th>\n      <th>min</th>\n      <th>25%</th>\n      <th>50%</th>\n      <th>75%</th>\n      <th>max</th>\n      <th>count</th>\n      <th>mean</th>\n      <th>...</th>\n      <th>75%</th>\n      <th>max</th>\n      <th>count</th>\n      <th>mean</th>\n      <th>std</th>\n      <th>min</th>\n      <th>25%</th>\n      <th>50%</th>\n      <th>75%</th>\n      <th>max</th>\n    </tr>\n    <tr>\n      <th>Section</th>\n      <th></th>\n      <th></th>\n      <th></th>\n      <th></th>\n      <th></th>\n      <th></th>\n      <th></th>\n      <th></th>\n      <th></th>\n      <th></th>\n      <th></th>\n      <th></th>\n      <th></th>\n      <th></th>\n      <th></th>\n      <th></th>\n      <th></th>\n      <th></th>\n      <th></th>\n      <th></th>\n      <th></th>\n    </tr>\n  </thead>\n  <tbody>\n    <tr>\n      <th>A</th>\n      <td>2.0</td>\n      <td>1002.0</td>\n      <td>1.414214</td>\n      <td>1001.0</td>\n      <td>1001.50</td>\n      <td>1002.0</td>\n      <td>1002.50</td>\n      <td>1003.0</td>\n      <td>2.0</td>\n      <td>10.0</td>\n      <td>...</td>\n      <td>2.00</td>\n      <td>2.0</td>\n      <td>2.0</td>\n      <td>55.0</td>\n      <td>7.071068</td>\n      <td>50.0</td>\n      <td>52.5</td>\n      <td>55.0</td>\n      <td>57.5</td>\n      <td>60.0</td>\n    </tr>\n    <tr>\n      <th>B</th>\n      <td>1.0</td>\n      <td>1002.0</td>\n      <td>NaN</td>\n      <td>1002.0</td>\n      <td>1002.00</td>\n      <td>1002.0</td>\n      <td>1002.00</td>\n      <td>1002.0</td>\n      <td>1.0</td>\n      <td>10.0</td>\n      <td>...</td>\n      <td>2.00</td>\n      <td>2.0</td>\n      <td>1.0</td>\n      <td>60.0</td>\n      <td>NaN</td>\n      <td>60.0</td>\n      <td>60.0</td>\n      <td>60.0</td>\n      <td>60.0</td>\n      <td>60.0</td>\n    </tr>\n    <tr>\n      <th>C</th>\n      <td>2.0</td>\n      <td>1004.5</td>\n      <td>0.707107</td>\n      <td>1004.0</td>\n      <td>1004.25</td>\n      <td>1004.5</td>\n      <td>1004.75</td>\n      <td>1005.0</td>\n      <td>2.0</td>\n      <td>11.5</td>\n      <td>...</td>\n      <td>1.75</td>\n      <td>2.0</td>\n      <td>2.0</td>\n      <td>60.0</td>\n      <td>21.213203</td>\n      <td>45.0</td>\n      <td>52.5</td>\n      <td>60.0</td>\n      <td>67.5</td>\n      <td>75.0</td>\n    </tr>\n  </tbody>\n</table>\n<p>3 rows × 40 columns</p>\n</div>"
     },
     "metadata": {},
     "execution_count": 26
    }
   ],
   "source": [
    "gp1.describe()"
   ]
  },
  {
   "cell_type": "code",
   "execution_count": 27,
   "metadata": {},
   "outputs": [
    {
     "output_type": "execute_result",
     "data": {
      "text/plain": [
       "        Student ID             Class         Study hrs          \\\n",
       "               sum   max   min   sum max min       sum max min   \n",
       "Section                                                          \n",
       "A             2004  1003  1001    20  10  10         5   3   2   \n",
       "B             1002  1002  1002    10  10  10         6   6   6   \n",
       "C             2009  1005  1004    23  12  11         5   5   0   \n",
       "\n",
       "        Social Media usage hrs         Percentage          \n",
       "                           sum max min        sum max min  \n",
       "Section                                                    \n",
       "A                            4   2   2        110  60  50  \n",
       "B                            2   2   2         60  60  60  \n",
       "C                            3   2   1        120  75  45  "
      ],
      "text/html": "<div>\n<style scoped>\n    .dataframe tbody tr th:only-of-type {\n        vertical-align: middle;\n    }\n\n    .dataframe tbody tr th {\n        vertical-align: top;\n    }\n\n    .dataframe thead tr th {\n        text-align: left;\n    }\n\n    .dataframe thead tr:last-of-type th {\n        text-align: right;\n    }\n</style>\n<table border=\"1\" class=\"dataframe\">\n  <thead>\n    <tr>\n      <th></th>\n      <th colspan=\"3\" halign=\"left\">Student ID</th>\n      <th colspan=\"3\" halign=\"left\">Class</th>\n      <th colspan=\"3\" halign=\"left\">Study hrs</th>\n      <th colspan=\"3\" halign=\"left\">Social Media usage hrs</th>\n      <th colspan=\"3\" halign=\"left\">Percentage</th>\n    </tr>\n    <tr>\n      <th></th>\n      <th>sum</th>\n      <th>max</th>\n      <th>min</th>\n      <th>sum</th>\n      <th>max</th>\n      <th>min</th>\n      <th>sum</th>\n      <th>max</th>\n      <th>min</th>\n      <th>sum</th>\n      <th>max</th>\n      <th>min</th>\n      <th>sum</th>\n      <th>max</th>\n      <th>min</th>\n    </tr>\n    <tr>\n      <th>Section</th>\n      <th></th>\n      <th></th>\n      <th></th>\n      <th></th>\n      <th></th>\n      <th></th>\n      <th></th>\n      <th></th>\n      <th></th>\n      <th></th>\n      <th></th>\n      <th></th>\n      <th></th>\n      <th></th>\n      <th></th>\n    </tr>\n  </thead>\n  <tbody>\n    <tr>\n      <th>A</th>\n      <td>2004</td>\n      <td>1003</td>\n      <td>1001</td>\n      <td>20</td>\n      <td>10</td>\n      <td>10</td>\n      <td>5</td>\n      <td>3</td>\n      <td>2</td>\n      <td>4</td>\n      <td>2</td>\n      <td>2</td>\n      <td>110</td>\n      <td>60</td>\n      <td>50</td>\n    </tr>\n    <tr>\n      <th>B</th>\n      <td>1002</td>\n      <td>1002</td>\n      <td>1002</td>\n      <td>10</td>\n      <td>10</td>\n      <td>10</td>\n      <td>6</td>\n      <td>6</td>\n      <td>6</td>\n      <td>2</td>\n      <td>2</td>\n      <td>2</td>\n      <td>60</td>\n      <td>60</td>\n      <td>60</td>\n    </tr>\n    <tr>\n      <th>C</th>\n      <td>2009</td>\n      <td>1005</td>\n      <td>1004</td>\n      <td>23</td>\n      <td>12</td>\n      <td>11</td>\n      <td>5</td>\n      <td>5</td>\n      <td>0</td>\n      <td>3</td>\n      <td>2</td>\n      <td>1</td>\n      <td>120</td>\n      <td>75</td>\n      <td>45</td>\n    </tr>\n  </tbody>\n</table>\n</div>"
     },
     "metadata": {},
     "execution_count": 27
    }
   ],
   "source": [
    "gp1.agg([\"sum\" , \"max\" , \"min\"]) # we can use multiple function"
   ]
  },
  {
   "cell_type": "code",
   "execution_count": null,
   "metadata": {},
   "outputs": [],
   "source": []
  }
 ]
}