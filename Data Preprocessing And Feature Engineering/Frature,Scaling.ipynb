{
 "cells": [
  {
   "cell_type": "markdown",
   "source": [
    "# What is Feature Scaling ?\r\n",
    " > Feature Scaling is a method to scale numeric features in the same scale or range(Like -1 to 1, o to 1)\r\n",
    "\r\n",
    " > This last step involved in data preprocessing and before ML model train\r\n",
    "\r\n",
    " > it is also called as data normalizatio\r\n",
    "\r\n",
    " > we fit feature Scaling on independent veriables.\r\n",
    " \r\n",
    " > we fit feature scaling with train data and transform on train ad test data"
   ],
   "metadata": {}
  },
  {
   "cell_type": "markdown",
   "source": [
    "# Which Ml Algorithms required Featue Scaling\r\n",
    "Those Algorithms Calculate Distance\r\n",
    "    \r\n",
    "    - K-Nearest Neighbors (KNN)\r\n",
    "\r\n",
    "    - K-Means\r\n",
    "  \r\n",
    "    - Support Vector Machine (SVM)\r\n",
    "\r\n",
    "    - Principal Componet Analysis(PCA)\r\n",
    "\r\n",
    "    - Liner Discriminate Analysis\r\n",
    "\r\n",
    "Gradient Descent Based Algorithms\r\n",
    "\r\n",
    "    - Linear Regration\r\n",
    "\r\n",
    "    - Logistic Regrassion \r\n",
    "\r\n",
    "    - Neural Network"
   ],
   "metadata": {}
  }
 ],
 "metadata": {
  "orig_nbformat": 4,
  "language_info": {
   "name": "python"
  }
 },
 "nbformat": 4,
 "nbformat_minor": 2
}